{
 "cells": [
  {
   "cell_type": "code",
   "execution_count": 1,
   "metadata": {},
   "outputs": [
    {
     "name": "stderr",
     "output_type": "stream",
     "text": [
      "C:\\Users\\Anant\\anaconda3\\lib\\site-packages\\pandas\\core\\computation\\expressions.py:20: UserWarning: Pandas requires version '2.7.3' or newer of 'numexpr' (version '2.7.1' currently installed).\n",
      "  from pandas.core.computation.check import NUMEXPR_INSTALLED\n"
     ]
    }
   ],
   "source": [
    "import pandas as pd\n",
    "import numpy as np"
   ]
  },
  {
   "cell_type": "code",
   "execution_count": 2,
   "metadata": {},
   "outputs": [],
   "source": [
    "df = pd.read_csv(\"Electricity Consumption.csv\") "
   ]
  },
  {
   "cell_type": "code",
   "execution_count": 3,
   "metadata": {},
   "outputs": [
    {
     "data": {
      "text/html": [
       "<div>\n",
       "<style scoped>\n",
       "    .dataframe tbody tr th:only-of-type {\n",
       "        vertical-align: middle;\n",
       "    }\n",
       "\n",
       "    .dataframe tbody tr th {\n",
       "        vertical-align: top;\n",
       "    }\n",
       "\n",
       "    .dataframe thead th {\n",
       "        text-align: right;\n",
       "    }\n",
       "</style>\n",
       "<table border=\"1\" class=\"dataframe\">\n",
       "  <thead>\n",
       "    <tr style=\"text-align: right;\">\n",
       "      <th></th>\n",
       "      <th>DATE</th>\n",
       "      <th>Electricty_Consumption_in_TW</th>\n",
       "    </tr>\n",
       "  </thead>\n",
       "  <tbody>\n",
       "    <tr>\n",
       "      <th>0</th>\n",
       "      <td>1/1/1973</td>\n",
       "      <td>35.9728</td>\n",
       "    </tr>\n",
       "    <tr>\n",
       "      <th>1</th>\n",
       "      <td>2/1/1973</td>\n",
       "      <td>36.1334</td>\n",
       "    </tr>\n",
       "    <tr>\n",
       "      <th>2</th>\n",
       "      <td>3/1/1973</td>\n",
       "      <td>35.0625</td>\n",
       "    </tr>\n",
       "  </tbody>\n",
       "</table>\n",
       "</div>"
      ],
      "text/plain": [
       "       DATE  Electricty_Consumption_in_TW\n",
       "0  1/1/1973                       35.9728\n",
       "1  2/1/1973                       36.1334\n",
       "2  3/1/1973                       35.0625"
      ]
     },
     "execution_count": 3,
     "metadata": {},
     "output_type": "execute_result"
    }
   ],
   "source": [
    "df.head(3)"
   ]
  },
  {
   "cell_type": "code",
   "execution_count": 4,
   "metadata": {},
   "outputs": [
    {
     "name": "stdout",
     "output_type": "stream",
     "text": [
      "<class 'pandas.core.frame.DataFrame'>\n",
      "RangeIndex: 561 entries, 0 to 560\n",
      "Data columns (total 2 columns):\n",
      " #   Column                        Non-Null Count  Dtype  \n",
      "---  ------                        --------------  -----  \n",
      " 0   DATE                          561 non-null    object \n",
      " 1   Electricty_Consumption_in_TW  561 non-null    float64\n",
      "dtypes: float64(1), object(1)\n",
      "memory usage: 8.9+ KB\n"
     ]
    }
   ],
   "source": [
    "df.info()"
   ]
  },
  {
   "cell_type": "code",
   "execution_count": 5,
   "metadata": {},
   "outputs": [
    {
     "data": {
      "text/plain": [
       "DATE                            0\n",
       "Electricty_Consumption_in_TW    0\n",
       "dtype: int64"
      ]
     },
     "execution_count": 5,
     "metadata": {},
     "output_type": "execute_result"
    }
   ],
   "source": [
    "df.isnull().sum()"
   ]
  },
  {
   "cell_type": "code",
   "execution_count": 6,
   "metadata": {},
   "outputs": [
    {
     "data": {
      "text/plain": [
       "561"
      ]
     },
     "execution_count": 6,
     "metadata": {},
     "output_type": "execute_result"
    }
   ],
   "source": [
    "df.DATE.nunique()"
   ]
  },
  {
   "cell_type": "code",
   "execution_count": 7,
   "metadata": {},
   "outputs": [],
   "source": [
    "df[\"DATE\"] = pd.to_datetime(df[\"DATE\"], format=\"%m/%d/%Y\")"
   ]
  },
  {
   "cell_type": "code",
   "execution_count": 8,
   "metadata": {},
   "outputs": [],
   "source": [
    "df.set_index(df.DATE,inplace=True)"
   ]
  },
  {
   "cell_type": "code",
   "execution_count": 9,
   "metadata": {},
   "outputs": [
    {
     "name": "stdout",
     "output_type": "stream",
     "text": [
      "<class 'pandas.core.frame.DataFrame'>\n",
      "DatetimeIndex: 561 entries, 1973-01-01 to 2019-09-01\n",
      "Data columns (total 2 columns):\n",
      " #   Column                        Non-Null Count  Dtype         \n",
      "---  ------                        --------------  -----         \n",
      " 0   DATE                          561 non-null    datetime64[ns]\n",
      " 1   Electricty_Consumption_in_TW  561 non-null    float64       \n",
      "dtypes: datetime64[ns](1), float64(1)\n",
      "memory usage: 13.1 KB\n"
     ]
    }
   ],
   "source": [
    "df.info()"
   ]
  },
  {
   "cell_type": "code",
   "execution_count": 10,
   "metadata": {},
   "outputs": [],
   "source": [
    "df['year'] = df.DATE.dt.year\n",
    "df['month'] = df.DATE.dt.month"
   ]
  },
  {
   "cell_type": "code",
   "execution_count": 11,
   "metadata": {},
   "outputs": [
    {
     "data": {
      "text/html": [
       "<div>\n",
       "<style scoped>\n",
       "    .dataframe tbody tr th:only-of-type {\n",
       "        vertical-align: middle;\n",
       "    }\n",
       "\n",
       "    .dataframe tbody tr th {\n",
       "        vertical-align: top;\n",
       "    }\n",
       "\n",
       "    .dataframe thead th {\n",
       "        text-align: right;\n",
       "    }\n",
       "</style>\n",
       "<table border=\"1\" class=\"dataframe\">\n",
       "  <thead>\n",
       "    <tr style=\"text-align: right;\">\n",
       "      <th></th>\n",
       "      <th>DATE</th>\n",
       "      <th>Electricty_Consumption_in_TW</th>\n",
       "      <th>year</th>\n",
       "      <th>month</th>\n",
       "    </tr>\n",
       "    <tr>\n",
       "      <th>DATE</th>\n",
       "      <th></th>\n",
       "      <th></th>\n",
       "      <th></th>\n",
       "      <th></th>\n",
       "    </tr>\n",
       "  </thead>\n",
       "  <tbody>\n",
       "    <tr>\n",
       "      <th>1973-01-01</th>\n",
       "      <td>1973-01-01</td>\n",
       "      <td>35.9728</td>\n",
       "      <td>1973</td>\n",
       "      <td>1</td>\n",
       "    </tr>\n",
       "    <tr>\n",
       "      <th>1973-02-01</th>\n",
       "      <td>1973-02-01</td>\n",
       "      <td>36.1334</td>\n",
       "      <td>1973</td>\n",
       "      <td>2</td>\n",
       "    </tr>\n",
       "    <tr>\n",
       "      <th>1973-03-01</th>\n",
       "      <td>1973-03-01</td>\n",
       "      <td>35.0625</td>\n",
       "      <td>1973</td>\n",
       "      <td>3</td>\n",
       "    </tr>\n",
       "    <tr>\n",
       "      <th>1973-04-01</th>\n",
       "      <td>1973-04-01</td>\n",
       "      <td>33.8416</td>\n",
       "      <td>1973</td>\n",
       "      <td>4</td>\n",
       "    </tr>\n",
       "  </tbody>\n",
       "</table>\n",
       "</div>"
      ],
      "text/plain": [
       "                 DATE  Electricty_Consumption_in_TW  year  month\n",
       "DATE                                                            \n",
       "1973-01-01 1973-01-01                       35.9728  1973      1\n",
       "1973-02-01 1973-02-01                       36.1334  1973      2\n",
       "1973-03-01 1973-03-01                       35.0625  1973      3\n",
       "1973-04-01 1973-04-01                       33.8416  1973      4"
      ]
     },
     "execution_count": 11,
     "metadata": {},
     "output_type": "execute_result"
    }
   ],
   "source": [
    "df.head(4)"
   ]
  },
  {
   "cell_type": "code",
   "execution_count": 12,
   "metadata": {},
   "outputs": [],
   "source": [
    "df.rename(columns = {'Electricty_Consumption_in_TW':'consum'},inplace=True)"
   ]
  },
  {
   "cell_type": "code",
   "execution_count": 13,
   "metadata": {},
   "outputs": [
    {
     "data": {
      "text/plain": [
       "Index(['DATE', 'consum', 'year', 'month'], dtype='object')"
      ]
     },
     "execution_count": 13,
     "metadata": {},
     "output_type": "execute_result"
    }
   ],
   "source": [
    "df.columns"
   ]
  },
  {
   "cell_type": "code",
   "execution_count": 14,
   "metadata": {},
   "outputs": [
    {
     "data": {
      "text/plain": [
       "<matplotlib.axes._subplots.AxesSubplot at 0x23d95f2c9d0>"
      ]
     },
     "execution_count": 14,
     "metadata": {},
     "output_type": "execute_result"
    },
    {
     "data": {
      "image/png": "[encoded data removed]",
      "text/plain": [
       "<Figure size 720x360 with 1 Axes>"
      ]
     },
     "metadata": {
      "needs_background": "light"
     },
     "output_type": "display_data"
    }
   ],
   "source": [
    "df.consum.plot(figsize=(10,5))"
   ]
  },
  {
   "cell_type": "code",
   "execution_count": 15,
   "metadata": {},
   "outputs": [
    {
     "data": {
      "text/plain": [
       "<matplotlib.axes._subplots.AxesSubplot at 0x23d980c7730>"
      ]
     },
     "execution_count": 15,
     "metadata": {},
     "output_type": "execute_result"
    },
    {
     "data": {
      "image/png": "[encoded data removed]",
      "text/plain": [
       "<Figure size 720x360 with 1 Axes>"
      ]
     },
     "metadata": {
      "needs_background": "light"
     },
     "output_type": "display_data"
    }
   ],
   "source": [
    "df[df.year==1976].consum.plot(figsize=(10,5))"
   ]
  },
  {
   "cell_type": "code",
   "execution_count": 16,
   "metadata": {},
   "outputs": [],
   "source": [
    "ts=df.consum"
   ]
  },
  {
   "cell_type": "code",
   "execution_count": 17,
   "metadata": {},
   "outputs": [
    {
     "data": {
      "text/html": [
       "<div>\n",
       "<style scoped>\n",
       "    .dataframe tbody tr th:only-of-type {\n",
       "        vertical-align: middle;\n",
       "    }\n",
       "\n",
       "    .dataframe tbody tr th {\n",
       "        vertical-align: top;\n",
       "    }\n",
       "\n",
       "    .dataframe thead th {\n",
       "        text-align: right;\n",
       "    }\n",
       "</style>\n",
       "<table border=\"1\" class=\"dataframe\">\n",
       "  <thead>\n",
       "    <tr style=\"text-align: right;\">\n",
       "      <th>month</th>\n",
       "      <th>1</th>\n",
       "      <th>2</th>\n",
       "      <th>3</th>\n",
       "      <th>4</th>\n",
       "      <th>5</th>\n",
       "      <th>6</th>\n",
       "      <th>7</th>\n",
       "      <th>8</th>\n",
       "      <th>9</th>\n",
       "      <th>10</th>\n",
       "      <th>11</th>\n",
       "      <th>12</th>\n",
       "    </tr>\n",
       "    <tr>\n",
       "      <th>year</th>\n",
       "      <th></th>\n",
       "      <th></th>\n",
       "      <th></th>\n",
       "      <th></th>\n",
       "      <th></th>\n",
       "      <th></th>\n",
       "      <th></th>\n",
       "      <th></th>\n",
       "      <th></th>\n",
       "      <th></th>\n",
       "      <th></th>\n",
       "      <th></th>\n",
       "    </tr>\n",
       "  </thead>\n",
       "  <tbody>\n",
       "    <tr>\n",
       "      <th>1973</th>\n",
       "      <td>35.9728</td>\n",
       "      <td>36.1334</td>\n",
       "      <td>35.0625</td>\n",
       "      <td>33.8416</td>\n",
       "      <td>33.5107</td>\n",
       "      <td>36.4823</td>\n",
       "      <td>39.1412</td>\n",
       "      <td>41.4137</td>\n",
       "      <td>40.1639</td>\n",
       "      <td>37.1133</td>\n",
       "      <td>37.0248</td>\n",
       "      <td>38.4341</td>\n",
       "    </tr>\n",
       "    <tr>\n",
       "      <th>1974</th>\n",
       "      <td>40.7455</td>\n",
       "      <td>39.8340</td>\n",
       "      <td>37.9408</td>\n",
       "      <td>36.3004</td>\n",
       "      <td>36.5293</td>\n",
       "      <td>40.8899</td>\n",
       "      <td>44.3563</td>\n",
       "      <td>45.9240</td>\n",
       "      <td>44.4555</td>\n",
       "      <td>40.6417</td>\n",
       "      <td>39.4901</td>\n",
       "      <td>38.9068</td>\n",
       "    </tr>\n",
       "    <tr>\n",
       "      <th>1975</th>\n",
       "      <td>40.0956</td>\n",
       "      <td>39.6944</td>\n",
       "      <td>38.3040</td>\n",
       "      <td>36.8939</td>\n",
       "      <td>37.5668</td>\n",
       "      <td>40.3832</td>\n",
       "      <td>44.9671</td>\n",
       "      <td>46.1853</td>\n",
       "      <td>43.3001</td>\n",
       "      <td>40.3836</td>\n",
       "      <td>39.8092</td>\n",
       "      <td>42.0597</td>\n",
       "    </tr>\n",
       "    <tr>\n",
       "      <th>1976</th>\n",
       "      <td>43.4099</td>\n",
       "      <td>42.5826</td>\n",
       "      <td>40.9244</td>\n",
       "      <td>39.3533</td>\n",
       "      <td>39.0766</td>\n",
       "      <td>42.4851</td>\n",
       "      <td>46.3693</td>\n",
       "      <td>48.1945</td>\n",
       "      <td>45.1688</td>\n",
       "      <td>41.1880</td>\n",
       "      <td>40.8431</td>\n",
       "      <td>44.1468</td>\n",
       "    </tr>\n",
       "    <tr>\n",
       "      <th>1977</th>\n",
       "      <td>47.6892</td>\n",
       "      <td>44.8505</td>\n",
       "      <td>42.8557</td>\n",
       "      <td>41.0177</td>\n",
       "      <td>40.7201</td>\n",
       "      <td>45.0610</td>\n",
       "      <td>48.9685</td>\n",
       "      <td>50.1898</td>\n",
       "      <td>47.5982</td>\n",
       "      <td>44.0684</td>\n",
       "      <td>45.4267</td>\n",
       "      <td>49.3447</td>\n",
       "    </tr>\n",
       "    <tr>\n",
       "      <th>1978</th>\n",
       "      <td>52.9153</td>\n",
       "      <td>49.9488</td>\n",
       "      <td>46.1749</td>\n",
       "      <td>43.6652</td>\n",
       "      <td>44.5402</td>\n",
       "      <td>48.9480</td>\n",
       "      <td>53.8292</td>\n",
       "      <td>54.1182</td>\n",
       "      <td>50.9980</td>\n",
       "      <td>46.3711</td>\n",
       "      <td>45.3267</td>\n",
       "      <td>49.0027</td>\n",
       "    </tr>\n",
       "    <tr>\n",
       "      <th>1979</th>\n",
       "      <td>53.3617</td>\n",
       "      <td>51.6279</td>\n",
       "      <td>47.8264</td>\n",
       "      <td>43.7935</td>\n",
       "      <td>44.8591</td>\n",
       "      <td>50.3292</td>\n",
       "      <td>54.3579</td>\n",
       "      <td>55.9197</td>\n",
       "      <td>53.5776</td>\n",
       "      <td>48.7261</td>\n",
       "      <td>48.2585</td>\n",
       "      <td>51.3008</td>\n",
       "    </tr>\n",
       "    <tr>\n",
       "      <th>1980</th>\n",
       "      <td>56.5838</td>\n",
       "      <td>55.6802</td>\n",
       "      <td>50.4428</td>\n",
       "      <td>46.8693</td>\n",
       "      <td>46.0886</td>\n",
       "      <td>49.7595</td>\n",
       "      <td>53.8273</td>\n",
       "      <td>56.2272</td>\n",
       "      <td>52.5737</td>\n",
       "      <td>48.8947</td>\n",
       "      <td>48.4081</td>\n",
       "      <td>50.6659</td>\n",
       "    </tr>\n",
       "    <tr>\n",
       "      <th>1981</th>\n",
       "      <td>53.5867</td>\n",
       "      <td>53.5461</td>\n",
       "      <td>51.0708</td>\n",
       "      <td>46.9172</td>\n",
       "      <td>45.5795</td>\n",
       "      <td>50.0235</td>\n",
       "      <td>57.1384</td>\n",
       "      <td>59.5376</td>\n",
       "      <td>56.1935</td>\n",
       "      <td>50.3249</td>\n",
       "      <td>49.2234</td>\n",
       "      <td>52.8176</td>\n",
       "    </tr>\n",
       "    <tr>\n",
       "      <th>1982</th>\n",
       "      <td>57.4002</td>\n",
       "      <td>54.6248</td>\n",
       "      <td>51.1896</td>\n",
       "      <td>48.4958</td>\n",
       "      <td>47.9140</td>\n",
       "      <td>54.5292</td>\n",
       "      <td>59.5975</td>\n",
       "      <td>59.6727</td>\n",
       "      <td>54.9644</td>\n",
       "      <td>50.4093</td>\n",
       "      <td>49.7304</td>\n",
       "      <td>53.4477</td>\n",
       "    </tr>\n",
       "    <tr>\n",
       "      <th>1983</th>\n",
       "      <td>57.8035</td>\n",
       "      <td>54.3171</td>\n",
       "      <td>51.2296</td>\n",
       "      <td>48.5554</td>\n",
       "      <td>47.3548</td>\n",
       "      <td>51.8479</td>\n",
       "      <td>56.4073</td>\n",
       "      <td>57.0522</td>\n",
       "      <td>53.2825</td>\n",
       "      <td>48.6462</td>\n",
       "      <td>48.5762</td>\n",
       "      <td>50.9131</td>\n",
       "    </tr>\n",
       "    <tr>\n",
       "      <th>1984</th>\n",
       "      <td>53.8233</td>\n",
       "      <td>52.0005</td>\n",
       "      <td>49.8258</td>\n",
       "      <td>48.1762</td>\n",
       "      <td>46.8221</td>\n",
       "      <td>52.1043</td>\n",
       "      <td>59.2376</td>\n",
       "      <td>63.0354</td>\n",
       "      <td>58.8092</td>\n",
       "      <td>52.0758</td>\n",
       "      <td>51.5264</td>\n",
       "      <td>56.4794</td>\n",
       "    </tr>\n",
       "    <tr>\n",
       "      <th>1985</th>\n",
       "      <td>60.9006</td>\n",
       "      <td>57.1310</td>\n",
       "      <td>55.2857</td>\n",
       "      <td>51.4436</td>\n",
       "      <td>52.0810</td>\n",
       "      <td>57.5410</td>\n",
       "      <td>61.2397</td>\n",
       "      <td>63.2502</td>\n",
       "      <td>58.6939</td>\n",
       "      <td>53.6227</td>\n",
       "      <td>53.7972</td>\n",
       "      <td>56.6369</td>\n",
       "    </tr>\n",
       "    <tr>\n",
       "      <th>1986</th>\n",
       "      <td>63.4267</td>\n",
       "      <td>61.3016</td>\n",
       "      <td>55.8488</td>\n",
       "      <td>53.3782</td>\n",
       "      <td>54.1358</td>\n",
       "      <td>58.5966</td>\n",
       "      <td>63.7333</td>\n",
       "      <td>64.5506</td>\n",
       "      <td>61.9159</td>\n",
       "      <td>55.7588</td>\n",
       "      <td>55.4629</td>\n",
       "      <td>61.4175</td>\n",
       "    </tr>\n",
       "    <tr>\n",
       "      <th>1987</th>\n",
       "      <td>63.9303</td>\n",
       "      <td>60.3646</td>\n",
       "      <td>56.0702</td>\n",
       "      <td>53.9762</td>\n",
       "      <td>54.8074</td>\n",
       "      <td>60.9330</td>\n",
       "      <td>67.8937</td>\n",
       "      <td>66.6955</td>\n",
       "      <td>62.8912</td>\n",
       "      <td>57.8284</td>\n",
       "      <td>57.0461</td>\n",
       "      <td>62.1443</td>\n",
       "    </tr>\n",
       "    <tr>\n",
       "      <th>1988</th>\n",
       "      <td>65.1403</td>\n",
       "      <td>62.3975</td>\n",
       "      <td>59.3460</td>\n",
       "      <td>56.5817</td>\n",
       "      <td>58.2626</td>\n",
       "      <td>65.1768</td>\n",
       "      <td>71.0094</td>\n",
       "      <td>72.3010</td>\n",
       "      <td>65.8237</td>\n",
       "      <td>59.7144</td>\n",
       "      <td>59.6736</td>\n",
       "      <td>64.4422</td>\n",
       "    </tr>\n",
       "    <tr>\n",
       "      <th>1989</th>\n",
       "      <td>70.3996</td>\n",
       "      <td>67.9200</td>\n",
       "      <td>63.8744</td>\n",
       "      <td>59.9583</td>\n",
       "      <td>60.1815</td>\n",
       "      <td>68.2487</td>\n",
       "      <td>75.1146</td>\n",
       "      <td>78.0872</td>\n",
       "      <td>69.3406</td>\n",
       "      <td>62.8362</td>\n",
       "      <td>62.1364</td>\n",
       "      <td>67.7310</td>\n",
       "    </tr>\n",
       "    <tr>\n",
       "      <th>1990</th>\n",
       "      <td>70.0406</td>\n",
       "      <td>68.7045</td>\n",
       "      <td>66.3675</td>\n",
       "      <td>61.4050</td>\n",
       "      <td>62.7297</td>\n",
       "      <td>69.9173</td>\n",
       "      <td>76.4218</td>\n",
       "      <td>77.6320</td>\n",
       "      <td>71.0673</td>\n",
       "      <td>65.3455</td>\n",
       "      <td>65.6080</td>\n",
       "      <td>75.0806</td>\n",
       "    </tr>\n",
       "    <tr>\n",
       "      <th>1991</th>\n",
       "      <td>75.3432</td>\n",
       "      <td>70.4279</td>\n",
       "      <td>67.2785</td>\n",
       "      <td>63.5089</td>\n",
       "      <td>65.0637</td>\n",
       "      <td>73.1867</td>\n",
       "      <td>79.5446</td>\n",
       "      <td>80.1356</td>\n",
       "      <td>75.5456</td>\n",
       "      <td>67.5532</td>\n",
       "      <td>65.9821</td>\n",
       "      <td>71.2865</td>\n",
       "    </tr>\n",
       "    <tr>\n",
       "      <th>1992</th>\n",
       "      <td>76.4893</td>\n",
       "      <td>70.8296</td>\n",
       "      <td>67.7166</td>\n",
       "      <td>64.4234</td>\n",
       "      <td>68.9159</td>\n",
       "      <td>77.1266</td>\n",
       "      <td>82.8681</td>\n",
       "      <td>82.0134</td>\n",
       "      <td>75.6726</td>\n",
       "      <td>68.4600</td>\n",
       "      <td>68.5905</td>\n",
       "      <td>72.5001</td>\n",
       "    </tr>\n",
       "    <tr>\n",
       "      <th>1993</th>\n",
       "      <td>76.3454</td>\n",
       "      <td>72.5838</td>\n",
       "      <td>68.2756</td>\n",
       "      <td>65.6965</td>\n",
       "      <td>66.5711</td>\n",
       "      <td>73.0804</td>\n",
       "      <td>80.3847</td>\n",
       "      <td>79.5582</td>\n",
       "      <td>74.6987</td>\n",
       "      <td>68.8537</td>\n",
       "      <td>69.6758</td>\n",
       "      <td>76.0833</td>\n",
       "    </tr>\n",
       "    <tr>\n",
       "      <th>1994</th>\n",
       "      <td>77.6749</td>\n",
       "      <td>75.1092</td>\n",
       "      <td>71.1866</td>\n",
       "      <td>66.8361</td>\n",
       "      <td>68.0393</td>\n",
       "      <td>76.7436</td>\n",
       "      <td>85.8577</td>\n",
       "      <td>85.9538</td>\n",
       "      <td>77.5044</td>\n",
       "      <td>69.2900</td>\n",
       "      <td>70.3729</td>\n",
       "      <td>76.2577</td>\n",
       "    </tr>\n",
       "    <tr>\n",
       "      <th>1995</th>\n",
       "      <td>82.0302</td>\n",
       "      <td>76.6372</td>\n",
       "      <td>72.0260</td>\n",
       "      <td>68.0178</td>\n",
       "      <td>69.5021</td>\n",
       "      <td>80.7147</td>\n",
       "      <td>87.1047</td>\n",
       "      <td>85.5512</td>\n",
       "      <td>78.5878</td>\n",
       "      <td>71.5596</td>\n",
       "      <td>72.1969</td>\n",
       "      <td>77.3523</td>\n",
       "    </tr>\n",
       "    <tr>\n",
       "      <th>1996</th>\n",
       "      <td>81.6179</td>\n",
       "      <td>77.5110</td>\n",
       "      <td>73.7351</td>\n",
       "      <td>69.8220</td>\n",
       "      <td>73.0125</td>\n",
       "      <td>81.5073</td>\n",
       "      <td>90.4389</td>\n",
       "      <td>94.6517</td>\n",
       "      <td>82.2441</td>\n",
       "      <td>74.7897</td>\n",
       "      <td>75.0062</td>\n",
       "      <td>81.2612</td>\n",
       "    </tr>\n",
       "    <tr>\n",
       "      <th>1997</th>\n",
       "      <td>86.6791</td>\n",
       "      <td>82.4101</td>\n",
       "      <td>78.4170</td>\n",
       "      <td>72.8635</td>\n",
       "      <td>76.8456</td>\n",
       "      <td>85.1667</td>\n",
       "      <td>90.3823</td>\n",
       "      <td>91.0586</td>\n",
       "      <td>82.5919</td>\n",
       "      <td>75.1195</td>\n",
       "      <td>76.3487</td>\n",
       "      <td>81.4314</td>\n",
       "    </tr>\n",
       "    <tr>\n",
       "      <th>1998</th>\n",
       "      <td>86.6427</td>\n",
       "      <td>80.1913</td>\n",
       "      <td>75.7104</td>\n",
       "      <td>72.2515</td>\n",
       "      <td>73.1001</td>\n",
       "      <td>82.5125</td>\n",
       "      <td>92.7738</td>\n",
       "      <td>92.2841</td>\n",
       "      <td>85.6932</td>\n",
       "      <td>78.4057</td>\n",
       "      <td>77.5792</td>\n",
       "      <td>83.3847</td>\n",
       "    </tr>\n",
       "    <tr>\n",
       "      <th>1999</th>\n",
       "      <td>84.7572</td>\n",
       "      <td>80.0052</td>\n",
       "      <td>79.4386</td>\n",
       "      <td>73.9566</td>\n",
       "      <td>79.3736</td>\n",
       "      <td>90.2293</td>\n",
       "      <td>98.4901</td>\n",
       "      <td>98.2941</td>\n",
       "      <td>91.7894</td>\n",
       "      <td>81.8528</td>\n",
       "      <td>79.0292</td>\n",
       "      <td>85.3087</td>\n",
       "    </tr>\n",
       "    <tr>\n",
       "      <th>2000</th>\n",
       "      <td>90.5209</td>\n",
       "      <td>83.2535</td>\n",
       "      <td>82.9765</td>\n",
       "      <td>77.4012</td>\n",
       "      <td>80.6012</td>\n",
       "      <td>91.9652</td>\n",
       "      <td>103.2199</td>\n",
       "      <td>101.9993</td>\n",
       "      <td>91.6262</td>\n",
       "      <td>81.9097</td>\n",
       "      <td>80.7085</td>\n",
       "      <td>87.9622</td>\n",
       "    </tr>\n",
       "    <tr>\n",
       "      <th>2001</th>\n",
       "      <td>92.2252</td>\n",
       "      <td>86.0219</td>\n",
       "      <td>82.9416</td>\n",
       "      <td>79.1183</td>\n",
       "      <td>85.9385</td>\n",
       "      <td>94.9666</td>\n",
       "      <td>100.9385</td>\n",
       "      <td>104.3357</td>\n",
       "      <td>94.8055</td>\n",
       "      <td>84.4761</td>\n",
       "      <td>84.6713</td>\n",
       "      <td>93.7830</td>\n",
       "    </tr>\n",
       "    <tr>\n",
       "      <th>2002</th>\n",
       "      <td>97.4839</td>\n",
       "      <td>88.4600</td>\n",
       "      <td>85.5145</td>\n",
       "      <td>80.6255</td>\n",
       "      <td>84.2219</td>\n",
       "      <td>94.7114</td>\n",
       "      <td>101.1429</td>\n",
       "      <td>104.9186</td>\n",
       "      <td>92.4048</td>\n",
       "      <td>83.8666</td>\n",
       "      <td>81.5255</td>\n",
       "      <td>87.0653</td>\n",
       "    </tr>\n",
       "    <tr>\n",
       "      <th>2003</th>\n",
       "      <td>93.4462</td>\n",
       "      <td>87.1882</td>\n",
       "      <td>85.9872</td>\n",
       "      <td>83.2200</td>\n",
       "      <td>86.4023</td>\n",
       "      <td>97.2842</td>\n",
       "      <td>107.8586</td>\n",
       "      <td>107.2340</td>\n",
       "      <td>98.2105</td>\n",
       "      <td>88.3740</td>\n",
       "      <td>85.3696</td>\n",
       "      <td>92.7688</td>\n",
       "    </tr>\n",
       "    <tr>\n",
       "      <th>2004</th>\n",
       "      <td>99.2146</td>\n",
       "      <td>93.8080</td>\n",
       "      <td>87.9245</td>\n",
       "      <td>83.2149</td>\n",
       "      <td>87.3502</td>\n",
       "      <td>95.5287</td>\n",
       "      <td>108.0230</td>\n",
       "      <td>110.5490</td>\n",
       "      <td>97.8965</td>\n",
       "      <td>88.2913</td>\n",
       "      <td>86.5869</td>\n",
       "      <td>95.8509</td>\n",
       "    </tr>\n",
       "    <tr>\n",
       "      <th>2005</th>\n",
       "      <td>101.4854</td>\n",
       "      <td>95.4539</td>\n",
       "      <td>89.5912</td>\n",
       "      <td>85.2382</td>\n",
       "      <td>91.8307</td>\n",
       "      <td>101.3472</td>\n",
       "      <td>108.6568</td>\n",
       "      <td>106.9236</td>\n",
       "      <td>100.0361</td>\n",
       "      <td>90.3099</td>\n",
       "      <td>88.0298</td>\n",
       "      <td>98.2432</td>\n",
       "    </tr>\n",
       "    <tr>\n",
       "      <th>2006</th>\n",
       "      <td>100.5180</td>\n",
       "      <td>93.4341</td>\n",
       "      <td>92.0098</td>\n",
       "      <td>85.0923</td>\n",
       "      <td>89.2707</td>\n",
       "      <td>105.3702</td>\n",
       "      <td>115.7128</td>\n",
       "      <td>117.2059</td>\n",
       "      <td>106.2274</td>\n",
       "      <td>93.8650</td>\n",
       "      <td>90.1143</td>\n",
       "      <td>101.0209</td>\n",
       "    </tr>\n",
       "    <tr>\n",
       "      <th>2007</th>\n",
       "      <td>98.3652</td>\n",
       "      <td>94.9756</td>\n",
       "      <td>93.0500</td>\n",
       "      <td>87.1221</td>\n",
       "      <td>93.3602</td>\n",
       "      <td>106.4587</td>\n",
       "      <td>118.2580</td>\n",
       "      <td>119.0322</td>\n",
       "      <td>101.6588</td>\n",
       "      <td>92.5908</td>\n",
       "      <td>91.2439</td>\n",
       "      <td>98.4618</td>\n",
       "    </tr>\n",
       "    <tr>\n",
       "      <th>2008</th>\n",
       "      <td>103.7172</td>\n",
       "      <td>101.8218</td>\n",
       "      <td>94.0200</td>\n",
       "      <td>89.3184</td>\n",
       "      <td>95.1251</td>\n",
       "      <td>106.7553</td>\n",
       "      <td>114.3852</td>\n",
       "      <td>121.0940</td>\n",
       "      <td>107.7787</td>\n",
       "      <td>96.8831</td>\n",
       "      <td>93.3234</td>\n",
       "      <td>100.8597</td>\n",
       "    </tr>\n",
       "    <tr>\n",
       "      <th>2009</th>\n",
       "      <td>106.1460</td>\n",
       "      <td>100.4437</td>\n",
       "      <td>95.0260</td>\n",
       "      <td>90.1760</td>\n",
       "      <td>93.8625</td>\n",
       "      <td>109.5851</td>\n",
       "      <td>117.3505</td>\n",
       "      <td>113.8823</td>\n",
       "      <td>103.3491</td>\n",
       "      <td>93.2335</td>\n",
       "      <td>91.8977</td>\n",
       "      <td>101.8014</td>\n",
       "    </tr>\n",
       "    <tr>\n",
       "      <th>2010</th>\n",
       "      <td>105.7413</td>\n",
       "      <td>96.4428</td>\n",
       "      <td>92.2986</td>\n",
       "      <td>86.8242</td>\n",
       "      <td>90.6389</td>\n",
       "      <td>103.0377</td>\n",
       "      <td>110.6045</td>\n",
       "      <td>112.5792</td>\n",
       "      <td>100.4701</td>\n",
       "      <td>90.9259</td>\n",
       "      <td>88.1769</td>\n",
       "      <td>102.5951</td>\n",
       "    </tr>\n",
       "    <tr>\n",
       "      <th>2011</th>\n",
       "      <td>107.8967</td>\n",
       "      <td>101.9572</td>\n",
       "      <td>93.2285</td>\n",
       "      <td>86.0874</td>\n",
       "      <td>93.7706</td>\n",
       "      <td>110.3572</td>\n",
       "      <td>120.1457</td>\n",
       "      <td>120.2087</td>\n",
       "      <td>106.1109</td>\n",
       "      <td>91.6614</td>\n",
       "      <td>90.6340</td>\n",
       "      <td>105.7792</td>\n",
       "    </tr>\n",
       "    <tr>\n",
       "      <th>2012</th>\n",
       "      <td>108.9151</td>\n",
       "      <td>100.0117</td>\n",
       "      <td>94.3484</td>\n",
       "      <td>89.0821</td>\n",
       "      <td>92.7937</td>\n",
       "      <td>108.5421</td>\n",
       "      <td>121.6974</td>\n",
       "      <td>120.2822</td>\n",
       "      <td>104.6692</td>\n",
       "      <td>91.8217</td>\n",
       "      <td>90.7683</td>\n",
       "      <td>99.3654</td>\n",
       "    </tr>\n",
       "    <tr>\n",
       "      <th>2013</th>\n",
       "      <td>101.6890</td>\n",
       "      <td>95.5366</td>\n",
       "      <td>91.0434</td>\n",
       "      <td>87.5189</td>\n",
       "      <td>96.5166</td>\n",
       "      <td>107.0627</td>\n",
       "      <td>120.8149</td>\n",
       "      <td>117.2932</td>\n",
       "      <td>102.4185</td>\n",
       "      <td>91.8143</td>\n",
       "      <td>90.4217</td>\n",
       "      <td>97.8702</td>\n",
       "    </tr>\n",
       "    <tr>\n",
       "      <th>2014</th>\n",
       "      <td>104.3752</td>\n",
       "      <td>97.7907</td>\n",
       "      <td>95.5280</td>\n",
       "      <td>89.2783</td>\n",
       "      <td>93.2729</td>\n",
       "      <td>105.7336</td>\n",
       "      <td>116.4651</td>\n",
       "      <td>114.3700</td>\n",
       "      <td>104.3899</td>\n",
       "      <td>93.5507</td>\n",
       "      <td>93.0872</td>\n",
       "      <td>104.1544</td>\n",
       "    </tr>\n",
       "    <tr>\n",
       "      <th>2015</th>\n",
       "      <td>111.8708</td>\n",
       "      <td>103.4990</td>\n",
       "      <td>97.4134</td>\n",
       "      <td>88.7323</td>\n",
       "      <td>94.1360</td>\n",
       "      <td>106.5504</td>\n",
       "      <td>114.2235</td>\n",
       "      <td>113.9230</td>\n",
       "      <td>104.9454</td>\n",
       "      <td>93.6892</td>\n",
       "      <td>94.1108</td>\n",
       "      <td>101.1895</td>\n",
       "    </tr>\n",
       "    <tr>\n",
       "      <th>2016</th>\n",
       "      <td>108.1515</td>\n",
       "      <td>104.9900</td>\n",
       "      <td>97.5969</td>\n",
       "      <td>88.5477</td>\n",
       "      <td>93.5168</td>\n",
       "      <td>108.1813</td>\n",
       "      <td>118.3568</td>\n",
       "      <td>117.1375</td>\n",
       "      <td>107.3046</td>\n",
       "      <td>92.9818</td>\n",
       "      <td>89.4954</td>\n",
       "      <td>96.3086</td>\n",
       "    </tr>\n",
       "    <tr>\n",
       "      <th>2017</th>\n",
       "      <td>105.1879</td>\n",
       "      <td>98.0069</td>\n",
       "      <td>90.8029</td>\n",
       "      <td>87.4594</td>\n",
       "      <td>92.2811</td>\n",
       "      <td>109.6104</td>\n",
       "      <td>121.7478</td>\n",
       "      <td>123.2163</td>\n",
       "      <td>108.4514</td>\n",
       "      <td>93.4264</td>\n",
       "      <td>89.9026</td>\n",
       "      <td>101.8836</td>\n",
       "    </tr>\n",
       "    <tr>\n",
       "      <th>2018</th>\n",
       "      <td>102.9398</td>\n",
       "      <td>92.0095</td>\n",
       "      <td>93.3526</td>\n",
       "      <td>86.8386</td>\n",
       "      <td>93.2361</td>\n",
       "      <td>107.1009</td>\n",
       "      <td>119.2874</td>\n",
       "      <td>115.7108</td>\n",
       "      <td>103.4070</td>\n",
       "      <td>94.6492</td>\n",
       "      <td>91.9079</td>\n",
       "      <td>101.9883</td>\n",
       "    </tr>\n",
       "    <tr>\n",
       "      <th>2019</th>\n",
       "      <td>111.8520</td>\n",
       "      <td>97.3261</td>\n",
       "      <td>93.8406</td>\n",
       "      <td>89.1873</td>\n",
       "      <td>97.5860</td>\n",
       "      <td>110.8580</td>\n",
       "      <td>122.1014</td>\n",
       "      <td>121.7765</td>\n",
       "      <td>109.7190</td>\n",
       "      <td>NaN</td>\n",
       "      <td>NaN</td>\n",
       "      <td>NaN</td>\n",
       "    </tr>\n",
       "  </tbody>\n",
       "</table>\n",
       "</div>"
      ],
      "text/plain": [
       "month        1         2        3        4        5         6         7   \\\n",
       "year                                                                       \n",
       "1973    35.9728   36.1334  35.0625  33.8416  33.5107   36.4823   39.1412   \n",
       "1974    40.7455   39.8340  37.9408  36.3004  36.5293   40.8899   44.3563   \n",
       "1975    40.0956   39.6944  38.3040  36.8939  37.5668   40.3832   44.9671   \n",
       "1976    43.4099   42.5826  40.9244  39.3533  39.0766   42.4851   46.3693   \n",
       "1977    47.6892   44.8505  42.8557  41.0177  40.7201   45.0610   48.9685   \n",
       "1978    52.9153   49.9488  46.1749  43.6652  44.5402   48.9480   53.8292   \n",
       "1979    53.3617   51.6279  47.8264  43.7935  44.8591   50.3292   54.3579   \n",
       "1980    56.5838   55.6802  50.4428  46.8693  46.0886   49.7595   53.8273   \n",
       "1981    53.5867   53.5461  51.0708  46.9172  45.5795   50.0235   57.1384   \n",
       "1982    57.4002   54.6248  51.1896  48.4958  47.9140   54.5292   59.5975   \n",
       "1983    57.8035   54.3171  51.2296  48.5554  47.3548   51.8479   56.4073   \n",
       "1984    53.8233   52.0005  49.8258  48.1762  46.8221   52.1043   59.2376   \n",
       "1985    60.9006   57.1310  55.2857  51.4436  52.0810   57.5410   61.2397   \n",
       "1986    63.4267   61.3016  55.8488  53.3782  54.1358   58.5966   63.7333   \n",
       "1987    63.9303   60.3646  56.0702  53.9762  54.8074   60.9330   67.8937   \n",
       "1988    65.1403   62.3975  59.3460  56.5817  58.2626   65.1768   71.0094   \n",
       "1989    70.3996   67.9200  63.8744  59.9583  60.1815   68.2487   75.1146   \n",
       "1990    70.0406   68.7045  66.3675  61.4050  62.7297   69.9173   76.4218   \n",
       "1991    75.3432   70.4279  67.2785  63.5089  65.0637   73.1867   79.5446   \n",
       "1992    76.4893   70.8296  67.7166  64.4234  68.9159   77.1266   82.8681   \n",
       "1993    76.3454   72.5838  68.2756  65.6965  66.5711   73.0804   80.3847   \n",
       "1994    77.6749   75.1092  71.1866  66.8361  68.0393   76.7436   85.8577   \n",
       "1995    82.0302   76.6372  72.0260  68.0178  69.5021   80.7147   87.1047   \n",
       "1996    81.6179   77.5110  73.7351  69.8220  73.0125   81.5073   90.4389   \n",
       "1997    86.6791   82.4101  78.4170  72.8635  76.8456   85.1667   90.3823   \n",
       "1998    86.6427   80.1913  75.7104  72.2515  73.1001   82.5125   92.7738   \n",
       "1999    84.7572   80.0052  79.4386  73.9566  79.3736   90.2293   98.4901   \n",
       "2000    90.5209   83.2535  82.9765  77.4012  80.6012   91.9652  103.2199   \n",
       "2001    92.2252   86.0219  82.9416  79.1183  85.9385   94.9666  100.9385   \n",
       "2002    97.4839   88.4600  85.5145  80.6255  84.2219   94.7114  101.1429   \n",
       "2003    93.4462   87.1882  85.9872  83.2200  86.4023   97.2842  107.8586   \n",
       "2004    99.2146   93.8080  87.9245  83.2149  87.3502   95.5287  108.0230   \n",
       "2005   101.4854   95.4539  89.5912  85.2382  91.8307  101.3472  108.6568   \n",
       "2006   100.5180   93.4341  92.0098  85.0923  89.2707  105.3702  115.7128   \n",
       "2007    98.3652   94.9756  93.0500  87.1221  93.3602  106.4587  118.2580   \n",
       "2008   103.7172  101.8218  94.0200  89.3184  95.1251  106.7553  114.3852   \n",
       "2009   106.1460  100.4437  95.0260  90.1760  93.8625  109.5851  117.3505   \n",
       "2010   105.7413   96.4428  92.2986  86.8242  90.6389  103.0377  110.6045   \n",
       "2011   107.8967  101.9572  93.2285  86.0874  93.7706  110.3572  120.1457   \n",
       "2012   108.9151  100.0117  94.3484  89.0821  92.7937  108.5421  121.6974   \n",
       "2013   101.6890   95.5366  91.0434  87.5189  96.5166  107.0627  120.8149   \n",
       "2014   104.3752   97.7907  95.5280  89.2783  93.2729  105.7336  116.4651   \n",
       "2015   111.8708  103.4990  97.4134  88.7323  94.1360  106.5504  114.2235   \n",
       "2016   108.1515  104.9900  97.5969  88.5477  93.5168  108.1813  118.3568   \n",
       "2017   105.1879   98.0069  90.8029  87.4594  92.2811  109.6104  121.7478   \n",
       "2018   102.9398   92.0095  93.3526  86.8386  93.2361  107.1009  119.2874   \n",
       "2019   111.8520   97.3261  93.8406  89.1873  97.5860  110.8580  122.1014   \n",
       "\n",
       "month        8         9        10       11        12  \n",
       "year                                                   \n",
       "1973    41.4137   40.1639  37.1133  37.0248   38.4341  \n",
       "1974    45.9240   44.4555  40.6417  39.4901   38.9068  \n",
       "1975    46.1853   43.3001  40.3836  39.8092   42.0597  \n",
       "1976    48.1945   45.1688  41.1880  40.8431   44.1468  \n",
       "1977    50.1898   47.5982  44.0684  45.4267   49.3447  \n",
       "1978    54.1182   50.9980  46.3711  45.3267   49.0027  \n",
       "1979    55.9197   53.5776  48.7261  48.2585   51.3008  \n",
       "1980    56.2272   52.5737  48.8947  48.4081   50.6659  \n",
       "1981    59.5376   56.1935  50.3249  49.2234   52.8176  \n",
       "1982    59.6727   54.9644  50.4093  49.7304   53.4477  \n",
       "1983    57.0522   53.2825  48.6462  48.5762   50.9131  \n",
       "1984    63.0354   58.8092  52.0758  51.5264   56.4794  \n",
       "1985    63.2502   58.6939  53.6227  53.7972   56.6369  \n",
       "1986    64.5506   61.9159  55.7588  55.4629   61.4175  \n",
       "1987    66.6955   62.8912  57.8284  57.0461   62.1443  \n",
       "1988    72.3010   65.8237  59.7144  59.6736   64.4422  \n",
       "1989    78.0872   69.3406  62.8362  62.1364   67.7310  \n",
       "1990    77.6320   71.0673  65.3455  65.6080   75.0806  \n",
       "1991    80.1356   75.5456  67.5532  65.9821   71.2865  \n",
       "1992    82.0134   75.6726  68.4600  68.5905   72.5001  \n",
       "1993    79.5582   74.6987  68.8537  69.6758   76.0833  \n",
       "1994    85.9538   77.5044  69.2900  70.3729   76.2577  \n",
       "1995    85.5512   78.5878  71.5596  72.1969   77.3523  \n",
       "1996    94.6517   82.2441  74.7897  75.0062   81.2612  \n",
       "1997    91.0586   82.5919  75.1195  76.3487   81.4314  \n",
       "1998    92.2841   85.6932  78.4057  77.5792   83.3847  \n",
       "1999    98.2941   91.7894  81.8528  79.0292   85.3087  \n",
       "2000   101.9993   91.6262  81.9097  80.7085   87.9622  \n",
       "2001   104.3357   94.8055  84.4761  84.6713   93.7830  \n",
       "2002   104.9186   92.4048  83.8666  81.5255   87.0653  \n",
       "2003   107.2340   98.2105  88.3740  85.3696   92.7688  \n",
       "2004   110.5490   97.8965  88.2913  86.5869   95.8509  \n",
       "2005   106.9236  100.0361  90.3099  88.0298   98.2432  \n",
       "2006   117.2059  106.2274  93.8650  90.1143  101.0209  \n",
       "2007   119.0322  101.6588  92.5908  91.2439   98.4618  \n",
       "2008   121.0940  107.7787  96.8831  93.3234  100.8597  \n",
       "2009   113.8823  103.3491  93.2335  91.8977  101.8014  \n",
       "2010   112.5792  100.4701  90.9259  88.1769  102.5951  \n",
       "2011   120.2087  106.1109  91.6614  90.6340  105.7792  \n",
       "2012   120.2822  104.6692  91.8217  90.7683   99.3654  \n",
       "2013   117.2932  102.4185  91.8143  90.4217   97.8702  \n",
       "2014   114.3700  104.3899  93.5507  93.0872  104.1544  \n",
       "2015   113.9230  104.9454  93.6892  94.1108  101.1895  \n",
       "2016   117.1375  107.3046  92.9818  89.4954   96.3086  \n",
       "2017   123.2163  108.4514  93.4264  89.9026  101.8836  \n",
       "2018   115.7108  103.4070  94.6492  91.9079  101.9883  \n",
       "2019   121.7765  109.7190      NaN      NaN       NaN  "
      ]
     },
     "execution_count": 17,
     "metadata": {},
     "output_type": "execute_result"
    }
   ],
   "source": [
    "pd.pivot_table(data = df, index = 'year', columns = 'month', values = 'consum')"
   ]
  },
  {
   "cell_type": "code",
   "execution_count": 18,
   "metadata": {},
   "outputs": [
    {
     "data": {
      "text/plain": [
       "<matplotlib.axes._subplots.AxesSubplot at 0x23d981381c0>"
      ]
     },
     "execution_count": 18,
     "metadata": {},
     "output_type": "execute_result"
    },
    {
     "data": {
      "image/png": "[encoded data removed]",
      "text/plain": [
       "<Figure size 720x360 with 1 Axes>"
      ]
     },
     "metadata": {
      "needs_background": "light"
     },
     "output_type": "display_data"
    }
   ],
   "source": [
    "#Long to wide data\n",
    "pd.pivot_table(data = df, index = 'year', columns = 'month', values = 'consum').plot(figsize=(10,5))"
   ]
  },
  {
   "cell_type": "code",
   "execution_count": 19,
   "metadata": {},
   "outputs": [],
   "source": [
    "# from the graph we can say that the data has positive linear trend"
   ]
  },
  {
   "cell_type": "code",
   "execution_count": 20,
   "metadata": {},
   "outputs": [
    {
     "data": {
      "text/plain": [
       "<matplotlib.axes._subplots.AxesSubplot at 0x23d980b0490>"
      ]
     },
     "execution_count": 20,
     "metadata": {},
     "output_type": "execute_result"
    },
    {
     "data": {
      "image/png": "[encoded data removed]",
      "text/plain": [
       "<Figure size 720x360 with 1 Axes>"
      ]
     },
     "metadata": {
      "needs_background": "light"
     },
     "output_type": "display_data"
    }
   ],
   "source": [
    "#Long to wide data\n",
    "pd.pivot_table(data = df, index = 'month', columns = 'year', values = 'consum').plot(legend=False,figsize=(10,5))"
   ]
  },
  {
   "cell_type": "code",
   "execution_count": 21,
   "metadata": {},
   "outputs": [],
   "source": [
    "# from the graph we can say that the data has month seasonality"
   ]
  },
  {
   "cell_type": "code",
   "execution_count": 22,
   "metadata": {},
   "outputs": [],
   "source": [
    "from statsmodels.tsa.seasonal import seasonal_decompose"
   ]
  },
  {
   "cell_type": "code",
   "execution_count": 23,
   "metadata": {},
   "outputs": [
    {
     "data": {
      "image/png": "[encoded data removed]",
      "text/plain": [
       "<Figure size 432x288 with 4 Axes>"
      ]
     },
     "execution_count": 23,
     "metadata": {},
     "output_type": "execute_result"
    },
    {
     "data": {
      "image/png": "[encoded data removed]",
      "text/plain": [
       "<Figure size 432x288 with 4 Axes>"
      ]
     },
     "metadata": {
      "needs_background": "light"
     },
     "output_type": "display_data"
    }
   ],
   "source": [
    "seasonal_decompose(ts[ts.index.year<=1975], model='additive').plot()"
   ]
  },
  {
   "cell_type": "code",
   "execution_count": 24,
   "metadata": {},
   "outputs": [],
   "source": [
    "#decom = seasonal_decompose(ts, model='multiplicative')\n",
    "decom = seasonal_decompose(ts, model='additive')"
   ]
  },
  {
   "cell_type": "code",
   "execution_count": 25,
   "metadata": {},
   "outputs": [
    {
     "data": {
      "image/png": "[encoded data removed]",
      "text/plain": [
       "<Figure size 432x288 with 4 Axes>"
      ]
     },
     "execution_count": 25,
     "metadata": {},
     "output_type": "execute_result"
    },
    {
     "data": {
      "image/png": "[encoded data removed]",
      "text/plain": [
       "<Figure size 432x288 with 4 Axes>"
      ]
     },
     "metadata": {
      "needs_background": "light"
     },
     "output_type": "display_data"
    }
   ],
   "source": [
    "decom.plot()"
   ]
  },
  {
   "cell_type": "code",
   "execution_count": 26,
   "metadata": {},
   "outputs": [],
   "source": [
    "from statsmodels.tsa.stattools import acf, pacf_ols\n",
    "import statsmodels.tsa.api as smt"
   ]
  },
  {
   "cell_type": "code",
   "execution_count": 27,
   "metadata": {},
   "outputs": [
    {
     "data": {
      "image/png": "[encoded data removed]",
      "text/plain": [
       "<Figure size 432x288 with 1 Axes>"
      ]
     },
     "execution_count": 27,
     "metadata": {},
     "output_type": "execute_result"
    },
    {
     "data": {
      "image/png": "[encoded data removed]",
      "text/plain": [
       "<Figure size 432x288 with 1 Axes>"
      ]
     },
     "metadata": {
      "needs_background": "light"
     },
     "output_type": "display_data"
    }
   ],
   "source": [
    "smt.graphics.plot_acf(ts, lags=24)"
   ]
  },
  {
   "cell_type": "code",
   "execution_count": 28,
   "metadata": {},
   "outputs": [
    {
     "data": {
      "image/png": "[encoded data removed]",
      "text/plain": [
       "<Figure size 432x288 with 1 Axes>"
      ]
     },
     "execution_count": 28,
     "metadata": {},
     "output_type": "execute_result"
    },
    {
     "data": {
      "image/png": "[encoded data removed]",
      "text/plain": [
       "<Figure size 432x288 with 1 Axes>"
      ]
     },
     "metadata": {
      "needs_background": "light"
     },
     "output_type": "display_data"
    }
   ],
   "source": [
    "smt.graphics.plot_pacf(ts, lags = 24, method='ols')"
   ]
  },
  {
   "cell_type": "code",
   "execution_count": 29,
   "metadata": {},
   "outputs": [
    {
     "data": {
      "text/plain": [
       "(-1.7405933729832488,\n",
       " 0.4103281604468657,\n",
       " 15,\n",
       " 545,\n",
       " {'1%': -3.442405720052601,\n",
       "  '5%': -2.866857804790472,\n",
       "  '10%': -2.5696022094099824},\n",
       " 2295.409663118043)"
      ]
     },
     "execution_count": 29,
     "metadata": {},
     "output_type": "execute_result"
    }
   ],
   "source": [
    "#Is the series stationary?\n",
    "\n",
    "# Perform Dickey-Fuller test:\n",
    "from statsmodels.tsa.stattools import adfuller\n",
    "adfuller(ts)   #p-value: 0.41   , since p-value is high, the series(ts) is not stationary"
   ]
  },
  {
   "cell_type": "code",
   "execution_count": 30,
   "metadata": {},
   "outputs": [
    {
     "data": {
      "text/plain": [
       "(-7.941665363981186,\n",
       " 3.3013438021514486e-12,\n",
       " 14,\n",
       " 545,\n",
       " {'1%': -3.442405720052601,\n",
       "  '5%': -2.866857804790472,\n",
       "  '10%': -2.5696022094099824},\n",
       " 2292.555416618966)"
      ]
     },
     "execution_count": 30,
     "metadata": {},
     "output_type": "execute_result"
    }
   ],
   "source": [
    "adfuller(ts.diff().dropna())"
   ]
  },
  {
   "cell_type": "code",
   "execution_count": 31,
   "metadata": {},
   "outputs": [
    {
     "data": {
      "text/plain": [
       "<matplotlib.axes._subplots.AxesSubplot at 0x23d9bc01550>"
      ]
     },
     "execution_count": 31,
     "metadata": {},
     "output_type": "execute_result"
    },
    {
     "data": {
      "image/png": "[encoded data removed]",
      "text/plain": [
       "<Figure size 432x288 with 1 Axes>"
      ]
     },
     "metadata": {
      "needs_background": "light"
     },
     "output_type": "display_data"
    }
   ],
   "source": [
    "ts.diff().dropna().plot()"
   ]
  },
  {
   "cell_type": "code",
   "execution_count": null,
   "metadata": {},
   "outputs": [],
   "source": []
  },
  {
   "cell_type": "code",
   "execution_count": 32,
   "metadata": {},
   "outputs": [],
   "source": [
    "#ETS models\n",
    "from statsmodels.tsa.holtwinters import ExponentialSmoothing"
   ]
  },
  {
   "cell_type": "code",
   "execution_count": 33,
   "metadata": {},
   "outputs": [],
   "source": [
    "from sklearn.metrics import mean_absolute_error\n",
    "\n",
    "def auto_hwm(timeseries, val_split_date, alpha=[None], beta=[None], gamma=[None], \n",
    "              trend=None, seasonal=None, periods=None, verbose=False):\n",
    "\n",
    "    best_params = []\n",
    "    actual = timeseries[val_split_date:]\n",
    "\n",
    "    print('Evaluating Exponential Smoothing model for', len(alpha) * len(beta) * len(gamma), 'fits\\n')\n",
    "\n",
    "    for a in alpha:\n",
    "        for b in beta:\n",
    "            for g in gamma:\n",
    "\n",
    "                    if(verbose == True):\n",
    "                        print('Checking for', {'alpha': a, 'beta': b, 'gamma': g})\n",
    "\n",
    "                    model = ExponentialSmoothing(timeseries, trend=trend, seasonal=seasonal, seasonal_periods=periods)\n",
    "                    model.fit(smoothing_level=a, smoothing_slope=b, smoothing_seasonal=g)\n",
    "                    f_cast = model.predict(model.params, start=actual.index[0])\n",
    "                    score = np.where(np.float64(mean_absolute_error(actual, f_cast)/actual).mean()>0,np.float64(mean_absolute_error(actual, f_cast)/actual).mean(),0)\n",
    "\n",
    "                    best_params.append({'alpha': a, 'beta': b, 'gamma': g, 'mae': score})\n",
    "\n",
    "    return min(best_params, key=lambda x: x['mae'])"
   ]
  },
  {
   "cell_type": "code",
   "execution_count": 34,
   "metadata": {},
   "outputs": [],
   "source": [
    "alpha = [0.1,0.2,0.3,0.4,0.5,0.6]\n",
    "beta = [0.1,0.2,0.3,0.4,0.5,0.6]\n",
    "gamma =[0.1,0.2,0.3,0.4,0.5,0.6]"
   ]
  },
  {
   "cell_type": "code",
   "execution_count": 119,
   "metadata": {},
   "outputs": [
    {
     "data": {
      "text/plain": [
       "DATE\n",
       "2019-05-01     97.5860\n",
       "2019-06-01    110.8580\n",
       "2019-07-01    122.1014\n",
       "2019-08-01    121.7765\n",
       "2019-09-01    109.7190\n",
       "Name: consum, dtype: float64"
      ]
     },
     "execution_count": 119,
     "metadata": {},
     "output_type": "execute_result"
    }
   ],
   "source": [
    "ts.tail()"
   ]
  },
  {
   "cell_type": "code",
   "execution_count": 159,
   "metadata": {},
   "outputs": [
    {
     "name": "stdout",
     "output_type": "stream",
     "text": [
      "Evaluating Exponential Smoothing model for 216 fits\n",
      "\n",
      "Checking for {'alpha': 0.1, 'beta': 0.1, 'gamma': 0.1}\n",
      "Checking for {'alpha': 0.1, 'beta': 0.1, 'gamma': 0.2}\n",
      "Checking for {'alpha': 0.1, 'beta': 0.1, 'gamma': 0.3}\n",
      "Checking for {'alpha': 0.1, 'beta': 0.1, 'gamma': 0.4}\n",
      "Checking for {'alpha': 0.1, 'beta': 0.1, 'gamma': 0.5}\n"
     ]
    },
    {
     "name": "stderr",
     "output_type": "stream",
     "text": [
      "C:\\Users\\Anant\\anaconda3\\lib\\site-packages\\statsmodels\\tsa\\base\\tsa_model.py:471: ValueWarning: No frequency information was provided, so inferred frequency MS will be used.\n",
      "  self._init_dates(dates, freq)\n",
      "<ipython-input-79-8ea7916db468>:19: FutureWarning: the 'smoothing_slope'' keyword is deprecated, use 'smoothing_trend' instead.\n",
      "  model.fit(smoothing_level=a, smoothing_slope=b, smoothing_seasonal=g)\n",
      "C:\\Users\\Anant\\anaconda3\\lib\\site-packages\\statsmodels\\tsa\\holtwinters\\model.py:83: RuntimeWarning: overflow encountered in matmul\n",
      "  return err.T @ err\n",
      "C:\\Users\\Anant\\anaconda3\\lib\\site-packages\\statsmodels\\tsa\\base\\tsa_model.py:471: ValueWarning: No frequency information was provided, so inferred frequency MS will be used.\n",
      "  self._init_dates(dates, freq)\n",
      "<ipython-input-79-8ea7916db468>:19: FutureWarning: the 'smoothing_slope'' keyword is deprecated, use 'smoothing_trend' instead.\n",
      "  model.fit(smoothing_level=a, smoothing_slope=b, smoothing_seasonal=g)\n",
      "C:\\Users\\Anant\\anaconda3\\lib\\site-packages\\statsmodels\\tsa\\holtwinters\\model.py:83: RuntimeWarning: overflow encountered in matmul\n",
      "  return err.T @ err\n",
      "C:\\Users\\Anant\\anaconda3\\lib\\site-packages\\statsmodels\\tsa\\base\\tsa_model.py:471: ValueWarning: No frequency information was provided, so inferred frequency MS will be used.\n",
      "  self._init_dates(dates, freq)\n",
      "<ipython-input-79-8ea7916db468>:19: FutureWarning: the 'smoothing_slope'' keyword is deprecated, use 'smoothing_trend' instead.\n",
      "  model.fit(smoothing_level=a, smoothing_slope=b, smoothing_seasonal=g)\n",
      "C:\\Users\\Anant\\anaconda3\\lib\\site-packages\\statsmodels\\tsa\\holtwinters\\model.py:83: RuntimeWarning: overflow encountered in matmul\n",
      "  return err.T @ err\n",
      "C:\\Users\\Anant\\anaconda3\\lib\\site-packages\\statsmodels\\tsa\\base\\tsa_model.py:471: ValueWarning: No frequency information was provided, so inferred frequency MS will be used.\n",
      "  self._init_dates(dates, freq)\n",
      "<ipython-input-79-8ea7916db468>:19: FutureWarning: the 'smoothing_slope'' keyword is deprecated, use 'smoothing_trend' instead.\n",
      "  model.fit(smoothing_level=a, smoothing_slope=b, smoothing_seasonal=g)\n",
      "C:\\Users\\Anant\\anaconda3\\lib\\site-packages\\statsmodels\\tsa\\holtwinters\\model.py:83: RuntimeWarning: overflow encountered in matmul\n",
      "  return err.T @ err\n",
      "C:\\Users\\Anant\\anaconda3\\lib\\site-packages\\statsmodels\\tsa\\base\\tsa_model.py:471: ValueWarning: No frequency information was provided, so inferred frequency MS will be used.\n",
      "  self._init_dates(dates, freq)\n",
      "<ipython-input-79-8ea7916db468>:19: FutureWarning: the 'smoothing_slope'' keyword is deprecated, use 'smoothing_trend' instead.\n",
      "  model.fit(smoothing_level=a, smoothing_slope=b, smoothing_seasonal=g)\n",
      "C:\\Users\\Anant\\anaconda3\\lib\\site-packages\\statsmodels\\tsa\\base\\tsa_model.py:471: ValueWarning: No frequency information was provided, so inferred frequency MS will be used.\n",
      "  self._init_dates(dates, freq)\n",
      "<ipython-input-79-8ea7916db468>:19: FutureWarning: the 'smoothing_slope'' keyword is deprecated, use 'smoothing_trend' instead.\n",
      "  model.fit(smoothing_level=a, smoothing_slope=b, smoothing_seasonal=g)\n",
      "C:\\Users\\Anant\\anaconda3\\lib\\site-packages\\statsmodels\\tsa\\holtwinters\\model.py:83: RuntimeWarning: overflow encountered in matmul\n",
      "  return err.T @ err\n",
      "C:\\Users\\Anant\\anaconda3\\lib\\site-packages\\statsmodels\\tsa\\base\\tsa_model.py:471: ValueWarning: No frequency information was provided, so inferred frequency MS will be used.\n",
      "  self._init_dates(dates, freq)\n",
      "<ipython-input-79-8ea7916db468>:19: FutureWarning: the 'smoothing_slope'' keyword is deprecated, use 'smoothing_trend' instead.\n",
      "  model.fit(smoothing_level=a, smoothing_slope=b, smoothing_seasonal=g)\n",
      "C:\\Users\\Anant\\anaconda3\\lib\\site-packages\\statsmodels\\tsa\\holtwinters\\model.py:83: RuntimeWarning: overflow encountered in matmul\n",
      "  return err.T @ err\n",
      "C:\\Users\\Anant\\anaconda3\\lib\\site-packages\\statsmodels\\tsa\\base\\tsa_model.py:471: ValueWarning: No frequency information was provided, so inferred frequency MS will be used.\n",
      "  self._init_dates(dates, freq)\n",
      "<ipython-input-79-8ea7916db468>:19: FutureWarning: the 'smoothing_slope'' keyword is deprecated, use 'smoothing_trend' instead.\n",
      "  model.fit(smoothing_level=a, smoothing_slope=b, smoothing_seasonal=g)\n",
      "C:\\Users\\Anant\\anaconda3\\lib\\site-packages\\statsmodels\\tsa\\holtwinters\\model.py:83: RuntimeWarning: overflow encountered in matmul\n",
      "  return err.T @ err\n",
      "C:\\Users\\Anant\\anaconda3\\lib\\site-packages\\statsmodels\\tsa\\base\\tsa_model.py:471: ValueWarning: No frequency information was provided, so inferred frequency MS will be used.\n",
      "  self._init_dates(dates, freq)\n",
      "<ipython-input-79-8ea7916db468>:19: FutureWarning: the 'smoothing_slope'' keyword is deprecated, use 'smoothing_trend' instead.\n",
      "  model.fit(smoothing_level=a, smoothing_slope=b, smoothing_seasonal=g)\n",
      "C:\\Users\\Anant\\anaconda3\\lib\\site-packages\\statsmodels\\tsa\\holtwinters\\model.py:83: RuntimeWarning: overflow encountered in matmul\n",
      "  return err.T @ err\n"
     ]
    },
    {
     "name": "stdout",
     "output_type": "stream",
     "text": [
      "Checking for {'alpha': 0.1, 'beta': 0.1, 'gamma': 0.6}\n",
      "Checking for {'alpha': 0.1, 'beta': 0.2, 'gamma': 0.1}\n",
      "Checking for {'alpha': 0.1, 'beta': 0.2, 'gamma': 0.2}\n",
      "Checking for {'alpha': 0.1, 'beta': 0.2, 'gamma': 0.3}\n",
      "Checking for {'alpha': 0.1, 'beta': 0.2, 'gamma': 0.4}\n"
     ]
    },
    {
     "name": "stderr",
     "output_type": "stream",
     "text": [
      "C:\\Users\\Anant\\anaconda3\\lib\\site-packages\\statsmodels\\tsa\\base\\tsa_model.py:471: ValueWarning: No frequency information was provided, so inferred frequency MS will be used.\n",
      "  self._init_dates(dates, freq)\n",
      "<ipython-input-79-8ea7916db468>:19: FutureWarning: the 'smoothing_slope'' keyword is deprecated, use 'smoothing_trend' instead.\n",
      "  model.fit(smoothing_level=a, smoothing_slope=b, smoothing_seasonal=g)\n",
      "C:\\Users\\Anant\\anaconda3\\lib\\site-packages\\statsmodels\\tsa\\holtwinters\\model.py:83: RuntimeWarning: overflow encountered in matmul\n",
      "  return err.T @ err\n",
      "C:\\Users\\Anant\\anaconda3\\lib\\site-packages\\statsmodels\\tsa\\base\\tsa_model.py:471: ValueWarning: No frequency information was provided, so inferred frequency MS will be used.\n",
      "  self._init_dates(dates, freq)\n",
      "<ipython-input-79-8ea7916db468>:19: FutureWarning: the 'smoothing_slope'' keyword is deprecated, use 'smoothing_trend' instead.\n",
      "  model.fit(smoothing_level=a, smoothing_slope=b, smoothing_seasonal=g)\n",
      "C:\\Users\\Anant\\anaconda3\\lib\\site-packages\\statsmodels\\tsa\\holtwinters\\model.py:83: RuntimeWarning: overflow encountered in matmul\n",
      "  return err.T @ err\n",
      "C:\\Users\\Anant\\anaconda3\\lib\\site-packages\\statsmodels\\tsa\\base\\tsa_model.py:471: ValueWarning: No frequency information was provided, so inferred frequency MS will be used.\n",
      "  self._init_dates(dates, freq)\n",
      "<ipython-input-79-8ea7916db468>:19: FutureWarning: the 'smoothing_slope'' keyword is deprecated, use 'smoothing_trend' instead.\n",
      "  model.fit(smoothing_level=a, smoothing_slope=b, smoothing_seasonal=g)\n",
      "C:\\Users\\Anant\\anaconda3\\lib\\site-packages\\statsmodels\\tsa\\holtwinters\\model.py:83: RuntimeWarning: overflow encountered in matmul\n",
      "  return err.T @ err\n",
      "C:\\Users\\Anant\\anaconda3\\lib\\site-packages\\statsmodels\\tsa\\base\\tsa_model.py:471: ValueWarning: No frequency information was provided, so inferred frequency MS will be used.\n",
      "  self._init_dates(dates, freq)\n",
      "<ipython-input-79-8ea7916db468>:19: FutureWarning: the 'smoothing_slope'' keyword is deprecated, use 'smoothing_trend' instead.\n",
      "  model.fit(smoothing_level=a, smoothing_slope=b, smoothing_seasonal=g)\n",
      "C:\\Users\\Anant\\anaconda3\\lib\\site-packages\\statsmodels\\tsa\\holtwinters\\model.py:83: RuntimeWarning: overflow encountered in matmul\n",
      "  return err.T @ err\n"
     ]
    },
    {
     "name": "stdout",
     "output_type": "stream",
     "text": [
      "Checking for {'alpha': 0.1, 'beta': 0.2, 'gamma': 0.5}\n",
      "Checking for {'alpha': 0.1, 'beta': 0.2, 'gamma': 0.6}\n",
      "Checking for {'alpha': 0.1, 'beta': 0.3, 'gamma': 0.1}\n",
      "Checking for {'alpha': 0.1, 'beta': 0.3, 'gamma': 0.2}\n"
     ]
    },
    {
     "name": "stderr",
     "output_type": "stream",
     "text": [
      "C:\\Users\\Anant\\anaconda3\\lib\\site-packages\\statsmodels\\tsa\\base\\tsa_model.py:471: ValueWarning: No frequency information was provided, so inferred frequency MS will be used.\n",
      "  self._init_dates(dates, freq)\n",
      "<ipython-input-79-8ea7916db468>:19: FutureWarning: the 'smoothing_slope'' keyword is deprecated, use 'smoothing_trend' instead.\n",
      "  model.fit(smoothing_level=a, smoothing_slope=b, smoothing_seasonal=g)\n",
      "C:\\Users\\Anant\\anaconda3\\lib\\site-packages\\statsmodels\\tsa\\holtwinters\\model.py:83: RuntimeWarning: overflow encountered in matmul\n",
      "  return err.T @ err\n",
      "C:\\Users\\Anant\\anaconda3\\lib\\site-packages\\statsmodels\\tsa\\base\\tsa_model.py:471: ValueWarning: No frequency information was provided, so inferred frequency MS will be used.\n",
      "  self._init_dates(dates, freq)\n",
      "<ipython-input-79-8ea7916db468>:19: FutureWarning: the 'smoothing_slope'' keyword is deprecated, use 'smoothing_trend' instead.\n",
      "  model.fit(smoothing_level=a, smoothing_slope=b, smoothing_seasonal=g)\n",
      "C:\\Users\\Anant\\anaconda3\\lib\\site-packages\\statsmodels\\tsa\\holtwinters\\model.py:83: RuntimeWarning: overflow encountered in matmul\n",
      "  return err.T @ err\n",
      "C:\\Users\\Anant\\anaconda3\\lib\\site-packages\\statsmodels\\tsa\\base\\tsa_model.py:471: ValueWarning: No frequency information was provided, so inferred frequency MS will be used.\n",
      "  self._init_dates(dates, freq)\n",
      "<ipython-input-79-8ea7916db468>:19: FutureWarning: the 'smoothing_slope'' keyword is deprecated, use 'smoothing_trend' instead.\n",
      "  model.fit(smoothing_level=a, smoothing_slope=b, smoothing_seasonal=g)\n",
      "C:\\Users\\Anant\\anaconda3\\lib\\site-packages\\statsmodels\\tsa\\holtwinters\\model.py:83: RuntimeWarning: overflow encountered in matmul\n",
      "  return err.T @ err\n",
      "C:\\Users\\Anant\\anaconda3\\lib\\site-packages\\statsmodels\\tsa\\base\\tsa_model.py:471: ValueWarning: No frequency information was provided, so inferred frequency MS will be used.\n",
      "  self._init_dates(dates, freq)\n",
      "<ipython-input-79-8ea7916db468>:19: FutureWarning: the 'smoothing_slope'' keyword is deprecated, use 'smoothing_trend' instead.\n",
      "  model.fit(smoothing_level=a, smoothing_slope=b, smoothing_seasonal=g)\n",
      "C:\\Users\\Anant\\anaconda3\\lib\\site-packages\\statsmodels\\tsa\\holtwinters\\model.py:83: RuntimeWarning: overflow encountered in matmul\n",
      "  return err.T @ err\n"
     ]
    },
    {
     "name": "stdout",
     "output_type": "stream",
     "text": [
      "Checking for {'alpha': 0.1, 'beta': 0.3, 'gamma': 0.3}\n",
      "Checking for {'alpha': 0.1, 'beta': 0.3, 'gamma': 0.4}\n",
      "Checking for {'alpha': 0.1, 'beta': 0.3, 'gamma': 0.5}\n",
      "Checking for {'alpha': 0.1, 'beta': 0.3, 'gamma': 0.6}\n",
      "Checking for {'alpha': 0.1, 'beta': 0.4, 'gamma': 0.1}\n"
     ]
    },
    {
     "name": "stderr",
     "output_type": "stream",
     "text": [
      "C:\\Users\\Anant\\anaconda3\\lib\\site-packages\\statsmodels\\tsa\\base\\tsa_model.py:471: ValueWarning: No frequency information was provided, so inferred frequency MS will be used.\n",
      "  self._init_dates(dates, freq)\n",
      "<ipython-input-79-8ea7916db468>:19: FutureWarning: the 'smoothing_slope'' keyword is deprecated, use 'smoothing_trend' instead.\n",
      "  model.fit(smoothing_level=a, smoothing_slope=b, smoothing_seasonal=g)\n",
      "C:\\Users\\Anant\\anaconda3\\lib\\site-packages\\statsmodels\\tsa\\holtwinters\\model.py:83: RuntimeWarning: overflow encountered in matmul\n",
      "  return err.T @ err\n",
      "C:\\Users\\Anant\\anaconda3\\lib\\site-packages\\statsmodels\\tsa\\base\\tsa_model.py:471: ValueWarning: No frequency information was provided, so inferred frequency MS will be used.\n",
      "  self._init_dates(dates, freq)\n",
      "<ipython-input-79-8ea7916db468>:19: FutureWarning: the 'smoothing_slope'' keyword is deprecated, use 'smoothing_trend' instead.\n",
      "  model.fit(smoothing_level=a, smoothing_slope=b, smoothing_seasonal=g)\n",
      "C:\\Users\\Anant\\anaconda3\\lib\\site-packages\\statsmodels\\tsa\\holtwinters\\model.py:83: RuntimeWarning: overflow encountered in matmul\n",
      "  return err.T @ err\n",
      "C:\\Users\\Anant\\anaconda3\\lib\\site-packages\\statsmodels\\tsa\\base\\tsa_model.py:471: ValueWarning: No frequency information was provided, so inferred frequency MS will be used.\n",
      "  self._init_dates(dates, freq)\n",
      "<ipython-input-79-8ea7916db468>:19: FutureWarning: the 'smoothing_slope'' keyword is deprecated, use 'smoothing_trend' instead.\n",
      "  model.fit(smoothing_level=a, smoothing_slope=b, smoothing_seasonal=g)\n",
      "C:\\Users\\Anant\\anaconda3\\lib\\site-packages\\statsmodels\\tsa\\holtwinters\\model.py:83: RuntimeWarning: overflow encountered in matmul\n",
      "  return err.T @ err\n",
      "C:\\Users\\Anant\\anaconda3\\lib\\site-packages\\statsmodels\\tsa\\base\\tsa_model.py:471: ValueWarning: No frequency information was provided, so inferred frequency MS will be used.\n",
      "  self._init_dates(dates, freq)\n",
      "<ipython-input-79-8ea7916db468>:19: FutureWarning: the 'smoothing_slope'' keyword is deprecated, use 'smoothing_trend' instead.\n",
      "  model.fit(smoothing_level=a, smoothing_slope=b, smoothing_seasonal=g)\n",
      "C:\\Users\\Anant\\anaconda3\\lib\\site-packages\\statsmodels\\tsa\\holtwinters\\model.py:83: RuntimeWarning: overflow encountered in matmul\n",
      "  return err.T @ err\n"
     ]
    },
    {
     "name": "stdout",
     "output_type": "stream",
     "text": [
      "Checking for {'alpha': 0.1, 'beta': 0.4, 'gamma': 0.2}\n",
      "Checking for {'alpha': 0.1, 'beta': 0.4, 'gamma': 0.3}\n",
      "Checking for {'alpha': 0.1, 'beta': 0.4, 'gamma': 0.4}\n",
      "Checking for {'alpha': 0.1, 'beta': 0.4, 'gamma': 0.5}\n",
      "Checking for"
     ]
    },
    {
     "name": "stderr",
     "output_type": "stream",
     "text": [
      "C:\\Users\\Anant\\anaconda3\\lib\\site-packages\\statsmodels\\tsa\\base\\tsa_model.py:471: ValueWarning: No frequency information was provided, so inferred frequency MS will be used.\n",
      "  self._init_dates(dates, freq)\n",
      "<ipython-input-79-8ea7916db468>:19: FutureWarning: the 'smoothing_slope'' keyword is deprecated, use 'smoothing_trend' instead.\n",
      "  model.fit(smoothing_level=a, smoothing_slope=b, smoothing_seasonal=g)\n",
      "C:\\Users\\Anant\\anaconda3\\lib\\site-packages\\statsmodels\\tsa\\holtwinters\\model.py:83: RuntimeWarning: overflow encountered in matmul\n",
      "  return err.T @ err\n",
      "C:\\Users\\Anant\\anaconda3\\lib\\site-packages\\statsmodels\\tsa\\base\\tsa_model.py:471: ValueWarning: No frequency information was provided, so inferred frequency MS will be used.\n",
      "  self._init_dates(dates, freq)\n",
      "<ipython-input-79-8ea7916db468>:19: FutureWarning: the 'smoothing_slope'' keyword is deprecated, use 'smoothing_trend' instead.\n",
      "  model.fit(smoothing_level=a, smoothing_slope=b, smoothing_seasonal=g)\n",
      "C:\\Users\\Anant\\anaconda3\\lib\\site-packages\\statsmodels\\tsa\\holtwinters\\model.py:83: RuntimeWarning: overflow encountered in matmul\n",
      "  return err.T @ err\n",
      "C:\\Users\\Anant\\anaconda3\\lib\\site-packages\\statsmodels\\tsa\\base\\tsa_model.py:471: ValueWarning: No frequency information was provided, so inferred frequency MS will be used.\n",
      "  self._init_dates(dates, freq)\n",
      "<ipython-input-79-8ea7916db468>:19: FutureWarning: the 'smoothing_slope'' keyword is deprecated, use 'smoothing_trend' instead.\n",
      "  model.fit(smoothing_level=a, smoothing_slope=b, smoothing_seasonal=g)\n",
      "C:\\Users\\Anant\\anaconda3\\lib\\site-packages\\statsmodels\\tsa\\holtwinters\\model.py:83: RuntimeWarning: overflow encountered in matmul\n",
      "  return err.T @ err\n",
      "C:\\Users\\Anant\\anaconda3\\lib\\site-packages\\statsmodels\\tsa\\base\\tsa_model.py:471: ValueWarning: No frequency information was provided, so inferred frequency MS will be used.\n",
      "  self._init_dates(dates, freq)\n",
      "<ipython-input-79-8ea7916db468>:19: FutureWarning: the 'smoothing_slope'' keyword is deprecated, use 'smoothing_trend' instead.\n",
      "  model.fit(smoothing_level=a, smoothing_slope=b, smoothing_seasonal=g)\n"
     ]
    },
    {
     "name": "stdout",
     "output_type": "stream",
     "text": [
      " {'alpha': 0.1, 'beta': 0.4, 'gamma': 0.6}\n",
      "Checking for {'alpha': 0.1, 'beta': 0.5, 'gamma': 0.1}\n",
      "Checking for {'alpha': 0.1, 'beta': 0.5, 'gamma': 0.2}\n",
      "Checking for {'alpha': 0.1, 'beta': 0.5, 'gamma': 0.3}\n"
     ]
    },
    {
     "name": "stderr",
     "output_type": "stream",
     "text": [
      "C:\\Users\\Anant\\anaconda3\\lib\\site-packages\\statsmodels\\tsa\\holtwinters\\model.py:83: RuntimeWarning: overflow encountered in matmul\n",
      "  return err.T @ err\n",
      "C:\\Users\\Anant\\anaconda3\\lib\\site-packages\\statsmodels\\tsa\\base\\tsa_model.py:471: ValueWarning: No frequency information was provided, so inferred frequency MS will be used.\n",
      "  self._init_dates(dates, freq)\n",
      "<ipython-input-79-8ea7916db468>:19: FutureWarning: the 'smoothing_slope'' keyword is deprecated, use 'smoothing_trend' instead.\n",
      "  model.fit(smoothing_level=a, smoothing_slope=b, smoothing_seasonal=g)\n",
      "C:\\Users\\Anant\\anaconda3\\lib\\site-packages\\statsmodels\\tsa\\holtwinters\\model.py:83: RuntimeWarning: overflow encountered in matmul\n",
      "  return err.T @ err\n",
      "C:\\Users\\Anant\\anaconda3\\lib\\site-packages\\statsmodels\\tsa\\base\\tsa_model.py:471: ValueWarning: No frequency information was provided, so inferred frequency MS will be used.\n",
      "  self._init_dates(dates, freq)\n",
      "<ipython-input-79-8ea7916db468>:19: FutureWarning: the 'smoothing_slope'' keyword is deprecated, use 'smoothing_trend' instead.\n",
      "  model.fit(smoothing_level=a, smoothing_slope=b, smoothing_seasonal=g)\n",
      "C:\\Users\\Anant\\anaconda3\\lib\\site-packages\\statsmodels\\tsa\\holtwinters\\model.py:83: RuntimeWarning: overflow encountered in matmul\n",
      "  return err.T @ err\n",
      "C:\\Users\\Anant\\anaconda3\\lib\\site-packages\\statsmodels\\tsa\\base\\tsa_model.py:471: ValueWarning: No frequency information was provided, so inferred frequency MS will be used.\n",
      "  self._init_dates(dates, freq)\n",
      "<ipython-input-79-8ea7916db468>:19: FutureWarning: the 'smoothing_slope'' keyword is deprecated, use 'smoothing_trend' instead.\n",
      "  model.fit(smoothing_level=a, smoothing_slope=b, smoothing_seasonal=g)\n",
      "C:\\Users\\Anant\\anaconda3\\lib\\site-packages\\statsmodels\\tsa\\holtwinters\\model.py:83: RuntimeWarning: overflow encountered in matmul\n",
      "  return err.T @ err\n"
     ]
    },
    {
     "name": "stdout",
     "output_type": "stream",
     "text": [
      "Checking for {'alpha': 0.1, 'beta': 0.5, 'gamma': 0.4}\n",
      "Checking for {'alpha': 0.1, 'beta': 0.5, 'gamma': 0.5}\n",
      "Checking for {'alpha': 0.1, 'beta': 0.5, 'gamma': 0.6}\n",
      "Checking for {'alpha': 0.1, 'beta': 0.6, 'gamma': 0.1}\n"
     ]
    },
    {
     "name": "stderr",
     "output_type": "stream",
     "text": [
      "C:\\Users\\Anant\\anaconda3\\lib\\site-packages\\statsmodels\\tsa\\base\\tsa_model.py:471: ValueWarning: No frequency information was provided, so inferred frequency MS will be used.\n",
      "  self._init_dates(dates, freq)\n",
      "<ipython-input-79-8ea7916db468>:19: FutureWarning: the 'smoothing_slope'' keyword is deprecated, use 'smoothing_trend' instead.\n",
      "  model.fit(smoothing_level=a, smoothing_slope=b, smoothing_seasonal=g)\n",
      "C:\\Users\\Anant\\anaconda3\\lib\\site-packages\\statsmodels\\tsa\\holtwinters\\model.py:83: RuntimeWarning: overflow encountered in matmul\n",
      "  return err.T @ err\n",
      "C:\\Users\\Anant\\anaconda3\\lib\\site-packages\\statsmodels\\tsa\\base\\tsa_model.py:471: ValueWarning: No frequency information was provided, so inferred frequency MS will be used.\n",
      "  self._init_dates(dates, freq)\n",
      "<ipython-input-79-8ea7916db468>:19: FutureWarning: the 'smoothing_slope'' keyword is deprecated, use 'smoothing_trend' instead.\n",
      "  model.fit(smoothing_level=a, smoothing_slope=b, smoothing_seasonal=g)\n",
      "C:\\Users\\Anant\\anaconda3\\lib\\site-packages\\statsmodels\\tsa\\holtwinters\\model.py:83: RuntimeWarning: overflow encountered in matmul\n",
      "  return err.T @ err\n",
      "C:\\Users\\Anant\\anaconda3\\lib\\site-packages\\statsmodels\\tsa\\base\\tsa_model.py:471: ValueWarning: No frequency information was provided, so inferred frequency MS will be used.\n",
      "  self._init_dates(dates, freq)\n",
      "<ipython-input-79-8ea7916db468>:19: FutureWarning: the 'smoothing_slope'' keyword is deprecated, use 'smoothing_trend' instead.\n",
      "  model.fit(smoothing_level=a, smoothing_slope=b, smoothing_seasonal=g)\n",
      "C:\\Users\\Anant\\anaconda3\\lib\\site-packages\\statsmodels\\tsa\\holtwinters\\model.py:83: RuntimeWarning: overflow encountered in matmul\n",
      "  return err.T @ err\n"
     ]
    },
    {
     "name": "stdout",
     "output_type": "stream",
     "text": [
      "Checking for {'alpha': 0.1, 'beta': 0.6, 'gamma': 0.2}\n",
      "Checking for {'alpha': 0.1, 'beta': 0.6, 'gamma': 0.3}\n",
      "Checking for {'alpha': 0.1, 'beta': 0.6, 'gamma': 0.4}\n",
      "Checking for {'alpha': 0.1, 'beta': 0.6, 'gamma': 0.5}\n",
      "Checking for"
     ]
    },
    {
     "name": "stderr",
     "output_type": "stream",
     "text": [
      "C:\\Users\\Anant\\anaconda3\\lib\\site-packages\\statsmodels\\tsa\\base\\tsa_model.py:471: ValueWarning: No frequency information was provided, so inferred frequency MS will be used.\n",
      "  self._init_dates(dates, freq)\n",
      "<ipython-input-79-8ea7916db468>:19: FutureWarning: the 'smoothing_slope'' keyword is deprecated, use 'smoothing_trend' instead.\n",
      "  model.fit(smoothing_level=a, smoothing_slope=b, smoothing_seasonal=g)\n",
      "C:\\Users\\Anant\\anaconda3\\lib\\site-packages\\statsmodels\\tsa\\holtwinters\\model.py:83: RuntimeWarning: overflow encountered in matmul\n",
      "  return err.T @ err\n",
      "C:\\Users\\Anant\\anaconda3\\lib\\site-packages\\statsmodels\\tsa\\base\\tsa_model.py:471: ValueWarning: No frequency information was provided, so inferred frequency MS will be used.\n",
      "  self._init_dates(dates, freq)\n",
      "<ipython-input-79-8ea7916db468>:19: FutureWarning: the 'smoothing_slope'' keyword is deprecated, use 'smoothing_trend' instead.\n",
      "  model.fit(smoothing_level=a, smoothing_slope=b, smoothing_seasonal=g)\n",
      "C:\\Users\\Anant\\anaconda3\\lib\\site-packages\\statsmodels\\tsa\\holtwinters\\model.py:83: RuntimeWarning: overflow encountered in matmul\n",
      "  return err.T @ err\n",
      "C:\\Users\\Anant\\anaconda3\\lib\\site-packages\\statsmodels\\tsa\\base\\tsa_model.py:471: ValueWarning: No frequency information was provided, so inferred frequency MS will be used.\n",
      "  self._init_dates(dates, freq)\n",
      "<ipython-input-79-8ea7916db468>:19: FutureWarning: the 'smoothing_slope'' keyword is deprecated, use 'smoothing_trend' instead.\n",
      "  model.fit(smoothing_level=a, smoothing_slope=b, smoothing_seasonal=g)\n",
      "C:\\Users\\Anant\\anaconda3\\lib\\site-packages\\statsmodels\\tsa\\holtwinters\\model.py:83: RuntimeWarning: overflow encountered in matmul\n",
      "  return err.T @ err\n",
      "C:\\Users\\Anant\\anaconda3\\lib\\site-packages\\statsmodels\\tsa\\base\\tsa_model.py:471: ValueWarning: No frequency information was provided, so inferred frequency MS will be used.\n",
      "  self._init_dates(dates, freq)\n",
      "<ipython-input-79-8ea7916db468>:19: FutureWarning: the 'smoothing_slope'' keyword is deprecated, use 'smoothing_trend' instead.\n",
      "  model.fit(smoothing_level=a, smoothing_slope=b, smoothing_seasonal=g)\n",
      "C:\\Users\\Anant\\anaconda3\\lib\\site-packages\\statsmodels\\tsa\\holtwinters\\model.py:83: RuntimeWarning: overflow encountered in matmul\n",
      "  return err.T @ err\n"
     ]
    },
    {
     "name": "stdout",
     "output_type": "stream",
     "text": [
      " {'alpha': 0.1, 'beta': 0.6, 'gamma': 0.6}\n",
      "Checking for {'alpha': 0.2, 'beta': 0.1, 'gamma': 0.1}\n",
      "Checking for {'alpha': 0.2, 'beta': 0.1, 'gamma': 0.2}\n",
      "Checking for {'alpha': 0.2, 'beta': 0.1, 'gamma': 0.3}\n",
      "Checking for"
     ]
    },
    {
     "name": "stderr",
     "output_type": "stream",
     "text": [
      "C:\\Users\\Anant\\anaconda3\\lib\\site-packages\\statsmodels\\tsa\\base\\tsa_model.py:471: ValueWarning: No frequency information was provided, so inferred frequency MS will be used.\n",
      "  self._init_dates(dates, freq)\n",
      "<ipython-input-79-8ea7916db468>:19: FutureWarning: the 'smoothing_slope'' keyword is deprecated, use 'smoothing_trend' instead.\n",
      "  model.fit(smoothing_level=a, smoothing_slope=b, smoothing_seasonal=g)\n",
      "C:\\Users\\Anant\\anaconda3\\lib\\site-packages\\statsmodels\\tsa\\holtwinters\\model.py:83: RuntimeWarning: overflow encountered in matmul\n",
      "  return err.T @ err\n",
      "C:\\Users\\Anant\\anaconda3\\lib\\site-packages\\statsmodels\\tsa\\base\\tsa_model.py:471: ValueWarning: No frequency information was provided, so inferred frequency MS will be used.\n",
      "  self._init_dates(dates, freq)\n",
      "<ipython-input-79-8ea7916db468>:19: FutureWarning: the 'smoothing_slope'' keyword is deprecated, use 'smoothing_trend' instead.\n",
      "  model.fit(smoothing_level=a, smoothing_slope=b, smoothing_seasonal=g)\n",
      "C:\\Users\\Anant\\anaconda3\\lib\\site-packages\\statsmodels\\tsa\\holtwinters\\model.py:83: RuntimeWarning: overflow encountered in matmul\n",
      "  return err.T @ err\n",
      "C:\\Users\\Anant\\anaconda3\\lib\\site-packages\\statsmodels\\tsa\\base\\tsa_model.py:471: ValueWarning: No frequency information was provided, so inferred frequency MS will be used.\n",
      "  self._init_dates(dates, freq)\n",
      "<ipython-input-79-8ea7916db468>:19: FutureWarning: the 'smoothing_slope'' keyword is deprecated, use 'smoothing_trend' instead.\n",
      "  model.fit(smoothing_level=a, smoothing_slope=b, smoothing_seasonal=g)\n",
      "C:\\Users\\Anant\\anaconda3\\lib\\site-packages\\statsmodels\\tsa\\holtwinters\\model.py:83: RuntimeWarning: overflow encountered in matmul\n",
      "  return err.T @ err\n",
      "C:\\Users\\Anant\\anaconda3\\lib\\site-packages\\statsmodels\\tsa\\base\\tsa_model.py:471: ValueWarning: No frequency information was provided, so inferred frequency MS will be used.\n",
      "  self._init_dates(dates, freq)\n",
      "<ipython-input-79-8ea7916db468>:19: FutureWarning: the 'smoothing_slope'' keyword is deprecated, use 'smoothing_trend' instead.\n",
      "  model.fit(smoothing_level=a, smoothing_slope=b, smoothing_seasonal=g)\n",
      "C:\\Users\\Anant\\anaconda3\\lib\\site-packages\\statsmodels\\tsa\\holtwinters\\model.py:83: RuntimeWarning: overflow encountered in matmul\n",
      "  return err.T @ err\n"
     ]
    },
    {
     "name": "stdout",
     "output_type": "stream",
     "text": [
      " {'alpha': 0.2, 'beta': 0.1, 'gamma': 0.4}\n",
      "Checking for {'alpha': 0.2, 'beta': 0.1, 'gamma': 0.5}\n",
      "Checking for {'alpha': 0.2, 'beta': 0.1, 'gamma': 0.6}\n",
      "Checking for {'alpha': 0.2, 'beta': 0.2, 'gamma': 0.1}\n",
      "Checking for {'alpha': 0.2, 'beta': 0.2, 'gamma': 0.2}\n"
     ]
    },
    {
     "name": "stderr",
     "output_type": "stream",
     "text": [
      "C:\\Users\\Anant\\anaconda3\\lib\\site-packages\\statsmodels\\tsa\\base\\tsa_model.py:471: ValueWarning: No frequency information was provided, so inferred frequency MS will be used.\n",
      "  self._init_dates(dates, freq)\n",
      "<ipython-input-79-8ea7916db468>:19: FutureWarning: the 'smoothing_slope'' keyword is deprecated, use 'smoothing_trend' instead.\n",
      "  model.fit(smoothing_level=a, smoothing_slope=b, smoothing_seasonal=g)\n",
      "C:\\Users\\Anant\\anaconda3\\lib\\site-packages\\statsmodels\\tsa\\holtwinters\\model.py:83: RuntimeWarning: overflow encountered in matmul\n",
      "  return err.T @ err\n",
      "C:\\Users\\Anant\\anaconda3\\lib\\site-packages\\statsmodels\\tsa\\base\\tsa_model.py:471: ValueWarning: No frequency information was provided, so inferred frequency MS will be used.\n",
      "  self._init_dates(dates, freq)\n",
      "<ipython-input-79-8ea7916db468>:19: FutureWarning: the 'smoothing_slope'' keyword is deprecated, use 'smoothing_trend' instead.\n",
      "  model.fit(smoothing_level=a, smoothing_slope=b, smoothing_seasonal=g)\n",
      "C:\\Users\\Anant\\anaconda3\\lib\\site-packages\\statsmodels\\tsa\\holtwinters\\model.py:83: RuntimeWarning: overflow encountered in matmul\n",
      "  return err.T @ err\n",
      "C:\\Users\\Anant\\anaconda3\\lib\\site-packages\\statsmodels\\tsa\\base\\tsa_model.py:471: ValueWarning: No frequency information was provided, so inferred frequency MS will be used.\n",
      "  self._init_dates(dates, freq)\n",
      "<ipython-input-79-8ea7916db468>:19: FutureWarning: the 'smoothing_slope'' keyword is deprecated, use 'smoothing_trend' instead.\n",
      "  model.fit(smoothing_level=a, smoothing_slope=b, smoothing_seasonal=g)\n",
      "C:\\Users\\Anant\\anaconda3\\lib\\site-packages\\statsmodels\\tsa\\holtwinters\\model.py:83: RuntimeWarning: overflow encountered in matmul\n",
      "  return err.T @ err\n",
      "C:\\Users\\Anant\\anaconda3\\lib\\site-packages\\statsmodels\\tsa\\base\\tsa_model.py:471: ValueWarning: No frequency information was provided, so inferred frequency MS will be used.\n",
      "  self._init_dates(dates, freq)\n",
      "<ipython-input-79-8ea7916db468>:19: FutureWarning: the 'smoothing_slope'' keyword is deprecated, use 'smoothing_trend' instead.\n",
      "  model.fit(smoothing_level=a, smoothing_slope=b, smoothing_seasonal=g)\n",
      "C:\\Users\\Anant\\anaconda3\\lib\\site-packages\\statsmodels\\tsa\\holtwinters\\model.py:83: RuntimeWarning: overflow encountered in matmul\n",
      "  return err.T @ err\n",
      "C:\\Users\\Anant\\anaconda3\\lib\\site-packages\\statsmodels\\tsa\\base\\tsa_model.py:471: ValueWarning: No frequency information was provided, so inferred frequency MS will be used.\n",
      "  self._init_dates(dates, freq)\n",
      "<ipython-input-79-8ea7916db468>:19: FutureWarning: the 'smoothing_slope'' keyword is deprecated, use 'smoothing_trend' instead.\n",
      "  model.fit(smoothing_level=a, smoothing_slope=b, smoothing_seasonal=g)\n",
      "C:\\Users\\Anant\\anaconda3\\lib\\site-packages\\statsmodels\\tsa\\holtwinters\\model.py:83: RuntimeWarning: overflow encountered in matmul\n",
      "  return err.T @ err\n",
      "C:\\Users\\Anant\\anaconda3\\lib\\site-packages\\statsmodels\\tsa\\base\\tsa_model.py:471: ValueWarning: No frequency information was provided, so inferred frequency MS will be used.\n",
      "  self._init_dates(dates, freq)\n",
      "<ipython-input-79-8ea7916db468>:19: FutureWarning: the 'smoothing_slope'' keyword is deprecated, use 'smoothing_trend' instead.\n",
      "  model.fit(smoothing_level=a, smoothing_slope=b, smoothing_seasonal=g)\n",
      "C:\\Users\\Anant\\anaconda3\\lib\\site-packages\\statsmodels\\tsa\\holtwinters\\model.py:83: RuntimeWarning: overflow encountered in matmul\n",
      "  return err.T @ err\n",
      "C:\\Users\\Anant\\anaconda3\\lib\\site-packages\\statsmodels\\tsa\\base\\tsa_model.py:471: ValueWarning: No frequency information was provided, so inferred frequency MS will be used.\n",
      "  self._init_dates(dates, freq)\n",
      "<ipython-input-79-8ea7916db468>:19: FutureWarning: the 'smoothing_slope'' keyword is deprecated, use 'smoothing_trend' instead.\n",
      "  model.fit(smoothing_level=a, smoothing_slope=b, smoothing_seasonal=g)\n",
      "C:\\Users\\Anant\\anaconda3\\lib\\site-packages\\statsmodels\\tsa\\holtwinters\\model.py:83: RuntimeWarning: overflow encountered in matmul\n",
      "  return err.T @ err\n",
      "C:\\Users\\Anant\\anaconda3\\lib\\site-packages\\statsmodels\\tsa\\base\\tsa_model.py:471: ValueWarning: No frequency information was provided, so inferred frequency MS will be used.\n",
      "  self._init_dates(dates, freq)\n",
      "<ipython-input-79-8ea7916db468>:19: FutureWarning: the 'smoothing_slope'' keyword is deprecated, use 'smoothing_trend' instead.\n",
      "  model.fit(smoothing_level=a, smoothing_slope=b, smoothing_seasonal=g)\n",
      "C:\\Users\\Anant\\anaconda3\\lib\\site-packages\\statsmodels\\tsa\\holtwinters\\model.py:83: RuntimeWarning: overflow encountered in matmul\n",
      "  return err.T @ err\n",
      "C:\\Users\\Anant\\anaconda3\\lib\\site-packages\\statsmodels\\tsa\\base\\tsa_model.py:471: ValueWarning: No frequency information was provided, so inferred frequency MS will be used.\n",
      "  self._init_dates(dates, freq)\n",
      "<ipython-input-79-8ea7916db468>:19: FutureWarning: the 'smoothing_slope'' keyword is deprecated, use 'smoothing_trend' instead.\n",
      "  model.fit(smoothing_level=a, smoothing_slope=b, smoothing_seasonal=g)\n",
      "C:\\Users\\Anant\\anaconda3\\lib\\site-packages\\statsmodels\\tsa\\holtwinters\\model.py:83: RuntimeWarning: overflow encountered in matmul\n",
      "  return err.T @ err\n"
     ]
    },
    {
     "name": "stdout",
     "output_type": "stream",
     "text": [
      "Checking for {'alpha': 0.2, 'beta': 0.2, 'gamma': 0.3}\n",
      "Checking for {'alpha': 0.2, 'beta': 0.2, 'gamma': 0.4}\n",
      "Checking for {'alpha': 0.2, 'beta': 0.2, 'gamma': 0.5}\n",
      "Checking for {'alpha': 0.2, 'beta': 0.2, 'gamma': 0.6}\n",
      "Checking for"
     ]
    },
    {
     "name": "stderr",
     "output_type": "stream",
     "text": [
      "C:\\Users\\Anant\\anaconda3\\lib\\site-packages\\statsmodels\\tsa\\base\\tsa_model.py:471: ValueWarning: No frequency information was provided, so inferred frequency MS will be used.\n",
      "  self._init_dates(dates, freq)\n",
      "<ipython-input-79-8ea7916db468>:19: FutureWarning: the 'smoothing_slope'' keyword is deprecated, use 'smoothing_trend' instead.\n",
      "  model.fit(smoothing_level=a, smoothing_slope=b, smoothing_seasonal=g)\n",
      "C:\\Users\\Anant\\anaconda3\\lib\\site-packages\\statsmodels\\tsa\\holtwinters\\model.py:83: RuntimeWarning: overflow encountered in matmul\n",
      "  return err.T @ err\n",
      "C:\\Users\\Anant\\anaconda3\\lib\\site-packages\\statsmodels\\tsa\\base\\tsa_model.py:471: ValueWarning: No frequency information was provided, so inferred frequency MS will be used.\n",
      "  self._init_dates(dates, freq)\n",
      "<ipython-input-79-8ea7916db468>:19: FutureWarning: the 'smoothing_slope'' keyword is deprecated, use 'smoothing_trend' instead.\n",
      "  model.fit(smoothing_level=a, smoothing_slope=b, smoothing_seasonal=g)\n",
      "C:\\Users\\Anant\\anaconda3\\lib\\site-packages\\statsmodels\\tsa\\holtwinters\\model.py:83: RuntimeWarning: overflow encountered in matmul\n",
      "  return err.T @ err\n",
      "C:\\Users\\Anant\\anaconda3\\lib\\site-packages\\statsmodels\\tsa\\base\\tsa_model.py:471: ValueWarning: No frequency information was provided, so inferred frequency MS will be used.\n",
      "  self._init_dates(dates, freq)\n",
      "<ipython-input-79-8ea7916db468>:19: FutureWarning: the 'smoothing_slope'' keyword is deprecated, use 'smoothing_trend' instead.\n",
      "  model.fit(smoothing_level=a, smoothing_slope=b, smoothing_seasonal=g)\n",
      "C:\\Users\\Anant\\anaconda3\\lib\\site-packages\\statsmodels\\tsa\\holtwinters\\model.py:83: RuntimeWarning: overflow encountered in matmul\n",
      "  return err.T @ err\n",
      "C:\\Users\\Anant\\anaconda3\\lib\\site-packages\\statsmodels\\tsa\\base\\tsa_model.py:471: ValueWarning: No frequency information was provided, so inferred frequency MS will be used.\n",
      "  self._init_dates(dates, freq)\n",
      "<ipython-input-79-8ea7916db468>:19: FutureWarning: the 'smoothing_slope'' keyword is deprecated, use 'smoothing_trend' instead.\n",
      "  model.fit(smoothing_level=a, smoothing_slope=b, smoothing_seasonal=g)\n",
      "C:\\Users\\Anant\\anaconda3\\lib\\site-packages\\statsmodels\\tsa\\holtwinters\\model.py:83: RuntimeWarning: overflow encountered in matmul\n",
      "  return err.T @ err\n",
      "C:\\Users\\Anant\\anaconda3\\lib\\site-packages\\statsmodels\\tsa\\base\\tsa_model.py:471: ValueWarning: No frequency information was provided, so inferred frequency MS will be used.\n",
      "  self._init_dates(dates, freq)\n",
      "<ipython-input-79-8ea7916db468>:19: FutureWarning: the 'smoothing_slope'' keyword is deprecated, use 'smoothing_trend' instead.\n",
      "  model.fit(smoothing_level=a, smoothing_slope=b, smoothing_seasonal=g)\n",
      "C:\\Users\\Anant\\anaconda3\\lib\\site-packages\\statsmodels\\tsa\\holtwinters\\model.py:83: RuntimeWarning: overflow encountered in matmul\n",
      "  return err.T @ err\n"
     ]
    },
    {
     "name": "stdout",
     "output_type": "stream",
     "text": [
      " {'alpha': 0.2, 'beta': 0.3, 'gamma': 0.1}\n",
      "Checking for {'alpha': 0.2, 'beta': 0.3, 'gamma': 0.2}\n",
      "Checking for {'alpha': 0.2, 'beta': 0.3, 'gamma': 0.3}\n",
      "Checking for {'alpha': 0.2, 'beta': 0.3, 'gamma': 0.4}\n",
      "Checking for {'alpha': 0.2, 'beta': 0.3, 'gamma': 0.5}\n",
      "Checking for {'alpha': 0.2, 'beta': 0.3, 'gamma': 0.6}\n",
      "Checking for {'alpha': 0.2, 'beta': 0.4, 'gamma': 0.1}\n",
      "Checking for {'alpha': 0.2, 'beta': 0.4, 'gamma': 0.2}\n",
      "Checking for {'alpha': 0.2, 'beta': 0.4, 'gamma': 0.3}\n"
     ]
    },
    {
     "name": "stderr",
     "output_type": "stream",
     "text": [
      "C:\\Users\\Anant\\anaconda3\\lib\\site-packages\\statsmodels\\tsa\\base\\tsa_model.py:471: ValueWarning: No frequency information was provided, so inferred frequency MS will be used.\n",
      "  self._init_dates(dates, freq)\n",
      "<ipython-input-79-8ea7916db468>:19: FutureWarning: the 'smoothing_slope'' keyword is deprecated, use 'smoothing_trend' instead.\n",
      "  model.fit(smoothing_level=a, smoothing_slope=b, smoothing_seasonal=g)\n",
      "C:\\Users\\Anant\\anaconda3\\lib\\site-packages\\statsmodels\\tsa\\holtwinters\\model.py:83: RuntimeWarning: overflow encountered in matmul\n",
      "  return err.T @ err\n",
      "C:\\Users\\Anant\\anaconda3\\lib\\site-packages\\statsmodels\\tsa\\base\\tsa_model.py:471: ValueWarning: No frequency information was provided, so inferred frequency MS will be used.\n",
      "  self._init_dates(dates, freq)\n",
      "<ipython-input-79-8ea7916db468>:19: FutureWarning: the 'smoothing_slope'' keyword is deprecated, use 'smoothing_trend' instead.\n",
      "  model.fit(smoothing_level=a, smoothing_slope=b, smoothing_seasonal=g)\n",
      "C:\\Users\\Anant\\anaconda3\\lib\\site-packages\\statsmodels\\tsa\\holtwinters\\model.py:83: RuntimeWarning: overflow encountered in matmul\n",
      "  return err.T @ err\n",
      "C:\\Users\\Anant\\anaconda3\\lib\\site-packages\\statsmodels\\tsa\\base\\tsa_model.py:471: ValueWarning: No frequency information was provided, so inferred frequency MS will be used.\n",
      "  self._init_dates(dates, freq)\n",
      "<ipython-input-79-8ea7916db468>:19: FutureWarning: the 'smoothing_slope'' keyword is deprecated, use 'smoothing_trend' instead.\n",
      "  model.fit(smoothing_level=a, smoothing_slope=b, smoothing_seasonal=g)\n",
      "C:\\Users\\Anant\\anaconda3\\lib\\site-packages\\statsmodels\\tsa\\holtwinters\\model.py:83: RuntimeWarning: overflow encountered in matmul\n",
      "  return err.T @ err\n",
      "C:\\Users\\Anant\\anaconda3\\lib\\site-packages\\statsmodels\\tsa\\base\\tsa_model.py:471: ValueWarning: No frequency information was provided, so inferred frequency MS will be used.\n",
      "  self._init_dates(dates, freq)\n",
      "<ipython-input-79-8ea7916db468>:19: FutureWarning: the 'smoothing_slope'' keyword is deprecated, use 'smoothing_trend' instead.\n",
      "  model.fit(smoothing_level=a, smoothing_slope=b, smoothing_seasonal=g)\n",
      "C:\\Users\\Anant\\anaconda3\\lib\\site-packages\\statsmodels\\tsa\\holtwinters\\model.py:83: RuntimeWarning: overflow encountered in matmul\n",
      "  return err.T @ err\n"
     ]
    },
    {
     "name": "stdout",
     "output_type": "stream",
     "text": [
      "Checking for {'alpha': 0.2, 'beta': 0.4, 'gamma': 0.4}\n",
      "Checking for {'alpha': 0.2, 'beta': 0.4, 'gamma': 0.5}\n",
      "Checking for {'alpha': 0.2, 'beta': 0.4, 'gamma': 0.6}\n",
      "Checking for {'alpha': 0.2, 'beta': 0.5, 'gamma': 0.1}\n",
      "Checking for {'alpha': 0.2, 'beta': 0.5, 'gamma': 0.2}\n"
     ]
    },
    {
     "name": "stderr",
     "output_type": "stream",
     "text": [
      "C:\\Users\\Anant\\anaconda3\\lib\\site-packages\\statsmodels\\tsa\\base\\tsa_model.py:471: ValueWarning: No frequency information was provided, so inferred frequency MS will be used.\n",
      "  self._init_dates(dates, freq)\n",
      "<ipython-input-79-8ea7916db468>:19: FutureWarning: the 'smoothing_slope'' keyword is deprecated, use 'smoothing_trend' instead.\n",
      "  model.fit(smoothing_level=a, smoothing_slope=b, smoothing_seasonal=g)\n",
      "C:\\Users\\Anant\\anaconda3\\lib\\site-packages\\statsmodels\\tsa\\holtwinters\\model.py:83: RuntimeWarning: overflow encountered in matmul\n",
      "  return err.T @ err\n",
      "C:\\Users\\Anant\\anaconda3\\lib\\site-packages\\statsmodels\\tsa\\base\\tsa_model.py:471: ValueWarning: No frequency information was provided, so inferred frequency MS will be used.\n",
      "  self._init_dates(dates, freq)\n",
      "<ipython-input-79-8ea7916db468>:19: FutureWarning: the 'smoothing_slope'' keyword is deprecated, use 'smoothing_trend' instead.\n",
      "  model.fit(smoothing_level=a, smoothing_slope=b, smoothing_seasonal=g)\n",
      "C:\\Users\\Anant\\anaconda3\\lib\\site-packages\\statsmodels\\tsa\\holtwinters\\model.py:83: RuntimeWarning: overflow encountered in matmul\n",
      "  return err.T @ err\n",
      "C:\\Users\\Anant\\anaconda3\\lib\\site-packages\\statsmodels\\tsa\\base\\tsa_model.py:471: ValueWarning: No frequency information was provided, so inferred frequency MS will be used.\n",
      "  self._init_dates(dates, freq)\n",
      "<ipython-input-79-8ea7916db468>:19: FutureWarning: the 'smoothing_slope'' keyword is deprecated, use 'smoothing_trend' instead.\n",
      "  model.fit(smoothing_level=a, smoothing_slope=b, smoothing_seasonal=g)\n",
      "C:\\Users\\Anant\\anaconda3\\lib\\site-packages\\statsmodels\\tsa\\holtwinters\\model.py:83: RuntimeWarning: overflow encountered in matmul\n",
      "  return err.T @ err\n",
      "C:\\Users\\Anant\\anaconda3\\lib\\site-packages\\statsmodels\\tsa\\base\\tsa_model.py:471: ValueWarning: No frequency information was provided, so inferred frequency MS will be used.\n",
      "  self._init_dates(dates, freq)\n",
      "<ipython-input-79-8ea7916db468>:19: FutureWarning: the 'smoothing_slope'' keyword is deprecated, use 'smoothing_trend' instead.\n",
      "  model.fit(smoothing_level=a, smoothing_slope=b, smoothing_seasonal=g)\n",
      "C:\\Users\\Anant\\anaconda3\\lib\\site-packages\\statsmodels\\tsa\\holtwinters\\model.py:83: RuntimeWarning: overflow encountered in matmul\n",
      "  return err.T @ err\n",
      "C:\\Users\\Anant\\anaconda3\\lib\\site-packages\\statsmodels\\tsa\\base\\tsa_model.py:471: ValueWarning: No frequency information was provided, so inferred frequency MS will be used.\n",
      "  self._init_dates(dates, freq)\n",
      "<ipython-input-79-8ea7916db468>:19: FutureWarning: the 'smoothing_slope'' keyword is deprecated, use 'smoothing_trend' instead.\n",
      "  model.fit(smoothing_level=a, smoothing_slope=b, smoothing_seasonal=g)\n",
      "C:\\Users\\Anant\\anaconda3\\lib\\site-packages\\statsmodels\\tsa\\holtwinters\\model.py:83: RuntimeWarning: overflow encountered in matmul\n",
      "  return err.T @ err\n",
      "C:\\Users\\Anant\\anaconda3\\lib\\site-packages\\statsmodels\\tsa\\base\\tsa_model.py:471: ValueWarning: No frequency information was provided, so inferred frequency MS will be used.\n",
      "  self._init_dates(dates, freq)\n",
      "<ipython-input-79-8ea7916db468>:19: FutureWarning: the 'smoothing_slope'' keyword is deprecated, use 'smoothing_trend' instead.\n",
      "  model.fit(smoothing_level=a, smoothing_slope=b, smoothing_seasonal=g)\n",
      "C:\\Users\\Anant\\anaconda3\\lib\\site-packages\\statsmodels\\tsa\\holtwinters\\model.py:83: RuntimeWarning: overflow encountered in matmul\n",
      "  return err.T @ err\n",
      "C:\\Users\\Anant\\anaconda3\\lib\\site-packages\\statsmodels\\tsa\\base\\tsa_model.py:471: ValueWarning: No frequency information was provided, so inferred frequency MS will be used.\n",
      "  self._init_dates(dates, freq)\n",
      "<ipython-input-79-8ea7916db468>:19: FutureWarning: the 'smoothing_slope'' keyword is deprecated, use 'smoothing_trend' instead.\n",
      "  model.fit(smoothing_level=a, smoothing_slope=b, smoothing_seasonal=g)\n",
      "C:\\Users\\Anant\\anaconda3\\lib\\site-packages\\statsmodels\\tsa\\holtwinters\\model.py:83: RuntimeWarning: overflow encountered in matmul\n",
      "  return err.T @ err\n",
      "C:\\Users\\Anant\\anaconda3\\lib\\site-packages\\statsmodels\\tsa\\base\\tsa_model.py:471: ValueWarning: No frequency information was provided, so inferred frequency MS will be used.\n",
      "  self._init_dates(dates, freq)\n",
      "<ipython-input-79-8ea7916db468>:19: FutureWarning: the 'smoothing_slope'' keyword is deprecated, use 'smoothing_trend' instead.\n",
      "  model.fit(smoothing_level=a, smoothing_slope=b, smoothing_seasonal=g)\n",
      "C:\\Users\\Anant\\anaconda3\\lib\\site-packages\\statsmodels\\tsa\\holtwinters\\model.py:83: RuntimeWarning: overflow encountered in matmul\n",
      "  return err.T @ err\n",
      "C:\\Users\\Anant\\anaconda3\\lib\\site-packages\\statsmodels\\tsa\\base\\tsa_model.py:471: ValueWarning: No frequency information was provided, so inferred frequency MS will be used.\n",
      "  self._init_dates(dates, freq)\n"
     ]
    },
    {
     "name": "stdout",
     "output_type": "stream",
     "text": [
      "Checking for {'alpha': 0.2, 'beta': 0.5, 'gamma': 0.3}\n",
      "Checking for {'alpha': 0.2, 'beta': 0.5, 'gamma': 0.4}\n",
      "Checking for {'alpha': 0.2, 'beta': 0.5, 'gamma': 0.5}\n",
      "Checking for {'alpha': 0.2, 'beta': 0.5, 'gamma': 0.6}\n"
     ]
    },
    {
     "name": "stderr",
     "output_type": "stream",
     "text": [
      "<ipython-input-79-8ea7916db468>:19: FutureWarning: the 'smoothing_slope'' keyword is deprecated, use 'smoothing_trend' instead.\n",
      "  model.fit(smoothing_level=a, smoothing_slope=b, smoothing_seasonal=g)\n",
      "C:\\Users\\Anant\\anaconda3\\lib\\site-packages\\statsmodels\\tsa\\holtwinters\\model.py:83: RuntimeWarning: overflow encountered in matmul\n",
      "  return err.T @ err\n",
      "C:\\Users\\Anant\\anaconda3\\lib\\site-packages\\statsmodels\\tsa\\base\\tsa_model.py:471: ValueWarning: No frequency information was provided, so inferred frequency MS will be used.\n",
      "  self._init_dates(dates, freq)\n",
      "<ipython-input-79-8ea7916db468>:19: FutureWarning: the 'smoothing_slope'' keyword is deprecated, use 'smoothing_trend' instead.\n",
      "  model.fit(smoothing_level=a, smoothing_slope=b, smoothing_seasonal=g)\n",
      "C:\\Users\\Anant\\anaconda3\\lib\\site-packages\\statsmodels\\tsa\\holtwinters\\model.py:83: RuntimeWarning: overflow encountered in matmul\n",
      "  return err.T @ err\n",
      "C:\\Users\\Anant\\anaconda3\\lib\\site-packages\\statsmodels\\tsa\\base\\tsa_model.py:471: ValueWarning: No frequency information was provided, so inferred frequency MS will be used.\n",
      "  self._init_dates(dates, freq)\n",
      "<ipython-input-79-8ea7916db468>:19: FutureWarning: the 'smoothing_slope'' keyword is deprecated, use 'smoothing_trend' instead.\n",
      "  model.fit(smoothing_level=a, smoothing_slope=b, smoothing_seasonal=g)\n",
      "C:\\Users\\Anant\\anaconda3\\lib\\site-packages\\statsmodels\\tsa\\holtwinters\\model.py:83: RuntimeWarning: overflow encountered in matmul\n",
      "  return err.T @ err\n",
      "C:\\Users\\Anant\\anaconda3\\lib\\site-packages\\statsmodels\\tsa\\base\\tsa_model.py:471: ValueWarning: No frequency information was provided, so inferred frequency MS will be used.\n",
      "  self._init_dates(dates, freq)\n",
      "<ipython-input-79-8ea7916db468>:19: FutureWarning: the 'smoothing_slope'' keyword is deprecated, use 'smoothing_trend' instead.\n",
      "  model.fit(smoothing_level=a, smoothing_slope=b, smoothing_seasonal=g)\n",
      "C:\\Users\\Anant\\anaconda3\\lib\\site-packages\\statsmodels\\tsa\\holtwinters\\model.py:83: RuntimeWarning: overflow encountered in matmul\n",
      "  return err.T @ err\n",
      "C:\\Users\\Anant\\anaconda3\\lib\\site-packages\\statsmodels\\tsa\\base\\tsa_model.py:471: ValueWarning: No frequency information was provided, so inferred frequency MS will be used.\n",
      "  self._init_dates(dates, freq)\n",
      "<ipython-input-79-8ea7916db468>:19: FutureWarning: the 'smoothing_slope'' keyword is deprecated, use 'smoothing_trend' instead.\n",
      "  model.fit(smoothing_level=a, smoothing_slope=b, smoothing_seasonal=g)\n"
     ]
    },
    {
     "name": "stdout",
     "output_type": "stream",
     "text": [
      "Checking for {'alpha': 0.2, 'beta': 0.6, 'gamma': 0.1}\n",
      "Checking for {'alpha': 0.2, 'beta': 0.6, 'gamma': 0.2}\n",
      "Checking for {'alpha': 0.2, 'beta': 0.6, 'gamma': 0.3}\n",
      "Checking for {'alpha': 0.2, 'beta': 0.6, 'gamma': 0.4}\n"
     ]
    },
    {
     "name": "stderr",
     "output_type": "stream",
     "text": [
      "C:\\Users\\Anant\\anaconda3\\lib\\site-packages\\statsmodels\\tsa\\holtwinters\\model.py:83: RuntimeWarning: overflow encountered in matmul\n",
      "  return err.T @ err\n",
      "C:\\Users\\Anant\\anaconda3\\lib\\site-packages\\statsmodels\\tsa\\base\\tsa_model.py:471: ValueWarning: No frequency information was provided, so inferred frequency MS will be used.\n",
      "  self._init_dates(dates, freq)\n",
      "<ipython-input-79-8ea7916db468>:19: FutureWarning: the 'smoothing_slope'' keyword is deprecated, use 'smoothing_trend' instead.\n",
      "  model.fit(smoothing_level=a, smoothing_slope=b, smoothing_seasonal=g)\n",
      "C:\\Users\\Anant\\anaconda3\\lib\\site-packages\\statsmodels\\tsa\\holtwinters\\model.py:83: RuntimeWarning: overflow encountered in matmul\n",
      "  return err.T @ err\n",
      "C:\\Users\\Anant\\anaconda3\\lib\\site-packages\\statsmodels\\tsa\\base\\tsa_model.py:471: ValueWarning: No frequency information was provided, so inferred frequency MS will be used.\n",
      "  self._init_dates(dates, freq)\n",
      "<ipython-input-79-8ea7916db468>:19: FutureWarning: the 'smoothing_slope'' keyword is deprecated, use 'smoothing_trend' instead.\n",
      "  model.fit(smoothing_level=a, smoothing_slope=b, smoothing_seasonal=g)\n",
      "C:\\Users\\Anant\\anaconda3\\lib\\site-packages\\statsmodels\\tsa\\holtwinters\\model.py:83: RuntimeWarning: overflow encountered in matmul\n",
      "  return err.T @ err\n"
     ]
    },
    {
     "name": "stdout",
     "output_type": "stream",
     "text": [
      "Checking for {'alpha': 0.2, 'beta': 0.6, 'gamma': 0.5}\n",
      "Checking for {'alpha': 0.2, 'beta': 0.6, 'gamma': 0.6}\n",
      "Checking for {'alpha': 0.3, 'beta': 0.1, 'gamma': 0.1}\n",
      "Checking for {'alpha': 0.3, 'beta': 0.1, 'gamma': 0.2}\n"
     ]
    },
    {
     "name": "stderr",
     "output_type": "stream",
     "text": [
      "C:\\Users\\Anant\\anaconda3\\lib\\site-packages\\statsmodels\\tsa\\holtwinters\\model.py:915: ConvergenceWarning: Optimization failed to converge. Check mle_retvals.\n",
      "  warnings.warn(\n",
      "C:\\Users\\Anant\\anaconda3\\lib\\site-packages\\statsmodels\\tsa\\base\\tsa_model.py:471: ValueWarning: No frequency information was provided, so inferred frequency MS will be used.\n",
      "  self._init_dates(dates, freq)\n",
      "<ipython-input-79-8ea7916db468>:19: FutureWarning: the 'smoothing_slope'' keyword is deprecated, use 'smoothing_trend' instead.\n",
      "  model.fit(smoothing_level=a, smoothing_slope=b, smoothing_seasonal=g)\n",
      "C:\\Users\\Anant\\anaconda3\\lib\\site-packages\\statsmodels\\tsa\\holtwinters\\model.py:83: RuntimeWarning: overflow encountered in matmul\n",
      "  return err.T @ err\n",
      "C:\\Users\\Anant\\anaconda3\\lib\\site-packages\\statsmodels\\tsa\\base\\tsa_model.py:471: ValueWarning: No frequency information was provided, so inferred frequency MS will be used.\n",
      "  self._init_dates(dates, freq)\n",
      "<ipython-input-79-8ea7916db468>:19: FutureWarning: the 'smoothing_slope'' keyword is deprecated, use 'smoothing_trend' instead.\n",
      "  model.fit(smoothing_level=a, smoothing_slope=b, smoothing_seasonal=g)\n",
      "C:\\Users\\Anant\\anaconda3\\lib\\site-packages\\statsmodels\\tsa\\holtwinters\\model.py:83: RuntimeWarning: overflow encountered in matmul\n",
      "  return err.T @ err\n",
      "C:\\Users\\Anant\\anaconda3\\lib\\site-packages\\statsmodels\\tsa\\base\\tsa_model.py:471: ValueWarning: No frequency information was provided, so inferred frequency MS will be used.\n",
      "  self._init_dates(dates, freq)\n",
      "<ipython-input-79-8ea7916db468>:19: FutureWarning: the 'smoothing_slope'' keyword is deprecated, use 'smoothing_trend' instead.\n",
      "  model.fit(smoothing_level=a, smoothing_slope=b, smoothing_seasonal=g)\n",
      "C:\\Users\\Anant\\anaconda3\\lib\\site-packages\\statsmodels\\tsa\\holtwinters\\model.py:83: RuntimeWarning: overflow encountered in matmul\n",
      "  return err.T @ err\n",
      "C:\\Users\\Anant\\anaconda3\\lib\\site-packages\\statsmodels\\tsa\\base\\tsa_model.py:471: ValueWarning: No frequency information was provided, so inferred frequency MS will be used.\n",
      "  self._init_dates(dates, freq)\n",
      "<ipython-input-79-8ea7916db468>:19: FutureWarning: the 'smoothing_slope'' keyword is deprecated, use 'smoothing_trend' instead.\n",
      "  model.fit(smoothing_level=a, smoothing_slope=b, smoothing_seasonal=g)\n"
     ]
    },
    {
     "name": "stdout",
     "output_type": "stream",
     "text": [
      "Checking for {'alpha': 0.3, 'beta': 0.1, 'gamma': 0.3}\n",
      "Checking for {'alpha': 0.3, 'beta': 0.1, 'gamma': 0.4}\n",
      "Checking for {'alpha': 0.3, 'beta': 0.1, 'gamma': 0.5}\n",
      "Checking for {'alpha': 0.3, 'beta': 0.1, 'gamma': 0.6}\n",
      "Checking for"
     ]
    },
    {
     "name": "stderr",
     "output_type": "stream",
     "text": [
      "C:\\Users\\Anant\\anaconda3\\lib\\site-packages\\statsmodels\\tsa\\holtwinters\\model.py:83: RuntimeWarning: overflow encountered in matmul\n",
      "  return err.T @ err\n",
      "C:\\Users\\Anant\\anaconda3\\lib\\site-packages\\statsmodels\\tsa\\base\\tsa_model.py:471: ValueWarning: No frequency information was provided, so inferred frequency MS will be used.\n",
      "  self._init_dates(dates, freq)\n",
      "<ipython-input-79-8ea7916db468>:19: FutureWarning: the 'smoothing_slope'' keyword is deprecated, use 'smoothing_trend' instead.\n",
      "  model.fit(smoothing_level=a, smoothing_slope=b, smoothing_seasonal=g)\n",
      "C:\\Users\\Anant\\anaconda3\\lib\\site-packages\\statsmodels\\tsa\\holtwinters\\model.py:83: RuntimeWarning: overflow encountered in matmul\n",
      "  return err.T @ err\n",
      "C:\\Users\\Anant\\anaconda3\\lib\\site-packages\\statsmodels\\tsa\\base\\tsa_model.py:471: ValueWarning: No frequency information was provided, so inferred frequency MS will be used.\n",
      "  self._init_dates(dates, freq)\n",
      "<ipython-input-79-8ea7916db468>:19: FutureWarning: the 'smoothing_slope'' keyword is deprecated, use 'smoothing_trend' instead.\n",
      "  model.fit(smoothing_level=a, smoothing_slope=b, smoothing_seasonal=g)\n",
      "C:\\Users\\Anant\\anaconda3\\lib\\site-packages\\statsmodels\\tsa\\holtwinters\\model.py:83: RuntimeWarning: overflow encountered in matmul\n",
      "  return err.T @ err\n",
      "C:\\Users\\Anant\\anaconda3\\lib\\site-packages\\statsmodels\\tsa\\base\\tsa_model.py:471: ValueWarning: No frequency information was provided, so inferred frequency MS will be used.\n",
      "  self._init_dates(dates, freq)\n",
      "<ipython-input-79-8ea7916db468>:19: FutureWarning: the 'smoothing_slope'' keyword is deprecated, use 'smoothing_trend' instead.\n",
      "  model.fit(smoothing_level=a, smoothing_slope=b, smoothing_seasonal=g)\n",
      "C:\\Users\\Anant\\anaconda3\\lib\\site-packages\\statsmodels\\tsa\\holtwinters\\model.py:83: RuntimeWarning: overflow encountered in matmul\n",
      "  return err.T @ err\n"
     ]
    },
    {
     "name": "stdout",
     "output_type": "stream",
     "text": [
      " {'alpha': 0.3, 'beta': 0.2, 'gamma': 0.1}\n",
      "Checking for {'alpha': 0.3, 'beta': 0.2, 'gamma': 0.2}\n",
      "Checking for {'alpha': 0.3, 'beta': 0.2, 'gamma': 0.3}\n",
      "Checking for {'alpha': 0.3, 'beta': 0.2, 'gamma': 0.4}\n"
     ]
    },
    {
     "name": "stderr",
     "output_type": "stream",
     "text": [
      "C:\\Users\\Anant\\anaconda3\\lib\\site-packages\\statsmodels\\tsa\\base\\tsa_model.py:471: ValueWarning: No frequency information was provided, so inferred frequency MS will be used.\n",
      "  self._init_dates(dates, freq)\n",
      "<ipython-input-79-8ea7916db468>:19: FutureWarning: the 'smoothing_slope'' keyword is deprecated, use 'smoothing_trend' instead.\n",
      "  model.fit(smoothing_level=a, smoothing_slope=b, smoothing_seasonal=g)\n",
      "C:\\Users\\Anant\\anaconda3\\lib\\site-packages\\statsmodels\\tsa\\holtwinters\\model.py:83: RuntimeWarning: overflow encountered in matmul\n",
      "  return err.T @ err\n",
      "C:\\Users\\Anant\\anaconda3\\lib\\site-packages\\statsmodels\\tsa\\base\\tsa_model.py:471: ValueWarning: No frequency information was provided, so inferred frequency MS will be used.\n",
      "  self._init_dates(dates, freq)\n",
      "<ipython-input-79-8ea7916db468>:19: FutureWarning: the 'smoothing_slope'' keyword is deprecated, use 'smoothing_trend' instead.\n",
      "  model.fit(smoothing_level=a, smoothing_slope=b, smoothing_seasonal=g)\n",
      "C:\\Users\\Anant\\anaconda3\\lib\\site-packages\\statsmodels\\tsa\\holtwinters\\model.py:83: RuntimeWarning: overflow encountered in matmul\n",
      "  return err.T @ err\n",
      "C:\\Users\\Anant\\anaconda3\\lib\\site-packages\\statsmodels\\tsa\\base\\tsa_model.py:471: ValueWarning: No frequency information was provided, so inferred frequency MS will be used.\n",
      "  self._init_dates(dates, freq)\n",
      "<ipython-input-79-8ea7916db468>:19: FutureWarning: the 'smoothing_slope'' keyword is deprecated, use 'smoothing_trend' instead.\n",
      "  model.fit(smoothing_level=a, smoothing_slope=b, smoothing_seasonal=g)\n",
      "C:\\Users\\Anant\\anaconda3\\lib\\site-packages\\statsmodels\\tsa\\holtwinters\\model.py:83: RuntimeWarning: overflow encountered in matmul\n",
      "  return err.T @ err\n",
      "C:\\Users\\Anant\\anaconda3\\lib\\site-packages\\statsmodels\\tsa\\base\\tsa_model.py:471: ValueWarning: No frequency information was provided, so inferred frequency MS will be used.\n",
      "  self._init_dates(dates, freq)\n",
      "<ipython-input-79-8ea7916db468>:19: FutureWarning: the 'smoothing_slope'' keyword is deprecated, use 'smoothing_trend' instead.\n",
      "  model.fit(smoothing_level=a, smoothing_slope=b, smoothing_seasonal=g)\n",
      "C:\\Users\\Anant\\anaconda3\\lib\\site-packages\\statsmodels\\tsa\\holtwinters\\model.py:83: RuntimeWarning: overflow encountered in matmul\n",
      "  return err.T @ err\n",
      "C:\\Users\\Anant\\anaconda3\\lib\\site-packages\\statsmodels\\tsa\\base\\tsa_model.py:471: ValueWarning: No frequency information was provided, so inferred frequency MS will be used.\n",
      "  self._init_dates(dates, freq)\n",
      "<ipython-input-79-8ea7916db468>:19: FutureWarning: the 'smoothing_slope'' keyword is deprecated, use 'smoothing_trend' instead.\n",
      "  model.fit(smoothing_level=a, smoothing_slope=b, smoothing_seasonal=g)\n",
      "C:\\Users\\Anant\\anaconda3\\lib\\site-packages\\statsmodels\\tsa\\holtwinters\\model.py:83: RuntimeWarning: overflow encountered in matmul\n",
      "  return err.T @ err\n"
     ]
    },
    {
     "name": "stdout",
     "output_type": "stream",
     "text": [
      "Checking for {'alpha': 0.3, 'beta': 0.2, 'gamma': 0.5}\n",
      "Checking for {'alpha': 0.3, 'beta': 0.2, 'gamma': 0.6}\n",
      "Checking for {'alpha': 0.3, 'beta': 0.3, 'gamma': 0.1}\n",
      "Checking for {'alpha': 0.3, 'beta': 0.3, 'gamma': 0.2}\n"
     ]
    },
    {
     "name": "stderr",
     "output_type": "stream",
     "text": [
      "C:\\Users\\Anant\\anaconda3\\lib\\site-packages\\statsmodels\\tsa\\base\\tsa_model.py:471: ValueWarning: No frequency information was provided, so inferred frequency MS will be used.\n",
      "  self._init_dates(dates, freq)\n",
      "<ipython-input-79-8ea7916db468>:19: FutureWarning: the 'smoothing_slope'' keyword is deprecated, use 'smoothing_trend' instead.\n",
      "  model.fit(smoothing_level=a, smoothing_slope=b, smoothing_seasonal=g)\n",
      "C:\\Users\\Anant\\anaconda3\\lib\\site-packages\\statsmodels\\tsa\\holtwinters\\model.py:83: RuntimeWarning: overflow encountered in matmul\n",
      "  return err.T @ err\n",
      "C:\\Users\\Anant\\anaconda3\\lib\\site-packages\\statsmodels\\tsa\\base\\tsa_model.py:471: ValueWarning: No frequency information was provided, so inferred frequency MS will be used.\n",
      "  self._init_dates(dates, freq)\n",
      "<ipython-input-79-8ea7916db468>:19: FutureWarning: the 'smoothing_slope'' keyword is deprecated, use 'smoothing_trend' instead.\n",
      "  model.fit(smoothing_level=a, smoothing_slope=b, smoothing_seasonal=g)\n",
      "C:\\Users\\Anant\\anaconda3\\lib\\site-packages\\statsmodels\\tsa\\holtwinters\\model.py:83: RuntimeWarning: overflow encountered in matmul\n",
      "  return err.T @ err\n",
      "C:\\Users\\Anant\\anaconda3\\lib\\site-packages\\statsmodels\\tsa\\base\\tsa_model.py:471: ValueWarning: No frequency information was provided, so inferred frequency MS will be used.\n",
      "  self._init_dates(dates, freq)\n",
      "<ipython-input-79-8ea7916db468>:19: FutureWarning: the 'smoothing_slope'' keyword is deprecated, use 'smoothing_trend' instead.\n",
      "  model.fit(smoothing_level=a, smoothing_slope=b, smoothing_seasonal=g)\n",
      "C:\\Users\\Anant\\anaconda3\\lib\\site-packages\\statsmodels\\tsa\\holtwinters\\model.py:83: RuntimeWarning: overflow encountered in matmul\n",
      "  return err.T @ err\n"
     ]
    },
    {
     "name": "stdout",
     "output_type": "stream",
     "text": [
      "Checking for {'alpha': 0.3, 'beta': 0.3, 'gamma': 0.3}\n",
      "Checking for {'alpha': 0.3, 'beta': 0.3, 'gamma': 0.4}\n",
      "Checking for {'alpha': 0.3, 'beta': 0.3, 'gamma': 0.5}\n",
      "Checking for {'alpha': 0.3, 'beta': 0.3, 'gamma': 0.6}\n",
      "Checking for {'alpha': 0.3, 'beta': 0.4, 'gamma': 0.1}\n"
     ]
    },
    {
     "name": "stderr",
     "output_type": "stream",
     "text": [
      "C:\\Users\\Anant\\anaconda3\\lib\\site-packages\\statsmodels\\tsa\\base\\tsa_model.py:471: ValueWarning: No frequency information was provided, so inferred frequency MS will be used.\n",
      "  self._init_dates(dates, freq)\n",
      "<ipython-input-79-8ea7916db468>:19: FutureWarning: the 'smoothing_slope'' keyword is deprecated, use 'smoothing_trend' instead.\n",
      "  model.fit(smoothing_level=a, smoothing_slope=b, smoothing_seasonal=g)\n",
      "C:\\Users\\Anant\\anaconda3\\lib\\site-packages\\statsmodels\\tsa\\holtwinters\\model.py:83: RuntimeWarning: overflow encountered in matmul\n",
      "  return err.T @ err\n",
      "C:\\Users\\Anant\\anaconda3\\lib\\site-packages\\statsmodels\\tsa\\base\\tsa_model.py:471: ValueWarning: No frequency information was provided, so inferred frequency MS will be used.\n",
      "  self._init_dates(dates, freq)\n",
      "<ipython-input-79-8ea7916db468>:19: FutureWarning: the 'smoothing_slope'' keyword is deprecated, use 'smoothing_trend' instead.\n",
      "  model.fit(smoothing_level=a, smoothing_slope=b, smoothing_seasonal=g)\n",
      "C:\\Users\\Anant\\anaconda3\\lib\\site-packages\\statsmodels\\tsa\\holtwinters\\model.py:83: RuntimeWarning: overflow encountered in matmul\n",
      "  return err.T @ err\n",
      "C:\\Users\\Anant\\anaconda3\\lib\\site-packages\\statsmodels\\tsa\\base\\tsa_model.py:471: ValueWarning: No frequency information was provided, so inferred frequency MS will be used.\n",
      "  self._init_dates(dates, freq)\n",
      "<ipython-input-79-8ea7916db468>:19: FutureWarning: the 'smoothing_slope'' keyword is deprecated, use 'smoothing_trend' instead.\n",
      "  model.fit(smoothing_level=a, smoothing_slope=b, smoothing_seasonal=g)\n",
      "C:\\Users\\Anant\\anaconda3\\lib\\site-packages\\statsmodels\\tsa\\holtwinters\\model.py:83: RuntimeWarning: overflow encountered in matmul\n",
      "  return err.T @ err\n",
      "C:\\Users\\Anant\\anaconda3\\lib\\site-packages\\statsmodels\\tsa\\base\\tsa_model.py:471: ValueWarning: No frequency information was provided, so inferred frequency MS will be used.\n",
      "  self._init_dates(dates, freq)\n",
      "<ipython-input-79-8ea7916db468>:19: FutureWarning: the 'smoothing_slope'' keyword is deprecated, use 'smoothing_trend' instead.\n",
      "  model.fit(smoothing_level=a, smoothing_slope=b, smoothing_seasonal=g)\n",
      "C:\\Users\\Anant\\anaconda3\\lib\\site-packages\\statsmodels\\tsa\\holtwinters\\model.py:83: RuntimeWarning: overflow encountered in matmul\n",
      "  return err.T @ err\n",
      "C:\\Users\\Anant\\anaconda3\\lib\\site-packages\\statsmodels\\tsa\\base\\tsa_model.py:471: ValueWarning: No frequency information was provided, so inferred frequency MS will be used.\n",
      "  self._init_dates(dates, freq)\n",
      "<ipython-input-79-8ea7916db468>:19: FutureWarning: the 'smoothing_slope'' keyword is deprecated, use 'smoothing_trend' instead.\n",
      "  model.fit(smoothing_level=a, smoothing_slope=b, smoothing_seasonal=g)\n"
     ]
    },
    {
     "name": "stdout",
     "output_type": "stream",
     "text": [
      "Checking for {'alpha': 0.3, 'beta': 0.4, 'gamma': 0.2}\n",
      "Checking for {'alpha': 0.3, 'beta': 0.4, 'gamma': 0.3}\n",
      "Checking for {'alpha': 0.3, 'beta': 0.4, 'gamma': 0.4}\n",
      "Checking for {'alpha': 0.3, 'beta': 0.4, 'gamma': 0.5}\n"
     ]
    },
    {
     "name": "stderr",
     "output_type": "stream",
     "text": [
      "C:\\Users\\Anant\\anaconda3\\lib\\site-packages\\statsmodels\\tsa\\holtwinters\\model.py:83: RuntimeWarning: overflow encountered in matmul\n",
      "  return err.T @ err\n",
      "C:\\Users\\Anant\\anaconda3\\lib\\site-packages\\statsmodels\\tsa\\base\\tsa_model.py:471: ValueWarning: No frequency information was provided, so inferred frequency MS will be used.\n",
      "  self._init_dates(dates, freq)\n",
      "<ipython-input-79-8ea7916db468>:19: FutureWarning: the 'smoothing_slope'' keyword is deprecated, use 'smoothing_trend' instead.\n",
      "  model.fit(smoothing_level=a, smoothing_slope=b, smoothing_seasonal=g)\n",
      "C:\\Users\\Anant\\anaconda3\\lib\\site-packages\\statsmodels\\tsa\\holtwinters\\model.py:83: RuntimeWarning: overflow encountered in matmul\n",
      "  return err.T @ err\n",
      "C:\\Users\\Anant\\anaconda3\\lib\\site-packages\\statsmodels\\tsa\\base\\tsa_model.py:471: ValueWarning: No frequency information was provided, so inferred frequency MS will be used.\n",
      "  self._init_dates(dates, freq)\n",
      "<ipython-input-79-8ea7916db468>:19: FutureWarning: the 'smoothing_slope'' keyword is deprecated, use 'smoothing_trend' instead.\n",
      "  model.fit(smoothing_level=a, smoothing_slope=b, smoothing_seasonal=g)\n",
      "C:\\Users\\Anant\\anaconda3\\lib\\site-packages\\statsmodels\\tsa\\holtwinters\\model.py:83: RuntimeWarning: overflow encountered in matmul\n",
      "  return err.T @ err\n",
      "C:\\Users\\Anant\\anaconda3\\lib\\site-packages\\statsmodels\\tsa\\base\\tsa_model.py:471: ValueWarning: No frequency information was provided, so inferred frequency MS will be used.\n",
      "  self._init_dates(dates, freq)\n",
      "<ipython-input-79-8ea7916db468>:19: FutureWarning: the 'smoothing_slope'' keyword is deprecated, use 'smoothing_trend' instead.\n",
      "  model.fit(smoothing_level=a, smoothing_slope=b, smoothing_seasonal=g)\n",
      "C:\\Users\\Anant\\anaconda3\\lib\\site-packages\\statsmodels\\tsa\\holtwinters\\model.py:83: RuntimeWarning: overflow encountered in matmul\n",
      "  return err.T @ err\n"
     ]
    },
    {
     "name": "stdout",
     "output_type": "stream",
     "text": [
      "Checking for {'alpha': 0.3, 'beta': 0.4, 'gamma': 0.6}\n",
      "Checking for {'alpha': 0.3, 'beta': 0.5, 'gamma': 0.1}\n",
      "Checking for {'alpha': 0.3, 'beta': 0.5, 'gamma': 0.2}\n"
     ]
    },
    {
     "name": "stderr",
     "output_type": "stream",
     "text": [
      "C:\\Users\\Anant\\anaconda3\\lib\\site-packages\\statsmodels\\tsa\\base\\tsa_model.py:471: ValueWarning: No frequency information was provided, so inferred frequency MS will be used.\n",
      "  self._init_dates(dates, freq)\n",
      "<ipython-input-79-8ea7916db468>:19: FutureWarning: the 'smoothing_slope'' keyword is deprecated, use 'smoothing_trend' instead.\n",
      "  model.fit(smoothing_level=a, smoothing_slope=b, smoothing_seasonal=g)\n",
      "C:\\Users\\Anant\\anaconda3\\lib\\site-packages\\statsmodels\\tsa\\holtwinters\\model.py:83: RuntimeWarning: overflow encountered in matmul\n",
      "  return err.T @ err\n",
      "C:\\Users\\Anant\\anaconda3\\lib\\site-packages\\statsmodels\\tsa\\holtwinters\\model.py:915: ConvergenceWarning: Optimization failed to converge. Check mle_retvals.\n",
      "  warnings.warn(\n",
      "C:\\Users\\Anant\\anaconda3\\lib\\site-packages\\statsmodels\\tsa\\base\\tsa_model.py:471: ValueWarning: No frequency information was provided, so inferred frequency MS will be used.\n",
      "  self._init_dates(dates, freq)\n",
      "<ipython-input-79-8ea7916db468>:19: FutureWarning: the 'smoothing_slope'' keyword is deprecated, use 'smoothing_trend' instead.\n",
      "  model.fit(smoothing_level=a, smoothing_slope=b, smoothing_seasonal=g)\n",
      "C:\\Users\\Anant\\anaconda3\\lib\\site-packages\\statsmodels\\tsa\\holtwinters\\model.py:83: RuntimeWarning: overflow encountered in matmul\n",
      "  return err.T @ err\n",
      "C:\\Users\\Anant\\anaconda3\\lib\\site-packages\\statsmodels\\tsa\\base\\tsa_model.py:471: ValueWarning: No frequency information was provided, so inferred frequency MS will be used.\n",
      "  self._init_dates(dates, freq)\n",
      "<ipython-input-79-8ea7916db468>:19: FutureWarning: the 'smoothing_slope'' keyword is deprecated, use 'smoothing_trend' instead.\n",
      "  model.fit(smoothing_level=a, smoothing_slope=b, smoothing_seasonal=g)\n",
      "C:\\Users\\Anant\\anaconda3\\lib\\site-packages\\statsmodels\\tsa\\holtwinters\\model.py:83: RuntimeWarning: overflow encountered in matmul\n",
      "  return err.T @ err\n"
     ]
    },
    {
     "name": "stdout",
     "output_type": "stream",
     "text": [
      "Checking for {'alpha': 0.3, 'beta': 0.5, 'gamma': 0.3}\n",
      "Checking for {'alpha': 0.3, 'beta': 0.5, 'gamma': 0.4}\n",
      "Checking for {'alpha': 0.3, 'beta': 0.5, 'gamma': 0.5}\n",
      "Checking for {'alpha': 0.3, 'beta': 0.5, 'gamma': 0.6}\n",
      "Checking for {'alpha': 0.3, 'beta': 0.6, 'gamma': 0.1}\n",
      "Checking for {'alpha': 0.3, 'beta': 0.6, 'gamma': 0.2}\n"
     ]
    },
    {
     "name": "stderr",
     "output_type": "stream",
     "text": [
      "C:\\Users\\Anant\\anaconda3\\lib\\site-packages\\statsmodels\\tsa\\base\\tsa_model.py:471: ValueWarning: No frequency information was provided, so inferred frequency MS will be used.\n",
      "  self._init_dates(dates, freq)\n",
      "<ipython-input-79-8ea7916db468>:19: FutureWarning: the 'smoothing_slope'' keyword is deprecated, use 'smoothing_trend' instead.\n",
      "  model.fit(smoothing_level=a, smoothing_slope=b, smoothing_seasonal=g)\n",
      "C:\\Users\\Anant\\anaconda3\\lib\\site-packages\\statsmodels\\tsa\\holtwinters\\model.py:83: RuntimeWarning: overflow encountered in matmul\n",
      "  return err.T @ err\n",
      "C:\\Users\\Anant\\anaconda3\\lib\\site-packages\\statsmodels\\tsa\\base\\tsa_model.py:471: ValueWarning: No frequency information was provided, so inferred frequency MS will be used.\n",
      "  self._init_dates(dates, freq)\n",
      "<ipython-input-79-8ea7916db468>:19: FutureWarning: the 'smoothing_slope'' keyword is deprecated, use 'smoothing_trend' instead.\n",
      "  model.fit(smoothing_level=a, smoothing_slope=b, smoothing_seasonal=g)\n",
      "C:\\Users\\Anant\\anaconda3\\lib\\site-packages\\statsmodels\\tsa\\holtwinters\\model.py:83: RuntimeWarning: overflow encountered in matmul\n",
      "  return err.T @ err\n",
      "C:\\Users\\Anant\\anaconda3\\lib\\site-packages\\statsmodels\\tsa\\base\\tsa_model.py:471: ValueWarning: No frequency information was provided, so inferred frequency MS will be used.\n",
      "  self._init_dates(dates, freq)\n",
      "<ipython-input-79-8ea7916db468>:19: FutureWarning: the 'smoothing_slope'' keyword is deprecated, use 'smoothing_trend' instead.\n",
      "  model.fit(smoothing_level=a, smoothing_slope=b, smoothing_seasonal=g)\n",
      "C:\\Users\\Anant\\anaconda3\\lib\\site-packages\\statsmodels\\tsa\\holtwinters\\model.py:83: RuntimeWarning: overflow encountered in matmul\n",
      "  return err.T @ err\n",
      "C:\\Users\\Anant\\anaconda3\\lib\\site-packages\\statsmodels\\tsa\\holtwinters\\model.py:915: ConvergenceWarning: Optimization failed to converge. Check mle_retvals.\n",
      "  warnings.warn(\n",
      "C:\\Users\\Anant\\anaconda3\\lib\\site-packages\\statsmodels\\tsa\\base\\tsa_model.py:471: ValueWarning: No frequency information was provided, so inferred frequency MS will be used.\n",
      "  self._init_dates(dates, freq)\n",
      "<ipython-input-79-8ea7916db468>:19: FutureWarning: the 'smoothing_slope'' keyword is deprecated, use 'smoothing_trend' instead.\n",
      "  model.fit(smoothing_level=a, smoothing_slope=b, smoothing_seasonal=g)\n",
      "C:\\Users\\Anant\\anaconda3\\lib\\site-packages\\statsmodels\\tsa\\holtwinters\\model.py:915: ConvergenceWarning: Optimization failed to converge. Check mle_retvals.\n",
      "  warnings.warn(\n",
      "C:\\Users\\Anant\\anaconda3\\lib\\site-packages\\statsmodels\\tsa\\base\\tsa_model.py:471: ValueWarning: No frequency information was provided, so inferred frequency MS will be used.\n",
      "  self._init_dates(dates, freq)\n",
      "<ipython-input-79-8ea7916db468>:19: FutureWarning: the 'smoothing_slope'' keyword is deprecated, use 'smoothing_trend' instead.\n",
      "  model.fit(smoothing_level=a, smoothing_slope=b, smoothing_seasonal=g)\n",
      "C:\\Users\\Anant\\anaconda3\\lib\\site-packages\\statsmodels\\tsa\\holtwinters\\model.py:83: RuntimeWarning: overflow encountered in matmul\n",
      "  return err.T @ err\n",
      "C:\\Users\\Anant\\anaconda3\\lib\\site-packages\\statsmodels\\tsa\\base\\tsa_model.py:471: ValueWarning: No frequency information was provided, so inferred frequency MS will be used.\n",
      "  self._init_dates(dates, freq)\n",
      "<ipython-input-79-8ea7916db468>:19: FutureWarning: the 'smoothing_slope'' keyword is deprecated, use 'smoothing_trend' instead.\n",
      "  model.fit(smoothing_level=a, smoothing_slope=b, smoothing_seasonal=g)\n",
      "C:\\Users\\Anant\\anaconda3\\lib\\site-packages\\statsmodels\\tsa\\holtwinters\\model.py:83: RuntimeWarning: overflow encountered in matmul\n",
      "  return err.T @ err\n",
      "C:\\Users\\Anant\\anaconda3\\lib\\site-packages\\statsmodels\\tsa\\base\\tsa_model.py:471: ValueWarning: No frequency information was provided, so inferred frequency MS will be used.\n",
      "  self._init_dates(dates, freq)\n",
      "<ipython-input-79-8ea7916db468>:19: FutureWarning: the 'smoothing_slope'' keyword is deprecated, use 'smoothing_trend' instead.\n",
      "  model.fit(smoothing_level=a, smoothing_slope=b, smoothing_seasonal=g)\n",
      "C:\\Users\\Anant\\anaconda3\\lib\\site-packages\\statsmodels\\tsa\\holtwinters\\model.py:83: RuntimeWarning: overflow encountered in matmul\n",
      "  return err.T @ err\n",
      "C:\\Users\\Anant\\anaconda3\\lib\\site-packages\\statsmodels\\tsa\\holtwinters\\model.py:915: ConvergenceWarning: Optimization failed to converge. Check mle_retvals.\n",
      "  warnings.warn(\n",
      "C:\\Users\\Anant\\anaconda3\\lib\\site-packages\\statsmodels\\tsa\\base\\tsa_model.py:471: ValueWarning: No frequency information was provided, so inferred frequency MS will be used.\n",
      "  self._init_dates(dates, freq)\n",
      "<ipython-input-79-8ea7916db468>:19: FutureWarning: the 'smoothing_slope'' keyword is deprecated, use 'smoothing_trend' instead.\n",
      "  model.fit(smoothing_level=a, smoothing_slope=b, smoothing_seasonal=g)\n",
      "C:\\Users\\Anant\\anaconda3\\lib\\site-packages\\statsmodels\\tsa\\holtwinters\\model.py:915: ConvergenceWarning: Optimization failed to converge. Check mle_retvals.\n",
      "  warnings.warn(\n"
     ]
    },
    {
     "name": "stdout",
     "output_type": "stream",
     "text": [
      "Checking for {'alpha': 0.3, 'beta': 0.6, 'gamma': 0.3}\n",
      "Checking for {'alpha': 0.3, 'beta': 0.6, 'gamma': 0.4}\n",
      "Checking for {'alpha': 0.3, 'beta': 0.6, 'gamma': 0.5}\n",
      "Checking for {'alpha': 0.3, 'beta': 0.6, 'gamma': 0.6}\n"
     ]
    },
    {
     "name": "stderr",
     "output_type": "stream",
     "text": [
      "C:\\Users\\Anant\\anaconda3\\lib\\site-packages\\statsmodels\\tsa\\base\\tsa_model.py:471: ValueWarning: No frequency information was provided, so inferred frequency MS will be used.\n",
      "  self._init_dates(dates, freq)\n",
      "<ipython-input-79-8ea7916db468>:19: FutureWarning: the 'smoothing_slope'' keyword is deprecated, use 'smoothing_trend' instead.\n",
      "  model.fit(smoothing_level=a, smoothing_slope=b, smoothing_seasonal=g)\n",
      "C:\\Users\\Anant\\anaconda3\\lib\\site-packages\\statsmodels\\tsa\\holtwinters\\model.py:915: ConvergenceWarning: Optimization failed to converge. Check mle_retvals.\n",
      "  warnings.warn(\n",
      "C:\\Users\\Anant\\anaconda3\\lib\\site-packages\\statsmodels\\tsa\\base\\tsa_model.py:471: ValueWarning: No frequency information was provided, so inferred frequency MS will be used.\n",
      "  self._init_dates(dates, freq)\n",
      "<ipython-input-79-8ea7916db468>:19: FutureWarning: the 'smoothing_slope'' keyword is deprecated, use 'smoothing_trend' instead.\n",
      "  model.fit(smoothing_level=a, smoothing_slope=b, smoothing_seasonal=g)\n",
      "C:\\Users\\Anant\\anaconda3\\lib\\site-packages\\statsmodels\\tsa\\holtwinters\\model.py:915: ConvergenceWarning: Optimization failed to converge. Check mle_retvals.\n",
      "  warnings.warn(\n",
      "C:\\Users\\Anant\\anaconda3\\lib\\site-packages\\statsmodels\\tsa\\base\\tsa_model.py:471: ValueWarning: No frequency information was provided, so inferred frequency MS will be used.\n",
      "  self._init_dates(dates, freq)\n",
      "<ipython-input-79-8ea7916db468>:19: FutureWarning: the 'smoothing_slope'' keyword is deprecated, use 'smoothing_trend' instead.\n",
      "  model.fit(smoothing_level=a, smoothing_slope=b, smoothing_seasonal=g)\n",
      "C:\\Users\\Anant\\anaconda3\\lib\\site-packages\\statsmodels\\tsa\\holtwinters\\model.py:83: RuntimeWarning: overflow encountered in matmul\n",
      "  return err.T @ err\n",
      "C:\\Users\\Anant\\anaconda3\\lib\\site-packages\\statsmodels\\tsa\\base\\tsa_model.py:471: ValueWarning: No frequency information was provided, so inferred frequency MS will be used.\n",
      "  self._init_dates(dates, freq)\n",
      "<ipython-input-79-8ea7916db468>:19: FutureWarning: the 'smoothing_slope'' keyword is deprecated, use 'smoothing_trend' instead.\n",
      "  model.fit(smoothing_level=a, smoothing_slope=b, smoothing_seasonal=g)\n",
      "C:\\Users\\Anant\\anaconda3\\lib\\site-packages\\statsmodels\\tsa\\holtwinters\\model.py:83: RuntimeWarning: overflow encountered in matmul\n",
      "  return err.T @ err\n",
      "C:\\Users\\Anant\\anaconda3\\lib\\site-packages\\statsmodels\\tsa\\base\\tsa_model.py:471: ValueWarning: No frequency information was provided, so inferred frequency MS will be used.\n",
      "  self._init_dates(dates, freq)\n",
      "<ipython-input-79-8ea7916db468>:19: FutureWarning: the 'smoothing_slope'' keyword is deprecated, use 'smoothing_trend' instead.\n",
      "  model.fit(smoothing_level=a, smoothing_slope=b, smoothing_seasonal=g)\n",
      "C:\\Users\\Anant\\anaconda3\\lib\\site-packages\\statsmodels\\tsa\\holtwinters\\model.py:83: RuntimeWarning: overflow encountered in matmul\n",
      "  return err.T @ err\n"
     ]
    },
    {
     "name": "stdout",
     "output_type": "stream",
     "text": [
      "Checking for {'alpha': 0.4, 'beta': 0.1, 'gamma': 0.1}\n",
      "Checking for {'alpha': 0.4, 'beta': 0.1, 'gamma': 0.2}\n",
      "Checking for {'alpha': 0.4, 'beta': 0.1, 'gamma': 0.3}\n",
      "Checking for {'alpha': 0.4, 'beta': 0.1, 'gamma': 0.4}\n"
     ]
    },
    {
     "name": "stderr",
     "output_type": "stream",
     "text": [
      "C:\\Users\\Anant\\anaconda3\\lib\\site-packages\\statsmodels\\tsa\\base\\tsa_model.py:471: ValueWarning: No frequency information was provided, so inferred frequency MS will be used.\n",
      "  self._init_dates(dates, freq)\n",
      "<ipython-input-79-8ea7916db468>:19: FutureWarning: the 'smoothing_slope'' keyword is deprecated, use 'smoothing_trend' instead.\n",
      "  model.fit(smoothing_level=a, smoothing_slope=b, smoothing_seasonal=g)\n",
      "C:\\Users\\Anant\\anaconda3\\lib\\site-packages\\statsmodels\\tsa\\holtwinters\\model.py:83: RuntimeWarning: overflow encountered in matmul\n",
      "  return err.T @ err\n",
      "C:\\Users\\Anant\\anaconda3\\lib\\site-packages\\statsmodels\\tsa\\base\\tsa_model.py:471: ValueWarning: No frequency information was provided, so inferred frequency MS will be used.\n",
      "  self._init_dates(dates, freq)\n",
      "<ipython-input-79-8ea7916db468>:19: FutureWarning: the 'smoothing_slope'' keyword is deprecated, use 'smoothing_trend' instead.\n",
      "  model.fit(smoothing_level=a, smoothing_slope=b, smoothing_seasonal=g)\n",
      "C:\\Users\\Anant\\anaconda3\\lib\\site-packages\\statsmodels\\tsa\\holtwinters\\model.py:83: RuntimeWarning: overflow encountered in matmul\n",
      "  return err.T @ err\n",
      "C:\\Users\\Anant\\anaconda3\\lib\\site-packages\\statsmodels\\tsa\\base\\tsa_model.py:471: ValueWarning: No frequency information was provided, so inferred frequency MS will be used.\n",
      "  self._init_dates(dates, freq)\n",
      "<ipython-input-79-8ea7916db468>:19: FutureWarning: the 'smoothing_slope'' keyword is deprecated, use 'smoothing_trend' instead.\n",
      "  model.fit(smoothing_level=a, smoothing_slope=b, smoothing_seasonal=g)\n",
      "C:\\Users\\Anant\\anaconda3\\lib\\site-packages\\statsmodels\\tsa\\holtwinters\\model.py:83: RuntimeWarning: overflow encountered in matmul\n",
      "  return err.T @ err\n",
      "C:\\Users\\Anant\\anaconda3\\lib\\site-packages\\statsmodels\\tsa\\base\\tsa_model.py:471: ValueWarning: No frequency information was provided, so inferred frequency MS will be used.\n",
      "  self._init_dates(dates, freq)\n",
      "<ipython-input-79-8ea7916db468>:19: FutureWarning: the 'smoothing_slope'' keyword is deprecated, use 'smoothing_trend' instead.\n",
      "  model.fit(smoothing_level=a, smoothing_slope=b, smoothing_seasonal=g)\n",
      "C:\\Users\\Anant\\anaconda3\\lib\\site-packages\\statsmodels\\tsa\\holtwinters\\model.py:83: RuntimeWarning: overflow encountered in matmul\n",
      "  return err.T @ err\n"
     ]
    },
    {
     "name": "stdout",
     "output_type": "stream",
     "text": [
      "Checking for {'alpha': 0.4, 'beta': 0.1, 'gamma': 0.5}\n",
      "Checking for {'alpha': 0.4, 'beta': 0.1, 'gamma': 0.6}\n",
      "Checking for {'alpha': 0.4, 'beta': 0.2, 'gamma': 0.1}\n",
      "Checking for {'alpha': 0.4, 'beta': 0.2, 'gamma': 0.2}\n"
     ]
    },
    {
     "name": "stderr",
     "output_type": "stream",
     "text": [
      "C:\\Users\\Anant\\anaconda3\\lib\\site-packages\\statsmodels\\tsa\\base\\tsa_model.py:471: ValueWarning: No frequency information was provided, so inferred frequency MS will be used.\n",
      "  self._init_dates(dates, freq)\n",
      "<ipython-input-79-8ea7916db468>:19: FutureWarning: the 'smoothing_slope'' keyword is deprecated, use 'smoothing_trend' instead.\n",
      "  model.fit(smoothing_level=a, smoothing_slope=b, smoothing_seasonal=g)\n",
      "C:\\Users\\Anant\\anaconda3\\lib\\site-packages\\statsmodels\\tsa\\holtwinters\\model.py:83: RuntimeWarning: overflow encountered in matmul\n",
      "  return err.T @ err\n",
      "C:\\Users\\Anant\\anaconda3\\lib\\site-packages\\statsmodels\\tsa\\base\\tsa_model.py:471: ValueWarning: No frequency information was provided, so inferred frequency MS will be used.\n",
      "  self._init_dates(dates, freq)\n",
      "<ipython-input-79-8ea7916db468>:19: FutureWarning: the 'smoothing_slope'' keyword is deprecated, use 'smoothing_trend' instead.\n",
      "  model.fit(smoothing_level=a, smoothing_slope=b, smoothing_seasonal=g)\n",
      "C:\\Users\\Anant\\anaconda3\\lib\\site-packages\\statsmodels\\tsa\\holtwinters\\model.py:83: RuntimeWarning: overflow encountered in matmul\n",
      "  return err.T @ err\n",
      "C:\\Users\\Anant\\anaconda3\\lib\\site-packages\\statsmodels\\tsa\\base\\tsa_model.py:471: ValueWarning: No frequency information was provided, so inferred frequency MS will be used.\n",
      "  self._init_dates(dates, freq)\n",
      "<ipython-input-79-8ea7916db468>:19: FutureWarning: the 'smoothing_slope'' keyword is deprecated, use 'smoothing_trend' instead.\n",
      "  model.fit(smoothing_level=a, smoothing_slope=b, smoothing_seasonal=g)\n",
      "C:\\Users\\Anant\\anaconda3\\lib\\site-packages\\statsmodels\\tsa\\holtwinters\\model.py:83: RuntimeWarning: overflow encountered in matmul\n",
      "  return err.T @ err\n",
      "C:\\Users\\Anant\\anaconda3\\lib\\site-packages\\statsmodels\\tsa\\base\\tsa_model.py:471: ValueWarning: No frequency information was provided, so inferred frequency MS will be used.\n",
      "  self._init_dates(dates, freq)\n",
      "<ipython-input-79-8ea7916db468>:19: FutureWarning: the 'smoothing_slope'' keyword is deprecated, use 'smoothing_trend' instead.\n",
      "  model.fit(smoothing_level=a, smoothing_slope=b, smoothing_seasonal=g)\n",
      "C:\\Users\\Anant\\anaconda3\\lib\\site-packages\\statsmodels\\tsa\\holtwinters\\model.py:83: RuntimeWarning: overflow encountered in matmul\n",
      "  return err.T @ err\n"
     ]
    },
    {
     "name": "stdout",
     "output_type": "stream",
     "text": [
      "Checking for {'alpha': 0.4, 'beta': 0.2, 'gamma': 0.3}\n",
      "Checking for {'alpha': 0.4, 'beta': 0.2, 'gamma': 0.4}\n",
      "Checking for {'alpha': 0.4, 'beta': 0.2, 'gamma': 0.5}\n",
      "Checking for {'alpha': 0.4, 'beta': 0.2, 'gamma': 0.6}\n"
     ]
    },
    {
     "name": "stderr",
     "output_type": "stream",
     "text": [
      "C:\\Users\\Anant\\anaconda3\\lib\\site-packages\\statsmodels\\tsa\\base\\tsa_model.py:471: ValueWarning: No frequency information was provided, so inferred frequency MS will be used.\n",
      "  self._init_dates(dates, freq)\n",
      "<ipython-input-79-8ea7916db468>:19: FutureWarning: the 'smoothing_slope'' keyword is deprecated, use 'smoothing_trend' instead.\n",
      "  model.fit(smoothing_level=a, smoothing_slope=b, smoothing_seasonal=g)\n",
      "C:\\Users\\Anant\\anaconda3\\lib\\site-packages\\statsmodels\\tsa\\holtwinters\\model.py:83: RuntimeWarning: overflow encountered in matmul\n",
      "  return err.T @ err\n",
      "C:\\Users\\Anant\\anaconda3\\lib\\site-packages\\statsmodels\\tsa\\base\\tsa_model.py:471: ValueWarning: No frequency information was provided, so inferred frequency MS will be used.\n",
      "  self._init_dates(dates, freq)\n",
      "<ipython-input-79-8ea7916db468>:19: FutureWarning: the 'smoothing_slope'' keyword is deprecated, use 'smoothing_trend' instead.\n",
      "  model.fit(smoothing_level=a, smoothing_slope=b, smoothing_seasonal=g)\n",
      "C:\\Users\\Anant\\anaconda3\\lib\\site-packages\\statsmodels\\tsa\\holtwinters\\model.py:83: RuntimeWarning: overflow encountered in matmul\n",
      "  return err.T @ err\n",
      "C:\\Users\\Anant\\anaconda3\\lib\\site-packages\\statsmodels\\tsa\\base\\tsa_model.py:471: ValueWarning: No frequency information was provided, so inferred frequency MS will be used.\n",
      "  self._init_dates(dates, freq)\n",
      "<ipython-input-79-8ea7916db468>:19: FutureWarning: the 'smoothing_slope'' keyword is deprecated, use 'smoothing_trend' instead.\n",
      "  model.fit(smoothing_level=a, smoothing_slope=b, smoothing_seasonal=g)\n",
      "C:\\Users\\Anant\\anaconda3\\lib\\site-packages\\statsmodels\\tsa\\holtwinters\\model.py:83: RuntimeWarning: overflow encountered in matmul\n",
      "  return err.T @ err\n",
      "C:\\Users\\Anant\\anaconda3\\lib\\site-packages\\statsmodels\\tsa\\base\\tsa_model.py:471: ValueWarning: No frequency information was provided, so inferred frequency MS will be used.\n",
      "  self._init_dates(dates, freq)\n",
      "<ipython-input-79-8ea7916db468>:19: FutureWarning: the 'smoothing_slope'' keyword is deprecated, use 'smoothing_trend' instead.\n",
      "  model.fit(smoothing_level=a, smoothing_slope=b, smoothing_seasonal=g)\n",
      "C:\\Users\\Anant\\anaconda3\\lib\\site-packages\\statsmodels\\tsa\\holtwinters\\model.py:83: RuntimeWarning: overflow encountered in matmul\n",
      "  return err.T @ err\n"
     ]
    },
    {
     "name": "stdout",
     "output_type": "stream",
     "text": [
      "Checking for {'alpha': 0.4, 'beta': 0.3, 'gamma': 0.1}\n",
      "Checking for {'alpha': 0.4, 'beta': 0.3, 'gamma': 0.2}\n",
      "Checking for {'alpha': 0.4, 'beta': 0.3, 'gamma': 0.3}\n",
      "Checking for {'alpha': 0.4, 'beta': 0.3, 'gamma': 0.4}\n",
      "Checking for"
     ]
    },
    {
     "name": "stderr",
     "output_type": "stream",
     "text": [
      "C:\\Users\\Anant\\anaconda3\\lib\\site-packages\\statsmodels\\tsa\\base\\tsa_model.py:471: ValueWarning: No frequency information was provided, so inferred frequency MS will be used.\n",
      "  self._init_dates(dates, freq)\n",
      "<ipython-input-79-8ea7916db468>:19: FutureWarning: the 'smoothing_slope'' keyword is deprecated, use 'smoothing_trend' instead.\n",
      "  model.fit(smoothing_level=a, smoothing_slope=b, smoothing_seasonal=g)\n",
      "C:\\Users\\Anant\\anaconda3\\lib\\site-packages\\statsmodels\\tsa\\holtwinters\\model.py:83: RuntimeWarning: overflow encountered in matmul\n",
      "  return err.T @ err\n",
      "C:\\Users\\Anant\\anaconda3\\lib\\site-packages\\statsmodels\\tsa\\base\\tsa_model.py:471: ValueWarning: No frequency information was provided, so inferred frequency MS will be used.\n",
      "  self._init_dates(dates, freq)\n",
      "<ipython-input-79-8ea7916db468>:19: FutureWarning: the 'smoothing_slope'' keyword is deprecated, use 'smoothing_trend' instead.\n",
      "  model.fit(smoothing_level=a, smoothing_slope=b, smoothing_seasonal=g)\n",
      "C:\\Users\\Anant\\anaconda3\\lib\\site-packages\\statsmodels\\tsa\\holtwinters\\model.py:83: RuntimeWarning: overflow encountered in matmul\n",
      "  return err.T @ err\n",
      "C:\\Users\\Anant\\anaconda3\\lib\\site-packages\\statsmodels\\tsa\\base\\tsa_model.py:471: ValueWarning: No frequency information was provided, so inferred frequency MS will be used.\n",
      "  self._init_dates(dates, freq)\n",
      "<ipython-input-79-8ea7916db468>:19: FutureWarning: the 'smoothing_slope'' keyword is deprecated, use 'smoothing_trend' instead.\n",
      "  model.fit(smoothing_level=a, smoothing_slope=b, smoothing_seasonal=g)\n",
      "C:\\Users\\Anant\\anaconda3\\lib\\site-packages\\statsmodels\\tsa\\holtwinters\\model.py:83: RuntimeWarning: overflow encountered in matmul\n",
      "  return err.T @ err\n"
     ]
    },
    {
     "name": "stdout",
     "output_type": "stream",
     "text": [
      " {'alpha': 0.4, 'beta': 0.3, 'gamma': 0.5}\n",
      "Checking for {'alpha': 0.4, 'beta': 0.3, 'gamma': 0.6}\n",
      "Checking for {'alpha': 0.4, 'beta': 0.4, 'gamma': 0.1}\n",
      "Checking for"
     ]
    },
    {
     "name": "stderr",
     "output_type": "stream",
     "text": [
      "C:\\Users\\Anant\\anaconda3\\lib\\site-packages\\statsmodels\\tsa\\base\\tsa_model.py:471: ValueWarning: No frequency information was provided, so inferred frequency MS will be used.\n",
      "  self._init_dates(dates, freq)\n",
      "<ipython-input-79-8ea7916db468>:19: FutureWarning: the 'smoothing_slope'' keyword is deprecated, use 'smoothing_trend' instead.\n",
      "  model.fit(smoothing_level=a, smoothing_slope=b, smoothing_seasonal=g)\n",
      "C:\\Users\\Anant\\anaconda3\\lib\\site-packages\\statsmodels\\tsa\\holtwinters\\model.py:83: RuntimeWarning: overflow encountered in matmul\n",
      "  return err.T @ err\n",
      "C:\\Users\\Anant\\anaconda3\\lib\\site-packages\\statsmodels\\tsa\\base\\tsa_model.py:471: ValueWarning: No frequency information was provided, so inferred frequency MS will be used.\n",
      "  self._init_dates(dates, freq)\n",
      "<ipython-input-79-8ea7916db468>:19: FutureWarning: the 'smoothing_slope'' keyword is deprecated, use 'smoothing_trend' instead.\n",
      "  model.fit(smoothing_level=a, smoothing_slope=b, smoothing_seasonal=g)\n",
      "C:\\Users\\Anant\\anaconda3\\lib\\site-packages\\statsmodels\\tsa\\holtwinters\\model.py:83: RuntimeWarning: overflow encountered in matmul\n",
      "  return err.T @ err\n",
      "C:\\Users\\Anant\\anaconda3\\lib\\site-packages\\statsmodels\\tsa\\base\\tsa_model.py:471: ValueWarning: No frequency information was provided, so inferred frequency MS will be used.\n",
      "  self._init_dates(dates, freq)\n",
      "<ipython-input-79-8ea7916db468>:19: FutureWarning: the 'smoothing_slope'' keyword is deprecated, use 'smoothing_trend' instead.\n",
      "  model.fit(smoothing_level=a, smoothing_slope=b, smoothing_seasonal=g)\n",
      "C:\\Users\\Anant\\anaconda3\\lib\\site-packages\\statsmodels\\tsa\\holtwinters\\model.py:83: RuntimeWarning: overflow encountered in matmul\n",
      "  return err.T @ err\n",
      "C:\\Users\\Anant\\anaconda3\\lib\\site-packages\\statsmodels\\tsa\\base\\tsa_model.py:471: ValueWarning: No frequency information was provided, so inferred frequency MS will be used.\n",
      "  self._init_dates(dates, freq)\n",
      "<ipython-input-79-8ea7916db468>:19: FutureWarning: the 'smoothing_slope'' keyword is deprecated, use 'smoothing_trend' instead.\n",
      "  model.fit(smoothing_level=a, smoothing_slope=b, smoothing_seasonal=g)\n",
      "C:\\Users\\Anant\\anaconda3\\lib\\site-packages\\statsmodels\\tsa\\holtwinters\\model.py:83: RuntimeWarning: overflow encountered in matmul\n",
      "  return err.T @ err\n"
     ]
    },
    {
     "name": "stdout",
     "output_type": "stream",
     "text": [
      " {'alpha': 0.4, 'beta': 0.4, 'gamma': 0.2}\n",
      "Checking for {'alpha': 0.4, 'beta': 0.4, 'gamma': 0.3}\n",
      "Checking for {'alpha': 0.4, 'beta': 0.4, 'gamma': 0.4}\n",
      "Checking for {'alpha': 0.4, 'beta': 0.4, 'gamma': 0.5}\n",
      "Checking for {'alpha': 0.4, 'beta': 0.4, 'gamma': 0.6}\n"
     ]
    },
    {
     "name": "stderr",
     "output_type": "stream",
     "text": [
      "C:\\Users\\Anant\\anaconda3\\lib\\site-packages\\statsmodels\\tsa\\base\\tsa_model.py:471: ValueWarning: No frequency information was provided, so inferred frequency MS will be used.\n",
      "  self._init_dates(dates, freq)\n",
      "<ipython-input-79-8ea7916db468>:19: FutureWarning: the 'smoothing_slope'' keyword is deprecated, use 'smoothing_trend' instead.\n",
      "  model.fit(smoothing_level=a, smoothing_slope=b, smoothing_seasonal=g)\n",
      "C:\\Users\\Anant\\anaconda3\\lib\\site-packages\\statsmodels\\tsa\\holtwinters\\model.py:915: ConvergenceWarning: Optimization failed to converge. Check mle_retvals.\n",
      "  warnings.warn(\n",
      "C:\\Users\\Anant\\anaconda3\\lib\\site-packages\\statsmodels\\tsa\\base\\tsa_model.py:471: ValueWarning: No frequency information was provided, so inferred frequency MS will be used.\n",
      "  self._init_dates(dates, freq)\n",
      "<ipython-input-79-8ea7916db468>:19: FutureWarning: the 'smoothing_slope'' keyword is deprecated, use 'smoothing_trend' instead.\n",
      "  model.fit(smoothing_level=a, smoothing_slope=b, smoothing_seasonal=g)\n",
      "C:\\Users\\Anant\\anaconda3\\lib\\site-packages\\statsmodels\\tsa\\holtwinters\\model.py:915: ConvergenceWarning: Optimization failed to converge. Check mle_retvals.\n",
      "  warnings.warn(\n",
      "C:\\Users\\Anant\\anaconda3\\lib\\site-packages\\statsmodels\\tsa\\base\\tsa_model.py:471: ValueWarning: No frequency information was provided, so inferred frequency MS will be used.\n",
      "  self._init_dates(dates, freq)\n",
      "<ipython-input-79-8ea7916db468>:19: FutureWarning: the 'smoothing_slope'' keyword is deprecated, use 'smoothing_trend' instead.\n",
      "  model.fit(smoothing_level=a, smoothing_slope=b, smoothing_seasonal=g)\n",
      "C:\\Users\\Anant\\anaconda3\\lib\\site-packages\\statsmodels\\tsa\\holtwinters\\model.py:83: RuntimeWarning: overflow encountered in matmul\n",
      "  return err.T @ err\n",
      "C:\\Users\\Anant\\anaconda3\\lib\\site-packages\\statsmodels\\tsa\\base\\tsa_model.py:471: ValueWarning: No frequency information was provided, so inferred frequency MS will be used.\n",
      "  self._init_dates(dates, freq)\n",
      "<ipython-input-79-8ea7916db468>:19: FutureWarning: the 'smoothing_slope'' keyword is deprecated, use 'smoothing_trend' instead.\n",
      "  model.fit(smoothing_level=a, smoothing_slope=b, smoothing_seasonal=g)\n",
      "C:\\Users\\Anant\\anaconda3\\lib\\site-packages\\statsmodels\\tsa\\holtwinters\\model.py:83: RuntimeWarning: overflow encountered in matmul\n",
      "  return err.T @ err\n",
      "C:\\Users\\Anant\\anaconda3\\lib\\site-packages\\statsmodels\\tsa\\base\\tsa_model.py:471: ValueWarning: No frequency information was provided, so inferred frequency MS will be used.\n",
      "  self._init_dates(dates, freq)\n",
      "<ipython-input-79-8ea7916db468>:19: FutureWarning: the 'smoothing_slope'' keyword is deprecated, use 'smoothing_trend' instead.\n",
      "  model.fit(smoothing_level=a, smoothing_slope=b, smoothing_seasonal=g)\n",
      "C:\\Users\\Anant\\anaconda3\\lib\\site-packages\\statsmodels\\tsa\\holtwinters\\model.py:83: RuntimeWarning: overflow encountered in matmul\n",
      "  return err.T @ err\n"
     ]
    },
    {
     "name": "stdout",
     "output_type": "stream",
     "text": [
      "Checking for {'alpha': 0.4, 'beta': 0.5, 'gamma': 0.1}\n",
      "Checking for {'alpha': 0.4, 'beta': 0.5, 'gamma': 0.2}\n",
      "Checking for {'alpha': 0.4, 'beta': 0.5, 'gamma': 0.3}\n"
     ]
    },
    {
     "name": "stderr",
     "output_type": "stream",
     "text": [
      "C:\\Users\\Anant\\anaconda3\\lib\\site-packages\\statsmodels\\tsa\\holtwinters\\model.py:915: ConvergenceWarning: Optimization failed to converge. Check mle_retvals.\n",
      "  warnings.warn(\n",
      "C:\\Users\\Anant\\anaconda3\\lib\\site-packages\\statsmodels\\tsa\\base\\tsa_model.py:471: ValueWarning: No frequency information was provided, so inferred frequency MS will be used.\n",
      "  self._init_dates(dates, freq)\n",
      "<ipython-input-79-8ea7916db468>:19: FutureWarning: the 'smoothing_slope'' keyword is deprecated, use 'smoothing_trend' instead.\n",
      "  model.fit(smoothing_level=a, smoothing_slope=b, smoothing_seasonal=g)\n",
      "C:\\Users\\Anant\\anaconda3\\lib\\site-packages\\statsmodels\\tsa\\holtwinters\\model.py:915: ConvergenceWarning: Optimization failed to converge. Check mle_retvals.\n",
      "  warnings.warn(\n",
      "C:\\Users\\Anant\\anaconda3\\lib\\site-packages\\statsmodels\\tsa\\base\\tsa_model.py:471: ValueWarning: No frequency information was provided, so inferred frequency MS will be used.\n",
      "  self._init_dates(dates, freq)\n",
      "<ipython-input-79-8ea7916db468>:19: FutureWarning: the 'smoothing_slope'' keyword is deprecated, use 'smoothing_trend' instead.\n",
      "  model.fit(smoothing_level=a, smoothing_slope=b, smoothing_seasonal=g)\n",
      "C:\\Users\\Anant\\anaconda3\\lib\\site-packages\\statsmodels\\tsa\\holtwinters\\model.py:915: ConvergenceWarning: Optimization failed to converge. Check mle_retvals.\n",
      "  warnings.warn(\n",
      "C:\\Users\\Anant\\anaconda3\\lib\\site-packages\\statsmodels\\tsa\\base\\tsa_model.py:471: ValueWarning: No frequency information was provided, so inferred frequency MS will be used.\n",
      "  self._init_dates(dates, freq)\n",
      "<ipython-input-79-8ea7916db468>:19: FutureWarning: the 'smoothing_slope'' keyword is deprecated, use 'smoothing_trend' instead.\n",
      "  model.fit(smoothing_level=a, smoothing_slope=b, smoothing_seasonal=g)\n",
      "C:\\Users\\Anant\\anaconda3\\lib\\site-packages\\statsmodels\\tsa\\holtwinters\\model.py:915: ConvergenceWarning: Optimization failed to converge. Check mle_retvals.\n",
      "  warnings.warn(\n",
      "C:\\Users\\Anant\\anaconda3\\lib\\site-packages\\statsmodels\\tsa\\base\\tsa_model.py:471: ValueWarning: No frequency information was provided, so inferred frequency MS will be used.\n",
      "  self._init_dates(dates, freq)\n",
      "<ipython-input-79-8ea7916db468>:19: FutureWarning: the 'smoothing_slope'' keyword is deprecated, use 'smoothing_trend' instead.\n",
      "  model.fit(smoothing_level=a, smoothing_slope=b, smoothing_seasonal=g)\n",
      "C:\\Users\\Anant\\anaconda3\\lib\\site-packages\\statsmodels\\tsa\\holtwinters\\model.py:83: RuntimeWarning: overflow encountered in matmul\n",
      "  return err.T @ err\n",
      "C:\\Users\\Anant\\anaconda3\\lib\\site-packages\\statsmodels\\tsa\\base\\tsa_model.py:471: ValueWarning: No frequency information was provided, so inferred frequency MS will be used.\n",
      "  self._init_dates(dates, freq)\n",
      "<ipython-input-79-8ea7916db468>:19: FutureWarning: the 'smoothing_slope'' keyword is deprecated, use 'smoothing_trend' instead.\n",
      "  model.fit(smoothing_level=a, smoothing_slope=b, smoothing_seasonal=g)\n"
     ]
    },
    {
     "name": "stdout",
     "output_type": "stream",
     "text": [
      "Checking for {'alpha': 0.4, 'beta': 0.5, 'gamma': 0.4}\n",
      "Checking for {'alpha': 0.4, 'beta': 0.5, 'gamma': 0.5}\n",
      "Checking for {'alpha': 0.4, 'beta': 0.5, 'gamma': 0.6}\n",
      "Checking for {'alpha': 0.4, 'beta': 0.6, 'gamma': 0.1}\n",
      "Checking for {'alpha': 0.4, 'beta': 0.6, 'gamma': 0.2}\n"
     ]
    },
    {
     "name": "stderr",
     "output_type": "stream",
     "text": [
      "C:\\Users\\Anant\\anaconda3\\lib\\site-packages\\statsmodels\\tsa\\holtwinters\\model.py:83: RuntimeWarning: overflow encountered in matmul\n",
      "  return err.T @ err\n",
      "C:\\Users\\Anant\\anaconda3\\lib\\site-packages\\statsmodels\\tsa\\base\\tsa_model.py:471: ValueWarning: No frequency information was provided, so inferred frequency MS will be used.\n",
      "  self._init_dates(dates, freq)\n",
      "<ipython-input-79-8ea7916db468>:19: FutureWarning: the 'smoothing_slope'' keyword is deprecated, use 'smoothing_trend' instead.\n",
      "  model.fit(smoothing_level=a, smoothing_slope=b, smoothing_seasonal=g)\n",
      "C:\\Users\\Anant\\anaconda3\\lib\\site-packages\\statsmodels\\tsa\\holtwinters\\model.py:915: ConvergenceWarning: Optimization failed to converge. Check mle_retvals.\n",
      "  warnings.warn(\n",
      "C:\\Users\\Anant\\anaconda3\\lib\\site-packages\\statsmodels\\tsa\\base\\tsa_model.py:471: ValueWarning: No frequency information was provided, so inferred frequency MS will be used.\n",
      "  self._init_dates(dates, freq)\n",
      "<ipython-input-79-8ea7916db468>:19: FutureWarning: the 'smoothing_slope'' keyword is deprecated, use 'smoothing_trend' instead.\n",
      "  model.fit(smoothing_level=a, smoothing_slope=b, smoothing_seasonal=g)\n",
      "C:\\Users\\Anant\\anaconda3\\lib\\site-packages\\statsmodels\\tsa\\holtwinters\\model.py:915: ConvergenceWarning: Optimization failed to converge. Check mle_retvals.\n",
      "  warnings.warn(\n",
      "C:\\Users\\Anant\\anaconda3\\lib\\site-packages\\statsmodels\\tsa\\base\\tsa_model.py:471: ValueWarning: No frequency information was provided, so inferred frequency MS will be used.\n",
      "  self._init_dates(dates, freq)\n",
      "<ipython-input-79-8ea7916db468>:19: FutureWarning: the 'smoothing_slope'' keyword is deprecated, use 'smoothing_trend' instead.\n",
      "  model.fit(smoothing_level=a, smoothing_slope=b, smoothing_seasonal=g)\n",
      "C:\\Users\\Anant\\anaconda3\\lib\\site-packages\\statsmodels\\tsa\\holtwinters\\model.py:915: ConvergenceWarning: Optimization failed to converge. Check mle_retvals.\n",
      "  warnings.warn(\n",
      "C:\\Users\\Anant\\anaconda3\\lib\\site-packages\\statsmodels\\tsa\\base\\tsa_model.py:471: ValueWarning: No frequency information was provided, so inferred frequency MS will be used.\n",
      "  self._init_dates(dates, freq)\n",
      "<ipython-input-79-8ea7916db468>:19: FutureWarning: the 'smoothing_slope'' keyword is deprecated, use 'smoothing_trend' instead.\n",
      "  model.fit(smoothing_level=a, smoothing_slope=b, smoothing_seasonal=g)\n",
      "C:\\Users\\Anant\\anaconda3\\lib\\site-packages\\statsmodels\\tsa\\holtwinters\\model.py:915: ConvergenceWarning: Optimization failed to converge. Check mle_retvals.\n",
      "  warnings.warn(\n",
      "C:\\Users\\Anant\\anaconda3\\lib\\site-packages\\statsmodels\\tsa\\base\\tsa_model.py:471: ValueWarning: No frequency information was provided, so inferred frequency MS will be used.\n",
      "  self._init_dates(dates, freq)\n",
      "<ipython-input-79-8ea7916db468>:19: FutureWarning: the 'smoothing_slope'' keyword is deprecated, use 'smoothing_trend' instead.\n",
      "  model.fit(smoothing_level=a, smoothing_slope=b, smoothing_seasonal=g)\n",
      "C:\\Users\\Anant\\anaconda3\\lib\\site-packages\\statsmodels\\tsa\\holtwinters\\model.py:83: RuntimeWarning: overflow encountered in matmul\n",
      "  return err.T @ err\n"
     ]
    },
    {
     "name": "stdout",
     "output_type": "stream",
     "text": [
      "Checking for {'alpha': 0.4, 'beta': 0.6, 'gamma': 0.3}\n",
      "Checking for {'alpha': 0.4, 'beta': 0.6, 'gamma': 0.4}\n",
      "Checking for {'alpha': 0.4, 'beta': 0.6, 'gamma': 0.5}\n",
      "Checking for {'alpha': 0.4, 'beta': 0.6, 'gamma': 0.6}\n",
      "Checking for {'alpha': 0.5, 'beta': 0.1, 'gamma': 0.1}\n",
      "Checking for {'alpha': 0.5, 'beta': 0.1, 'gamma': 0.2}\n"
     ]
    },
    {
     "name": "stderr",
     "output_type": "stream",
     "text": [
      "C:\\Users\\Anant\\anaconda3\\lib\\site-packages\\statsmodels\\tsa\\base\\tsa_model.py:471: ValueWarning: No frequency information was provided, so inferred frequency MS will be used.\n",
      "  self._init_dates(dates, freq)\n",
      "<ipython-input-79-8ea7916db468>:19: FutureWarning: the 'smoothing_slope'' keyword is deprecated, use 'smoothing_trend' instead.\n",
      "  model.fit(smoothing_level=a, smoothing_slope=b, smoothing_seasonal=g)\n",
      "C:\\Users\\Anant\\anaconda3\\lib\\site-packages\\statsmodels\\tsa\\holtwinters\\model.py:83: RuntimeWarning: overflow encountered in matmul\n",
      "  return err.T @ err\n",
      "C:\\Users\\Anant\\anaconda3\\lib\\site-packages\\statsmodels\\tsa\\base\\tsa_model.py:471: ValueWarning: No frequency information was provided, so inferred frequency MS will be used.\n",
      "  self._init_dates(dates, freq)\n",
      "<ipython-input-79-8ea7916db468>:19: FutureWarning: the 'smoothing_slope'' keyword is deprecated, use 'smoothing_trend' instead.\n",
      "  model.fit(smoothing_level=a, smoothing_slope=b, smoothing_seasonal=g)\n",
      "C:\\Users\\Anant\\anaconda3\\lib\\site-packages\\statsmodels\\tsa\\holtwinters\\model.py:83: RuntimeWarning: overflow encountered in matmul\n",
      "  return err.T @ err\n",
      "C:\\Users\\Anant\\anaconda3\\lib\\site-packages\\statsmodels\\tsa\\base\\tsa_model.py:471: ValueWarning: No frequency information was provided, so inferred frequency MS will be used.\n",
      "  self._init_dates(dates, freq)\n",
      "<ipython-input-79-8ea7916db468>:19: FutureWarning: the 'smoothing_slope'' keyword is deprecated, use 'smoothing_trend' instead.\n",
      "  model.fit(smoothing_level=a, smoothing_slope=b, smoothing_seasonal=g)\n",
      "C:\\Users\\Anant\\anaconda3\\lib\\site-packages\\statsmodels\\tsa\\holtwinters\\model.py:83: RuntimeWarning: overflow encountered in matmul\n",
      "  return err.T @ err\n",
      "C:\\Users\\Anant\\anaconda3\\lib\\site-packages\\statsmodels\\tsa\\base\\tsa_model.py:471: ValueWarning: No frequency information was provided, so inferred frequency MS will be used.\n",
      "  self._init_dates(dates, freq)\n",
      "<ipython-input-79-8ea7916db468>:19: FutureWarning: the 'smoothing_slope'' keyword is deprecated, use 'smoothing_trend' instead.\n",
      "  model.fit(smoothing_level=a, smoothing_slope=b, smoothing_seasonal=g)\n",
      "C:\\Users\\Anant\\anaconda3\\lib\\site-packages\\statsmodels\\tsa\\holtwinters\\model.py:83: RuntimeWarning: overflow encountered in matmul\n",
      "  return err.T @ err\n"
     ]
    },
    {
     "name": "stdout",
     "output_type": "stream",
     "text": [
      "Checking for {'alpha': 0.5, 'beta': 0.1, 'gamma': 0.3}\n",
      "Checking for {'alpha': 0.5, 'beta': 0.1, 'gamma': 0.4}\n",
      "Checking for {'alpha': 0.5, 'beta': 0.1, 'gamma': 0.5}\n",
      "Checking for {'alpha': 0.5, 'beta': 0.1, 'gamma': 0.6}\n"
     ]
    },
    {
     "name": "stderr",
     "output_type": "stream",
     "text": [
      "C:\\Users\\Anant\\anaconda3\\lib\\site-packages\\statsmodels\\tsa\\base\\tsa_model.py:471: ValueWarning: No frequency information was provided, so inferred frequency MS will be used.\n",
      "  self._init_dates(dates, freq)\n",
      "<ipython-input-79-8ea7916db468>:19: FutureWarning: the 'smoothing_slope'' keyword is deprecated, use 'smoothing_trend' instead.\n",
      "  model.fit(smoothing_level=a, smoothing_slope=b, smoothing_seasonal=g)\n",
      "C:\\Users\\Anant\\anaconda3\\lib\\site-packages\\statsmodels\\tsa\\holtwinters\\model.py:83: RuntimeWarning: overflow encountered in matmul\n",
      "  return err.T @ err\n",
      "C:\\Users\\Anant\\anaconda3\\lib\\site-packages\\statsmodels\\tsa\\base\\tsa_model.py:471: ValueWarning: No frequency information was provided, so inferred frequency MS will be used.\n",
      "  self._init_dates(dates, freq)\n",
      "<ipython-input-79-8ea7916db468>:19: FutureWarning: the 'smoothing_slope'' keyword is deprecated, use 'smoothing_trend' instead.\n",
      "  model.fit(smoothing_level=a, smoothing_slope=b, smoothing_seasonal=g)\n",
      "C:\\Users\\Anant\\anaconda3\\lib\\site-packages\\statsmodels\\tsa\\holtwinters\\model.py:83: RuntimeWarning: overflow encountered in matmul\n",
      "  return err.T @ err\n",
      "C:\\Users\\Anant\\anaconda3\\lib\\site-packages\\statsmodels\\tsa\\base\\tsa_model.py:471: ValueWarning: No frequency information was provided, so inferred frequency MS will be used.\n",
      "  self._init_dates(dates, freq)\n",
      "<ipython-input-79-8ea7916db468>:19: FutureWarning: the 'smoothing_slope'' keyword is deprecated, use 'smoothing_trend' instead.\n",
      "  model.fit(smoothing_level=a, smoothing_slope=b, smoothing_seasonal=g)\n",
      "C:\\Users\\Anant\\anaconda3\\lib\\site-packages\\statsmodels\\tsa\\holtwinters\\model.py:83: RuntimeWarning: overflow encountered in matmul\n",
      "  return err.T @ err\n",
      "C:\\Users\\Anant\\anaconda3\\lib\\site-packages\\statsmodels\\tsa\\base\\tsa_model.py:471: ValueWarning: No frequency information was provided, so inferred frequency MS will be used.\n",
      "  self._init_dates(dates, freq)\n",
      "<ipython-input-79-8ea7916db468>:19: FutureWarning: the 'smoothing_slope'' keyword is deprecated, use 'smoothing_trend' instead.\n",
      "  model.fit(smoothing_level=a, smoothing_slope=b, smoothing_seasonal=g)\n",
      "C:\\Users\\Anant\\anaconda3\\lib\\site-packages\\statsmodels\\tsa\\holtwinters\\model.py:83: RuntimeWarning: overflow encountered in matmul\n",
      "  return err.T @ err\n"
     ]
    },
    {
     "name": "stdout",
     "output_type": "stream",
     "text": [
      "Checking for {'alpha': 0.5, 'beta': 0.2, 'gamma': 0.1}\n",
      "Checking for {'alpha': 0.5, 'beta': 0.2, 'gamma': 0.2}\n",
      "Checking for {'alpha': 0.5, 'beta': 0.2, 'gamma': 0.3}\n",
      "Checking for {'alpha': 0.5, 'beta': 0.2, 'gamma': 0.4}\n"
     ]
    },
    {
     "name": "stderr",
     "output_type": "stream",
     "text": [
      "C:\\Users\\Anant\\anaconda3\\lib\\site-packages\\statsmodels\\tsa\\base\\tsa_model.py:471: ValueWarning: No frequency information was provided, so inferred frequency MS will be used.\n",
      "  self._init_dates(dates, freq)\n",
      "<ipython-input-79-8ea7916db468>:19: FutureWarning: the 'smoothing_slope'' keyword is deprecated, use 'smoothing_trend' instead.\n",
      "  model.fit(smoothing_level=a, smoothing_slope=b, smoothing_seasonal=g)\n",
      "C:\\Users\\Anant\\anaconda3\\lib\\site-packages\\statsmodels\\tsa\\holtwinters\\model.py:83: RuntimeWarning: overflow encountered in matmul\n",
      "  return err.T @ err\n",
      "C:\\Users\\Anant\\anaconda3\\lib\\site-packages\\statsmodels\\tsa\\base\\tsa_model.py:471: ValueWarning: No frequency information was provided, so inferred frequency MS will be used.\n",
      "  self._init_dates(dates, freq)\n",
      "<ipython-input-79-8ea7916db468>:19: FutureWarning: the 'smoothing_slope'' keyword is deprecated, use 'smoothing_trend' instead.\n",
      "  model.fit(smoothing_level=a, smoothing_slope=b, smoothing_seasonal=g)\n",
      "C:\\Users\\Anant\\anaconda3\\lib\\site-packages\\statsmodels\\tsa\\holtwinters\\model.py:83: RuntimeWarning: overflow encountered in matmul\n",
      "  return err.T @ err\n",
      "C:\\Users\\Anant\\anaconda3\\lib\\site-packages\\statsmodels\\tsa\\base\\tsa_model.py:471: ValueWarning: No frequency information was provided, so inferred frequency MS will be used.\n",
      "  self._init_dates(dates, freq)\n",
      "<ipython-input-79-8ea7916db468>:19: FutureWarning: the 'smoothing_slope'' keyword is deprecated, use 'smoothing_trend' instead.\n",
      "  model.fit(smoothing_level=a, smoothing_slope=b, smoothing_seasonal=g)\n",
      "C:\\Users\\Anant\\anaconda3\\lib\\site-packages\\statsmodels\\tsa\\holtwinters\\model.py:83: RuntimeWarning: overflow encountered in matmul\n",
      "  return err.T @ err\n",
      "C:\\Users\\Anant\\anaconda3\\lib\\site-packages\\statsmodels\\tsa\\base\\tsa_model.py:471: ValueWarning: No frequency information was provided, so inferred frequency MS will be used.\n",
      "  self._init_dates(dates, freq)\n",
      "<ipython-input-79-8ea7916db468>:19: FutureWarning: the 'smoothing_slope'' keyword is deprecated, use 'smoothing_trend' instead.\n",
      "  model.fit(smoothing_level=a, smoothing_slope=b, smoothing_seasonal=g)\n",
      "C:\\Users\\Anant\\anaconda3\\lib\\site-packages\\statsmodels\\tsa\\holtwinters\\model.py:83: RuntimeWarning: overflow encountered in matmul\n",
      "  return err.T @ err\n"
     ]
    },
    {
     "name": "stdout",
     "output_type": "stream",
     "text": [
      "Checking for {'alpha': 0.5, 'beta': 0.2, 'gamma': 0.5}\n",
      "Checking for {'alpha': 0.5, 'beta': 0.2, 'gamma': 0.6}\n",
      "Checking for {'alpha': 0.5, 'beta': 0.3, 'gamma': 0.1}\n",
      "Checking for {'alpha': 0.5, 'beta': 0.3, 'gamma': 0.2}\n",
      "Checking for {'alpha': 0.5, 'beta': 0.3, 'gamma': 0.3}\n"
     ]
    },
    {
     "name": "stderr",
     "output_type": "stream",
     "text": [
      "C:\\Users\\Anant\\anaconda3\\lib\\site-packages\\statsmodels\\tsa\\base\\tsa_model.py:471: ValueWarning: No frequency information was provided, so inferred frequency MS will be used.\n",
      "  self._init_dates(dates, freq)\n",
      "<ipython-input-79-8ea7916db468>:19: FutureWarning: the 'smoothing_slope'' keyword is deprecated, use 'smoothing_trend' instead.\n",
      "  model.fit(smoothing_level=a, smoothing_slope=b, smoothing_seasonal=g)\n",
      "C:\\Users\\Anant\\anaconda3\\lib\\site-packages\\statsmodels\\tsa\\holtwinters\\model.py:83: RuntimeWarning: overflow encountered in matmul\n",
      "  return err.T @ err\n",
      "C:\\Users\\Anant\\anaconda3\\lib\\site-packages\\statsmodels\\tsa\\base\\tsa_model.py:471: ValueWarning: No frequency information was provided, so inferred frequency MS will be used.\n",
      "  self._init_dates(dates, freq)\n",
      "<ipython-input-79-8ea7916db468>:19: FutureWarning: the 'smoothing_slope'' keyword is deprecated, use 'smoothing_trend' instead.\n",
      "  model.fit(smoothing_level=a, smoothing_slope=b, smoothing_seasonal=g)\n",
      "C:\\Users\\Anant\\anaconda3\\lib\\site-packages\\statsmodels\\tsa\\holtwinters\\model.py:83: RuntimeWarning: overflow encountered in matmul\n",
      "  return err.T @ err\n",
      "C:\\Users\\Anant\\anaconda3\\lib\\site-packages\\statsmodels\\tsa\\base\\tsa_model.py:471: ValueWarning: No frequency information was provided, so inferred frequency MS will be used.\n",
      "  self._init_dates(dates, freq)\n",
      "<ipython-input-79-8ea7916db468>:19: FutureWarning: the 'smoothing_slope'' keyword is deprecated, use 'smoothing_trend' instead.\n",
      "  model.fit(smoothing_level=a, smoothing_slope=b, smoothing_seasonal=g)\n",
      "C:\\Users\\Anant\\anaconda3\\lib\\site-packages\\statsmodels\\tsa\\holtwinters\\model.py:83: RuntimeWarning: overflow encountered in matmul\n",
      "  return err.T @ err\n",
      "C:\\Users\\Anant\\anaconda3\\lib\\site-packages\\statsmodels\\tsa\\base\\tsa_model.py:471: ValueWarning: No frequency information was provided, so inferred frequency MS will be used.\n",
      "  self._init_dates(dates, freq)\n",
      "<ipython-input-79-8ea7916db468>:19: FutureWarning: the 'smoothing_slope'' keyword is deprecated, use 'smoothing_trend' instead.\n",
      "  model.fit(smoothing_level=a, smoothing_slope=b, smoothing_seasonal=g)\n",
      "C:\\Users\\Anant\\anaconda3\\lib\\site-packages\\statsmodels\\tsa\\holtwinters\\model.py:83: RuntimeWarning: overflow encountered in matmul\n",
      "  return err.T @ err\n"
     ]
    },
    {
     "name": "stdout",
     "output_type": "stream",
     "text": [
      "Checking for {'alpha': 0.5, 'beta': 0.3, 'gamma': 0.4}\n",
      "Checking for {'alpha': 0.5, 'beta': 0.3, 'gamma': 0.5}\n",
      "Checking for {'alpha': 0.5, 'beta': 0.3, 'gamma': 0.6}\n",
      "Checking for {'alpha': 0.5, 'beta': 0.4, 'gamma': 0.1}\n"
     ]
    },
    {
     "name": "stderr",
     "output_type": "stream",
     "text": [
      "C:\\Users\\Anant\\anaconda3\\lib\\site-packages\\statsmodels\\tsa\\holtwinters\\model.py:915: ConvergenceWarning: Optimization failed to converge. Check mle_retvals.\n",
      "  warnings.warn(\n",
      "C:\\Users\\Anant\\anaconda3\\lib\\site-packages\\statsmodels\\tsa\\base\\tsa_model.py:471: ValueWarning: No frequency information was provided, so inferred frequency MS will be used.\n",
      "  self._init_dates(dates, freq)\n",
      "<ipython-input-79-8ea7916db468>:19: FutureWarning: the 'smoothing_slope'' keyword is deprecated, use 'smoothing_trend' instead.\n",
      "  model.fit(smoothing_level=a, smoothing_slope=b, smoothing_seasonal=g)\n",
      "C:\\Users\\Anant\\anaconda3\\lib\\site-packages\\statsmodels\\tsa\\holtwinters\\model.py:915: ConvergenceWarning: Optimization failed to converge. Check mle_retvals.\n",
      "  warnings.warn(\n",
      "C:\\Users\\Anant\\anaconda3\\lib\\site-packages\\statsmodels\\tsa\\base\\tsa_model.py:471: ValueWarning: No frequency information was provided, so inferred frequency MS will be used.\n",
      "  self._init_dates(dates, freq)\n",
      "<ipython-input-79-8ea7916db468>:19: FutureWarning: the 'smoothing_slope'' keyword is deprecated, use 'smoothing_trend' instead.\n",
      "  model.fit(smoothing_level=a, smoothing_slope=b, smoothing_seasonal=g)\n",
      "C:\\Users\\Anant\\anaconda3\\lib\\site-packages\\statsmodels\\tsa\\holtwinters\\model.py:83: RuntimeWarning: overflow encountered in matmul\n",
      "  return err.T @ err\n",
      "C:\\Users\\Anant\\anaconda3\\lib\\site-packages\\statsmodels\\tsa\\base\\tsa_model.py:471: ValueWarning: No frequency information was provided, so inferred frequency MS will be used.\n",
      "  self._init_dates(dates, freq)\n",
      "<ipython-input-79-8ea7916db468>:19: FutureWarning: the 'smoothing_slope'' keyword is deprecated, use 'smoothing_trend' instead.\n",
      "  model.fit(smoothing_level=a, smoothing_slope=b, smoothing_seasonal=g)\n",
      "C:\\Users\\Anant\\anaconda3\\lib\\site-packages\\statsmodels\\tsa\\holtwinters\\model.py:83: RuntimeWarning: overflow encountered in matmul\n",
      "  return err.T @ err\n",
      "C:\\Users\\Anant\\anaconda3\\lib\\site-packages\\statsmodels\\tsa\\base\\tsa_model.py:471: ValueWarning: No frequency information was provided, so inferred frequency MS will be used.\n",
      "  self._init_dates(dates, freq)\n",
      "<ipython-input-79-8ea7916db468>:19: FutureWarning: the 'smoothing_slope'' keyword is deprecated, use 'smoothing_trend' instead.\n",
      "  model.fit(smoothing_level=a, smoothing_slope=b, smoothing_seasonal=g)\n",
      "C:\\Users\\Anant\\anaconda3\\lib\\site-packages\\statsmodels\\tsa\\holtwinters\\model.py:83: RuntimeWarning: overflow encountered in matmul\n",
      "  return err.T @ err\n"
     ]
    },
    {
     "name": "stdout",
     "output_type": "stream",
     "text": [
      "Checking for {'alpha': 0.5, 'beta': 0.4, 'gamma': 0.2}\n",
      "Checking for {'alpha': 0.5, 'beta': 0.4, 'gamma': 0.3}\n",
      "Checking for {'alpha': 0.5, 'beta': 0.4, 'gamma': 0.4}\n"
     ]
    },
    {
     "name": "stderr",
     "output_type": "stream",
     "text": [
      "C:\\Users\\Anant\\anaconda3\\lib\\site-packages\\statsmodels\\tsa\\base\\tsa_model.py:471: ValueWarning: No frequency information was provided, so inferred frequency MS will be used.\n",
      "  self._init_dates(dates, freq)\n",
      "<ipython-input-79-8ea7916db468>:19: FutureWarning: the 'smoothing_slope'' keyword is deprecated, use 'smoothing_trend' instead.\n",
      "  model.fit(smoothing_level=a, smoothing_slope=b, smoothing_seasonal=g)\n",
      "C:\\Users\\Anant\\anaconda3\\lib\\site-packages\\statsmodels\\tsa\\holtwinters\\model.py:915: ConvergenceWarning: Optimization failed to converge. Check mle_retvals.\n",
      "  warnings.warn(\n",
      "C:\\Users\\Anant\\anaconda3\\lib\\site-packages\\statsmodels\\tsa\\base\\tsa_model.py:471: ValueWarning: No frequency information was provided, so inferred frequency MS will be used.\n",
      "  self._init_dates(dates, freq)\n",
      "<ipython-input-79-8ea7916db468>:19: FutureWarning: the 'smoothing_slope'' keyword is deprecated, use 'smoothing_trend' instead.\n",
      "  model.fit(smoothing_level=a, smoothing_slope=b, smoothing_seasonal=g)\n",
      "C:\\Users\\Anant\\anaconda3\\lib\\site-packages\\statsmodels\\tsa\\holtwinters\\model.py:915: ConvergenceWarning: Optimization failed to converge. Check mle_retvals.\n",
      "  warnings.warn(\n",
      "C:\\Users\\Anant\\anaconda3\\lib\\site-packages\\statsmodels\\tsa\\base\\tsa_model.py:471: ValueWarning: No frequency information was provided, so inferred frequency MS will be used.\n",
      "  self._init_dates(dates, freq)\n",
      "<ipython-input-79-8ea7916db468>:19: FutureWarning: the 'smoothing_slope'' keyword is deprecated, use 'smoothing_trend' instead.\n",
      "  model.fit(smoothing_level=a, smoothing_slope=b, smoothing_seasonal=g)\n",
      "C:\\Users\\Anant\\anaconda3\\lib\\site-packages\\statsmodels\\tsa\\holtwinters\\model.py:915: ConvergenceWarning: Optimization failed to converge. Check mle_retvals.\n",
      "  warnings.warn(\n",
      "C:\\Users\\Anant\\anaconda3\\lib\\site-packages\\statsmodels\\tsa\\base\\tsa_model.py:471: ValueWarning: No frequency information was provided, so inferred frequency MS will be used.\n",
      "  self._init_dates(dates, freq)\n",
      "<ipython-input-79-8ea7916db468>:19: FutureWarning: the 'smoothing_slope'' keyword is deprecated, use 'smoothing_trend' instead.\n",
      "  model.fit(smoothing_level=a, smoothing_slope=b, smoothing_seasonal=g)\n",
      "C:\\Users\\Anant\\anaconda3\\lib\\site-packages\\statsmodels\\tsa\\holtwinters\\model.py:83: RuntimeWarning: overflow encountered in matmul\n",
      "  return err.T @ err\n",
      "C:\\Users\\Anant\\anaconda3\\lib\\site-packages\\statsmodels\\tsa\\base\\tsa_model.py:471: ValueWarning: No frequency information was provided, so inferred frequency MS will be used.\n",
      "  self._init_dates(dates, freq)\n",
      "<ipython-input-79-8ea7916db468>:19: FutureWarning: the 'smoothing_slope'' keyword is deprecated, use 'smoothing_trend' instead.\n",
      "  model.fit(smoothing_level=a, smoothing_slope=b, smoothing_seasonal=g)\n"
     ]
    },
    {
     "name": "stdout",
     "output_type": "stream",
     "text": [
      "Checking for {'alpha': 0.5, 'beta': 0.4, 'gamma': 0.5}\n",
      "Checking for {'alpha': 0.5, 'beta': 0.4, 'gamma': 0.6}\n",
      "Checking for {'alpha': 0.5, 'beta': 0.5, 'gamma': 0.1}\n",
      "Checking for {'alpha': 0.5, 'beta': 0.5, 'gamma': 0.2}\n",
      "Checking for {'alpha': 0.5, 'beta': 0.5, 'gamma': 0.3}\n"
     ]
    },
    {
     "name": "stderr",
     "output_type": "stream",
     "text": [
      "C:\\Users\\Anant\\anaconda3\\lib\\site-packages\\statsmodels\\tsa\\holtwinters\\model.py:83: RuntimeWarning: overflow encountered in matmul\n",
      "  return err.T @ err\n",
      "C:\\Users\\Anant\\anaconda3\\lib\\site-packages\\statsmodels\\tsa\\base\\tsa_model.py:471: ValueWarning: No frequency information was provided, so inferred frequency MS will be used.\n",
      "  self._init_dates(dates, freq)\n",
      "<ipython-input-79-8ea7916db468>:19: FutureWarning: the 'smoothing_slope'' keyword is deprecated, use 'smoothing_trend' instead.\n",
      "  model.fit(smoothing_level=a, smoothing_slope=b, smoothing_seasonal=g)\n",
      "C:\\Users\\Anant\\anaconda3\\lib\\site-packages\\statsmodels\\tsa\\holtwinters\\model.py:915: ConvergenceWarning: Optimization failed to converge. Check mle_retvals.\n",
      "  warnings.warn(\n",
      "C:\\Users\\Anant\\anaconda3\\lib\\site-packages\\statsmodels\\tsa\\base\\tsa_model.py:471: ValueWarning: No frequency information was provided, so inferred frequency MS will be used.\n",
      "  self._init_dates(dates, freq)\n",
      "<ipython-input-79-8ea7916db468>:19: FutureWarning: the 'smoothing_slope'' keyword is deprecated, use 'smoothing_trend' instead.\n",
      "  model.fit(smoothing_level=a, smoothing_slope=b, smoothing_seasonal=g)\n",
      "C:\\Users\\Anant\\anaconda3\\lib\\site-packages\\statsmodels\\tsa\\holtwinters\\model.py:915: ConvergenceWarning: Optimization failed to converge. Check mle_retvals.\n",
      "  warnings.warn(\n",
      "C:\\Users\\Anant\\anaconda3\\lib\\site-packages\\statsmodels\\tsa\\base\\tsa_model.py:471: ValueWarning: No frequency information was provided, so inferred frequency MS will be used.\n",
      "  self._init_dates(dates, freq)\n",
      "<ipython-input-79-8ea7916db468>:19: FutureWarning: the 'smoothing_slope'' keyword is deprecated, use 'smoothing_trend' instead.\n",
      "  model.fit(smoothing_level=a, smoothing_slope=b, smoothing_seasonal=g)\n",
      "C:\\Users\\Anant\\anaconda3\\lib\\site-packages\\statsmodels\\tsa\\holtwinters\\model.py:915: ConvergenceWarning: Optimization failed to converge. Check mle_retvals.\n",
      "  warnings.warn(\n",
      "C:\\Users\\Anant\\anaconda3\\lib\\site-packages\\statsmodels\\tsa\\base\\tsa_model.py:471: ValueWarning: No frequency information was provided, so inferred frequency MS will be used.\n",
      "  self._init_dates(dates, freq)\n",
      "<ipython-input-79-8ea7916db468>:19: FutureWarning: the 'smoothing_slope'' keyword is deprecated, use 'smoothing_trend' instead.\n",
      "  model.fit(smoothing_level=a, smoothing_slope=b, smoothing_seasonal=g)\n",
      "C:\\Users\\Anant\\anaconda3\\lib\\site-packages\\statsmodels\\tsa\\holtwinters\\model.py:915: ConvergenceWarning: Optimization failed to converge. Check mle_retvals.\n",
      "  warnings.warn(\n",
      "C:\\Users\\Anant\\anaconda3\\lib\\site-packages\\statsmodels\\tsa\\base\\tsa_model.py:471: ValueWarning: No frequency information was provided, so inferred frequency MS will be used.\n",
      "  self._init_dates(dates, freq)\n",
      "<ipython-input-79-8ea7916db468>:19: FutureWarning: the 'smoothing_slope'' keyword is deprecated, use 'smoothing_trend' instead.\n",
      "  model.fit(smoothing_level=a, smoothing_slope=b, smoothing_seasonal=g)\n",
      "C:\\Users\\Anant\\anaconda3\\lib\\site-packages\\statsmodels\\tsa\\holtwinters\\model.py:83: RuntimeWarning: overflow encountered in matmul\n",
      "  return err.T @ err\n"
     ]
    },
    {
     "name": "stdout",
     "output_type": "stream",
     "text": [
      "Checking for {'alpha': 0.5, 'beta': 0.5, 'gamma': 0.4}\n",
      "Checking for {'alpha': 0.5, 'beta': 0.5, 'gamma': 0.5}\n",
      "Checking for {'alpha': 0.5, 'beta': 0.5, 'gamma': 0.6}\n",
      "Checking for {'alpha': 0.5, 'beta': 0.6, 'gamma': 0.1}\n",
      "Checking for {'alpha': 0.5, 'beta': 0.6, 'gamma': 0.2}\n"
     ]
    },
    {
     "name": "stderr",
     "output_type": "stream",
     "text": [
      "C:\\Users\\Anant\\anaconda3\\lib\\site-packages\\statsmodels\\tsa\\base\\tsa_model.py:471: ValueWarning: No frequency information was provided, so inferred frequency MS will be used.\n",
      "  self._init_dates(dates, freq)\n",
      "<ipython-input-79-8ea7916db468>:19: FutureWarning: the 'smoothing_slope'' keyword is deprecated, use 'smoothing_trend' instead.\n",
      "  model.fit(smoothing_level=a, smoothing_slope=b, smoothing_seasonal=g)\n",
      "C:\\Users\\Anant\\anaconda3\\lib\\site-packages\\statsmodels\\tsa\\holtwinters\\model.py:83: RuntimeWarning: overflow encountered in matmul\n",
      "  return err.T @ err\n",
      "C:\\Users\\Anant\\anaconda3\\lib\\site-packages\\statsmodels\\tsa\\base\\tsa_model.py:471: ValueWarning: No frequency information was provided, so inferred frequency MS will be used.\n",
      "  self._init_dates(dates, freq)\n",
      "<ipython-input-79-8ea7916db468>:19: FutureWarning: the 'smoothing_slope'' keyword is deprecated, use 'smoothing_trend' instead.\n",
      "  model.fit(smoothing_level=a, smoothing_slope=b, smoothing_seasonal=g)\n",
      "C:\\Users\\Anant\\anaconda3\\lib\\site-packages\\statsmodels\\tsa\\holtwinters\\model.py:915: ConvergenceWarning: Optimization failed to converge. Check mle_retvals.\n",
      "  warnings.warn(\n",
      "C:\\Users\\Anant\\anaconda3\\lib\\site-packages\\statsmodels\\tsa\\base\\tsa_model.py:471: ValueWarning: No frequency information was provided, so inferred frequency MS will be used.\n",
      "  self._init_dates(dates, freq)\n",
      "<ipython-input-79-8ea7916db468>:19: FutureWarning: the 'smoothing_slope'' keyword is deprecated, use 'smoothing_trend' instead.\n",
      "  model.fit(smoothing_level=a, smoothing_slope=b, smoothing_seasonal=g)\n",
      "C:\\Users\\Anant\\anaconda3\\lib\\site-packages\\statsmodels\\tsa\\holtwinters\\model.py:915: ConvergenceWarning: Optimization failed to converge. Check mle_retvals.\n",
      "  warnings.warn(\n",
      "C:\\Users\\Anant\\anaconda3\\lib\\site-packages\\statsmodels\\tsa\\base\\tsa_model.py:471: ValueWarning: No frequency information was provided, so inferred frequency MS will be used.\n",
      "  self._init_dates(dates, freq)\n",
      "<ipython-input-79-8ea7916db468>:19: FutureWarning: the 'smoothing_slope'' keyword is deprecated, use 'smoothing_trend' instead.\n",
      "  model.fit(smoothing_level=a, smoothing_slope=b, smoothing_seasonal=g)\n",
      "C:\\Users\\Anant\\anaconda3\\lib\\site-packages\\statsmodels\\tsa\\holtwinters\\model.py:915: ConvergenceWarning: Optimization failed to converge. Check mle_retvals.\n",
      "  warnings.warn(\n",
      "C:\\Users\\Anant\\anaconda3\\lib\\site-packages\\statsmodels\\tsa\\base\\tsa_model.py:471: ValueWarning: No frequency information was provided, so inferred frequency MS will be used.\n",
      "  self._init_dates(dates, freq)\n"
     ]
    },
    {
     "name": "stdout",
     "output_type": "stream",
     "text": [
      "Checking for {'alpha': 0.5, 'beta': 0.6, 'gamma': 0.3}\n",
      "Checking for {'alpha': 0.5, 'beta': 0.6, 'gamma': 0.4}\n",
      "Checking for {'alpha': 0.5, 'beta': 0.6, 'gamma': 0.5}\n",
      "Checking for {'alpha': 0.5, 'beta': 0.6, 'gamma': 0.6}\n",
      "Checking for {'alpha': 0.6, 'beta': 0.1, 'gamma': 0.1}\n",
      "Checking for {'alpha': 0.6, 'beta': 0.1, 'gamma': 0.2}\n"
     ]
    },
    {
     "name": "stderr",
     "output_type": "stream",
     "text": [
      "<ipython-input-79-8ea7916db468>:19: FutureWarning: the 'smoothing_slope'' keyword is deprecated, use 'smoothing_trend' instead.\n",
      "  model.fit(smoothing_level=a, smoothing_slope=b, smoothing_seasonal=g)\n",
      "C:\\Users\\Anant\\anaconda3\\lib\\site-packages\\statsmodels\\tsa\\holtwinters\\model.py:915: ConvergenceWarning: Optimization failed to converge. Check mle_retvals.\n",
      "  warnings.warn(\n",
      "C:\\Users\\Anant\\anaconda3\\lib\\site-packages\\statsmodels\\tsa\\base\\tsa_model.py:471: ValueWarning: No frequency information was provided, so inferred frequency MS will be used.\n",
      "  self._init_dates(dates, freq)\n",
      "<ipython-input-79-8ea7916db468>:19: FutureWarning: the 'smoothing_slope'' keyword is deprecated, use 'smoothing_trend' instead.\n",
      "  model.fit(smoothing_level=a, smoothing_slope=b, smoothing_seasonal=g)\n",
      "C:\\Users\\Anant\\anaconda3\\lib\\site-packages\\statsmodels\\tsa\\holtwinters\\model.py:83: RuntimeWarning: overflow encountered in matmul\n",
      "  return err.T @ err\n",
      "C:\\Users\\Anant\\anaconda3\\lib\\site-packages\\statsmodels\\tsa\\base\\tsa_model.py:471: ValueWarning: No frequency information was provided, so inferred frequency MS will be used.\n",
      "  self._init_dates(dates, freq)\n",
      "<ipython-input-79-8ea7916db468>:19: FutureWarning: the 'smoothing_slope'' keyword is deprecated, use 'smoothing_trend' instead.\n",
      "  model.fit(smoothing_level=a, smoothing_slope=b, smoothing_seasonal=g)\n",
      "C:\\Users\\Anant\\anaconda3\\lib\\site-packages\\statsmodels\\tsa\\holtwinters\\model.py:83: RuntimeWarning: overflow encountered in matmul\n",
      "  return err.T @ err\n",
      "C:\\Users\\Anant\\anaconda3\\lib\\site-packages\\statsmodels\\tsa\\base\\tsa_model.py:471: ValueWarning: No frequency information was provided, so inferred frequency MS will be used.\n",
      "  self._init_dates(dates, freq)\n",
      "<ipython-input-79-8ea7916db468>:19: FutureWarning: the 'smoothing_slope'' keyword is deprecated, use 'smoothing_trend' instead.\n",
      "  model.fit(smoothing_level=a, smoothing_slope=b, smoothing_seasonal=g)\n",
      "C:\\Users\\Anant\\anaconda3\\lib\\site-packages\\statsmodels\\tsa\\holtwinters\\model.py:83: RuntimeWarning: overflow encountered in matmul\n",
      "  return err.T @ err\n",
      "C:\\Users\\Anant\\anaconda3\\lib\\site-packages\\statsmodels\\tsa\\base\\tsa_model.py:471: ValueWarning: No frequency information was provided, so inferred frequency MS will be used.\n",
      "  self._init_dates(dates, freq)\n",
      "<ipython-input-79-8ea7916db468>:19: FutureWarning: the 'smoothing_slope'' keyword is deprecated, use 'smoothing_trend' instead.\n",
      "  model.fit(smoothing_level=a, smoothing_slope=b, smoothing_seasonal=g)\n"
     ]
    },
    {
     "name": "stdout",
     "output_type": "stream",
     "text": [
      "Checking for {'alpha': 0.6, 'beta': 0.1, 'gamma': 0.3}\n",
      "Checking for {'alpha': 0.6, 'beta': 0.1, 'gamma': 0.4}\n",
      "Checking for {'alpha': 0.6, 'beta': 0.1, 'gamma': 0.5}\n",
      "Checking for {'alpha': 0.6, 'beta': 0.1, 'gamma': 0.6}\n"
     ]
    },
    {
     "name": "stderr",
     "output_type": "stream",
     "text": [
      "C:\\Users\\Anant\\anaconda3\\lib\\site-packages\\statsmodels\\tsa\\holtwinters\\model.py:83: RuntimeWarning: overflow encountered in matmul\n",
      "  return err.T @ err\n",
      "C:\\Users\\Anant\\anaconda3\\lib\\site-packages\\statsmodels\\tsa\\base\\tsa_model.py:471: ValueWarning: No frequency information was provided, so inferred frequency MS will be used.\n",
      "  self._init_dates(dates, freq)\n",
      "<ipython-input-79-8ea7916db468>:19: FutureWarning: the 'smoothing_slope'' keyword is deprecated, use 'smoothing_trend' instead.\n",
      "  model.fit(smoothing_level=a, smoothing_slope=b, smoothing_seasonal=g)\n",
      "C:\\Users\\Anant\\anaconda3\\lib\\site-packages\\statsmodels\\tsa\\base\\tsa_model.py:471: ValueWarning: No frequency information was provided, so inferred frequency MS will be used.\n",
      "  self._init_dates(dates, freq)\n",
      "<ipython-input-79-8ea7916db468>:19: FutureWarning: the 'smoothing_slope'' keyword is deprecated, use 'smoothing_trend' instead.\n",
      "  model.fit(smoothing_level=a, smoothing_slope=b, smoothing_seasonal=g)\n",
      "C:\\Users\\Anant\\anaconda3\\lib\\site-packages\\statsmodels\\tsa\\holtwinters\\model.py:83: RuntimeWarning: overflow encountered in matmul\n",
      "  return err.T @ err\n",
      "C:\\Users\\Anant\\anaconda3\\lib\\site-packages\\statsmodels\\tsa\\base\\tsa_model.py:471: ValueWarning: No frequency information was provided, so inferred frequency MS will be used.\n",
      "  self._init_dates(dates, freq)\n",
      "<ipython-input-79-8ea7916db468>:19: FutureWarning: the 'smoothing_slope'' keyword is deprecated, use 'smoothing_trend' instead.\n",
      "  model.fit(smoothing_level=a, smoothing_slope=b, smoothing_seasonal=g)\n",
      "C:\\Users\\Anant\\anaconda3\\lib\\site-packages\\statsmodels\\tsa\\holtwinters\\model.py:83: RuntimeWarning: overflow encountered in matmul\n",
      "  return err.T @ err\n"
     ]
    },
    {
     "name": "stdout",
     "output_type": "stream",
     "text": [
      "Checking for {'alpha': 0.6, 'beta': 0.2, 'gamma': 0.1}\n",
      "Checking for {'alpha': 0.6, 'beta': 0.2, 'gamma': 0.2}\n",
      "Checking for {'alpha': 0.6, 'beta': 0.2, 'gamma': 0.3}\n",
      "Checking for {'alpha': 0.6, 'beta': 0.2, 'gamma': 0.4}\n"
     ]
    },
    {
     "name": "stderr",
     "output_type": "stream",
     "text": [
      "C:\\Users\\Anant\\anaconda3\\lib\\site-packages\\statsmodels\\tsa\\base\\tsa_model.py:471: ValueWarning: No frequency information was provided, so inferred frequency MS will be used.\n",
      "  self._init_dates(dates, freq)\n",
      "<ipython-input-79-8ea7916db468>:19: FutureWarning: the 'smoothing_slope'' keyword is deprecated, use 'smoothing_trend' instead.\n",
      "  model.fit(smoothing_level=a, smoothing_slope=b, smoothing_seasonal=g)\n",
      "C:\\Users\\Anant\\anaconda3\\lib\\site-packages\\statsmodels\\tsa\\holtwinters\\model.py:83: RuntimeWarning: overflow encountered in matmul\n",
      "  return err.T @ err\n",
      "C:\\Users\\Anant\\anaconda3\\lib\\site-packages\\statsmodels\\tsa\\base\\tsa_model.py:471: ValueWarning: No frequency information was provided, so inferred frequency MS will be used.\n",
      "  self._init_dates(dates, freq)\n",
      "<ipython-input-79-8ea7916db468>:19: FutureWarning: the 'smoothing_slope'' keyword is deprecated, use 'smoothing_trend' instead.\n",
      "  model.fit(smoothing_level=a, smoothing_slope=b, smoothing_seasonal=g)\n",
      "C:\\Users\\Anant\\anaconda3\\lib\\site-packages\\statsmodels\\tsa\\holtwinters\\model.py:83: RuntimeWarning: overflow encountered in matmul\n",
      "  return err.T @ err\n",
      "C:\\Users\\Anant\\anaconda3\\lib\\site-packages\\statsmodels\\tsa\\base\\tsa_model.py:471: ValueWarning: No frequency information was provided, so inferred frequency MS will be used.\n",
      "  self._init_dates(dates, freq)\n",
      "<ipython-input-79-8ea7916db468>:19: FutureWarning: the 'smoothing_slope'' keyword is deprecated, use 'smoothing_trend' instead.\n",
      "  model.fit(smoothing_level=a, smoothing_slope=b, smoothing_seasonal=g)\n",
      "C:\\Users\\Anant\\anaconda3\\lib\\site-packages\\statsmodels\\tsa\\holtwinters\\model.py:83: RuntimeWarning: overflow encountered in matmul\n",
      "  return err.T @ err\n",
      "C:\\Users\\Anant\\anaconda3\\lib\\site-packages\\statsmodels\\tsa\\base\\tsa_model.py:471: ValueWarning: No frequency information was provided, so inferred frequency MS will be used.\n",
      "  self._init_dates(dates, freq)\n",
      "<ipython-input-79-8ea7916db468>:19: FutureWarning: the 'smoothing_slope'' keyword is deprecated, use 'smoothing_trend' instead.\n",
      "  model.fit(smoothing_level=a, smoothing_slope=b, smoothing_seasonal=g)\n",
      "C:\\Users\\Anant\\anaconda3\\lib\\site-packages\\statsmodels\\tsa\\holtwinters\\model.py:83: RuntimeWarning: overflow encountered in matmul\n",
      "  return err.T @ err\n"
     ]
    },
    {
     "name": "stdout",
     "output_type": "stream",
     "text": [
      "Checking for {'alpha': 0.6, 'beta': 0.2, 'gamma': 0.5}\n",
      "Checking for {'alpha': 0.6, 'beta': 0.2, 'gamma': 0.6}\n",
      "Checking for {'alpha': 0.6, 'beta': 0.3, 'gamma': 0.1}\n",
      "Checking for {'alpha': 0.6, 'beta': 0.3, 'gamma': 0.2}\n",
      "Checking for {'alpha': 0.6, 'beta': 0.3, 'gamma': 0.3}\n"
     ]
    },
    {
     "name": "stderr",
     "output_type": "stream",
     "text": [
      "C:\\Users\\Anant\\anaconda3\\lib\\site-packages\\statsmodels\\tsa\\base\\tsa_model.py:471: ValueWarning: No frequency information was provided, so inferred frequency MS will be used.\n",
      "  self._init_dates(dates, freq)\n",
      "<ipython-input-79-8ea7916db468>:19: FutureWarning: the 'smoothing_slope'' keyword is deprecated, use 'smoothing_trend' instead.\n",
      "  model.fit(smoothing_level=a, smoothing_slope=b, smoothing_seasonal=g)\n",
      "C:\\Users\\Anant\\anaconda3\\lib\\site-packages\\statsmodels\\tsa\\holtwinters\\model.py:83: RuntimeWarning: overflow encountered in matmul\n",
      "  return err.T @ err\n",
      "C:\\Users\\Anant\\anaconda3\\lib\\site-packages\\statsmodels\\tsa\\base\\tsa_model.py:471: ValueWarning: No frequency information was provided, so inferred frequency MS will be used.\n",
      "  self._init_dates(dates, freq)\n",
      "<ipython-input-79-8ea7916db468>:19: FutureWarning: the 'smoothing_slope'' keyword is deprecated, use 'smoothing_trend' instead.\n",
      "  model.fit(smoothing_level=a, smoothing_slope=b, smoothing_seasonal=g)\n",
      "C:\\Users\\Anant\\anaconda3\\lib\\site-packages\\statsmodels\\tsa\\holtwinters\\model.py:83: RuntimeWarning: overflow encountered in matmul\n",
      "  return err.T @ err\n",
      "C:\\Users\\Anant\\anaconda3\\lib\\site-packages\\statsmodels\\tsa\\base\\tsa_model.py:471: ValueWarning: No frequency information was provided, so inferred frequency MS will be used.\n",
      "  self._init_dates(dates, freq)\n",
      "<ipython-input-79-8ea7916db468>:19: FutureWarning: the 'smoothing_slope'' keyword is deprecated, use 'smoothing_trend' instead.\n",
      "  model.fit(smoothing_level=a, smoothing_slope=b, smoothing_seasonal=g)\n",
      "C:\\Users\\Anant\\anaconda3\\lib\\site-packages\\statsmodels\\tsa\\holtwinters\\model.py:83: RuntimeWarning: overflow encountered in matmul\n",
      "  return err.T @ err\n",
      "C:\\Users\\Anant\\anaconda3\\lib\\site-packages\\statsmodels\\tsa\\base\\tsa_model.py:471: ValueWarning: No frequency information was provided, so inferred frequency MS will be used.\n",
      "  self._init_dates(dates, freq)\n",
      "<ipython-input-79-8ea7916db468>:19: FutureWarning: the 'smoothing_slope'' keyword is deprecated, use 'smoothing_trend' instead.\n",
      "  model.fit(smoothing_level=a, smoothing_slope=b, smoothing_seasonal=g)\n",
      "C:\\Users\\Anant\\anaconda3\\lib\\site-packages\\statsmodels\\tsa\\holtwinters\\model.py:83: RuntimeWarning: overflow encountered in matmul\n",
      "  return err.T @ err\n",
      "C:\\Users\\Anant\\anaconda3\\lib\\site-packages\\statsmodels\\tsa\\base\\tsa_model.py:471: ValueWarning: No frequency information was provided, so inferred frequency MS will be used.\n",
      "  self._init_dates(dates, freq)\n",
      "<ipython-input-79-8ea7916db468>:19: FutureWarning: the 'smoothing_slope'' keyword is deprecated, use 'smoothing_trend' instead.\n",
      "  model.fit(smoothing_level=a, smoothing_slope=b, smoothing_seasonal=g)\n"
     ]
    },
    {
     "name": "stdout",
     "output_type": "stream",
     "text": [
      "Checking for {'alpha': 0.6, 'beta': 0.3, 'gamma': 0.4}\n",
      "Checking for {'alpha': 0.6, 'beta': 0.3, 'gamma': 0.5}\n",
      "Checking for {'alpha': 0.6, 'beta': 0.3, 'gamma': 0.6}\n"
     ]
    },
    {
     "name": "stderr",
     "output_type": "stream",
     "text": [
      "C:\\Users\\Anant\\anaconda3\\lib\\site-packages\\statsmodels\\tsa\\holtwinters\\model.py:83: RuntimeWarning: overflow encountered in matmul\n",
      "  return err.T @ err\n",
      "C:\\Users\\Anant\\anaconda3\\lib\\site-packages\\statsmodels\\tsa\\base\\tsa_model.py:471: ValueWarning: No frequency information was provided, so inferred frequency MS will be used.\n",
      "  self._init_dates(dates, freq)\n",
      "<ipython-input-79-8ea7916db468>:19: FutureWarning: the 'smoothing_slope'' keyword is deprecated, use 'smoothing_trend' instead.\n",
      "  model.fit(smoothing_level=a, smoothing_slope=b, smoothing_seasonal=g)\n",
      "C:\\Users\\Anant\\anaconda3\\lib\\site-packages\\statsmodels\\tsa\\holtwinters\\model.py:83: RuntimeWarning: overflow encountered in matmul\n",
      "  return err.T @ err\n",
      "C:\\Users\\Anant\\anaconda3\\lib\\site-packages\\statsmodels\\tsa\\holtwinters\\model.py:915: ConvergenceWarning: Optimization failed to converge. Check mle_retvals.\n",
      "  warnings.warn(\n",
      "C:\\Users\\Anant\\anaconda3\\lib\\site-packages\\statsmodels\\tsa\\base\\tsa_model.py:471: ValueWarning: No frequency information was provided, so inferred frequency MS will be used.\n",
      "  self._init_dates(dates, freq)\n",
      "<ipython-input-79-8ea7916db468>:19: FutureWarning: the 'smoothing_slope'' keyword is deprecated, use 'smoothing_trend' instead.\n",
      "  model.fit(smoothing_level=a, smoothing_slope=b, smoothing_seasonal=g)\n",
      "C:\\Users\\Anant\\anaconda3\\lib\\site-packages\\statsmodels\\tsa\\holtwinters\\model.py:915: ConvergenceWarning: Optimization failed to converge. Check mle_retvals.\n",
      "  warnings.warn(\n",
      "C:\\Users\\Anant\\anaconda3\\lib\\site-packages\\statsmodels\\tsa\\base\\tsa_model.py:471: ValueWarning: No frequency information was provided, so inferred frequency MS will be used.\n",
      "  self._init_dates(dates, freq)\n",
      "<ipython-input-79-8ea7916db468>:19: FutureWarning: the 'smoothing_slope'' keyword is deprecated, use 'smoothing_trend' instead.\n",
      "  model.fit(smoothing_level=a, smoothing_slope=b, smoothing_seasonal=g)\n",
      "C:\\Users\\Anant\\anaconda3\\lib\\site-packages\\statsmodels\\tsa\\holtwinters\\model.py:83: RuntimeWarning: overflow encountered in matmul\n",
      "  return err.T @ err\n",
      "C:\\Users\\Anant\\anaconda3\\lib\\site-packages\\statsmodels\\tsa\\base\\tsa_model.py:471: ValueWarning: No frequency information was provided, so inferred frequency MS will be used.\n",
      "  self._init_dates(dates, freq)\n",
      "<ipython-input-79-8ea7916db468>:19: FutureWarning: the 'smoothing_slope'' keyword is deprecated, use 'smoothing_trend' instead.\n",
      "  model.fit(smoothing_level=a, smoothing_slope=b, smoothing_seasonal=g)\n",
      "C:\\Users\\Anant\\anaconda3\\lib\\site-packages\\statsmodels\\tsa\\holtwinters\\model.py:83: RuntimeWarning: overflow encountered in matmul\n",
      "  return err.T @ err\n",
      "C:\\Users\\Anant\\anaconda3\\lib\\site-packages\\statsmodels\\tsa\\base\\tsa_model.py:471: ValueWarning: No frequency information was provided, so inferred frequency MS will be used.\n",
      "  self._init_dates(dates, freq)\n",
      "<ipython-input-79-8ea7916db468>:19: FutureWarning: the 'smoothing_slope'' keyword is deprecated, use 'smoothing_trend' instead.\n",
      "  model.fit(smoothing_level=a, smoothing_slope=b, smoothing_seasonal=g)\n",
      "C:\\Users\\Anant\\anaconda3\\lib\\site-packages\\statsmodels\\tsa\\holtwinters\\model.py:83: RuntimeWarning: overflow encountered in matmul\n",
      "  return err.T @ err\n",
      "C:\\Users\\Anant\\anaconda3\\lib\\site-packages\\statsmodels\\tsa\\base\\tsa_model.py:471: ValueWarning: No frequency information was provided, so inferred frequency MS will be used.\n",
      "  self._init_dates(dates, freq)\n",
      "<ipython-input-79-8ea7916db468>:19: FutureWarning: the 'smoothing_slope'' keyword is deprecated, use 'smoothing_trend' instead.\n",
      "  model.fit(smoothing_level=a, smoothing_slope=b, smoothing_seasonal=g)\n"
     ]
    },
    {
     "name": "stdout",
     "output_type": "stream",
     "text": [
      "Checking for {'alpha': 0.6, 'beta': 0.4, 'gamma': 0.1}\n",
      "Checking for {'alpha': 0.6, 'beta': 0.4, 'gamma': 0.2}\n",
      "Checking for {'alpha': 0.6, 'beta': 0.4, 'gamma': 0.3}\n",
      "Checking for {'alpha': 0.6, 'beta': 0.4, 'gamma': 0.4}\n"
     ]
    },
    {
     "name": "stderr",
     "output_type": "stream",
     "text": [
      "C:\\Users\\Anant\\anaconda3\\lib\\site-packages\\statsmodels\\tsa\\holtwinters\\model.py:915: ConvergenceWarning: Optimization failed to converge. Check mle_retvals.\n",
      "  warnings.warn(\n",
      "C:\\Users\\Anant\\anaconda3\\lib\\site-packages\\statsmodels\\tsa\\base\\tsa_model.py:471: ValueWarning: No frequency information was provided, so inferred frequency MS will be used.\n",
      "  self._init_dates(dates, freq)\n",
      "<ipython-input-79-8ea7916db468>:19: FutureWarning: the 'smoothing_slope'' keyword is deprecated, use 'smoothing_trend' instead.\n",
      "  model.fit(smoothing_level=a, smoothing_slope=b, smoothing_seasonal=g)\n",
      "C:\\Users\\Anant\\anaconda3\\lib\\site-packages\\statsmodels\\tsa\\holtwinters\\model.py:915: ConvergenceWarning: Optimization failed to converge. Check mle_retvals.\n",
      "  warnings.warn(\n",
      "C:\\Users\\Anant\\anaconda3\\lib\\site-packages\\statsmodels\\tsa\\base\\tsa_model.py:471: ValueWarning: No frequency information was provided, so inferred frequency MS will be used.\n",
      "  self._init_dates(dates, freq)\n",
      "<ipython-input-79-8ea7916db468>:19: FutureWarning: the 'smoothing_slope'' keyword is deprecated, use 'smoothing_trend' instead.\n",
      "  model.fit(smoothing_level=a, smoothing_slope=b, smoothing_seasonal=g)\n",
      "C:\\Users\\Anant\\anaconda3\\lib\\site-packages\\statsmodels\\tsa\\holtwinters\\model.py:915: ConvergenceWarning: Optimization failed to converge. Check mle_retvals.\n",
      "  warnings.warn(\n",
      "C:\\Users\\Anant\\anaconda3\\lib\\site-packages\\statsmodels\\tsa\\base\\tsa_model.py:471: ValueWarning: No frequency information was provided, so inferred frequency MS will be used.\n",
      "  self._init_dates(dates, freq)\n",
      "<ipython-input-79-8ea7916db468>:19: FutureWarning: the 'smoothing_slope'' keyword is deprecated, use 'smoothing_trend' instead.\n",
      "  model.fit(smoothing_level=a, smoothing_slope=b, smoothing_seasonal=g)\n",
      "C:\\Users\\Anant\\anaconda3\\lib\\site-packages\\statsmodels\\tsa\\holtwinters\\model.py:83: RuntimeWarning: overflow encountered in matmul\n",
      "  return err.T @ err\n",
      "C:\\Users\\Anant\\anaconda3\\lib\\site-packages\\statsmodels\\tsa\\base\\tsa_model.py:471: ValueWarning: No frequency information was provided, so inferred frequency MS will be used.\n",
      "  self._init_dates(dates, freq)\n",
      "<ipython-input-79-8ea7916db468>:19: FutureWarning: the 'smoothing_slope'' keyword is deprecated, use 'smoothing_trend' instead.\n",
      "  model.fit(smoothing_level=a, smoothing_slope=b, smoothing_seasonal=g)\n",
      "C:\\Users\\Anant\\anaconda3\\lib\\site-packages\\statsmodels\\tsa\\holtwinters\\model.py:83: RuntimeWarning: overflow encountered in matmul\n",
      "  return err.T @ err\n"
     ]
    },
    {
     "name": "stdout",
     "output_type": "stream",
     "text": [
      "Checking for {'alpha': 0.6, 'beta': 0.4, 'gamma': 0.5}\n",
      "Checking for {'alpha': 0.6, 'beta': 0.4, 'gamma': 0.6}\n",
      "Checking for {'alpha': 0.6, 'beta': 0.5, 'gamma': 0.1}\n",
      "Checking for {'alpha': 0.6, 'beta': 0.5, 'gamma': 0.2}\n",
      "Checking for {'alpha': 0.6, 'beta': 0.5, 'gamma': 0.3}\n"
     ]
    },
    {
     "name": "stderr",
     "output_type": "stream",
     "text": [
      "C:\\Users\\Anant\\anaconda3\\lib\\site-packages\\statsmodels\\tsa\\base\\tsa_model.py:471: ValueWarning: No frequency information was provided, so inferred frequency MS will be used.\n",
      "  self._init_dates(dates, freq)\n",
      "<ipython-input-79-8ea7916db468>:19: FutureWarning: the 'smoothing_slope'' keyword is deprecated, use 'smoothing_trend' instead.\n",
      "  model.fit(smoothing_level=a, smoothing_slope=b, smoothing_seasonal=g)\n",
      "C:\\Users\\Anant\\anaconda3\\lib\\site-packages\\statsmodels\\tsa\\holtwinters\\model.py:915: ConvergenceWarning: Optimization failed to converge. Check mle_retvals.\n",
      "  warnings.warn(\n",
      "C:\\Users\\Anant\\anaconda3\\lib\\site-packages\\statsmodels\\tsa\\base\\tsa_model.py:471: ValueWarning: No frequency information was provided, so inferred frequency MS will be used.\n",
      "  self._init_dates(dates, freq)\n",
      "<ipython-input-79-8ea7916db468>:19: FutureWarning: the 'smoothing_slope'' keyword is deprecated, use 'smoothing_trend' instead.\n",
      "  model.fit(smoothing_level=a, smoothing_slope=b, smoothing_seasonal=g)\n",
      "C:\\Users\\Anant\\anaconda3\\lib\\site-packages\\statsmodels\\tsa\\holtwinters\\model.py:915: ConvergenceWarning: Optimization failed to converge. Check mle_retvals.\n",
      "  warnings.warn(\n",
      "C:\\Users\\Anant\\anaconda3\\lib\\site-packages\\statsmodels\\tsa\\base\\tsa_model.py:471: ValueWarning: No frequency information was provided, so inferred frequency MS will be used.\n",
      "  self._init_dates(dates, freq)\n",
      "<ipython-input-79-8ea7916db468>:19: FutureWarning: the 'smoothing_slope'' keyword is deprecated, use 'smoothing_trend' instead.\n",
      "  model.fit(smoothing_level=a, smoothing_slope=b, smoothing_seasonal=g)\n",
      "C:\\Users\\Anant\\anaconda3\\lib\\site-packages\\statsmodels\\tsa\\holtwinters\\model.py:915: ConvergenceWarning: Optimization failed to converge. Check mle_retvals.\n",
      "  warnings.warn(\n",
      "C:\\Users\\Anant\\anaconda3\\lib\\site-packages\\statsmodels\\tsa\\base\\tsa_model.py:471: ValueWarning: No frequency information was provided, so inferred frequency MS will be used.\n",
      "  self._init_dates(dates, freq)\n",
      "<ipython-input-79-8ea7916db468>:19: FutureWarning: the 'smoothing_slope'' keyword is deprecated, use 'smoothing_trend' instead.\n",
      "  model.fit(smoothing_level=a, smoothing_slope=b, smoothing_seasonal=g)\n",
      "C:\\Users\\Anant\\anaconda3\\lib\\site-packages\\statsmodels\\tsa\\holtwinters\\model.py:915: ConvergenceWarning: Optimization failed to converge. Check mle_retvals.\n",
      "  warnings.warn(\n",
      "C:\\Users\\Anant\\anaconda3\\lib\\site-packages\\statsmodels\\tsa\\base\\tsa_model.py:471: ValueWarning: No frequency information was provided, so inferred frequency MS will be used.\n",
      "  self._init_dates(dates, freq)\n",
      "<ipython-input-79-8ea7916db468>:19: FutureWarning: the 'smoothing_slope'' keyword is deprecated, use 'smoothing_trend' instead.\n",
      "  model.fit(smoothing_level=a, smoothing_slope=b, smoothing_seasonal=g)\n",
      "C:\\Users\\Anant\\anaconda3\\lib\\site-packages\\statsmodels\\tsa\\holtwinters\\model.py:83: RuntimeWarning: overflow encountered in matmul\n",
      "  return err.T @ err\n",
      "C:\\Users\\Anant\\anaconda3\\lib\\site-packages\\statsmodels\\tsa\\base\\tsa_model.py:471: ValueWarning: No frequency information was provided, so inferred frequency MS will be used.\n",
      "  self._init_dates(dates, freq)\n",
      "<ipython-input-79-8ea7916db468>:19: FutureWarning: the 'smoothing_slope'' keyword is deprecated, use 'smoothing_trend' instead.\n",
      "  model.fit(smoothing_level=a, smoothing_slope=b, smoothing_seasonal=g)\n",
      "C:\\Users\\Anant\\anaconda3\\lib\\site-packages\\statsmodels\\tsa\\holtwinters\\model.py:83: RuntimeWarning: overflow encountered in matmul\n",
      "  return err.T @ err\n"
     ]
    },
    {
     "name": "stdout",
     "output_type": "stream",
     "text": [
      "Checking for {'alpha': 0.6, 'beta': 0.5, 'gamma': 0.4}\n",
      "Checking for {'alpha': 0.6, 'beta': 0.5, 'gamma': 0.5}\n",
      "Checking for {'alpha': 0.6, 'beta': 0.5, 'gamma': 0.6}\n",
      "Checking for {'alpha': 0.6, 'beta': 0.6, 'gamma': 0.1}\n",
      "Checking for {'alpha': 0.6, 'beta': 0.6, 'gamma': 0.2}\n",
      "Checking for {'alpha': 0.6, 'beta': 0.6, 'gamma': 0.3}\n",
      "Checking for {'alpha': 0.6, 'beta': 0.6, 'gamma': 0.4}\n",
      "Checking for {'alpha': 0.6, 'beta': 0.6, 'gamma': 0.5}\n",
      "Checking for {'alpha': 0.6, 'beta': 0.6, 'gamma': 0.6}\n"
     ]
    },
    {
     "name": "stderr",
     "output_type": "stream",
     "text": [
      "C:\\Users\\Anant\\anaconda3\\lib\\site-packages\\statsmodels\\tsa\\base\\tsa_model.py:471: ValueWarning: No frequency information was provided, so inferred frequency MS will be used.\n",
      "  self._init_dates(dates, freq)\n",
      "<ipython-input-79-8ea7916db468>:19: FutureWarning: the 'smoothing_slope'' keyword is deprecated, use 'smoothing_trend' instead.\n",
      "  model.fit(smoothing_level=a, smoothing_slope=b, smoothing_seasonal=g)\n",
      "C:\\Users\\Anant\\anaconda3\\lib\\site-packages\\statsmodels\\tsa\\holtwinters\\model.py:915: ConvergenceWarning: Optimization failed to converge. Check mle_retvals.\n",
      "  warnings.warn(\n",
      "C:\\Users\\Anant\\anaconda3\\lib\\site-packages\\statsmodels\\tsa\\base\\tsa_model.py:471: ValueWarning: No frequency information was provided, so inferred frequency MS will be used.\n",
      "  self._init_dates(dates, freq)\n",
      "<ipython-input-79-8ea7916db468>:19: FutureWarning: the 'smoothing_slope'' keyword is deprecated, use 'smoothing_trend' instead.\n",
      "  model.fit(smoothing_level=a, smoothing_slope=b, smoothing_seasonal=g)\n",
      "C:\\Users\\Anant\\anaconda3\\lib\\site-packages\\statsmodels\\tsa\\holtwinters\\model.py:915: ConvergenceWarning: Optimization failed to converge. Check mle_retvals.\n",
      "  warnings.warn(\n",
      "C:\\Users\\Anant\\anaconda3\\lib\\site-packages\\statsmodels\\tsa\\base\\tsa_model.py:471: ValueWarning: No frequency information was provided, so inferred frequency MS will be used.\n",
      "  self._init_dates(dates, freq)\n",
      "<ipython-input-79-8ea7916db468>:19: FutureWarning: the 'smoothing_slope'' keyword is deprecated, use 'smoothing_trend' instead.\n",
      "  model.fit(smoothing_level=a, smoothing_slope=b, smoothing_seasonal=g)\n",
      "C:\\Users\\Anant\\anaconda3\\lib\\site-packages\\statsmodels\\tsa\\holtwinters\\model.py:915: ConvergenceWarning: Optimization failed to converge. Check mle_retvals.\n",
      "  warnings.warn(\n",
      "C:\\Users\\Anant\\anaconda3\\lib\\site-packages\\statsmodels\\tsa\\base\\tsa_model.py:471: ValueWarning: No frequency information was provided, so inferred frequency MS will be used.\n",
      "  self._init_dates(dates, freq)\n",
      "<ipython-input-79-8ea7916db468>:19: FutureWarning: the 'smoothing_slope'' keyword is deprecated, use 'smoothing_trend' instead.\n",
      "  model.fit(smoothing_level=a, smoothing_slope=b, smoothing_seasonal=g)\n",
      "C:\\Users\\Anant\\anaconda3\\lib\\site-packages\\statsmodels\\tsa\\holtwinters\\model.py:915: ConvergenceWarning: Optimization failed to converge. Check mle_retvals.\n",
      "  warnings.warn(\n"
     ]
    },
    {
     "data": {
      "text/plain": [
       "{'alpha': 0.1, 'beta': 0.4, 'gamma': 0.3, 'mae': array(0.00657369)}"
      ]
     },
     "execution_count": 159,
     "metadata": {},
     "output_type": "execute_result"
    }
   ],
   "source": [
    "auto_hwm(ts, val_split_date ='2019-02-01' , alpha=alpha, beta=beta, gamma=gamma,trend='mul', seasonal='mul', verbose=True)"
   ]
  },
  {
   "cell_type": "code",
   "execution_count": 291,
   "metadata": {},
   "outputs": [
    {
     "name": "stderr",
     "output_type": "stream",
     "text": [
      "C:\\Users\\Anant\\anaconda3\\lib\\site-packages\\statsmodels\\tsa\\base\\tsa_model.py:471: ValueWarning: No frequency information was provided, so inferred frequency MS will be used.\n",
      "  self._init_dates(dates, freq)\n",
      "<ipython-input-291-27f4af5ce26f>:1: FutureWarning: the 'smoothing_slope'' keyword is deprecated, use 'smoothing_trend' instead.\n",
      "  ets_model = ExponentialSmoothing(ts, trend='mul', seasonal='mul').fit(smoothing_level=0.1,smoothing_slope=0.4, smoothing_seasonal=0.3)\n",
      "C:\\Users\\Anant\\anaconda3\\lib\\site-packages\\statsmodels\\tsa\\holtwinters\\model.py:83: RuntimeWarning: overflow encountered in matmul\n",
      "  return err.T @ err\n"
     ]
    }
   ],
   "source": [
    "ets_model = ExponentialSmoothing(ts, trend='mul', seasonal='mul').fit(smoothing_level=0.1,smoothing_slope=0.4, smoothing_seasonal=0.3)"
   ]
  },
  {
   "cell_type": "code",
   "execution_count": 293,
   "metadata": {},
   "outputs": [],
   "source": [
    "train = ts['1973-01-01':'2019-02-01']  # Model on the train data"
   ]
  },
  {
   "cell_type": "code",
   "execution_count": 294,
   "metadata": {},
   "outputs": [],
   "source": [
    "test = ts['2019-03-01':]"
   ]
  },
  {
   "cell_type": "code",
   "execution_count": 338,
   "metadata": {},
   "outputs": [
    {
     "name": "stderr",
     "output_type": "stream",
     "text": [
      "C:\\Users\\Anant\\anaconda3\\lib\\site-packages\\statsmodels\\tsa\\base\\tsa_model.py:471: ValueWarning: No frequency information was provided, so inferred frequency MS will be used.\n",
      "  self._init_dates(dates, freq)\n",
      "<ipython-input-338-d09e7073877c>:1: FutureWarning: the 'smoothing_slope'' keyword is deprecated, use 'smoothing_trend' instead.\n",
      "  ets_model1 = ExponentialSmoothing(train, trend='mul', seasonal='mul').fit(smoothing_level=0.1, smoothing_slope=0.4, smoothing_seasonal=0.3)\n",
      "C:\\Users\\Anant\\anaconda3\\lib\\site-packages\\statsmodels\\tsa\\holtwinters\\model.py:83: RuntimeWarning: overflow encountered in matmul\n",
      "  return err.T @ err\n"
     ]
    }
   ],
   "source": [
    "ets_model1 = ExponentialSmoothing(train, trend='mul', seasonal='mul').fit(smoothing_level=0.1, smoothing_slope=0.4, smoothing_seasonal=0.3)"
   ]
  },
  {
   "cell_type": "code",
   "execution_count": 339,
   "metadata": {},
   "outputs": [
    {
     "name": "stdout",
     "output_type": "stream",
     "text": [
      "                       ExponentialSmoothing Model Results                       \n",
      "================================================================================\n",
      "Dep. Variable:                   consum   No. Observations:                  554\n",
      "Model:             ExponentialSmoothing   SSE                           3419.031\n",
      "Optimized:                         True   AIC                           1040.251\n",
      "Trend:                   Multiplicative   BIC                           1109.326\n",
      "Seasonal:                Multiplicative   AICC                          1041.530\n",
      "Seasonal Periods:                    12   Date:                 Mon, 19 Dec 2022\n",
      "Box-Cox:                          False   Time:                         15:20:19\n",
      "Box-Cox Coeff.:                    None                                         \n",
      "=================================================================================\n",
      "                          coeff                 code              optimized      \n",
      "---------------------------------------------------------------------------------\n",
      "smoothing_level               0.1000000                alpha                False\n",
      "smoothing_trend               0.4000000                 beta                False\n",
      "smoothing_seasonal            0.3000000                gamma                False\n",
      "initial_level                 37.249266                  l.0                 True\n",
      "initial_trend                 1.0118410                  b.0                 True\n",
      "initial_seasons.0             0.9697454                  s.0                 True\n",
      "initial_seasons.1             0.9425026                  s.1                 True\n",
      "initial_seasons.2             0.8942236                  s.2                 True\n",
      "initial_seasons.3             0.8515683                  s.3                 True\n",
      "initial_seasons.4             0.8500059                  s.4                 True\n",
      "initial_seasons.5             0.9288623                  s.5                 True\n",
      "initial_seasons.6             1.0050622                  s.6                 True\n",
      "initial_seasons.7             1.0357098                  s.7                 True\n",
      "initial_seasons.8             0.9853732                  s.8                 True\n",
      "initial_seasons.9             0.9045749                  s.9                 True\n",
      "initial_seasons.10            0.8923559                 s.10                 True\n",
      "initial_seasons.11            0.9260266                 s.11                 True\n",
      "---------------------------------------------------------------------------------\n"
     ]
    }
   ],
   "source": [
    "print(ets_model1.summary())"
   ]
  },
  {
   "cell_type": "code",
   "execution_count": 340,
   "metadata": {},
   "outputs": [],
   "source": [
    "f_cast = ets_model1.forecast(7)"
   ]
  },
  {
   "cell_type": "code",
   "execution_count": 341,
   "metadata": {},
   "outputs": [
    {
     "data": {
      "text/plain": [
       "2019-03-01     94.414027\n",
       "2019-04-01     88.712539\n",
       "2019-05-01     94.852507\n",
       "2019-06-01    110.055289\n",
       "2019-07-01    121.969575\n",
       "2019-08-01    120.967989\n",
       "2019-09-01    108.680342\n",
       "Freq: MS, dtype: float64"
      ]
     },
     "execution_count": 341,
     "metadata": {},
     "output_type": "execute_result"
    }
   ],
   "source": [
    "f_cast"
   ]
  },
  {
   "cell_type": "code",
   "execution_count": 342,
   "metadata": {},
   "outputs": [
    {
     "data": {
      "text/plain": [
       "DATE\n",
       "2019-03-01     93.8406\n",
       "2019-04-01     89.1873\n",
       "2019-05-01     97.5860\n",
       "2019-06-01    110.8580\n",
       "2019-07-01    122.1014\n",
       "2019-08-01    121.7765\n",
       "2019-09-01    109.7190\n",
       "Name: consum, dtype: float64"
      ]
     },
     "execution_count": 342,
     "metadata": {},
     "output_type": "execute_result"
    }
   ],
   "source": [
    "test"
   ]
  },
  {
   "cell_type": "code",
   "execution_count": 302,
   "metadata": {},
   "outputs": [
    {
     "data": {
      "text/plain": [
       "1.220095156076127"
      ]
     },
     "execution_count": 302,
     "metadata": {},
     "output_type": "execute_result"
    }
   ],
   "source": [
    "from sklearn.metrics import mean_squared_error as mse\n",
    "np.sqrt(mse(test,f_cast))"
   ]
  },
  {
   "cell_type": "code",
   "execution_count": 303,
   "metadata": {},
   "outputs": [],
   "source": [
    "pred = ets_model1.fittedvalues['1973-01-01':]"
   ]
  },
  {
   "cell_type": "code",
   "execution_count": 304,
   "metadata": {},
   "outputs": [],
   "source": [
    "actual = train['1973-01-01':]"
   ]
  },
  {
   "cell_type": "code",
   "execution_count": 305,
   "metadata": {},
   "outputs": [
    {
     "data": {
      "text/plain": [
       "2.4842575208848126"
      ]
     },
     "execution_count": 305,
     "metadata": {},
     "output_type": "execute_result"
    }
   ],
   "source": [
    "np.sqrt(mse(actual,pred))"
   ]
  },
  {
   "cell_type": "code",
   "execution_count": 172,
   "metadata": {},
   "outputs": [],
   "source": [
    "from sklearn.metrics import mean_absolute_percentage_error as mape"
   ]
  },
  {
   "cell_type": "code",
   "execution_count": 173,
   "metadata": {},
   "outputs": [
    {
     "data": {
      "text/plain": [
       "0.009124474665316787"
      ]
     },
     "execution_count": 173,
     "metadata": {},
     "output_type": "execute_result"
    }
   ],
   "source": [
    "mape(test,f_cast)"
   ]
  },
  {
   "cell_type": "code",
   "execution_count": 174,
   "metadata": {},
   "outputs": [
    {
     "data": {
      "text/plain": [
       "0.02384310695465942"
      ]
     },
     "execution_count": 174,
     "metadata": {},
     "output_type": "execute_result"
    }
   ],
   "source": [
    "mape(train,pred)"
   ]
  },
  {
   "cell_type": "code",
   "execution_count": 175,
   "metadata": {},
   "outputs": [
    {
     "data": {
      "text/plain": [
       "1.2174862760949317"
      ]
     },
     "execution_count": 175,
     "metadata": {},
     "output_type": "execute_result"
    }
   ],
   "source": [
    "(np.sqrt(np.mean(np.square((test - f_cast) / test)))) * 100"
   ]
  },
  {
   "cell_type": "code",
   "execution_count": 176,
   "metadata": {},
   "outputs": [
    {
     "data": {
      "text/plain": [
       "3.068378694791423"
      ]
     },
     "execution_count": 176,
     "metadata": {},
     "output_type": "execute_result"
    }
   ],
   "source": [
    "(np.sqrt(np.mean(np.square((train - pred) / train)))) * 100"
   ]
  },
  {
   "cell_type": "code",
   "execution_count": 178,
   "metadata": {},
   "outputs": [],
   "source": [
    "# arima model\n",
    "tsdif = ts.diff().dropna()"
   ]
  },
  {
   "cell_type": "code",
   "execution_count": 181,
   "metadata": {},
   "outputs": [
    {
     "data": {
      "image/png": "[encoded data removed]",
      "text/plain": [
       "<Figure size 432x288 with 1 Axes>"
      ]
     },
     "execution_count": 181,
     "metadata": {},
     "output_type": "execute_result"
    },
    {
     "data": {
      "image/png": "[encoded data removed]",
      "text/plain": [
       "<Figure size 432x288 with 1 Axes>"
      ]
     },
     "metadata": {
      "needs_background": "light"
     },
     "output_type": "display_data"
    }
   ],
   "source": [
    "smt.graphics.plot_acf(tsdif)"
   ]
  },
  {
   "cell_type": "code",
   "execution_count": 184,
   "metadata": {},
   "outputs": [
    {
     "name": "stderr",
     "output_type": "stream",
     "text": [
      "C:\\Users\\Anant\\anaconda3\\lib\\site-packages\\statsmodels\\graphics\\tsaplots.py:348: FutureWarning: The default method 'yw' can produce PACF values outside of the [-1,1] interval. After 0.13, the default will change tounadjusted Yule-Walker ('ywm'). You can use this method now by setting method='ywm'.\n",
      "  warnings.warn(\n"
     ]
    },
    {
     "data": {
      "image/png": "[encoded data removed]",
      "text/plain": [
       "<Figure size 432x288 with 1 Axes>"
      ]
     },
     "execution_count": 184,
     "metadata": {},
     "output_type": "execute_result"
    },
    {
     "data": {
      "image/png": "[encoded data removed]",
      "text/plain": [
       "<Figure size 432x288 with 1 Axes>"
      ]
     },
     "metadata": {
      "needs_background": "light"
     },
     "output_type": "display_data"
    }
   ],
   "source": [
    "smt.graphics.plot_pacf(tsdif)"
   ]
  },
  {
   "cell_type": "code",
   "execution_count": 357,
   "metadata": {},
   "outputs": [],
   "source": [
    "#spliting the data into train and test sets\n",
    "x = ts.values\n",
    "size = int(len(ts)*0.75)\n",
    "train, test = x[0:size], x[size:len(x)]"
   ]
  },
  {
   "cell_type": "code",
   "execution_count": 464,
   "metadata": {},
   "outputs": [],
   "source": [
    "# fitting of the ARIMA model to the train dataset\n",
    "from statsmodels.tsa.arima.model import ARIMA\n",
    "model = ARIMA(train,order = (2,1,1))\n",
    "model_fit = model.fit()"
   ]
  },
  {
   "cell_type": "code",
   "execution_count": 465,
   "metadata": {},
   "outputs": [
    {
     "data": {
      "text/html": [
       "<table class=\"simpletable\">\n",
       "<caption>SARIMAX Results</caption>\n",
       "<tr>\n",
       "  <th>Dep. Variable:</th>           <td>y</td>        <th>  No. Observations:  </th>    <td>420</td>   \n",
       "</tr>\n",
       "<tr>\n",
       "  <th>Model:</th>            <td>ARIMA(2, 1, 1)</td>  <th>  Log Likelihood     </th> <td>-1053.984</td>\n",
       "</tr>\n",
       "<tr>\n",
       "  <th>Date:</th>            <td>Mon, 19 Dec 2022</td> <th>  AIC                </th> <td>2115.969</td> \n",
       "</tr>\n",
       "<tr>\n",
       "  <th>Time:</th>                <td>18:16:09</td>     <th>  BIC                </th> <td>2132.120</td> \n",
       "</tr>\n",
       "<tr>\n",
       "  <th>Sample:</th>                  <td>0</td>        <th>  HQIC               </th> <td>2122.353</td> \n",
       "</tr>\n",
       "<tr>\n",
       "  <th></th>                      <td> - 420</td>      <th>                     </th>     <td> </td>    \n",
       "</tr>\n",
       "<tr>\n",
       "  <th>Covariance Type:</th>        <td>opg</td>       <th>                     </th>     <td> </td>    \n",
       "</tr>\n",
       "</table>\n",
       "<table class=\"simpletable\">\n",
       "<tr>\n",
       "     <td></td>       <th>coef</th>     <th>std err</th>      <th>z</th>      <th>P>|z|</th>  <th>[0.025</th>    <th>0.975]</th>  \n",
       "</tr>\n",
       "<tr>\n",
       "  <th>ar.L1</th>  <td>    1.0274</td> <td>    0.029</td> <td>   36.015</td> <td> 0.000</td> <td>    0.972</td> <td>    1.083</td>\n",
       "</tr>\n",
       "<tr>\n",
       "  <th>ar.L2</th>  <td>   -0.8105</td> <td>    0.025</td> <td>  -31.852</td> <td> 0.000</td> <td>   -0.860</td> <td>   -0.761</td>\n",
       "</tr>\n",
       "<tr>\n",
       "  <th>ma.L1</th>  <td>   -0.7696</td> <td>    0.037</td> <td>  -20.772</td> <td> 0.000</td> <td>   -0.842</td> <td>   -0.697</td>\n",
       "</tr>\n",
       "<tr>\n",
       "  <th>sigma2</th> <td>    8.9054</td> <td>    0.529</td> <td>   16.835</td> <td> 0.000</td> <td>    7.869</td> <td>    9.942</td>\n",
       "</tr>\n",
       "</table>\n",
       "<table class=\"simpletable\">\n",
       "<tr>\n",
       "  <th>Ljung-Box (L1) (Q):</th>     <td>0.35</td> <th>  Jarque-Bera (JB):  </th> <td>89.15</td>\n",
       "</tr>\n",
       "<tr>\n",
       "  <th>Prob(Q):</th>                <td>0.56</td> <th>  Prob(JB):          </th> <td>0.00</td> \n",
       "</tr>\n",
       "<tr>\n",
       "  <th>Heteroskedasticity (H):</th> <td>7.32</td> <th>  Skew:              </th> <td>-0.68</td>\n",
       "</tr>\n",
       "<tr>\n",
       "  <th>Prob(H) (two-sided):</th>    <td>0.00</td> <th>  Kurtosis:          </th> <td>4.80</td> \n",
       "</tr>\n",
       "</table><br/><br/>Warnings:<br/>[1] Covariance matrix calculated using the outer product of gradients (complex-step)."
      ],
      "text/plain": [
       "<class 'statsmodels.iolib.summary.Summary'>\n",
       "\"\"\"\n",
       "                               SARIMAX Results                                \n",
       "==============================================================================\n",
       "Dep. Variable:                      y   No. Observations:                  420\n",
       "Model:                 ARIMA(2, 1, 1)   Log Likelihood               -1053.984\n",
       "Date:                Mon, 19 Dec 2022   AIC                           2115.969\n",
       "Time:                        18:16:09   BIC                           2132.120\n",
       "Sample:                             0   HQIC                          2122.353\n",
       "                                - 420                                         \n",
       "Covariance Type:                  opg                                         \n",
       "==============================================================================\n",
       "                 coef    std err          z      P>|z|      [0.025      0.975]\n",
       "------------------------------------------------------------------------------\n",
       "ar.L1          1.0274      0.029     36.015      0.000       0.972       1.083\n",
       "ar.L2         -0.8105      0.025    -31.852      0.000      -0.860      -0.761\n",
       "ma.L1         -0.7696      0.037    -20.772      0.000      -0.842      -0.697\n",
       "sigma2         8.9054      0.529     16.835      0.000       7.869       9.942\n",
       "===================================================================================\n",
       "Ljung-Box (L1) (Q):                   0.35   Jarque-Bera (JB):                89.15\n",
       "Prob(Q):                              0.56   Prob(JB):                         0.00\n",
       "Heteroskedasticity (H):               7.32   Skew:                            -0.68\n",
       "Prob(H) (two-sided):                  0.00   Kurtosis:                         4.80\n",
       "===================================================================================\n",
       "\n",
       "Warnings:\n",
       "[1] Covariance matrix calculated using the outer product of gradients (complex-step).\n",
       "\"\"\""
      ]
     },
     "execution_count": 465,
     "metadata": {},
     "output_type": "execute_result"
    }
   ],
   "source": [
    "model_fit.summary()"
   ]
  },
  {
   "cell_type": "code",
   "execution_count": 466,
   "metadata": {},
   "outputs": [],
   "source": [
    "fore = model_fit.predict(start=len(train), end=len(x)-1, dynamic=False)"
   ]
  },
  {
   "cell_type": "code",
   "execution_count": 467,
   "metadata": {},
   "outputs": [],
   "source": [
    "fore1 = model_fit.predict(start=1, end=len(train), dynamic=False)"
   ]
  },
  {
   "cell_type": "code",
   "execution_count": 468,
   "metadata": {},
   "outputs": [
    {
     "data": {
      "text/plain": [
       "4.311041406981426"
      ]
     },
     "execution_count": 468,
     "metadata": {},
     "output_type": "execute_result"
    }
   ],
   "source": [
    "np.sqrt(mse(train,fore1))"
   ]
  },
  {
   "cell_type": "code",
   "execution_count": 469,
   "metadata": {},
   "outputs": [
    {
     "data": {
      "text/plain": [
       "9.924942716748184"
      ]
     },
     "execution_count": 469,
     "metadata": {},
     "output_type": "execute_result"
    }
   ],
   "source": [
    "np.sqrt(mse(test,fore))"
   ]
  },
  {
   "cell_type": "code",
   "execution_count": 470,
   "metadata": {},
   "outputs": [
    {
     "data": {
      "text/plain": [
       "0.0835742436152889"
      ]
     },
     "execution_count": 470,
     "metadata": {},
     "output_type": "execute_result"
    }
   ],
   "source": [
    "mape(test,fore)"
   ]
  },
  {
   "cell_type": "code",
   "execution_count": 471,
   "metadata": {},
   "outputs": [
    {
     "data": {
      "text/plain": [
       "9.67679898104067"
      ]
     },
     "execution_count": 471,
     "metadata": {},
     "output_type": "execute_result"
    }
   ],
   "source": [
    "(np.sqrt(np.mean(np.square((test - fore) / test)))) * 100"
   ]
  },
  {
   "cell_type": "code",
   "execution_count": null,
   "metadata": {},
   "outputs": [],
   "source": []
  },
  {
   "cell_type": "code",
   "execution_count": 448,
   "metadata": {},
   "outputs": [],
   "source": [
    "from pmdarima import auto_arima"
   ]
  },
  {
   "cell_type": "code",
   "execution_count": 449,
   "metadata": {},
   "outputs": [],
   "source": [
    "arima = auto_arima(train, d=1, seasonal=False)"
   ]
  },
  {
   "cell_type": "code",
   "execution_count": 450,
   "metadata": {},
   "outputs": [
    {
     "data": {
      "text/html": [
       "<table class=\"simpletable\">\n",
       "<caption>SARIMAX Results</caption>\n",
       "<tr>\n",
       "  <th>Dep. Variable:</th>           <td>y</td>        <th>  No. Observations:  </th>    <td>420</td>   \n",
       "</tr>\n",
       "<tr>\n",
       "  <th>Model:</th>           <td>SARIMAX(2, 1, 1)</td> <th>  Log Likelihood     </th> <td>-1037.652</td>\n",
       "</tr>\n",
       "<tr>\n",
       "  <th>Date:</th>            <td>Mon, 19 Dec 2022</td> <th>  AIC                </th> <td>2085.304</td> \n",
       "</tr>\n",
       "<tr>\n",
       "  <th>Time:</th>                <td>17:13:51</td>     <th>  BIC                </th> <td>2105.493</td> \n",
       "</tr>\n",
       "<tr>\n",
       "  <th>Sample:</th>                  <td>0</td>        <th>  HQIC               </th> <td>2093.284</td> \n",
       "</tr>\n",
       "<tr>\n",
       "  <th></th>                      <td> - 420</td>      <th>                     </th>     <td> </td>    \n",
       "</tr>\n",
       "<tr>\n",
       "  <th>Covariance Type:</th>        <td>opg</td>       <th>                     </th>     <td> </td>    \n",
       "</tr>\n",
       "</table>\n",
       "<table class=\"simpletable\">\n",
       "<tr>\n",
       "      <td></td>         <th>coef</th>     <th>std err</th>      <th>z</th>      <th>P>|z|</th>  <th>[0.025</th>    <th>0.975]</th>  \n",
       "</tr>\n",
       "<tr>\n",
       "  <th>intercept</th> <td>    0.1166</td> <td>    0.011</td> <td>   10.546</td> <td> 0.000</td> <td>    0.095</td> <td>    0.138</td>\n",
       "</tr>\n",
       "<tr>\n",
       "  <th>ar.L1</th>     <td>    1.0534</td> <td>    0.026</td> <td>   39.919</td> <td> 0.000</td> <td>    1.002</td> <td>    1.105</td>\n",
       "</tr>\n",
       "<tr>\n",
       "  <th>ar.L2</th>     <td>   -0.8030</td> <td>    0.029</td> <td>  -27.800</td> <td> 0.000</td> <td>   -0.860</td> <td>   -0.746</td>\n",
       "</tr>\n",
       "<tr>\n",
       "  <th>ma.L1</th>     <td>   -0.9348</td> <td>    0.018</td> <td>  -51.434</td> <td> 0.000</td> <td>   -0.970</td> <td>   -0.899</td>\n",
       "</tr>\n",
       "<tr>\n",
       "  <th>sigma2</th>    <td>    8.2139</td> <td>    0.488</td> <td>   16.847</td> <td> 0.000</td> <td>    7.258</td> <td>    9.170</td>\n",
       "</tr>\n",
       "</table>\n",
       "<table class=\"simpletable\">\n",
       "<tr>\n",
       "  <th>Ljung-Box (L1) (Q):</th>     <td>4.96</td> <th>  Jarque-Bera (JB):  </th> <td>68.25</td>\n",
       "</tr>\n",
       "<tr>\n",
       "  <th>Prob(Q):</th>                <td>0.03</td> <th>  Prob(JB):          </th> <td>0.00</td> \n",
       "</tr>\n",
       "<tr>\n",
       "  <th>Heteroskedasticity (H):</th> <td>5.82</td> <th>  Skew:              </th> <td>-0.69</td>\n",
       "</tr>\n",
       "<tr>\n",
       "  <th>Prob(H) (two-sided):</th>    <td>0.00</td> <th>  Kurtosis:          </th> <td>4.42</td> \n",
       "</tr>\n",
       "</table><br/><br/>Warnings:<br/>[1] Covariance matrix calculated using the outer product of gradients (complex-step)."
      ],
      "text/plain": [
       "<class 'statsmodels.iolib.summary.Summary'>\n",
       "\"\"\"\n",
       "                               SARIMAX Results                                \n",
       "==============================================================================\n",
       "Dep. Variable:                      y   No. Observations:                  420\n",
       "Model:               SARIMAX(2, 1, 1)   Log Likelihood               -1037.652\n",
       "Date:                Mon, 19 Dec 2022   AIC                           2085.304\n",
       "Time:                        17:13:51   BIC                           2105.493\n",
       "Sample:                             0   HQIC                          2093.284\n",
       "                                - 420                                         \n",
       "Covariance Type:                  opg                                         \n",
       "==============================================================================\n",
       "                 coef    std err          z      P>|z|      [0.025      0.975]\n",
       "------------------------------------------------------------------------------\n",
       "intercept      0.1166      0.011     10.546      0.000       0.095       0.138\n",
       "ar.L1          1.0534      0.026     39.919      0.000       1.002       1.105\n",
       "ar.L2         -0.8030      0.029    -27.800      0.000      -0.860      -0.746\n",
       "ma.L1         -0.9348      0.018    -51.434      0.000      -0.970      -0.899\n",
       "sigma2         8.2139      0.488     16.847      0.000       7.258       9.170\n",
       "===================================================================================\n",
       "Ljung-Box (L1) (Q):                   4.96   Jarque-Bera (JB):                68.25\n",
       "Prob(Q):                              0.03   Prob(JB):                         0.00\n",
       "Heteroskedasticity (H):               5.82   Skew:                            -0.69\n",
       "Prob(H) (two-sided):                  0.00   Kurtosis:                         4.42\n",
       "===================================================================================\n",
       "\n",
       "Warnings:\n",
       "[1] Covariance matrix calculated using the outer product of gradients (complex-step).\n",
       "\"\"\""
      ]
     },
     "execution_count": 450,
     "metadata": {},
     "output_type": "execute_result"
    }
   ],
   "source": [
    "arima.summary()"
   ]
  },
  {
   "cell_type": "code",
   "execution_count": null,
   "metadata": {},
   "outputs": [],
   "source": []
  },
  {
   "cell_type": "code",
   "execution_count": 536,
   "metadata": {},
   "outputs": [],
   "source": [
    "arima = auto_arima(train, d=1,m=6)"
   ]
  },
  {
   "cell_type": "code",
   "execution_count": 537,
   "metadata": {},
   "outputs": [
    {
     "data": {
      "text/html": [
       "<table class=\"simpletable\">\n",
       "<caption>SARIMAX Results</caption>\n",
       "<tr>\n",
       "  <th>Dep. Variable:</th>                    <td>y</td>                 <th>  No. Observations:  </th>    <td>420</td>  \n",
       "</tr>\n",
       "<tr>\n",
       "  <th>Model:</th>           <td>SARIMAX(5, 1, 1)x(2, 0, [1, 2], 6)</td> <th>  Log Likelihood     </th> <td>-785.001</td>\n",
       "</tr>\n",
       "<tr>\n",
       "  <th>Date:</th>                     <td>Mon, 19 Dec 2022</td>          <th>  AIC                </th> <td>1592.001</td>\n",
       "</tr>\n",
       "<tr>\n",
       "  <th>Time:</th>                         <td>18:30:11</td>              <th>  BIC                </th> <td>1636.418</td>\n",
       "</tr>\n",
       "<tr>\n",
       "  <th>Sample:</th>                           <td>0</td>                 <th>  HQIC               </th> <td>1609.559</td>\n",
       "</tr>\n",
       "<tr>\n",
       "  <th></th>                               <td> - 420</td>               <th>                     </th>     <td> </td>   \n",
       "</tr>\n",
       "<tr>\n",
       "  <th>Covariance Type:</th>                 <td>opg</td>                <th>                     </th>     <td> </td>   \n",
       "</tr>\n",
       "</table>\n",
       "<table class=\"simpletable\">\n",
       "<tr>\n",
       "      <td></td>        <th>coef</th>     <th>std err</th>      <th>z</th>      <th>P>|z|</th>  <th>[0.025</th>    <th>0.975]</th>  \n",
       "</tr>\n",
       "<tr>\n",
       "  <th>ar.L1</th>    <td>    0.7491</td> <td>    0.050</td> <td>   15.036</td> <td> 0.000</td> <td>    0.651</td> <td>    0.847</td>\n",
       "</tr>\n",
       "<tr>\n",
       "  <th>ar.L2</th>    <td>   -0.1675</td> <td>    0.061</td> <td>   -2.750</td> <td> 0.006</td> <td>   -0.287</td> <td>   -0.048</td>\n",
       "</tr>\n",
       "<tr>\n",
       "  <th>ar.L3</th>    <td>    0.1582</td> <td>    0.063</td> <td>    2.500</td> <td> 0.012</td> <td>    0.034</td> <td>    0.282</td>\n",
       "</tr>\n",
       "<tr>\n",
       "  <th>ar.L4</th>    <td>   -0.1438</td> <td>    0.056</td> <td>   -2.569</td> <td> 0.010</td> <td>   -0.253</td> <td>   -0.034</td>\n",
       "</tr>\n",
       "<tr>\n",
       "  <th>ar.L5</th>    <td>    0.1626</td> <td>    0.052</td> <td>    3.145</td> <td> 0.002</td> <td>    0.061</td> <td>    0.264</td>\n",
       "</tr>\n",
       "<tr>\n",
       "  <th>ma.L1</th>    <td>   -0.9818</td> <td>    0.019</td> <td>  -50.967</td> <td> 0.000</td> <td>   -1.020</td> <td>   -0.944</td>\n",
       "</tr>\n",
       "<tr>\n",
       "  <th>ar.S.L6</th>  <td>    0.0034</td> <td>    0.008</td> <td>    0.418</td> <td> 0.676</td> <td>   -0.013</td> <td>    0.019</td>\n",
       "</tr>\n",
       "<tr>\n",
       "  <th>ar.S.L12</th> <td>    0.9923</td> <td>    0.007</td> <td>  147.092</td> <td> 0.000</td> <td>    0.979</td> <td>    1.006</td>\n",
       "</tr>\n",
       "<tr>\n",
       "  <th>ma.S.L6</th>  <td>    0.0057</td> <td>    0.036</td> <td>    0.160</td> <td> 0.873</td> <td>   -0.064</td> <td>    0.076</td>\n",
       "</tr>\n",
       "<tr>\n",
       "  <th>ma.S.L12</th> <td>   -0.6419</td> <td>    0.050</td> <td>  -12.815</td> <td> 0.000</td> <td>   -0.740</td> <td>   -0.544</td>\n",
       "</tr>\n",
       "<tr>\n",
       "  <th>sigma2</th>   <td>    2.2908</td> <td>    0.131</td> <td>   17.456</td> <td> 0.000</td> <td>    2.034</td> <td>    2.548</td>\n",
       "</tr>\n",
       "</table>\n",
       "<table class=\"simpletable\">\n",
       "<tr>\n",
       "  <th>Ljung-Box (L1) (Q):</th>     <td>0.00</td> <th>  Jarque-Bera (JB):  </th> <td>73.34</td>\n",
       "</tr>\n",
       "<tr>\n",
       "  <th>Prob(Q):</th>                <td>0.95</td> <th>  Prob(JB):          </th> <td>0.00</td> \n",
       "</tr>\n",
       "<tr>\n",
       "  <th>Heteroskedasticity (H):</th> <td>3.66</td> <th>  Skew:              </th> <td>0.02</td> \n",
       "</tr>\n",
       "<tr>\n",
       "  <th>Prob(H) (two-sided):</th>    <td>0.00</td> <th>  Kurtosis:          </th> <td>5.05</td> \n",
       "</tr>\n",
       "</table><br/><br/>Warnings:<br/>[1] Covariance matrix calculated using the outer product of gradients (complex-step)."
      ],
      "text/plain": [
       "<class 'statsmodels.iolib.summary.Summary'>\n",
       "\"\"\"\n",
       "                                       SARIMAX Results                                        \n",
       "==============================================================================================\n",
       "Dep. Variable:                                      y   No. Observations:                  420\n",
       "Model:             SARIMAX(5, 1, 1)x(2, 0, [1, 2], 6)   Log Likelihood                -785.001\n",
       "Date:                                Mon, 19 Dec 2022   AIC                           1592.001\n",
       "Time:                                        18:30:11   BIC                           1636.418\n",
       "Sample:                                             0   HQIC                          1609.559\n",
       "                                                - 420                                         \n",
       "Covariance Type:                                  opg                                         \n",
       "==============================================================================\n",
       "                 coef    std err          z      P>|z|      [0.025      0.975]\n",
       "------------------------------------------------------------------------------\n",
       "ar.L1          0.7491      0.050     15.036      0.000       0.651       0.847\n",
       "ar.L2         -0.1675      0.061     -2.750      0.006      -0.287      -0.048\n",
       "ar.L3          0.1582      0.063      2.500      0.012       0.034       0.282\n",
       "ar.L4         -0.1438      0.056     -2.569      0.010      -0.253      -0.034\n",
       "ar.L5          0.1626      0.052      3.145      0.002       0.061       0.264\n",
       "ma.L1         -0.9818      0.019    -50.967      0.000      -1.020      -0.944\n",
       "ar.S.L6        0.0034      0.008      0.418      0.676      -0.013       0.019\n",
       "ar.S.L12       0.9923      0.007    147.092      0.000       0.979       1.006\n",
       "ma.S.L6        0.0057      0.036      0.160      0.873      -0.064       0.076\n",
       "ma.S.L12      -0.6419      0.050    -12.815      0.000      -0.740      -0.544\n",
       "sigma2         2.2908      0.131     17.456      0.000       2.034       2.548\n",
       "===================================================================================\n",
       "Ljung-Box (L1) (Q):                   0.00   Jarque-Bera (JB):                73.34\n",
       "Prob(Q):                              0.95   Prob(JB):                         0.00\n",
       "Heteroskedasticity (H):               3.66   Skew:                             0.02\n",
       "Prob(H) (two-sided):                  0.00   Kurtosis:                         5.05\n",
       "===================================================================================\n",
       "\n",
       "Warnings:\n",
       "[1] Covariance matrix calculated using the outer product of gradients (complex-step).\n",
       "\"\"\""
      ]
     },
     "execution_count": 537,
     "metadata": {},
     "output_type": "execute_result"
    }
   ],
   "source": [
    "arima.summary()"
   ]
  },
  {
   "cell_type": "code",
   "execution_count": 529,
   "metadata": {},
   "outputs": [],
   "source": [
    "# sarima\n",
    "import statsmodels.api as sm\n",
    "\n",
    "model = sm.tsa.statespace.SARIMAX(train, order = (5,1,1), seasonal_order= (2,1,1,6),\n",
    "                                  enforce_stationarity=False,\n",
    "                                  enforce_invertibility=False).fit()"
   ]
  },
  {
   "cell_type": "code",
   "execution_count": 530,
   "metadata": {},
   "outputs": [
    {
     "data": {
      "text/html": [
       "<table class=\"simpletable\">\n",
       "<caption>SARIMAX Results</caption>\n",
       "<tr>\n",
       "  <th>Dep. Variable:</th>                   <td>y</td>                <th>  No. Observations:  </th>    <td>420</td>  \n",
       "</tr>\n",
       "<tr>\n",
       "  <th>Model:</th>           <td>SARIMAX(2, 1, 2)x(0, 1, [1], 12)</td> <th>  Log Likelihood     </th> <td>-728.308</td>\n",
       "</tr>\n",
       "<tr>\n",
       "  <th>Date:</th>                    <td>Mon, 19 Dec 2022</td>         <th>  AIC                </th> <td>1468.616</td>\n",
       "</tr>\n",
       "<tr>\n",
       "  <th>Time:</th>                        <td>18:28:14</td>             <th>  BIC                </th> <td>1492.444</td>\n",
       "</tr>\n",
       "<tr>\n",
       "  <th>Sample:</th>                          <td>0</td>                <th>  HQIC               </th> <td>1478.060</td>\n",
       "</tr>\n",
       "<tr>\n",
       "  <th></th>                              <td> - 420</td>              <th>                     </th>     <td> </td>   \n",
       "</tr>\n",
       "<tr>\n",
       "  <th>Covariance Type:</th>                <td>opg</td>               <th>                     </th>     <td> </td>   \n",
       "</tr>\n",
       "</table>\n",
       "<table class=\"simpletable\">\n",
       "<tr>\n",
       "      <td></td>        <th>coef</th>     <th>std err</th>      <th>z</th>      <th>P>|z|</th>  <th>[0.025</th>    <th>0.975]</th>  \n",
       "</tr>\n",
       "<tr>\n",
       "  <th>ar.L1</th>    <td>   -0.0243</td> <td>    0.184</td> <td>   -0.132</td> <td> 0.895</td> <td>   -0.385</td> <td>    0.337</td>\n",
       "</tr>\n",
       "<tr>\n",
       "  <th>ar.L2</th>    <td>    0.2778</td> <td>    0.135</td> <td>    2.056</td> <td> 0.040</td> <td>    0.013</td> <td>    0.543</td>\n",
       "</tr>\n",
       "<tr>\n",
       "  <th>ma.L1</th>    <td>   -0.2269</td> <td>    0.167</td> <td>   -1.360</td> <td> 0.174</td> <td>   -0.554</td> <td>    0.100</td>\n",
       "</tr>\n",
       "<tr>\n",
       "  <th>ma.L2</th>    <td>   -0.6392</td> <td>    0.161</td> <td>   -3.964</td> <td> 0.000</td> <td>   -0.955</td> <td>   -0.323</td>\n",
       "</tr>\n",
       "<tr>\n",
       "  <th>ma.S.L12</th> <td>   -0.6524</td> <td>    0.043</td> <td>  -15.041</td> <td> 0.000</td> <td>   -0.737</td> <td>   -0.567</td>\n",
       "</tr>\n",
       "<tr>\n",
       "  <th>sigma2</th>   <td>    2.3880</td> <td>    0.132</td> <td>   18.100</td> <td> 0.000</td> <td>    2.129</td> <td>    2.647</td>\n",
       "</tr>\n",
       "</table>\n",
       "<table class=\"simpletable\">\n",
       "<tr>\n",
       "  <th>Ljung-Box (L1) (Q):</th>     <td>0.02</td> <th>  Jarque-Bera (JB):  </th> <td>42.54</td>\n",
       "</tr>\n",
       "<tr>\n",
       "  <th>Prob(Q):</th>                <td>0.90</td> <th>  Prob(JB):          </th> <td>0.00</td> \n",
       "</tr>\n",
       "<tr>\n",
       "  <th>Heteroskedasticity (H):</th> <td>2.94</td> <th>  Skew:              </th> <td>0.03</td> \n",
       "</tr>\n",
       "<tr>\n",
       "  <th>Prob(H) (two-sided):</th>    <td>0.00</td> <th>  Kurtosis:          </th> <td>4.61</td> \n",
       "</tr>\n",
       "</table><br/><br/>Warnings:<br/>[1] Covariance matrix calculated using the outer product of gradients (complex-step)."
      ],
      "text/plain": [
       "<class 'statsmodels.iolib.summary.Summary'>\n",
       "\"\"\"\n",
       "                                      SARIMAX Results                                       \n",
       "============================================================================================\n",
       "Dep. Variable:                                    y   No. Observations:                  420\n",
       "Model:             SARIMAX(2, 1, 2)x(0, 1, [1], 12)   Log Likelihood                -728.308\n",
       "Date:                              Mon, 19 Dec 2022   AIC                           1468.616\n",
       "Time:                                      18:28:14   BIC                           1492.444\n",
       "Sample:                                           0   HQIC                          1478.060\n",
       "                                              - 420                                         \n",
       "Covariance Type:                                opg                                         \n",
       "==============================================================================\n",
       "                 coef    std err          z      P>|z|      [0.025      0.975]\n",
       "------------------------------------------------------------------------------\n",
       "ar.L1         -0.0243      0.184     -0.132      0.895      -0.385       0.337\n",
       "ar.L2          0.2778      0.135      2.056      0.040       0.013       0.543\n",
       "ma.L1         -0.2269      0.167     -1.360      0.174      -0.554       0.100\n",
       "ma.L2         -0.6392      0.161     -3.964      0.000      -0.955      -0.323\n",
       "ma.S.L12      -0.6524      0.043    -15.041      0.000      -0.737      -0.567\n",
       "sigma2         2.3880      0.132     18.100      0.000       2.129       2.647\n",
       "===================================================================================\n",
       "Ljung-Box (L1) (Q):                   0.02   Jarque-Bera (JB):                42.54\n",
       "Prob(Q):                              0.90   Prob(JB):                         0.00\n",
       "Heteroskedasticity (H):               2.94   Skew:                             0.03\n",
       "Prob(H) (two-sided):                  0.00   Kurtosis:                         4.61\n",
       "===================================================================================\n",
       "\n",
       "Warnings:\n",
       "[1] Covariance matrix calculated using the outer product of gradients (complex-step).\n",
       "\"\"\""
      ]
     },
     "execution_count": 530,
     "metadata": {},
     "output_type": "execute_result"
    }
   ],
   "source": [
    "model.summary()"
   ]
  },
  {
   "cell_type": "code",
   "execution_count": 531,
   "metadata": {},
   "outputs": [],
   "source": [
    "prd = model.predict(start = len(train)+1,end = len(x))"
   ]
  },
  {
   "cell_type": "code",
   "execution_count": 532,
   "metadata": {},
   "outputs": [],
   "source": [
    "prd1 = model.predict(start = 1,end=len(train))"
   ]
  },
  {
   "cell_type": "code",
   "execution_count": 533,
   "metadata": {},
   "outputs": [
    {
     "data": {
      "text/plain": [
       "4.850573501622522"
      ]
     },
     "execution_count": 533,
     "metadata": {},
     "output_type": "execute_result"
    }
   ],
   "source": [
    "np.sqrt(mse(train,prd1))"
   ]
  },
  {
   "cell_type": "code",
   "execution_count": 534,
   "metadata": {},
   "outputs": [
    {
     "data": {
      "text/plain": [
       "13.400918515945959"
      ]
     },
     "execution_count": 534,
     "metadata": {},
     "output_type": "execute_result"
    }
   ],
   "source": [
    "np.sqrt(mse(test,prd))"
   ]
  },
  {
   "cell_type": "code",
   "execution_count": 535,
   "metadata": {},
   "outputs": [
    {
     "data": {
      "text/plain": [
       "0.1113301715902533"
      ]
     },
     "execution_count": 535,
     "metadata": {},
     "output_type": "execute_result"
    }
   ],
   "source": [
    "mape(test,prd)"
   ]
  },
  {
   "cell_type": "code",
   "execution_count": 519,
   "metadata": {},
   "outputs": [
    {
     "data": {
      "text/plain": [
       "14.4636256862558"
      ]
     },
     "execution_count": 519,
     "metadata": {},
     "output_type": "execute_result"
    }
   ],
   "source": [
    "(np.sqrt(np.mean(np.square((test - prd) / prd)))) * 100"
   ]
  },
  {
   "cell_type": "markdown",
   "metadata": {},
   "source": [
    "### we will use ets model as there is a strong seasonality for 6 months and it is better performing and better explaining the strong trend and sesaonality. while arima and sarima models there is lot error in the model. "
   ]
  },
  {
   "cell_type": "markdown",
   "metadata": {},
   "source": [
    "### because of strong seasonality we use ets model which explains and predicts the seasonality better than sarima here and arima doesnt even expalin seasonality .  "
   ]
  },
  {
   "cell_type": "code",
   "execution_count": 538,
   "metadata": {},
   "outputs": [
    {
     "name": "stderr",
     "output_type": "stream",
     "text": [
      "C:\\Users\\Anant\\anaconda3\\lib\\site-packages\\statsmodels\\tsa\\base\\tsa_model.py:471: ValueWarning: No frequency information was provided, so inferred frequency MS will be used.\n",
      "  self._init_dates(dates, freq)\n",
      "<ipython-input-538-6d1bc172944d>:1: FutureWarning: the 'smoothing_slope'' keyword is deprecated, use 'smoothing_trend' instead.\n",
      "  ets_model1 = ExponentialSmoothing(ts, trend='mul', seasonal='mul').fit(smoothing_level=0.1, smoothing_slope=0.4, smoothing_seasonal=0.3)\n",
      "C:\\Users\\Anant\\anaconda3\\lib\\site-packages\\statsmodels\\tsa\\holtwinters\\model.py:83: RuntimeWarning: overflow encountered in matmul\n",
      "  return err.T @ err\n"
     ]
    }
   ],
   "source": [
    "ets_model1 = ExponentialSmoothing(ts, trend='mul', seasonal='mul').fit(smoothing_level=0.1, smoothing_slope=0.4, smoothing_seasonal=0.3)"
   ]
  },
  {
   "cell_type": "code",
   "execution_count": 539,
   "metadata": {},
   "outputs": [],
   "source": [
    "future_consumption = ets_model1.forecast(24)"
   ]
  },
  {
   "cell_type": "code",
   "execution_count": 540,
   "metadata": {},
   "outputs": [
    {
     "data": {
      "text/plain": [
       "2019-10-01     97.700035\n",
       "2019-11-01     95.578903\n",
       "2019-12-01    106.204412\n",
       "2020-01-01    113.499936\n",
       "2020-02-01    103.431590\n",
       "2020-03-01    100.043972\n",
       "2020-04-01     94.465845\n",
       "2020-05-01    101.820327\n",
       "2020-06-01    117.384377\n",
       "2020-07-01    129.946922\n",
       "2020-08-01    129.228124\n",
       "2020-09-01    116.227763\n",
       "2020-10-01    103.695202\n",
       "2020-11-01    101.443911\n",
       "2020-12-01    112.721433\n",
       "2021-01-01    120.464631\n",
       "2021-02-01    109.778462\n",
       "2021-03-01    106.182970\n",
       "2021-04-01    100.262553\n",
       "2021-05-01    108.068327\n",
       "2021-06-01    124.587434\n",
       "2021-07-01    137.920854\n",
       "2021-08-01    137.157949\n",
       "2021-09-01    123.359847\n",
       "Freq: MS, dtype: float64"
      ]
     },
     "execution_count": 540,
     "metadata": {},
     "output_type": "execute_result"
    }
   ],
   "source": [
    "future_consumption"
   ]
  },
  {
   "cell_type": "code",
   "execution_count": null,
   "metadata": {},
   "outputs": [],
   "source": []
  }
 ],
 "metadata": {
  "kernelspec": {
   "display_name": "Python 3",
   "language": "python",
   "name": "python3"
  },
  "language_info": {
   "codemirror_mode": {
    "name": "ipython",
    "version": 3
   },
   "file_extension": ".py",
   "mimetype": "text/x-python",
   "name": "python",
   "nbconvert_exporter": "python",
   "pygments_lexer": "ipython3",
   "version": "3.8.3"
  }
 },
 "nbformat": 4,
 "nbformat_minor": 4
}
