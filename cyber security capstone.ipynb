{
 "cells": [
  {
   "cell_type": "code",
   "execution_count": 1,
   "metadata": {
    "scrolled": true
   },
   "outputs": [],
   "source": [
    "import warnings\n",
    "warnings.filterwarnings(\"ignore\")\n",
    "import pandas as pd\n",
    "import numpy as np\n"
   ]
  },
  {
   "cell_type": "code",
   "execution_count": 2,
   "metadata": {},
   "outputs": [],
   "source": [
    "#import datasets and add attack column with attack name\n",
    "dfnormal=pd.read_csv(\"Data_of_Attack_Back_Normal.csv\")\n",
    "dfnormal[\"attack\"] = \"normal\"\n",
    "\n",
    "df=pd.read_csv(\"Data_of_Attack_Back.csv\")\n",
    "df[\"attack\"] = \"back\"\n",
    "\n",
    "dfbof=pd.read_csv(\"Data_of_Attack_Back_BufferOverflow.csv\")\n",
    "dfbof[\"attack\"] = \"buffer_over_flow\"\n",
    "\n",
    "dfgp=pd.read_csv(\"Data_of_Attack_Back_GuessPassword.csv\")\n",
    "dfgp[\"attack\"] = \"guess_password\"\n",
    "\n",
    "dfneptune=pd.read_csv(\"Data_of_Attack_Back_Neptune.csv\")\n",
    "dfneptune[\"attack\"] = \"neptune\"\n",
    "\n",
    "dfnmap=pd.read_csv(\"Data_of_Attack_Back_NMap.csv\")\n",
    "dfnmap[\"attack\"] = \"nmap\"\n",
    "\n",
    "dfportsweep=pd.read_csv(\"Data_of_Attack_Back_PortSweep.csv\")\n",
    "dfportsweep[\"attack\"] = \"port_sweep\"\n",
    "\n",
    "dfrootkit=pd.read_csv(\"Data_of_Attack_Back_RootKit.csv\")\n",
    "dfrootkit[\"attack\"] = \"root_kit\"\n",
    "\n",
    "dfsatan=pd.read_csv(\"Data_of_Attack_Back_Satan.csv\")\n",
    "dfsatan[\"attack\"] = \"satan\"\n",
    "\n",
    "dfsmurf = pd.read_csv(\"Data_of_Attack_Back_Smurf.csv\")\n",
    "dfsmurf[\"attack\"] = \"smurf\""
   ]
  },
  {
   "cell_type": "code",
   "execution_count": 3,
   "metadata": {},
   "outputs": [],
   "source": [
    "#append all the datasets\n",
    "finaldf = pd.concat([dfnormal,df,dfbof,dfgp,dfneptune,dfnmap,dfportsweep,dfrootkit,dfsatan,dfsmurf])"
   ]
  },
  {
   "cell_type": "code",
   "execution_count": 4,
   "metadata": {},
   "outputs": [],
   "source": [
    "#import ftp write datset adn set columns names as it doesnt have header\n",
    "dfftpw=pd.read_csv(\"Data_of_Attack_Back_FTPWrite.csv\",header=None,names=finaldf.columns)\n",
    "dfftpw[\"attack\"] = \"ftpwrite\""
   ]
  },
  {
   "cell_type": "code",
   "execution_count": 5,
   "metadata": {},
   "outputs": [
    {
     "data": {
      "text/html": [
       "<div>\n",
       "<style scoped>\n",
       "    .dataframe tbody tr th:only-of-type {\n",
       "        vertical-align: middle;\n",
       "    }\n",
       "\n",
       "    .dataframe tbody tr th {\n",
       "        vertical-align: top;\n",
       "    }\n",
       "\n",
       "    .dataframe thead th {\n",
       "        text-align: right;\n",
       "    }\n",
       "</style>\n",
       "<table border=\"1\" class=\"dataframe\">\n",
       "  <thead>\n",
       "    <tr style=\"text-align: right;\">\n",
       "      <th></th>\n",
       "      <th>duration</th>\n",
       "      <th>protocol_type</th>\n",
       "      <th>service</th>\n",
       "      <th>flag</th>\n",
       "      <th>src_bytes</th>\n",
       "      <th>dst_bytes</th>\n",
       "      <th>land</th>\n",
       "      <th>wrong_fragment</th>\n",
       "      <th>urgent</th>\n",
       "      <th>hot</th>\n",
       "      <th>...</th>\n",
       "      <th>dst_host_srv_count</th>\n",
       "      <th>dst_host_same_srv_rate</th>\n",
       "      <th>dst_host_diff_srv_rate</th>\n",
       "      <th>dst_host_same_src_port_rate</th>\n",
       "      <th>dst_host_srv_diff_host_rate</th>\n",
       "      <th>dst_host_serror_rate</th>\n",
       "      <th>dst_host_srv_serror_rate</th>\n",
       "      <th>dst_host_rerror_rate</th>\n",
       "      <th>dst_host_srv_rerror_rate</th>\n",
       "      <th>attack</th>\n",
       "    </tr>\n",
       "  </thead>\n",
       "  <tbody>\n",
       "    <tr>\n",
       "      <th>0</th>\n",
       "      <td>0.0026</td>\n",
       "      <td>0</td>\n",
       "      <td>0.07</td>\n",
       "      <td>0</td>\n",
       "      <td>0.00116</td>\n",
       "      <td>0.00451</td>\n",
       "      <td>0</td>\n",
       "      <td>0</td>\n",
       "      <td>0.0</td>\n",
       "      <td>0.2</td>\n",
       "      <td>...</td>\n",
       "      <td>0.001</td>\n",
       "      <td>0.10</td>\n",
       "      <td>0.0</td>\n",
       "      <td>0.10</td>\n",
       "      <td>0.000</td>\n",
       "      <td>0</td>\n",
       "      <td>0</td>\n",
       "      <td>0</td>\n",
       "      <td>0</td>\n",
       "      <td>ftpwrite</td>\n",
       "    </tr>\n",
       "    <tr>\n",
       "      <th>1</th>\n",
       "      <td>0.0134</td>\n",
       "      <td>0</td>\n",
       "      <td>0.34</td>\n",
       "      <td>0</td>\n",
       "      <td>0.00100</td>\n",
       "      <td>0.39445</td>\n",
       "      <td>0</td>\n",
       "      <td>0</td>\n",
       "      <td>0.2</td>\n",
       "      <td>0.0</td>\n",
       "      <td>...</td>\n",
       "      <td>0.001</td>\n",
       "      <td>0.05</td>\n",
       "      <td>0.1</td>\n",
       "      <td>0.05</td>\n",
       "      <td>0.000</td>\n",
       "      <td>0</td>\n",
       "      <td>0</td>\n",
       "      <td>0</td>\n",
       "      <td>0</td>\n",
       "      <td>ftpwrite</td>\n",
       "    </tr>\n",
       "    <tr>\n",
       "      <th>2</th>\n",
       "      <td>0.0000</td>\n",
       "      <td>0</td>\n",
       "      <td>0.14</td>\n",
       "      <td>0</td>\n",
       "      <td>0.00613</td>\n",
       "      <td>0.00000</td>\n",
       "      <td>0</td>\n",
       "      <td>0</td>\n",
       "      <td>0.0</td>\n",
       "      <td>0.0</td>\n",
       "      <td>...</td>\n",
       "      <td>0.084</td>\n",
       "      <td>0.10</td>\n",
       "      <td>0.0</td>\n",
       "      <td>0.10</td>\n",
       "      <td>0.002</td>\n",
       "      <td>0</td>\n",
       "      <td>0</td>\n",
       "      <td>0</td>\n",
       "      <td>0</td>\n",
       "      <td>ftpwrite</td>\n",
       "    </tr>\n",
       "  </tbody>\n",
       "</table>\n",
       "<p>3 rows × 42 columns</p>\n",
       "</div>"
      ],
      "text/plain": [
       "   duration   protocol_type   service   flag   src_bytes   dst_bytes   land  \\\n",
       "0    0.0026               0      0.07      0     0.00116     0.00451      0   \n",
       "1    0.0134               0      0.34      0     0.00100     0.39445      0   \n",
       "2    0.0000               0      0.14      0     0.00613     0.00000      0   \n",
       "\n",
       "    wrong_fragment   urgent   hot  ...   dst_host_srv_count  \\\n",
       "0                0      0.0   0.2  ...                0.001   \n",
       "1                0      0.2   0.0  ...                0.001   \n",
       "2                0      0.0   0.0  ...                0.084   \n",
       "\n",
       "    dst_host_same_srv_rate   dst_host_diff_srv_rate  \\\n",
       "0                     0.10                      0.0   \n",
       "1                     0.05                      0.1   \n",
       "2                     0.10                      0.0   \n",
       "\n",
       "    dst_host_same_src_port_rate   dst_host_srv_diff_host_rate  \\\n",
       "0                          0.10                         0.000   \n",
       "1                          0.05                         0.000   \n",
       "2                          0.10                         0.002   \n",
       "\n",
       "    dst_host_serror_rate   dst_host_srv_serror_rate   dst_host_rerror_rate  \\\n",
       "0                      0                          0                      0   \n",
       "1                      0                          0                      0   \n",
       "2                      0                          0                      0   \n",
       "\n",
       "    dst_host_srv_rerror_rate    attack  \n",
       "0                          0  ftpwrite  \n",
       "1                          0  ftpwrite  \n",
       "2                          0  ftpwrite  \n",
       "\n",
       "[3 rows x 42 columns]"
      ]
     },
     "execution_count": 5,
     "metadata": {},
     "output_type": "execute_result"
    }
   ],
   "source": [
    "dfftpw.head(3)"
   ]
  },
  {
   "cell_type": "code",
   "execution_count": 6,
   "metadata": {},
   "outputs": [],
   "source": [
    "finaldf = pd.concat([finaldf,dfftpw])"
   ]
  },
  {
   "cell_type": "code",
   "execution_count": 7,
   "metadata": {},
   "outputs": [],
   "source": [
    "#create a binary column for attack or normal\n",
    "finaldf[\"attack12\"] = np.where(finaldf.attack==\"normal\",0,1)"
   ]
  },
  {
   "cell_type": "code",
   "execution_count": 8,
   "metadata": {},
   "outputs": [],
   "source": [
    "finaldf.columns=finaldf.columns.str.strip()"
   ]
  },
  {
   "cell_type": "code",
   "execution_count": 9,
   "metadata": {},
   "outputs": [
    {
     "name": "stdout",
     "output_type": "stream",
     "text": [
      "<class 'pandas.core.frame.DataFrame'>\n",
      "Int64Index: 817551 entries, 0 to 7\n",
      "Data columns (total 43 columns):\n",
      " #   Column                       Non-Null Count   Dtype  \n",
      "---  ------                       --------------   -----  \n",
      " 0   duration                     817551 non-null  float64\n",
      " 1   protocol_type                817551 non-null  float64\n",
      " 2   service                      817551 non-null  float64\n",
      " 3   flag                         817551 non-null  float64\n",
      " 4   src_bytes                    817551 non-null  float64\n",
      " 5   dst_bytes                    817551 non-null  float64\n",
      " 6   land                         817551 non-null  int64  \n",
      " 7   wrong_fragment               817551 non-null  float64\n",
      " 8   urgent                       817551 non-null  float64\n",
      " 9   hot                          817551 non-null  float64\n",
      " 10  num_failed_logins            817551 non-null  float64\n",
      " 11  logged_in                    817551 non-null  float64\n",
      " 12  num_compromised              817551 non-null  float64\n",
      " 13  root_shell                   817551 non-null  float64\n",
      " 14  su_attempted                 817551 non-null  float64\n",
      " 15  num_root                     817551 non-null  float64\n",
      " 16  num_file_creations           817551 non-null  float64\n",
      " 17  num_shells                   817551 non-null  float64\n",
      " 18  num_access_files             817551 non-null  float64\n",
      " 19  num_outbound_cmds            817551 non-null  int64  \n",
      " 20  is_host_login                817551 non-null  float64\n",
      " 21  is_guest_login               817551 non-null  float64\n",
      " 22  count                        817551 non-null  float64\n",
      " 23  srv_count                    817551 non-null  float64\n",
      " 24  serror_rate                  817551 non-null  float64\n",
      " 25  srv_error_rate               817551 non-null  float64\n",
      " 26  rerror_rate                  817551 non-null  float64\n",
      " 27  srv_rerror_rate              817551 non-null  float64\n",
      " 28  same_srv_rate                817551 non-null  float64\n",
      " 29  diff_srv_rate                817551 non-null  float64\n",
      " 30  srv_diff_host_rate           817551 non-null  float64\n",
      " 31  dst_host_count               817551 non-null  float64\n",
      " 32  dst_host_srv_count           817551 non-null  float64\n",
      " 33  dst_host_same_srv_rate       817551 non-null  float64\n",
      " 34  dst_host_diff_srv_rate       817551 non-null  float64\n",
      " 35  dst_host_same_src_port_rate  817551 non-null  float64\n",
      " 36  dst_host_srv_diff_host_rate  817551 non-null  float64\n",
      " 37  dst_host_serror_rate         817551 non-null  float64\n",
      " 38  dst_host_srv_serror_rate     817551 non-null  float64\n",
      " 39  dst_host_rerror_rate         817551 non-null  float64\n",
      " 40  dst_host_srv_rerror_rate     817551 non-null  float64\n",
      " 41  attack                       817551 non-null  object \n",
      " 42  attack12                     817551 non-null  int32  \n",
      "dtypes: float64(39), int32(1), int64(2), object(1)\n",
      "memory usage: 271.3+ MB\n"
     ]
    }
   ],
   "source": [
    "finaldf.info()"
   ]
  },
  {
   "cell_type": "code",
   "execution_count": 10,
   "metadata": {},
   "outputs": [
    {
     "data": {
      "text/plain": [
       "num_outbound_cmds                  1\n",
       "land                               1\n",
       "is_guest_login                     2\n",
       "is_host_login                      2\n",
       "root_shell                         2\n",
       "logged_in                          2\n",
       "wrong_fragment                     2\n",
       "attack12                           2\n",
       "su_attempted                       3\n",
       "num_shells                         3\n",
       "protocol_type                      3\n",
       "urgent                             5\n",
       "num_failed_logins                  6\n",
       "num_access_files                   9\n",
       "hot                               11\n",
       "num_compromised                   11\n",
       "flag                              11\n",
       "num_root                          11\n",
       "num_file_creations                11\n",
       "attack                            11\n",
       "srv_rerror_rate                   60\n",
       "service                           67\n",
       "dst_host_srv_diff_host_rate       68\n",
       "srv_diff_host_rate                72\n",
       "srv_error_rate                    75\n",
       "rerror_rate                       85\n",
       "diff_srv_rate                     90\n",
       "serror_rate                       96\n",
       "dst_host_srv_serror_rate          97\n",
       "dst_host_same_srv_rate           101\n",
       "same_srv_rate                    101\n",
       "dst_host_diff_srv_rate           101\n",
       "dst_host_same_src_port_rate      101\n",
       "dst_host_srv_rerror_rate         101\n",
       "dst_host_serror_rate             101\n",
       "dst_host_rerror_rate             101\n",
       "dst_host_count                   256\n",
       "dst_host_srv_count               256\n",
       "srv_count                        512\n",
       "count                            512\n",
       "duration                         918\n",
       "src_bytes                       5908\n",
       "dst_bytes                      18399\n",
       "dtype: int64"
      ]
     },
     "execution_count": 10,
     "metadata": {},
     "output_type": "execute_result"
    }
   ],
   "source": [
    "# get number of unique values for each feature\n",
    "finaldf.nunique().sort_values()"
   ]
  },
  {
   "cell_type": "code",
   "execution_count": 11,
   "metadata": {},
   "outputs": [],
   "source": [
    "#dropping features with one unique value as it doesnt haev any variance\n",
    "finaldf.drop(columns=['land','num_outbound_cmds'],inplace=True)"
   ]
  },
  {
   "cell_type": "code",
   "execution_count": 12,
   "metadata": {},
   "outputs": [
    {
     "data": {
      "text/plain": [
       "attack12               2\n",
       "is_guest_login         2\n",
       "is_host_login          2\n",
       "wrong_fragment         2\n",
       "root_shell             2\n",
       "logged_in              2\n",
       "protocol_type          3\n",
       "num_shells             3\n",
       "su_attempted           3\n",
       "urgent                 5\n",
       "num_failed_logins      6\n",
       "num_access_files       9\n",
       "hot                   11\n",
       "num_root              11\n",
       "num_file_creations    11\n",
       "flag                  11\n",
       "attack                11\n",
       "num_compromised       11\n",
       "dtype: int64"
      ]
     },
     "execution_count": 12,
     "metadata": {},
     "output_type": "execute_result"
    }
   ],
   "source": [
    "x=finaldf.nunique().sort_values()\n",
    "x[x<60]"
   ]
  },
  {
   "cell_type": "code",
   "execution_count": 13,
   "metadata": {},
   "outputs": [],
   "source": [
    "cat_cols=['protocol_type','logged_in','root_shell',\n",
    "          'su_attempted','is_host_login','is_guest_login']"
   ]
  },
  {
   "cell_type": "code",
   "execution_count": 14,
   "metadata": {},
   "outputs": [
    {
     "data": {
      "text/plain": [
       "array([0.  , 0.01, 0.02])"
      ]
     },
     "execution_count": 14,
     "metadata": {},
     "output_type": "execute_result"
    }
   ],
   "source": [
    "finaldf.protocol_type.unique()"
   ]
  },
  {
   "cell_type": "code",
   "execution_count": 15,
   "metadata": {},
   "outputs": [
    {
     "data": {
      "text/plain": [
       "array([0.  , 0.01, 0.02, 0.03, 0.04, 0.05, 0.06, 0.07, 0.08, 0.09, 0.1 ,\n",
       "       0.11, 0.13, 0.14, 0.17, 0.32, 0.22, 0.12, 0.33, 0.39, 0.19, 0.62,\n",
       "       0.35, 0.53, 0.48, 0.45, 0.34, 0.5 , 0.54, 0.44, 0.37, 0.61, 0.49,\n",
       "       0.2 , 0.21, 0.18, 0.31, 0.3 , 0.16, 0.15, 0.23, 0.25, 0.24, 0.26,\n",
       "       0.27, 0.29, 0.28, 0.55, 0.59, 0.47, 0.52, 0.43, 0.56, 0.36, 0.6 ,\n",
       "       0.51, 0.41, 0.57, 0.58, 0.46, 0.4 , 0.42, 0.38, 0.63, 0.64, 0.65,\n",
       "       0.67])"
      ]
     },
     "execution_count": 15,
     "metadata": {},
     "output_type": "execute_result"
    }
   ],
   "source": [
    "finaldf.service.unique()"
   ]
  },
  {
   "cell_type": "code",
   "execution_count": 16,
   "metadata": {},
   "outputs": [
    {
     "data": {
      "text/plain": [
       "array([0.  , 0.01, 0.02, 0.03, 0.04, 0.05, 0.06, 0.07, 0.08, 0.1 , 0.09])"
      ]
     },
     "execution_count": 16,
     "metadata": {},
     "output_type": "execute_result"
    }
   ],
   "source": [
    "finaldf.flag.unique()"
   ]
  },
  {
   "cell_type": "code",
   "execution_count": 17,
   "metadata": {},
   "outputs": [
    {
     "data": {
      "text/html": [
       "<div>\n",
       "<style scoped>\n",
       "    .dataframe tbody tr th:only-of-type {\n",
       "        vertical-align: middle;\n",
       "    }\n",
       "\n",
       "    .dataframe tbody tr th {\n",
       "        vertical-align: top;\n",
       "    }\n",
       "\n",
       "    .dataframe thead th {\n",
       "        text-align: right;\n",
       "    }\n",
       "</style>\n",
       "<table border=\"1\" class=\"dataframe\">\n",
       "  <thead>\n",
       "    <tr style=\"text-align: right;\">\n",
       "      <th></th>\n",
       "      <th>count</th>\n",
       "      <th>mean</th>\n",
       "      <th>std</th>\n",
       "      <th>min</th>\n",
       "      <th>25%</th>\n",
       "      <th>50%</th>\n",
       "      <th>75%</th>\n",
       "      <th>max</th>\n",
       "    </tr>\n",
       "  </thead>\n",
       "  <tbody>\n",
       "    <tr>\n",
       "      <th>protocol_type</th>\n",
       "      <td>817551.0</td>\n",
       "      <td>5.696036e-04</td>\n",
       "      <td>0.002596</td>\n",
       "      <td>0.0</td>\n",
       "      <td>0.0</td>\n",
       "      <td>0.0</td>\n",
       "      <td>0.0</td>\n",
       "      <td>0.02</td>\n",
       "    </tr>\n",
       "    <tr>\n",
       "      <th>logged_in</th>\n",
       "      <td>817551.0</td>\n",
       "      <td>6.381192e-02</td>\n",
       "      <td>0.048054</td>\n",
       "      <td>0.0</td>\n",
       "      <td>0.0</td>\n",
       "      <td>0.1</td>\n",
       "      <td>0.1</td>\n",
       "      <td>0.10</td>\n",
       "    </tr>\n",
       "    <tr>\n",
       "      <th>root_shell</th>\n",
       "      <td>817551.0</td>\n",
       "      <td>3.070145e-05</td>\n",
       "      <td>0.001752</td>\n",
       "      <td>0.0</td>\n",
       "      <td>0.0</td>\n",
       "      <td>0.0</td>\n",
       "      <td>0.0</td>\n",
       "      <td>0.10</td>\n",
       "    </tr>\n",
       "    <tr>\n",
       "      <th>su_attempted</th>\n",
       "      <td>817551.0</td>\n",
       "      <td>1.113080e-05</td>\n",
       "      <td>0.001412</td>\n",
       "      <td>0.0</td>\n",
       "      <td>0.0</td>\n",
       "      <td>0.0</td>\n",
       "      <td>0.0</td>\n",
       "      <td>0.20</td>\n",
       "    </tr>\n",
       "    <tr>\n",
       "      <th>is_host_login</th>\n",
       "      <td>817551.0</td>\n",
       "      <td>1.223165e-07</td>\n",
       "      <td>0.000111</td>\n",
       "      <td>0.0</td>\n",
       "      <td>0.0</td>\n",
       "      <td>0.0</td>\n",
       "      <td>0.0</td>\n",
       "      <td>0.10</td>\n",
       "    </tr>\n",
       "    <tr>\n",
       "      <th>is_guest_login</th>\n",
       "      <td>817551.0</td>\n",
       "      <td>2.770469e-04</td>\n",
       "      <td>0.005256</td>\n",
       "      <td>0.0</td>\n",
       "      <td>0.0</td>\n",
       "      <td>0.0</td>\n",
       "      <td>0.0</td>\n",
       "      <td>0.10</td>\n",
       "    </tr>\n",
       "  </tbody>\n",
       "</table>\n",
       "</div>"
      ],
      "text/plain": [
       "                   count          mean       std  min  25%  50%  75%   max\n",
       "protocol_type   817551.0  5.696036e-04  0.002596  0.0  0.0  0.0  0.0  0.02\n",
       "logged_in       817551.0  6.381192e-02  0.048054  0.0  0.0  0.1  0.1  0.10\n",
       "root_shell      817551.0  3.070145e-05  0.001752  0.0  0.0  0.0  0.0  0.10\n",
       "su_attempted    817551.0  1.113080e-05  0.001412  0.0  0.0  0.0  0.0  0.20\n",
       "is_host_login   817551.0  1.223165e-07  0.000111  0.0  0.0  0.0  0.0  0.10\n",
       "is_guest_login  817551.0  2.770469e-04  0.005256  0.0  0.0  0.0  0.0  0.10"
      ]
     },
     "execution_count": 17,
     "metadata": {},
     "output_type": "execute_result"
    }
   ],
   "source": [
    "finaldf[cat_cols].describe().T"
   ]
  },
  {
   "cell_type": "code",
   "execution_count": 18,
   "metadata": {},
   "outputs": [
    {
     "data": {
      "text/plain": [
       "0.0    817550\n",
       "0.3         1\n",
       "Name: wrong_fragment, dtype: int64"
      ]
     },
     "execution_count": 18,
     "metadata": {},
     "output_type": "execute_result"
    }
   ],
   "source": [
    "finaldf[\"wrong_fragment\"].value_counts()"
   ]
  },
  {
   "cell_type": "code",
   "execution_count": 19,
   "metadata": {},
   "outputs": [],
   "source": [
    "finaldf.drop(columns = [\"service\",\"flag\",\"wrong_fragment\"],inplace=True)"
   ]
  },
  {
   "cell_type": "code",
   "execution_count": 20,
   "metadata": {},
   "outputs": [],
   "source": [
    "con_cols=finaldf.columns.difference(cat_cols+[\"attack\"])"
   ]
  },
  {
   "cell_type": "code",
   "execution_count": 21,
   "metadata": {},
   "outputs": [],
   "source": [
    "dum = pd.get_dummies( finaldf.loc[:, \"protocol_type\"], drop_first = True )"
   ]
  },
  {
   "cell_type": "code",
   "execution_count": 22,
   "metadata": {},
   "outputs": [],
   "source": [
    "finaldf = pd.concat([finaldf,dum],axis=1)"
   ]
  },
  {
   "cell_type": "code",
   "execution_count": 23,
   "metadata": {},
   "outputs": [],
   "source": [
    "finaldf.drop(columns = [\"protocol_type\"],inplace=True)"
   ]
  },
  {
   "cell_type": "code",
   "execution_count": 24,
   "metadata": {},
   "outputs": [
    {
     "data": {
      "text/plain": [
       "array([0. , 0.2, 0.1])"
      ]
     },
     "execution_count": 24,
     "metadata": {},
     "output_type": "execute_result"
    }
   ],
   "source": [
    "finaldf.su_attempted.unique()"
   ]
  },
  {
   "cell_type": "code",
   "execution_count": 25,
   "metadata": {},
   "outputs": [],
   "source": [
    "finaldf.su_attempted = np.where(~(finaldf.su_attempted == 0.0),1,0)"
   ]
  },
  {
   "cell_type": "code",
   "execution_count": 26,
   "metadata": {},
   "outputs": [
    {
     "data": {
      "text/plain": [
       "array([0, 1])"
      ]
     },
     "execution_count": 26,
     "metadata": {},
     "output_type": "execute_result"
    }
   ],
   "source": [
    "finaldf.su_attempted.unique()"
   ]
  },
  {
   "cell_type": "code",
   "execution_count": 27,
   "metadata": {},
   "outputs": [],
   "source": [
    "def continuous_var_summary( x ):\n",
    "    \n",
    "    # freq and missings\n",
    "    n_total = x.shape[0]\n",
    "    n_miss = x.isna().sum()\n",
    "    perc_miss = n_miss * 100 / n_total\n",
    "    \n",
    "    # outliers - iqr\n",
    "    q1 = x.quantile(0.25)\n",
    "    q3 = x.quantile(0.75)\n",
    "    iqr = q3 - q1\n",
    "    lc_iqr = q1 - 1.5 * iqr\n",
    "    uc_iqr = q3 + 1.5 * iqr\n",
    "    \n",
    "    return pd.Series( [ x.dtype, x.nunique(), n_total, x.count(), n_miss, perc_miss,\n",
    "                       x.sum(), x.mean(), x.std(), x.var(), \n",
    "                       lc_iqr, uc_iqr, \n",
    "                       x.min(), x.quantile(0.01), x.quantile(0.05), x.quantile(0.10), \n",
    "                       x.quantile(0.25), x.quantile(0.5), x.quantile(0.75), \n",
    "                       x.quantile(0.90), x.quantile(0.95), x.quantile(0.99), x.max() ], \n",
    "                     \n",
    "                    index = ['dtype', 'cardinality', 'n_tot', 'n', 'nmiss', 'perc_miss',\n",
    "                             'sum', 'mean', 'std', 'var',\n",
    "                        'lc_iqr', 'uc_iqr',\n",
    "                        'min', 'p1', 'p5', 'p10', 'p25', 'p50', 'p75', 'p90', 'p95', 'p99', 'max']) "
   ]
  },
  {
   "cell_type": "code",
   "execution_count": 28,
   "metadata": {},
   "outputs": [
    {
     "data": {
      "text/plain": [
       "duration                       0\n",
       "src_bytes                      0\n",
       "dst_bytes                      0\n",
       "urgent                         0\n",
       "hot                            0\n",
       "num_failed_logins              0\n",
       "logged_in                      0\n",
       "num_compromised                0\n",
       "root_shell                     0\n",
       "su_attempted                   0\n",
       "num_root                       0\n",
       "num_file_creations             0\n",
       "num_shells                     0\n",
       "num_access_files               0\n",
       "is_host_login                  0\n",
       "is_guest_login                 0\n",
       "count                          0\n",
       "srv_count                      0\n",
       "serror_rate                    0\n",
       "srv_error_rate                 0\n",
       "rerror_rate                    0\n",
       "srv_rerror_rate                0\n",
       "same_srv_rate                  0\n",
       "diff_srv_rate                  0\n",
       "srv_diff_host_rate             0\n",
       "dst_host_count                 0\n",
       "dst_host_srv_count             0\n",
       "dst_host_same_srv_rate         0\n",
       "dst_host_diff_srv_rate         0\n",
       "dst_host_same_src_port_rate    0\n",
       "dst_host_srv_diff_host_rate    0\n",
       "dst_host_serror_rate           0\n",
       "dst_host_srv_serror_rate       0\n",
       "dst_host_rerror_rate           0\n",
       "dst_host_srv_rerror_rate       0\n",
       "attack                         0\n",
       "attack12                       0\n",
       "0.01                           0\n",
       "0.02                           0\n",
       "dtype: int64"
      ]
     },
     "execution_count": 28,
     "metadata": {},
     "output_type": "execute_result"
    }
   ],
   "source": [
    "finaldf.isnull().sum()"
   ]
  },
  {
   "cell_type": "code",
   "execution_count": 29,
   "metadata": {},
   "outputs": [
    {
     "data": {
      "text/html": [
       "<div>\n",
       "<style scoped>\n",
       "    .dataframe tbody tr th:only-of-type {\n",
       "        vertical-align: middle;\n",
       "    }\n",
       "\n",
       "    .dataframe tbody tr th {\n",
       "        vertical-align: top;\n",
       "    }\n",
       "\n",
       "    .dataframe thead th {\n",
       "        text-align: right;\n",
       "    }\n",
       "</style>\n",
       "<table border=\"1\" class=\"dataframe\">\n",
       "  <thead>\n",
       "    <tr style=\"text-align: right;\">\n",
       "      <th></th>\n",
       "      <th>attack</th>\n",
       "      <th>attack12</th>\n",
       "    </tr>\n",
       "  </thead>\n",
       "  <tbody>\n",
       "    <tr>\n",
       "      <th>0</th>\n",
       "      <td>normal</td>\n",
       "      <td>0</td>\n",
       "    </tr>\n",
       "    <tr>\n",
       "      <th>1</th>\n",
       "      <td>normal</td>\n",
       "      <td>0</td>\n",
       "    </tr>\n",
       "    <tr>\n",
       "      <th>2</th>\n",
       "      <td>normal</td>\n",
       "      <td>0</td>\n",
       "    </tr>\n",
       "    <tr>\n",
       "      <th>3</th>\n",
       "      <td>normal</td>\n",
       "      <td>0</td>\n",
       "    </tr>\n",
       "    <tr>\n",
       "      <th>4</th>\n",
       "      <td>normal</td>\n",
       "      <td>0</td>\n",
       "    </tr>\n",
       "    <tr>\n",
       "      <th>...</th>\n",
       "      <td>...</td>\n",
       "      <td>...</td>\n",
       "    </tr>\n",
       "    <tr>\n",
       "      <th>3</th>\n",
       "      <td>ftpwrite</td>\n",
       "      <td>1</td>\n",
       "    </tr>\n",
       "    <tr>\n",
       "      <th>4</th>\n",
       "      <td>ftpwrite</td>\n",
       "      <td>1</td>\n",
       "    </tr>\n",
       "    <tr>\n",
       "      <th>5</th>\n",
       "      <td>ftpwrite</td>\n",
       "      <td>1</td>\n",
       "    </tr>\n",
       "    <tr>\n",
       "      <th>6</th>\n",
       "      <td>ftpwrite</td>\n",
       "      <td>1</td>\n",
       "    </tr>\n",
       "    <tr>\n",
       "      <th>7</th>\n",
       "      <td>ftpwrite</td>\n",
       "      <td>1</td>\n",
       "    </tr>\n",
       "  </tbody>\n",
       "</table>\n",
       "<p>817551 rows × 2 columns</p>\n",
       "</div>"
      ],
      "text/plain": [
       "      attack  attack12\n",
       "0     normal         0\n",
       "1     normal         0\n",
       "2     normal         0\n",
       "3     normal         0\n",
       "4     normal         0\n",
       "..       ...       ...\n",
       "3   ftpwrite         1\n",
       "4   ftpwrite         1\n",
       "5   ftpwrite         1\n",
       "6   ftpwrite         1\n",
       "7   ftpwrite         1\n",
       "\n",
       "[817551 rows x 2 columns]"
      ]
     },
     "execution_count": 29,
     "metadata": {},
     "output_type": "execute_result"
    }
   ],
   "source": [
    "finaldf.loc[:,['attack','attack12']]"
   ]
  },
  {
   "cell_type": "code",
   "execution_count": 30,
   "metadata": {},
   "outputs": [],
   "source": [
    "attck = finaldf.loc[:,\"attack\"]"
   ]
  },
  {
   "cell_type": "code",
   "execution_count": 31,
   "metadata": {},
   "outputs": [
    {
     "data": {
      "text/plain": [
       "normal              576710\n",
       "neptune             227228\n",
       "satan                 5019\n",
       "smurf                 3007\n",
       "port_sweep            2964\n",
       "nmap                  1554\n",
       "back                   968\n",
       "guess_password          53\n",
       "buffer_over_flow        30\n",
       "root_kit                10\n",
       "ftpwrite                 8\n",
       "Name: attack, dtype: int64"
      ]
     },
     "execution_count": 31,
     "metadata": {},
     "output_type": "execute_result"
    }
   ],
   "source": [
    "attck.value_counts()"
   ]
  },
  {
   "cell_type": "code",
   "execution_count": 32,
   "metadata": {},
   "outputs": [
    {
     "data": {
      "text/plain": [
       "0    576710\n",
       "1    240841\n",
       "Name: attack12, dtype: int64"
      ]
     },
     "execution_count": 32,
     "metadata": {},
     "output_type": "execute_result"
    }
   ],
   "source": [
    "finaldf[\"attack12\"].value_counts()"
   ]
  },
  {
   "cell_type": "code",
   "execution_count": 33,
   "metadata": {},
   "outputs": [
    {
     "data": {
      "image/png": "[encoded data removed]",
      "text/plain": [
       "<Figure size 432x432 with 1 Axes>"
      ]
     },
     "metadata": {
      "needs_background": "light"
     },
     "output_type": "display_data"
    }
   ],
   "source": [
    "import seaborn as sns\n",
    "import matplotlib.pyplot as plt\n",
    "plt.figure(figsize=(6,6))\n",
    "plt.title('Count of Attack_Class for Training Data Set',fontsize=15)\n",
    "sns.countplot(\"attack12\", data=finaldf)\n",
    "plt.show()"
   ]
  },
  {
   "cell_type": "code",
   "execution_count": 34,
   "metadata": {},
   "outputs": [],
   "source": [
    "finaldf.drop(columns='attack',inplace=True)"
   ]
  },
  {
   "cell_type": "code",
   "execution_count": 35,
   "metadata": {
    "scrolled": true
   },
   "outputs": [
    {
     "data": {
      "text/html": [
       "<div>\n",
       "<style scoped>\n",
       "    .dataframe tbody tr th:only-of-type {\n",
       "        vertical-align: middle;\n",
       "    }\n",
       "\n",
       "    .dataframe tbody tr th {\n",
       "        vertical-align: top;\n",
       "    }\n",
       "\n",
       "    .dataframe thead th {\n",
       "        text-align: right;\n",
       "    }\n",
       "</style>\n",
       "<table border=\"1\" class=\"dataframe\">\n",
       "  <thead>\n",
       "    <tr style=\"text-align: right;\">\n",
       "      <th></th>\n",
       "      <th>attack12</th>\n",
       "      <th>count</th>\n",
       "      <th>diff_srv_rate</th>\n",
       "      <th>dst_bytes</th>\n",
       "      <th>dst_host_count</th>\n",
       "      <th>dst_host_diff_srv_rate</th>\n",
       "      <th>dst_host_rerror_rate</th>\n",
       "      <th>dst_host_same_src_port_rate</th>\n",
       "      <th>dst_host_same_srv_rate</th>\n",
       "      <th>dst_host_serror_rate</th>\n",
       "      <th>...</th>\n",
       "      <th>num_shells</th>\n",
       "      <th>rerror_rate</th>\n",
       "      <th>same_srv_rate</th>\n",
       "      <th>serror_rate</th>\n",
       "      <th>src_bytes</th>\n",
       "      <th>srv_count</th>\n",
       "      <th>srv_diff_host_rate</th>\n",
       "      <th>srv_error_rate</th>\n",
       "      <th>srv_rerror_rate</th>\n",
       "      <th>urgent</th>\n",
       "    </tr>\n",
       "  </thead>\n",
       "  <tbody>\n",
       "    <tr>\n",
       "      <th>dtype</th>\n",
       "      <td>int32</td>\n",
       "      <td>float64</td>\n",
       "      <td>float64</td>\n",
       "      <td>float64</td>\n",
       "      <td>float64</td>\n",
       "      <td>float64</td>\n",
       "      <td>float64</td>\n",
       "      <td>float64</td>\n",
       "      <td>float64</td>\n",
       "      <td>float64</td>\n",
       "      <td>...</td>\n",
       "      <td>float64</td>\n",
       "      <td>float64</td>\n",
       "      <td>float64</td>\n",
       "      <td>float64</td>\n",
       "      <td>float64</td>\n",
       "      <td>float64</td>\n",
       "      <td>float64</td>\n",
       "      <td>float64</td>\n",
       "      <td>float64</td>\n",
       "      <td>float64</td>\n",
       "    </tr>\n",
       "    <tr>\n",
       "      <th>cardinality</th>\n",
       "      <td>2</td>\n",
       "      <td>512</td>\n",
       "      <td>90</td>\n",
       "      <td>18399</td>\n",
       "      <td>256</td>\n",
       "      <td>101</td>\n",
       "      <td>101</td>\n",
       "      <td>101</td>\n",
       "      <td>101</td>\n",
       "      <td>101</td>\n",
       "      <td>...</td>\n",
       "      <td>3</td>\n",
       "      <td>85</td>\n",
       "      <td>101</td>\n",
       "      <td>96</td>\n",
       "      <td>5908</td>\n",
       "      <td>512</td>\n",
       "      <td>72</td>\n",
       "      <td>75</td>\n",
       "      <td>60</td>\n",
       "      <td>5</td>\n",
       "    </tr>\n",
       "    <tr>\n",
       "      <th>n_tot</th>\n",
       "      <td>817551</td>\n",
       "      <td>817551</td>\n",
       "      <td>817551</td>\n",
       "      <td>817551</td>\n",
       "      <td>817551</td>\n",
       "      <td>817551</td>\n",
       "      <td>817551</td>\n",
       "      <td>817551</td>\n",
       "      <td>817551</td>\n",
       "      <td>817551</td>\n",
       "      <td>...</td>\n",
       "      <td>817551</td>\n",
       "      <td>817551</td>\n",
       "      <td>817551</td>\n",
       "      <td>817551</td>\n",
       "      <td>817551</td>\n",
       "      <td>817551</td>\n",
       "      <td>817551</td>\n",
       "      <td>817551</td>\n",
       "      <td>817551</td>\n",
       "      <td>817551</td>\n",
       "    </tr>\n",
       "    <tr>\n",
       "      <th>n</th>\n",
       "      <td>817551</td>\n",
       "      <td>817551</td>\n",
       "      <td>817551</td>\n",
       "      <td>817551</td>\n",
       "      <td>817551</td>\n",
       "      <td>817551</td>\n",
       "      <td>817551</td>\n",
       "      <td>817551</td>\n",
       "      <td>817551</td>\n",
       "      <td>817551</td>\n",
       "      <td>...</td>\n",
       "      <td>817551</td>\n",
       "      <td>817551</td>\n",
       "      <td>817551</td>\n",
       "      <td>817551</td>\n",
       "      <td>817551</td>\n",
       "      <td>817551</td>\n",
       "      <td>817551</td>\n",
       "      <td>817551</td>\n",
       "      <td>817551</td>\n",
       "      <td>817551</td>\n",
       "    </tr>\n",
       "    <tr>\n",
       "      <th>nmiss</th>\n",
       "      <td>0</td>\n",
       "      <td>0</td>\n",
       "      <td>0</td>\n",
       "      <td>0</td>\n",
       "      <td>0</td>\n",
       "      <td>0</td>\n",
       "      <td>0</td>\n",
       "      <td>0</td>\n",
       "      <td>0</td>\n",
       "      <td>0</td>\n",
       "      <td>...</td>\n",
       "      <td>0</td>\n",
       "      <td>0</td>\n",
       "      <td>0</td>\n",
       "      <td>0</td>\n",
       "      <td>0</td>\n",
       "      <td>0</td>\n",
       "      <td>0</td>\n",
       "      <td>0</td>\n",
       "      <td>0</td>\n",
       "      <td>0</td>\n",
       "    </tr>\n",
       "    <tr>\n",
       "      <th>perc_miss</th>\n",
       "      <td>0.0</td>\n",
       "      <td>0.0</td>\n",
       "      <td>0.0</td>\n",
       "      <td>0.0</td>\n",
       "      <td>0.0</td>\n",
       "      <td>0.0</td>\n",
       "      <td>0.0</td>\n",
       "      <td>0.0</td>\n",
       "      <td>0.0</td>\n",
       "      <td>0.0</td>\n",
       "      <td>...</td>\n",
       "      <td>0.0</td>\n",
       "      <td>0.0</td>\n",
       "      <td>0.0</td>\n",
       "      <td>0.0</td>\n",
       "      <td>0.0</td>\n",
       "      <td>0.0</td>\n",
       "      <td>0.0</td>\n",
       "      <td>0.0</td>\n",
       "      <td>0.0</td>\n",
       "      <td>0.0</td>\n",
       "    </tr>\n",
       "    <tr>\n",
       "      <th>sum</th>\n",
       "      <td>240841</td>\n",
       "      <td>48936.186</td>\n",
       "      <td>2402.468</td>\n",
       "      <td>20326.03324</td>\n",
       "      <td>136423.302</td>\n",
       "      <td>2763.32</td>\n",
       "      <td>4392.049</td>\n",
       "      <td>5026.182</td>\n",
       "      <td>54608.021</td>\n",
       "      <td>20328.601</td>\n",
       "      <td>...</td>\n",
       "      <td>16.1</td>\n",
       "      <td>4378.22</td>\n",
       "      <td>60065.972</td>\n",
       "      <td>20302.607</td>\n",
       "      <td>4056.18442</td>\n",
       "      <td>11509.508</td>\n",
       "      <td>8228.031</td>\n",
       "      <td>20380.639</td>\n",
       "      <td>4344.039</td>\n",
       "      <td>2.1</td>\n",
       "    </tr>\n",
       "    <tr>\n",
       "      <th>mean</th>\n",
       "      <td>0.294588</td>\n",
       "      <td>0.059857</td>\n",
       "      <td>0.002939</td>\n",
       "      <td>0.024862</td>\n",
       "      <td>0.166868</td>\n",
       "      <td>0.00338</td>\n",
       "      <td>0.005372</td>\n",
       "      <td>0.006148</td>\n",
       "      <td>0.066795</td>\n",
       "      <td>0.024865</td>\n",
       "      <td>...</td>\n",
       "      <td>0.00002</td>\n",
       "      <td>0.005355</td>\n",
       "      <td>0.073471</td>\n",
       "      <td>0.024833</td>\n",
       "      <td>0.004961</td>\n",
       "      <td>0.014078</td>\n",
       "      <td>0.010064</td>\n",
       "      <td>0.024929</td>\n",
       "      <td>0.005313</td>\n",
       "      <td>0.000003</td>\n",
       "    </tr>\n",
       "    <tr>\n",
       "      <th>std</th>\n",
       "      <td>0.455858</td>\n",
       "      <td>0.091984</td>\n",
       "      <td>0.010127</td>\n",
       "      <td>0.066635</td>\n",
       "      <td>0.102058</td>\n",
       "      <td>0.008557</td>\n",
       "      <td>0.02192</td>\n",
       "      <td>0.01746</td>\n",
       "      <td>0.043421</td>\n",
       "      <td>0.043062</td>\n",
       "      <td>...</td>\n",
       "      <td>0.001412</td>\n",
       "      <td>0.02233</td>\n",
       "      <td>0.041806</td>\n",
       "      <td>0.043074</td>\n",
       "      <td>0.033235</td>\n",
       "      <td>0.031403</td>\n",
       "      <td>0.023558</td>\n",
       "      <td>0.043153</td>\n",
       "      <td>0.022215</td>\n",
       "      <td>0.000805</td>\n",
       "    </tr>\n",
       "    <tr>\n",
       "      <th>var</th>\n",
       "      <td>0.207806</td>\n",
       "      <td>0.008461</td>\n",
       "      <td>0.000103</td>\n",
       "      <td>0.00444</td>\n",
       "      <td>0.010416</td>\n",
       "      <td>0.000073</td>\n",
       "      <td>0.00048</td>\n",
       "      <td>0.000305</td>\n",
       "      <td>0.001885</td>\n",
       "      <td>0.001854</td>\n",
       "      <td>...</td>\n",
       "      <td>0.000002</td>\n",
       "      <td>0.000499</td>\n",
       "      <td>0.001748</td>\n",
       "      <td>0.001855</td>\n",
       "      <td>0.001105</td>\n",
       "      <td>0.000986</td>\n",
       "      <td>0.000555</td>\n",
       "      <td>0.001862</td>\n",
       "      <td>0.000494</td>\n",
       "      <td>0.000001</td>\n",
       "    </tr>\n",
       "    <tr>\n",
       "      <th>lc_iqr</th>\n",
       "      <td>-1.5</td>\n",
       "      <td>-0.1515</td>\n",
       "      <td>-0.0075</td>\n",
       "      <td>-0.029535</td>\n",
       "      <td>-0.2475</td>\n",
       "      <td>-0.009</td>\n",
       "      <td>0.0</td>\n",
       "      <td>-0.0045</td>\n",
       "      <td>-0.1325</td>\n",
       "      <td>-0.021</td>\n",
       "      <td>...</td>\n",
       "      <td>0.0</td>\n",
       "      <td>0.0</td>\n",
       "      <td>-0.115</td>\n",
       "      <td>-0.0225</td>\n",
       "      <td>-0.004485</td>\n",
       "      <td>-0.0165</td>\n",
       "      <td>-0.012</td>\n",
       "      <td>-0.0255</td>\n",
       "      <td>0.0</td>\n",
       "      <td>0.0</td>\n",
       "    </tr>\n",
       "    <tr>\n",
       "      <th>uc_iqr</th>\n",
       "      <td>2.5</td>\n",
       "      <td>0.2605</td>\n",
       "      <td>0.0125</td>\n",
       "      <td>0.049225</td>\n",
       "      <td>0.5565</td>\n",
       "      <td>0.015</td>\n",
       "      <td>0.0</td>\n",
       "      <td>0.0075</td>\n",
       "      <td>0.2395</td>\n",
       "      <td>0.035</td>\n",
       "      <td>...</td>\n",
       "      <td>0.0</td>\n",
       "      <td>0.0</td>\n",
       "      <td>0.229</td>\n",
       "      <td>0.0375</td>\n",
       "      <td>0.007475</td>\n",
       "      <td>0.0355</td>\n",
       "      <td>0.02</td>\n",
       "      <td>0.0425</td>\n",
       "      <td>0.0</td>\n",
       "      <td>0.0</td>\n",
       "    </tr>\n",
       "    <tr>\n",
       "      <th>min</th>\n",
       "      <td>0</td>\n",
       "      <td>0.0</td>\n",
       "      <td>0.0</td>\n",
       "      <td>0.0</td>\n",
       "      <td>0.0</td>\n",
       "      <td>0.0</td>\n",
       "      <td>0.0</td>\n",
       "      <td>0.0</td>\n",
       "      <td>0.0</td>\n",
       "      <td>0.0</td>\n",
       "      <td>...</td>\n",
       "      <td>0.0</td>\n",
       "      <td>0.0</td>\n",
       "      <td>0.0</td>\n",
       "      <td>0.0</td>\n",
       "      <td>0.0</td>\n",
       "      <td>0.0</td>\n",
       "      <td>0.0</td>\n",
       "      <td>0.0</td>\n",
       "      <td>0.0</td>\n",
       "      <td>0.0</td>\n",
       "    </tr>\n",
       "    <tr>\n",
       "      <th>p1</th>\n",
       "      <td>0.0</td>\n",
       "      <td>0.001</td>\n",
       "      <td>0.0</td>\n",
       "      <td>0.0</td>\n",
       "      <td>0.001</td>\n",
       "      <td>0.0</td>\n",
       "      <td>0.0</td>\n",
       "      <td>0.0</td>\n",
       "      <td>0.0</td>\n",
       "      <td>0.0</td>\n",
       "      <td>...</td>\n",
       "      <td>0.0</td>\n",
       "      <td>0.0</td>\n",
       "      <td>0.001</td>\n",
       "      <td>0.0</td>\n",
       "      <td>0.0</td>\n",
       "      <td>0.001</td>\n",
       "      <td>0.0</td>\n",
       "      <td>0.0</td>\n",
       "      <td>0.0</td>\n",
       "      <td>0.0</td>\n",
       "    </tr>\n",
       "    <tr>\n",
       "      <th>p5</th>\n",
       "      <td>0.0</td>\n",
       "      <td>0.001</td>\n",
       "      <td>0.0</td>\n",
       "      <td>0.0</td>\n",
       "      <td>0.006</td>\n",
       "      <td>0.0</td>\n",
       "      <td>0.0</td>\n",
       "      <td>0.0</td>\n",
       "      <td>0.001</td>\n",
       "      <td>0.0</td>\n",
       "      <td>...</td>\n",
       "      <td>0.0</td>\n",
       "      <td>0.0</td>\n",
       "      <td>0.002</td>\n",
       "      <td>0.0</td>\n",
       "      <td>0.0</td>\n",
       "      <td>0.001</td>\n",
       "      <td>0.0</td>\n",
       "      <td>0.0</td>\n",
       "      <td>0.0</td>\n",
       "      <td>0.0</td>\n",
       "    </tr>\n",
       "    <tr>\n",
       "      <th>p10</th>\n",
       "      <td>0.0</td>\n",
       "      <td>0.001</td>\n",
       "      <td>0.0</td>\n",
       "      <td>0.0</td>\n",
       "      <td>0.013</td>\n",
       "      <td>0.0</td>\n",
       "      <td>0.0</td>\n",
       "      <td>0.0</td>\n",
       "      <td>0.003</td>\n",
       "      <td>0.0</td>\n",
       "      <td>...</td>\n",
       "      <td>0.0</td>\n",
       "      <td>0.0</td>\n",
       "      <td>0.004</td>\n",
       "      <td>0.0</td>\n",
       "      <td>0.0</td>\n",
       "      <td>0.001</td>\n",
       "      <td>0.0</td>\n",
       "      <td>0.0</td>\n",
       "      <td>0.0</td>\n",
       "      <td>0.0</td>\n",
       "    </tr>\n",
       "    <tr>\n",
       "      <th>p25</th>\n",
       "      <td>0.0</td>\n",
       "      <td>0.003</td>\n",
       "      <td>0.0</td>\n",
       "      <td>0.0</td>\n",
       "      <td>0.054</td>\n",
       "      <td>0.0</td>\n",
       "      <td>0.0</td>\n",
       "      <td>0.0</td>\n",
       "      <td>0.007</td>\n",
       "      <td>0.0</td>\n",
       "      <td>...</td>\n",
       "      <td>0.0</td>\n",
       "      <td>0.0</td>\n",
       "      <td>0.014</td>\n",
       "      <td>0.0</td>\n",
       "      <td>0.0</td>\n",
       "      <td>0.003</td>\n",
       "      <td>0.0</td>\n",
       "      <td>0.0</td>\n",
       "      <td>0.0</td>\n",
       "      <td>0.0</td>\n",
       "    </tr>\n",
       "    <tr>\n",
       "      <th>p50</th>\n",
       "      <td>0.0</td>\n",
       "      <td>0.011</td>\n",
       "      <td>0.0</td>\n",
       "      <td>0.00367</td>\n",
       "      <td>0.255</td>\n",
       "      <td>0.0</td>\n",
       "      <td>0.0</td>\n",
       "      <td>0.0</td>\n",
       "      <td>0.1</td>\n",
       "      <td>0.0</td>\n",
       "      <td>...</td>\n",
       "      <td>0.0</td>\n",
       "      <td>0.0</td>\n",
       "      <td>0.1</td>\n",
       "      <td>0.0</td>\n",
       "      <td>0.00217</td>\n",
       "      <td>0.008</td>\n",
       "      <td>0.0</td>\n",
       "      <td>0.0</td>\n",
       "      <td>0.0</td>\n",
       "      <td>0.0</td>\n",
       "    </tr>\n",
       "    <tr>\n",
       "      <th>p75</th>\n",
       "      <td>1.0</td>\n",
       "      <td>0.106</td>\n",
       "      <td>0.005</td>\n",
       "      <td>0.01969</td>\n",
       "      <td>0.255</td>\n",
       "      <td>0.006</td>\n",
       "      <td>0.0</td>\n",
       "      <td>0.003</td>\n",
       "      <td>0.1</td>\n",
       "      <td>0.014</td>\n",
       "      <td>...</td>\n",
       "      <td>0.0</td>\n",
       "      <td>0.0</td>\n",
       "      <td>0.1</td>\n",
       "      <td>0.015</td>\n",
       "      <td>0.00299</td>\n",
       "      <td>0.016</td>\n",
       "      <td>0.008</td>\n",
       "      <td>0.017</td>\n",
       "      <td>0.0</td>\n",
       "      <td>0.0</td>\n",
       "    </tr>\n",
       "    <tr>\n",
       "      <th>p90</th>\n",
       "      <td>1.0</td>\n",
       "      <td>0.226</td>\n",
       "      <td>0.007</td>\n",
       "      <td>0.06691</td>\n",
       "      <td>0.255</td>\n",
       "      <td>0.008</td>\n",
       "      <td>0.0</td>\n",
       "      <td>0.014</td>\n",
       "      <td>0.1</td>\n",
       "      <td>0.1</td>\n",
       "      <td>...</td>\n",
       "      <td>0.0</td>\n",
       "      <td>0.0</td>\n",
       "      <td>0.1</td>\n",
       "      <td>0.1</td>\n",
       "      <td>0.00367</td>\n",
       "      <td>0.025</td>\n",
       "      <td>0.033</td>\n",
       "      <td>0.1</td>\n",
       "      <td>0.0</td>\n",
       "      <td>0.0</td>\n",
       "    </tr>\n",
       "    <tr>\n",
       "      <th>p95</th>\n",
       "      <td>1.0</td>\n",
       "      <td>0.263</td>\n",
       "      <td>0.007</td>\n",
       "      <td>0.11762</td>\n",
       "      <td>0.255</td>\n",
       "      <td>0.009</td>\n",
       "      <td>0.076</td>\n",
       "      <td>0.035</td>\n",
       "      <td>0.1</td>\n",
       "      <td>0.1</td>\n",
       "      <td>...</td>\n",
       "      <td>0.0</td>\n",
       "      <td>0.094</td>\n",
       "      <td>0.1</td>\n",
       "      <td>0.1</td>\n",
       "      <td>0.01154</td>\n",
       "      <td>0.036</td>\n",
       "      <td>0.071</td>\n",
       "      <td>0.1</td>\n",
       "      <td>0.1</td>\n",
       "      <td>0.0</td>\n",
       "    </tr>\n",
       "    <tr>\n",
       "      <th>p99</th>\n",
       "      <td>1.0</td>\n",
       "      <td>0.296</td>\n",
       "      <td>0.057</td>\n",
       "      <td>0.309345</td>\n",
       "      <td>0.255</td>\n",
       "      <td>0.04</td>\n",
       "      <td>0.1</td>\n",
       "      <td>0.1</td>\n",
       "      <td>0.1</td>\n",
       "      <td>0.1</td>\n",
       "      <td>...</td>\n",
       "      <td>0.0</td>\n",
       "      <td>0.1</td>\n",
       "      <td>0.1</td>\n",
       "      <td>0.1</td>\n",
       "      <td>0.07012</td>\n",
       "      <td>0.131</td>\n",
       "      <td>0.1</td>\n",
       "      <td>0.1</td>\n",
       "      <td>0.1</td>\n",
       "      <td>0.0</td>\n",
       "    </tr>\n",
       "    <tr>\n",
       "      <th>max</th>\n",
       "      <td>1</td>\n",
       "      <td>0.511</td>\n",
       "      <td>0.1</td>\n",
       "      <td>1.0</td>\n",
       "      <td>0.255</td>\n",
       "      <td>0.1</td>\n",
       "      <td>0.1</td>\n",
       "      <td>0.1</td>\n",
       "      <td>0.1</td>\n",
       "      <td>0.1</td>\n",
       "      <td>...</td>\n",
       "      <td>0.2</td>\n",
       "      <td>0.1</td>\n",
       "      <td>0.1</td>\n",
       "      <td>0.1</td>\n",
       "      <td>1.0</td>\n",
       "      <td>0.511</td>\n",
       "      <td>0.1</td>\n",
       "      <td>0.1</td>\n",
       "      <td>0.1</td>\n",
       "      <td>0.5</td>\n",
       "    </tr>\n",
       "  </tbody>\n",
       "</table>\n",
       "<p>23 rows × 31 columns</p>\n",
       "</div>"
      ],
      "text/plain": [
       "             attack12      count diff_srv_rate    dst_bytes dst_host_count  \\\n",
       "dtype           int32    float64       float64      float64        float64   \n",
       "cardinality         2        512            90        18399            256   \n",
       "n_tot          817551     817551        817551       817551         817551   \n",
       "n              817551     817551        817551       817551         817551   \n",
       "nmiss               0          0             0            0              0   \n",
       "perc_miss         0.0        0.0           0.0          0.0            0.0   \n",
       "sum            240841  48936.186      2402.468  20326.03324     136423.302   \n",
       "mean         0.294588   0.059857      0.002939     0.024862       0.166868   \n",
       "std          0.455858   0.091984      0.010127     0.066635       0.102058   \n",
       "var          0.207806   0.008461      0.000103      0.00444       0.010416   \n",
       "lc_iqr           -1.5    -0.1515       -0.0075    -0.029535        -0.2475   \n",
       "uc_iqr            2.5     0.2605        0.0125     0.049225         0.5565   \n",
       "min                 0        0.0           0.0          0.0            0.0   \n",
       "p1                0.0      0.001           0.0          0.0          0.001   \n",
       "p5                0.0      0.001           0.0          0.0          0.006   \n",
       "p10               0.0      0.001           0.0          0.0          0.013   \n",
       "p25               0.0      0.003           0.0          0.0          0.054   \n",
       "p50               0.0      0.011           0.0      0.00367          0.255   \n",
       "p75               1.0      0.106         0.005      0.01969          0.255   \n",
       "p90               1.0      0.226         0.007      0.06691          0.255   \n",
       "p95               1.0      0.263         0.007      0.11762          0.255   \n",
       "p99               1.0      0.296         0.057     0.309345          0.255   \n",
       "max                 1      0.511           0.1          1.0          0.255   \n",
       "\n",
       "            dst_host_diff_srv_rate dst_host_rerror_rate  \\\n",
       "dtype                      float64              float64   \n",
       "cardinality                    101                  101   \n",
       "n_tot                       817551               817551   \n",
       "n                           817551               817551   \n",
       "nmiss                            0                    0   \n",
       "perc_miss                      0.0                  0.0   \n",
       "sum                        2763.32             4392.049   \n",
       "mean                       0.00338             0.005372   \n",
       "std                       0.008557              0.02192   \n",
       "var                       0.000073              0.00048   \n",
       "lc_iqr                      -0.009                  0.0   \n",
       "uc_iqr                       0.015                  0.0   \n",
       "min                            0.0                  0.0   \n",
       "p1                             0.0                  0.0   \n",
       "p5                             0.0                  0.0   \n",
       "p10                            0.0                  0.0   \n",
       "p25                            0.0                  0.0   \n",
       "p50                            0.0                  0.0   \n",
       "p75                          0.006                  0.0   \n",
       "p90                          0.008                  0.0   \n",
       "p95                          0.009                0.076   \n",
       "p99                           0.04                  0.1   \n",
       "max                            0.1                  0.1   \n",
       "\n",
       "            dst_host_same_src_port_rate dst_host_same_srv_rate  \\\n",
       "dtype                           float64                float64   \n",
       "cardinality                         101                    101   \n",
       "n_tot                            817551                 817551   \n",
       "n                                817551                 817551   \n",
       "nmiss                                 0                      0   \n",
       "perc_miss                           0.0                    0.0   \n",
       "sum                            5026.182              54608.021   \n",
       "mean                           0.006148               0.066795   \n",
       "std                             0.01746               0.043421   \n",
       "var                            0.000305               0.001885   \n",
       "lc_iqr                          -0.0045                -0.1325   \n",
       "uc_iqr                           0.0075                 0.2395   \n",
       "min                                 0.0                    0.0   \n",
       "p1                                  0.0                    0.0   \n",
       "p5                                  0.0                  0.001   \n",
       "p10                                 0.0                  0.003   \n",
       "p25                                 0.0                  0.007   \n",
       "p50                                 0.0                    0.1   \n",
       "p75                               0.003                    0.1   \n",
       "p90                               0.014                    0.1   \n",
       "p95                               0.035                    0.1   \n",
       "p99                                 0.1                    0.1   \n",
       "max                                 0.1                    0.1   \n",
       "\n",
       "            dst_host_serror_rate  ... num_shells rerror_rate same_srv_rate  \\\n",
       "dtype                    float64  ...    float64     float64       float64   \n",
       "cardinality                  101  ...          3          85           101   \n",
       "n_tot                     817551  ...     817551      817551        817551   \n",
       "n                         817551  ...     817551      817551        817551   \n",
       "nmiss                          0  ...          0           0             0   \n",
       "perc_miss                    0.0  ...        0.0         0.0           0.0   \n",
       "sum                    20328.601  ...       16.1     4378.22     60065.972   \n",
       "mean                    0.024865  ...    0.00002    0.005355      0.073471   \n",
       "std                     0.043062  ...   0.001412     0.02233      0.041806   \n",
       "var                     0.001854  ...   0.000002    0.000499      0.001748   \n",
       "lc_iqr                    -0.021  ...        0.0         0.0        -0.115   \n",
       "uc_iqr                     0.035  ...        0.0         0.0         0.229   \n",
       "min                          0.0  ...        0.0         0.0           0.0   \n",
       "p1                           0.0  ...        0.0         0.0         0.001   \n",
       "p5                           0.0  ...        0.0         0.0         0.002   \n",
       "p10                          0.0  ...        0.0         0.0         0.004   \n",
       "p25                          0.0  ...        0.0         0.0         0.014   \n",
       "p50                          0.0  ...        0.0         0.0           0.1   \n",
       "p75                        0.014  ...        0.0         0.0           0.1   \n",
       "p90                          0.1  ...        0.0         0.0           0.1   \n",
       "p95                          0.1  ...        0.0       0.094           0.1   \n",
       "p99                          0.1  ...        0.0         0.1           0.1   \n",
       "max                          0.1  ...        0.2         0.1           0.1   \n",
       "\n",
       "            serror_rate   src_bytes  srv_count srv_diff_host_rate  \\\n",
       "dtype           float64     float64    float64            float64   \n",
       "cardinality          96        5908        512                 72   \n",
       "n_tot            817551      817551     817551             817551   \n",
       "n                817551      817551     817551             817551   \n",
       "nmiss                 0           0          0                  0   \n",
       "perc_miss           0.0         0.0        0.0                0.0   \n",
       "sum           20302.607  4056.18442  11509.508           8228.031   \n",
       "mean           0.024833    0.004961   0.014078           0.010064   \n",
       "std            0.043074    0.033235   0.031403           0.023558   \n",
       "var            0.001855    0.001105   0.000986           0.000555   \n",
       "lc_iqr          -0.0225   -0.004485    -0.0165             -0.012   \n",
       "uc_iqr           0.0375    0.007475     0.0355               0.02   \n",
       "min                 0.0         0.0        0.0                0.0   \n",
       "p1                  0.0         0.0      0.001                0.0   \n",
       "p5                  0.0         0.0      0.001                0.0   \n",
       "p10                 0.0         0.0      0.001                0.0   \n",
       "p25                 0.0         0.0      0.003                0.0   \n",
       "p50                 0.0     0.00217      0.008                0.0   \n",
       "p75               0.015     0.00299      0.016              0.008   \n",
       "p90                 0.1     0.00367      0.025              0.033   \n",
       "p95                 0.1     0.01154      0.036              0.071   \n",
       "p99                 0.1     0.07012      0.131                0.1   \n",
       "max                 0.1         1.0      0.511                0.1   \n",
       "\n",
       "            srv_error_rate srv_rerror_rate    urgent  \n",
       "dtype              float64         float64   float64  \n",
       "cardinality             75              60         5  \n",
       "n_tot               817551          817551    817551  \n",
       "n                   817551          817551    817551  \n",
       "nmiss                    0               0         0  \n",
       "perc_miss              0.0             0.0       0.0  \n",
       "sum              20380.639        4344.039       2.1  \n",
       "mean              0.024929        0.005313  0.000003  \n",
       "std               0.043153        0.022215  0.000805  \n",
       "var               0.001862        0.000494  0.000001  \n",
       "lc_iqr             -0.0255             0.0       0.0  \n",
       "uc_iqr              0.0425             0.0       0.0  \n",
       "min                    0.0             0.0       0.0  \n",
       "p1                     0.0             0.0       0.0  \n",
       "p5                     0.0             0.0       0.0  \n",
       "p10                    0.0             0.0       0.0  \n",
       "p25                    0.0             0.0       0.0  \n",
       "p50                    0.0             0.0       0.0  \n",
       "p75                  0.017             0.0       0.0  \n",
       "p90                    0.1             0.0       0.0  \n",
       "p95                    0.1             0.1       0.0  \n",
       "p99                    0.1             0.1       0.0  \n",
       "max                    0.1             0.1       0.5  \n",
       "\n",
       "[23 rows x 31 columns]"
      ]
     },
     "execution_count": 35,
     "metadata": {},
     "output_type": "execute_result"
    }
   ],
   "source": [
    "finaldf[con_cols].apply(continuous_var_summary)"
   ]
  },
  {
   "cell_type": "code",
   "execution_count": 36,
   "metadata": {},
   "outputs": [],
   "source": [
    "#deal with outliners\n",
    "#finaldf[con_cols] = finaldf[con_cols].apply( lambda x: x.clip( lower = x.quantile(0.01), upper = x.quantile(0.99) ) )"
   ]
  },
  {
   "cell_type": "code",
   "execution_count": 37,
   "metadata": {},
   "outputs": [],
   "source": [
    "col = finaldf[con_cols].std()\n",
    "col=col[(col<0.05)].index"
   ]
  },
  {
   "cell_type": "code",
   "execution_count": 38,
   "metadata": {},
   "outputs": [],
   "source": [
    "col1 = con_cols.difference(col)"
   ]
  },
  {
   "cell_type": "code",
   "execution_count": 39,
   "metadata": {},
   "outputs": [],
   "source": [
    "import statsmodels.formula.api as smf"
   ]
  },
  {
   "cell_type": "code",
   "execution_count": 40,
   "metadata": {},
   "outputs": [
    {
     "data": {
      "text/html": [
       "<div>\n",
       "<style scoped>\n",
       "    .dataframe tbody tr th:only-of-type {\n",
       "        vertical-align: middle;\n",
       "    }\n",
       "\n",
       "    .dataframe tbody tr th {\n",
       "        vertical-align: top;\n",
       "    }\n",
       "\n",
       "    .dataframe thead th {\n",
       "        text-align: right;\n",
       "    }\n",
       "</style>\n",
       "<table border=\"1\" class=\"dataframe\">\n",
       "  <thead>\n",
       "    <tr style=\"text-align: right;\">\n",
       "      <th></th>\n",
       "      <th>duration</th>\n",
       "      <th>src_bytes</th>\n",
       "      <th>dst_bytes</th>\n",
       "      <th>urgent</th>\n",
       "      <th>hot</th>\n",
       "      <th>num_failed_logins</th>\n",
       "      <th>logged_in</th>\n",
       "      <th>num_compromised</th>\n",
       "      <th>root_shell</th>\n",
       "      <th>su_attempted</th>\n",
       "      <th>...</th>\n",
       "      <th>dst_host_diff_srv_rate</th>\n",
       "      <th>dst_host_same_src_port_rate</th>\n",
       "      <th>dst_host_srv_diff_host_rate</th>\n",
       "      <th>dst_host_serror_rate</th>\n",
       "      <th>dst_host_srv_serror_rate</th>\n",
       "      <th>dst_host_rerror_rate</th>\n",
       "      <th>dst_host_srv_rerror_rate</th>\n",
       "      <th>attack12</th>\n",
       "      <th>0.01</th>\n",
       "      <th>0.02</th>\n",
       "    </tr>\n",
       "  </thead>\n",
       "  <tbody>\n",
       "    <tr>\n",
       "      <th>0</th>\n",
       "      <td>0.0</td>\n",
       "      <td>0.00215</td>\n",
       "      <td>0.45076</td>\n",
       "      <td>0.0</td>\n",
       "      <td>0.0</td>\n",
       "      <td>0.0</td>\n",
       "      <td>0.1</td>\n",
       "      <td>0.0</td>\n",
       "      <td>0.0</td>\n",
       "      <td>0</td>\n",
       "      <td>...</td>\n",
       "      <td>0.0</td>\n",
       "      <td>0.00</td>\n",
       "      <td>0.0</td>\n",
       "      <td>0.0</td>\n",
       "      <td>0.0</td>\n",
       "      <td>0.0</td>\n",
       "      <td>0.0</td>\n",
       "      <td>0</td>\n",
       "      <td>0</td>\n",
       "      <td>0</td>\n",
       "    </tr>\n",
       "    <tr>\n",
       "      <th>1</th>\n",
       "      <td>0.0</td>\n",
       "      <td>0.00162</td>\n",
       "      <td>0.04528</td>\n",
       "      <td>0.0</td>\n",
       "      <td>0.0</td>\n",
       "      <td>0.0</td>\n",
       "      <td>0.1</td>\n",
       "      <td>0.0</td>\n",
       "      <td>0.0</td>\n",
       "      <td>0</td>\n",
       "      <td>...</td>\n",
       "      <td>0.0</td>\n",
       "      <td>0.10</td>\n",
       "      <td>0.0</td>\n",
       "      <td>0.0</td>\n",
       "      <td>0.0</td>\n",
       "      <td>0.0</td>\n",
       "      <td>0.0</td>\n",
       "      <td>0</td>\n",
       "      <td>0</td>\n",
       "      <td>0</td>\n",
       "    </tr>\n",
       "    <tr>\n",
       "      <th>2</th>\n",
       "      <td>0.0</td>\n",
       "      <td>0.00236</td>\n",
       "      <td>0.01228</td>\n",
       "      <td>0.0</td>\n",
       "      <td>0.0</td>\n",
       "      <td>0.0</td>\n",
       "      <td>0.1</td>\n",
       "      <td>0.0</td>\n",
       "      <td>0.0</td>\n",
       "      <td>0</td>\n",
       "      <td>...</td>\n",
       "      <td>0.0</td>\n",
       "      <td>0.05</td>\n",
       "      <td>0.0</td>\n",
       "      <td>0.0</td>\n",
       "      <td>0.0</td>\n",
       "      <td>0.0</td>\n",
       "      <td>0.0</td>\n",
       "      <td>0</td>\n",
       "      <td>0</td>\n",
       "      <td>0</td>\n",
       "    </tr>\n",
       "  </tbody>\n",
       "</table>\n",
       "<p>3 rows × 38 columns</p>\n",
       "</div>"
      ],
      "text/plain": [
       "   duration  src_bytes  dst_bytes  urgent  hot  num_failed_logins  logged_in  \\\n",
       "0       0.0    0.00215    0.45076     0.0  0.0                0.0        0.1   \n",
       "1       0.0    0.00162    0.04528     0.0  0.0                0.0        0.1   \n",
       "2       0.0    0.00236    0.01228     0.0  0.0                0.0        0.1   \n",
       "\n",
       "   num_compromised  root_shell  su_attempted  ...  dst_host_diff_srv_rate  \\\n",
       "0              0.0         0.0             0  ...                     0.0   \n",
       "1              0.0         0.0             0  ...                     0.0   \n",
       "2              0.0         0.0             0  ...                     0.0   \n",
       "\n",
       "   dst_host_same_src_port_rate  dst_host_srv_diff_host_rate  \\\n",
       "0                         0.00                          0.0   \n",
       "1                         0.10                          0.0   \n",
       "2                         0.05                          0.0   \n",
       "\n",
       "   dst_host_serror_rate  dst_host_srv_serror_rate  dst_host_rerror_rate  \\\n",
       "0                   0.0                       0.0                   0.0   \n",
       "1                   0.0                       0.0                   0.0   \n",
       "2                   0.0                       0.0                   0.0   \n",
       "\n",
       "   dst_host_srv_rerror_rate  attack12  0.01  0.02  \n",
       "0                       0.0         0     0     0  \n",
       "1                       0.0         0     0     0  \n",
       "2                       0.0         0     0     0  \n",
       "\n",
       "[3 rows x 38 columns]"
      ]
     },
     "execution_count": 40,
     "metadata": {},
     "output_type": "execute_result"
    }
   ],
   "source": [
    "finaldf.head(3)"
   ]
  },
  {
   "cell_type": "code",
   "execution_count": 41,
   "metadata": {},
   "outputs": [
    {
     "data": {
      "text/plain": [
       "Index(['count', 'diff_srv_rate', 'dst_bytes', 'dst_host_count',\n",
       "       'dst_host_diff_srv_rate', 'dst_host_rerror_rate',\n",
       "       'dst_host_same_src_port_rate', 'dst_host_same_srv_rate',\n",
       "       'dst_host_serror_rate', 'dst_host_srv_count',\n",
       "       'dst_host_srv_diff_host_rate', 'dst_host_srv_rerror_rate',\n",
       "       'dst_host_srv_serror_rate', 'duration', 'hot', 'num_access_files',\n",
       "       'num_compromised', 'num_failed_logins', 'num_file_creations',\n",
       "       'num_root', 'num_shells', 'rerror_rate', 'same_srv_rate', 'serror_rate',\n",
       "       'src_bytes', 'srv_count', 'srv_diff_host_rate', 'srv_error_rate',\n",
       "       'srv_rerror_rate', 'urgent'],\n",
       "      dtype='object')"
      ]
     },
     "execution_count": 41,
     "metadata": {},
     "output_type": "execute_result"
    }
   ],
   "source": [
    "con_cols.difference([\"attack12\"])"
   ]
  },
  {
   "cell_type": "code",
   "execution_count": 42,
   "metadata": {},
   "outputs": [
    {
     "name": "stdout",
     "output_type": "stream",
     "text": [
      "count\n",
      "Optimization terminated successfully.\n",
      "         Current function value: 0.144593\n",
      "         Iterations 9\n",
      "diff_srv_rate\n",
      "Optimization terminated successfully.\n",
      "         Current function value: 0.413927\n",
      "         Iterations 8\n",
      "dst_bytes\n",
      "Optimization terminated successfully.\n",
      "         Current function value: inf\n",
      "         Iterations 13\n",
      "dst_host_count\n",
      "Optimization terminated successfully.\n",
      "         Current function value: 0.402241\n",
      "         Iterations 9\n",
      "dst_host_diff_srv_rate\n",
      "Optimization terminated successfully.\n",
      "         Current function value: 0.387226\n",
      "         Iterations 8\n",
      "dst_host_rerror_rate\n",
      "Optimization terminated successfully.\n",
      "         Current function value: 0.584938\n",
      "         Iterations 5\n",
      "dst_host_same_src_port_rate\n",
      "Optimization terminated successfully.\n",
      "         Current function value: 0.596197\n",
      "         Iterations 7\n",
      "dst_host_same_srv_rate\n",
      "Optimization terminated successfully.\n",
      "         Current function value: 0.118491\n",
      "         Iterations 10\n",
      "dst_host_serror_rate\n",
      "Optimization terminated successfully.\n",
      "         Current function value: 0.176473\n",
      "         Iterations 11\n",
      "dst_host_srv_count\n",
      "Optimization terminated successfully.\n",
      "         Current function value: 0.148217\n",
      "         Iterations 10\n",
      "dst_host_srv_diff_host_rate\n",
      "Optimization terminated successfully.\n",
      "         Current function value: 0.466933\n",
      "         Iterations 10\n",
      "dst_host_srv_rerror_rate\n",
      "Optimization terminated successfully.\n",
      "         Current function value: 0.584505\n",
      "         Iterations 5\n",
      "dst_host_srv_serror_rate\n",
      "Optimization terminated successfully.\n",
      "         Current function value: 0.175255\n",
      "         Iterations 12\n",
      "duration\n",
      "Optimization terminated successfully.\n",
      "         Current function value: 0.606140\n",
      "         Iterations 5\n",
      "hot\n",
      "Optimization terminated successfully.\n",
      "         Current function value: 0.605787\n",
      "         Iterations 7\n",
      "num_access_files\n",
      "Optimization terminated successfully.\n",
      "         Current function value: 0.605052\n",
      "         Iterations 12\n",
      "num_compromised\n",
      "Optimization terminated successfully.\n",
      "         Current function value: 0.606182\n",
      "         Iterations 5\n",
      "num_failed_logins\n",
      "Optimization terminated successfully.\n",
      "         Current function value: 0.606202\n",
      "         Iterations 5\n",
      "num_file_creations\n",
      "Optimization terminated successfully.\n",
      "         Current function value: 0.605799\n",
      "         Iterations 10\n",
      "num_root\n",
      "Optimization terminated successfully.\n",
      "         Current function value: 0.605156\n",
      "         Iterations 11\n",
      "num_shells\n",
      "Warning: Maximum number of iterations has been exceeded.\n",
      "         Current function value: 0.606141\n",
      "         Iterations: 35\n"
     ]
    },
    {
     "name": "stderr",
     "output_type": "stream",
     "text": [
      "C:\\Users\\Anant\\anaconda3\\lib\\site-packages\\statsmodels\\base\\model.py:604: ConvergenceWarning: Maximum Likelihood optimization failed to converge. Check mle_retvals\n",
      "  warnings.warn(\"Maximum Likelihood optimization failed to \"\n"
     ]
    },
    {
     "name": "stdout",
     "output_type": "stream",
     "text": [
      "rerror_rate\n",
      "Optimization terminated successfully.\n",
      "         Current function value: 0.584108\n",
      "         Iterations 5\n",
      "same_srv_rate\n",
      "Optimization terminated successfully.\n",
      "         Current function value: 0.065425\n",
      "         Iterations 9\n",
      "serror_rate\n",
      "Optimization terminated successfully.\n",
      "         Current function value: 0.177421\n",
      "         Iterations 11\n",
      "src_bytes\n",
      "Optimization terminated successfully.\n",
      "         Current function value: 0.601620\n",
      "         Iterations 9\n",
      "srv_count\n",
      "Optimization terminated successfully.\n",
      "         Current function value: 0.606012\n",
      "         Iterations 5\n",
      "srv_diff_host_rate\n",
      "Optimization terminated successfully.\n",
      "         Current function value: 0.525098\n",
      "         Iterations 10\n",
      "srv_error_rate\n",
      "Optimization terminated successfully.\n",
      "         Current function value: 0.177856\n",
      "         Iterations 10\n",
      "srv_rerror_rate\n",
      "Optimization terminated successfully.\n",
      "         Current function value: 0.584722\n",
      "         Iterations 5\n",
      "urgent\n",
      "Optimization terminated successfully.\n",
      "         Current function value: 0.606209\n",
      "         Iterations 6\n"
     ]
    }
   ],
   "source": [
    "import statsmodels.formula.api as smf\n",
    "from sklearn import metrics\n",
    "roc_auc = []\n",
    "for var in con_cols.difference([\"attack12\"]):\n",
    "    print(var)\n",
    "    m1 = smf.logit('attack12~'+var, data=finaldf).fit()\n",
    "    score = metrics.roc_auc_score(finaldf[\"attack12\"],m1.predict())\n",
    "    roc_auc.append(score)\n",
    "    "
   ]
  },
  {
   "cell_type": "code",
   "execution_count": 43,
   "metadata": {},
   "outputs": [],
   "source": [
    "roc_auc_score = pd.concat([pd.Series(con_cols.difference([\"attack12\"])),pd.Series(roc_auc)],axis=1)\n",
    "roc_auc_score.columns = ['feature', 'auc_score']"
   ]
  },
  {
   "cell_type": "code",
   "execution_count": 44,
   "metadata": {},
   "outputs": [
    {
     "data": {
      "text/html": [
       "<div>\n",
       "<style scoped>\n",
       "    .dataframe tbody tr th:only-of-type {\n",
       "        vertical-align: middle;\n",
       "    }\n",
       "\n",
       "    .dataframe tbody tr th {\n",
       "        vertical-align: top;\n",
       "    }\n",
       "\n",
       "    .dataframe thead th {\n",
       "        text-align: right;\n",
       "    }\n",
       "</style>\n",
       "<table border=\"1\" class=\"dataframe\">\n",
       "  <thead>\n",
       "    <tr style=\"text-align: right;\">\n",
       "      <th></th>\n",
       "      <th>feature</th>\n",
       "      <th>auc_score</th>\n",
       "    </tr>\n",
       "  </thead>\n",
       "  <tbody>\n",
       "    <tr>\n",
       "      <th>0</th>\n",
       "      <td>count</td>\n",
       "      <td>0.972571</td>\n",
       "    </tr>\n",
       "    <tr>\n",
       "      <th>1</th>\n",
       "      <td>diff_srv_rate</td>\n",
       "      <td>0.975207</td>\n",
       "    </tr>\n",
       "    <tr>\n",
       "      <th>2</th>\n",
       "      <td>dst_bytes</td>\n",
       "      <td>0.961945</td>\n",
       "    </tr>\n",
       "    <tr>\n",
       "      <th>3</th>\n",
       "      <td>dst_host_count</td>\n",
       "      <td>0.831527</td>\n",
       "    </tr>\n",
       "    <tr>\n",
       "      <th>4</th>\n",
       "      <td>dst_host_diff_srv_rate</td>\n",
       "      <td>0.951983</td>\n",
       "    </tr>\n",
       "    <tr>\n",
       "      <th>5</th>\n",
       "      <td>dst_host_rerror_rate</td>\n",
       "      <td>0.546548</td>\n",
       "    </tr>\n",
       "    <tr>\n",
       "      <th>6</th>\n",
       "      <td>dst_host_same_src_port_rate</td>\n",
       "      <td>0.795734</td>\n",
       "    </tr>\n",
       "    <tr>\n",
       "      <th>7</th>\n",
       "      <td>dst_host_same_srv_rate</td>\n",
       "      <td>0.984542</td>\n",
       "    </tr>\n",
       "    <tr>\n",
       "      <th>8</th>\n",
       "      <td>dst_host_serror_rate</td>\n",
       "      <td>0.925278</td>\n",
       "    </tr>\n",
       "    <tr>\n",
       "      <th>9</th>\n",
       "      <td>dst_host_srv_count</td>\n",
       "      <td>0.980322</td>\n",
       "    </tr>\n",
       "    <tr>\n",
       "      <th>10</th>\n",
       "      <td>dst_host_srv_diff_host_rate</td>\n",
       "      <td>0.805299</td>\n",
       "    </tr>\n",
       "    <tr>\n",
       "      <th>11</th>\n",
       "      <td>dst_host_srv_rerror_rate</td>\n",
       "      <td>0.544126</td>\n",
       "    </tr>\n",
       "    <tr>\n",
       "      <th>12</th>\n",
       "      <td>dst_host_srv_serror_rate</td>\n",
       "      <td>0.917747</td>\n",
       "    </tr>\n",
       "    <tr>\n",
       "      <th>13</th>\n",
       "      <td>duration</td>\n",
       "      <td>0.473104</td>\n",
       "    </tr>\n",
       "    <tr>\n",
       "      <th>14</th>\n",
       "      <td>hot</td>\n",
       "      <td>0.500819</td>\n",
       "    </tr>\n",
       "    <tr>\n",
       "      <th>15</th>\n",
       "      <td>num_access_files</td>\n",
       "      <td>0.502388</td>\n",
       "    </tr>\n",
       "    <tr>\n",
       "      <th>16</th>\n",
       "      <td>num_compromised</td>\n",
       "      <td>0.501568</td>\n",
       "    </tr>\n",
       "    <tr>\n",
       "      <th>17</th>\n",
       "      <td>num_failed_logins</td>\n",
       "      <td>0.500070</td>\n",
       "    </tr>\n",
       "    <tr>\n",
       "      <th>18</th>\n",
       "      <td>num_file_creations</td>\n",
       "      <td>0.501016</td>\n",
       "    </tr>\n",
       "    <tr>\n",
       "      <th>19</th>\n",
       "      <td>num_root</td>\n",
       "      <td>0.502410</td>\n",
       "    </tr>\n",
       "    <tr>\n",
       "      <th>20</th>\n",
       "      <td>num_shells</td>\n",
       "      <td>0.500139</td>\n",
       "    </tr>\n",
       "    <tr>\n",
       "      <th>21</th>\n",
       "      <td>rerror_rate</td>\n",
       "      <td>0.556130</td>\n",
       "    </tr>\n",
       "    <tr>\n",
       "      <th>22</th>\n",
       "      <td>same_srv_rate</td>\n",
       "      <td>0.983208</td>\n",
       "    </tr>\n",
       "    <tr>\n",
       "      <th>23</th>\n",
       "      <td>serror_rate</td>\n",
       "      <td>0.925034</td>\n",
       "    </tr>\n",
       "    <tr>\n",
       "      <th>24</th>\n",
       "      <td>src_bytes</td>\n",
       "      <td>0.973349</td>\n",
       "    </tr>\n",
       "    <tr>\n",
       "      <th>25</th>\n",
       "      <td>srv_count</td>\n",
       "      <td>0.551174</td>\n",
       "    </tr>\n",
       "    <tr>\n",
       "      <th>26</th>\n",
       "      <td>srv_diff_host_rate</td>\n",
       "      <td>0.699656</td>\n",
       "    </tr>\n",
       "    <tr>\n",
       "      <th>27</th>\n",
       "      <td>srv_error_rate</td>\n",
       "      <td>0.919930</td>\n",
       "    </tr>\n",
       "    <tr>\n",
       "      <th>28</th>\n",
       "      <td>srv_rerror_rate</td>\n",
       "      <td>0.551005</td>\n",
       "    </tr>\n",
       "    <tr>\n",
       "      <th>29</th>\n",
       "      <td>urgent</td>\n",
       "      <td>0.500002</td>\n",
       "    </tr>\n",
       "  </tbody>\n",
       "</table>\n",
       "</div>"
      ],
      "text/plain": [
       "                        feature  auc_score\n",
       "0                         count   0.972571\n",
       "1                 diff_srv_rate   0.975207\n",
       "2                     dst_bytes   0.961945\n",
       "3                dst_host_count   0.831527\n",
       "4        dst_host_diff_srv_rate   0.951983\n",
       "5          dst_host_rerror_rate   0.546548\n",
       "6   dst_host_same_src_port_rate   0.795734\n",
       "7        dst_host_same_srv_rate   0.984542\n",
       "8          dst_host_serror_rate   0.925278\n",
       "9            dst_host_srv_count   0.980322\n",
       "10  dst_host_srv_diff_host_rate   0.805299\n",
       "11     dst_host_srv_rerror_rate   0.544126\n",
       "12     dst_host_srv_serror_rate   0.917747\n",
       "13                     duration   0.473104\n",
       "14                          hot   0.500819\n",
       "15             num_access_files   0.502388\n",
       "16              num_compromised   0.501568\n",
       "17            num_failed_logins   0.500070\n",
       "18           num_file_creations   0.501016\n",
       "19                     num_root   0.502410\n",
       "20                   num_shells   0.500139\n",
       "21                  rerror_rate   0.556130\n",
       "22                same_srv_rate   0.983208\n",
       "23                  serror_rate   0.925034\n",
       "24                    src_bytes   0.973349\n",
       "25                    srv_count   0.551174\n",
       "26           srv_diff_host_rate   0.699656\n",
       "27               srv_error_rate   0.919930\n",
       "28              srv_rerror_rate   0.551005\n",
       "29                       urgent   0.500002"
      ]
     },
     "execution_count": 44,
     "metadata": {},
     "output_type": "execute_result"
    }
   ],
   "source": [
    "roc_auc_score"
   ]
  },
  {
   "cell_type": "code",
   "execution_count": 45,
   "metadata": {},
   "outputs": [],
   "source": [
    " col2=roc_auc_score.sort_values(by='auc_score', ascending=False).head(20).feature.values"
   ]
  },
  {
   "cell_type": "code",
   "execution_count": 46,
   "metadata": {},
   "outputs": [],
   "source": [
    "from sklearn.model_selection import train_test_split\n",
    "\n",
    "\n",
    "train_b_X, test_b_X, train_b_y, test_b_y = train_test_split(finaldf[con_cols.difference([\"attack12\"])], \n",
    "                                                            finaldf[\"attack12\"],\n",
    "                                                            test_size = 0.2,\n",
    "                                                            random_state = 123 )"
   ]
  },
  {
   "cell_type": "code",
   "execution_count": 47,
   "metadata": {},
   "outputs": [],
   "source": [
    "from sklearn.ensemble import RandomForestClassifier"
   ]
  },
  {
   "cell_type": "code",
   "execution_count": 48,
   "metadata": {},
   "outputs": [
    {
     "data": {
      "text/html": [
       "<style>#sk-container-id-1 {color: black;background-color: white;}#sk-container-id-1 pre{padding: 0;}#sk-container-id-1 div.sk-toggleable {background-color: white;}#sk-container-id-1 label.sk-toggleable__label {cursor: pointer;display: block;width: 100%;margin-bottom: 0;padding: 0.3em;box-sizing: border-box;text-align: center;}#sk-container-id-1 label.sk-toggleable__label-arrow:before {content: \"▸\";float: left;margin-right: 0.25em;color: #696969;}#sk-container-id-1 label.sk-toggleable__label-arrow:hover:before {color: black;}#sk-container-id-1 div.sk-estimator:hover label.sk-toggleable__label-arrow:before {color: black;}#sk-container-id-1 div.sk-toggleable__content {max-height: 0;max-width: 0;overflow: hidden;text-align: left;background-color: #f0f8ff;}#sk-container-id-1 div.sk-toggleable__content pre {margin: 0.2em;color: black;border-radius: 0.25em;background-color: #f0f8ff;}#sk-container-id-1 input.sk-toggleable__control:checked~div.sk-toggleable__content {max-height: 200px;max-width: 100%;overflow: auto;}#sk-container-id-1 input.sk-toggleable__control:checked~label.sk-toggleable__label-arrow:before {content: \"▾\";}#sk-container-id-1 div.sk-estimator input.sk-toggleable__control:checked~label.sk-toggleable__label {background-color: #d4ebff;}#sk-container-id-1 div.sk-label input.sk-toggleable__control:checked~label.sk-toggleable__label {background-color: #d4ebff;}#sk-container-id-1 input.sk-hidden--visually {border: 0;clip: rect(1px 1px 1px 1px);clip: rect(1px, 1px, 1px, 1px);height: 1px;margin: -1px;overflow: hidden;padding: 0;position: absolute;width: 1px;}#sk-container-id-1 div.sk-estimator {font-family: monospace;background-color: #f0f8ff;border: 1px dotted black;border-radius: 0.25em;box-sizing: border-box;margin-bottom: 0.5em;}#sk-container-id-1 div.sk-estimator:hover {background-color: #d4ebff;}#sk-container-id-1 div.sk-parallel-item::after {content: \"\";width: 100%;border-bottom: 1px solid gray;flex-grow: 1;}#sk-container-id-1 div.sk-label:hover label.sk-toggleable__label {background-color: #d4ebff;}#sk-container-id-1 div.sk-serial::before {content: \"\";position: absolute;border-left: 1px solid gray;box-sizing: border-box;top: 0;bottom: 0;left: 50%;z-index: 0;}#sk-container-id-1 div.sk-serial {display: flex;flex-direction: column;align-items: center;background-color: white;padding-right: 0.2em;padding-left: 0.2em;position: relative;}#sk-container-id-1 div.sk-item {position: relative;z-index: 1;}#sk-container-id-1 div.sk-parallel {display: flex;align-items: stretch;justify-content: center;background-color: white;position: relative;}#sk-container-id-1 div.sk-item::before, #sk-container-id-1 div.sk-parallel-item::before {content: \"\";position: absolute;border-left: 1px solid gray;box-sizing: border-box;top: 0;bottom: 0;left: 50%;z-index: -1;}#sk-container-id-1 div.sk-parallel-item {display: flex;flex-direction: column;z-index: 1;position: relative;background-color: white;}#sk-container-id-1 div.sk-parallel-item:first-child::after {align-self: flex-end;width: 50%;}#sk-container-id-1 div.sk-parallel-item:last-child::after {align-self: flex-start;width: 50%;}#sk-container-id-1 div.sk-parallel-item:only-child::after {width: 0;}#sk-container-id-1 div.sk-dashed-wrapped {border: 1px dashed gray;margin: 0 0.4em 0.5em 0.4em;box-sizing: border-box;padding-bottom: 0.4em;background-color: white;}#sk-container-id-1 div.sk-label label {font-family: monospace;font-weight: bold;display: inline-block;line-height: 1.2em;}#sk-container-id-1 div.sk-label-container {text-align: center;}#sk-container-id-1 div.sk-container {/* jupyter's `normalize.less` sets `[hidden] { display: none; }` but bootstrap.min.css set `[hidden] { display: none !important; }` so we also need the `!important` here to be able to override the default hidden behavior on the sphinx rendered scikit-learn.org. See: https://github.com/scikit-learn/scikit-learn/issues/21755 */display: inline-block !important;position: relative;}#sk-container-id-1 div.sk-text-repr-fallback {display: none;}</style><div id=\"sk-container-id-1\" class=\"sk-top-container\"><div class=\"sk-text-repr-fallback\"><pre>RandomForestClassifier(oob_score=True)</pre><b>In a Jupyter environment, please rerun this cell to show the HTML representation or trust the notebook. <br />On GitHub, the HTML representation is unable to render, please try loading this page with nbviewer.org.</b></div><div class=\"sk-container\" hidden><div class=\"sk-item\"><div class=\"sk-estimator sk-toggleable\"><input class=\"sk-toggleable__control sk-hidden--visually\" id=\"sk-estimator-id-1\" type=\"checkbox\" checked><label for=\"sk-estimator-id-1\" class=\"sk-toggleable__label sk-toggleable__label-arrow\">RandomForestClassifier</label><div class=\"sk-toggleable__content\"><pre>RandomForestClassifier(oob_score=True)</pre></div></div></div></div></div>"
      ],
      "text/plain": [
       "RandomForestClassifier(oob_score=True)"
      ]
     },
     "execution_count": 48,
     "metadata": {},
     "output_type": "execute_result"
    }
   ],
   "source": [
    "radm_clf = RandomForestClassifier(oob_score=True,n_estimators=100 )\n",
    "radm_clf.fit( train_b_X, train_b_y )"
   ]
  },
  {
   "cell_type": "code",
   "execution_count": 49,
   "metadata": {},
   "outputs": [],
   "source": [
    "indices = np.argsort(radm_clf.feature_importances_)[::-1]\n",
    "feature_rank = pd.DataFrame( columns = ['rank', 'feature', 'importance'] )\n",
    "for f in range(train_b_X.shape[1]):\n",
    "    feature_rank.loc[f] = [f+1,\n",
    "                         train_b_X.columns[indices[f]],\n",
    "                         radm_clf.feature_importances_[indices[f]]]"
   ]
  },
  {
   "cell_type": "code",
   "execution_count": 50,
   "metadata": {},
   "outputs": [
    {
     "name": "stdout",
     "output_type": "stream",
     "text": [
      "    rank                      feature    importance\n",
      "0      1                diff_srv_rate  1.855440e-01\n",
      "1      2                same_srv_rate  1.631879e-01\n",
      "2      3       dst_host_same_srv_rate  1.473147e-01\n",
      "3      4                    src_bytes  1.259501e-01\n",
      "4      5     dst_host_srv_serror_rate  6.540678e-02\n",
      "5      6                        count  5.962110e-02\n",
      "6      7                    dst_bytes  4.332442e-02\n",
      "7      8                  serror_rate  4.066932e-02\n",
      "8      9           dst_host_srv_count  4.038781e-02\n",
      "9     10               srv_error_rate  3.293622e-02\n",
      "10    11       dst_host_diff_srv_rate  2.364774e-02\n",
      "11    12         dst_host_serror_rate  2.006562e-02\n",
      "12    13  dst_host_srv_diff_host_rate  1.389743e-02\n",
      "13    14               dst_host_count  1.147412e-02\n",
      "14    15  dst_host_same_src_port_rate  9.646406e-03\n",
      "15    16                    srv_count  6.890792e-03\n",
      "16    17     dst_host_srv_rerror_rate  3.004369e-03\n",
      "17    18              num_compromised  2.152083e-03\n",
      "18    19         dst_host_rerror_rate  1.262710e-03\n",
      "19    20           srv_diff_host_rate  1.029531e-03\n",
      "20    21              srv_rerror_rate  9.657570e-04\n",
      "21    22                  rerror_rate  8.241350e-04\n",
      "22    23                          hot  5.269884e-04\n",
      "23    24                     duration  1.290916e-04\n",
      "24    25            num_failed_logins  7.114376e-05\n",
      "25    26                     num_root  3.816042e-05\n",
      "26    27           num_file_creations  1.895679e-05\n",
      "27    28                       urgent  9.870731e-06\n",
      "28    29             num_access_files  1.991616e-06\n",
      "29    30                   num_shells  7.580540e-07\n"
     ]
    }
   ],
   "source": [
    "print(feature_rank.iloc[0:40])"
   ]
  },
  {
   "cell_type": "code",
   "execution_count": 51,
   "metadata": {},
   "outputs": [
    {
     "name": "stdout",
     "output_type": "stream",
     "text": [
      "['diff_srv_rate', 'same_srv_rate', 'dst_host_same_srv_rate', 'src_bytes', 'dst_host_srv_serror_rate', 'count', 'dst_bytes', 'serror_rate', 'dst_host_srv_count', 'srv_error_rate', 'dst_host_diff_srv_rate', 'dst_host_serror_rate', 'dst_host_srv_diff_host_rate', 'dst_host_count', 'dst_host_same_src_port_rate', 'srv_count', 'dst_host_srv_rerror_rate', 'num_compromised', 'dst_host_rerror_rate', 'srv_diff_host_rate']\n",
      "\n",
      "No. of features: 20\n"
     ]
    }
   ],
   "source": [
    "# Retaining 25 columns according to the importance\n",
    "rf = list(feature_rank.iloc[0:20]['feature'].values)\n",
    "print(rf)\n",
    "print('\\nNo. of features:',len(rf))"
   ]
  },
  {
   "cell_type": "code",
   "execution_count": null,
   "metadata": {},
   "outputs": [],
   "source": []
  },
  {
   "cell_type": "code",
   "execution_count": null,
   "metadata": {},
   "outputs": [],
   "source": []
  },
  {
   "cell_type": "code",
   "execution_count": 52,
   "metadata": {},
   "outputs": [],
   "source": [
    "# Select K Best\n",
    "from sklearn.feature_selection import SelectKBest, f_classif\n",
    "cl = con_cols.difference([\"attack12\"])\n",
    "SKB = SelectKBest(f_classif, k=19).fit(finaldf[con_cols.difference([\"attack12\"])], finaldf[\"attack12\"])\n",
    "imp_vars_SKB = list(cl[SKB.get_support()])"
   ]
  },
  {
   "cell_type": "code",
   "execution_count": 53,
   "metadata": {},
   "outputs": [
    {
     "data": {
      "text/plain": [
       "Index([            0.01,             0.02, 'is_guest_login',  'is_host_login',\n",
       "            'logged_in',     'root_shell',   'su_attempted'],\n",
       "      dtype='object')"
      ]
     },
     "execution_count": 53,
     "metadata": {},
     "output_type": "execute_result"
    }
   ],
   "source": [
    "xc = finaldf.columns.difference(con_cols)\n",
    "xc"
   ]
  },
  {
   "cell_type": "code",
   "execution_count": 54,
   "metadata": {},
   "outputs": [
    {
     "data": {
      "text/plain": [
       "30"
      ]
     },
     "execution_count": 54,
     "metadata": {},
     "output_type": "execute_result"
    }
   ],
   "source": [
    "#Final List\n",
    "fcol = list(set(list(col1)+list(col2)+ rf+imp_vars_SKB+list(xc)))  #union \n",
    "len(fcol)"
   ]
  },
  {
   "cell_type": "code",
   "execution_count": 55,
   "metadata": {},
   "outputs": [],
   "source": [
    "from sklearn.model_selection import train_test_split\n",
    "xvars = fcol\n",
    "yvar = \"attack12\""
   ]
  },
  {
   "cell_type": "code",
   "execution_count": 56,
   "metadata": {},
   "outputs": [
    {
     "data": {
      "text/plain": [
       "0    576710\n",
       "1    240841\n",
       "Name: attack12, dtype: int64"
      ]
     },
     "execution_count": 56,
     "metadata": {},
     "output_type": "execute_result"
    }
   ],
   "source": [
    "finaldf[\"attack12\"].value_counts()"
   ]
  },
  {
   "cell_type": "code",
   "execution_count": 57,
   "metadata": {},
   "outputs": [],
   "source": [
    "xtrain,xtest,ytrain,ytest = train_test_split(finaldf[xvars],finaldf[yvar],test_size = 0.3, random_state = 1)"
   ]
  },
  {
   "cell_type": "code",
   "execution_count": 58,
   "metadata": {},
   "outputs": [
    {
     "data": {
      "text/plain": [
       "0    403690\n",
       "1    168595\n",
       "Name: attack12, dtype: int64"
      ]
     },
     "execution_count": 58,
     "metadata": {},
     "output_type": "execute_result"
    }
   ],
   "source": [
    "ytrain.value_counts()"
   ]
  },
  {
   "cell_type": "markdown",
   "metadata": {},
   "source": [
    "# Binomial classification"
   ]
  },
  {
   "cell_type": "code",
   "execution_count": null,
   "metadata": {},
   "outputs": [],
   "source": []
  },
  {
   "cell_type": "code",
   "execution_count": 59,
   "metadata": {},
   "outputs": [],
   "source": [
    " from xgboost import XGBClassifier"
   ]
  },
  {
   "cell_type": "code",
   "execution_count": 60,
   "metadata": {},
   "outputs": [],
   "source": [
    "xgbest = XGBClassifier()"
   ]
  },
  {
   "cell_type": "code",
   "execution_count": 61,
   "metadata": {},
   "outputs": [
    {
     "data": {
      "text/html": [
       "<style>#sk-container-id-2 {color: black;background-color: white;}#sk-container-id-2 pre{padding: 0;}#sk-container-id-2 div.sk-toggleable {background-color: white;}#sk-container-id-2 label.sk-toggleable__label {cursor: pointer;display: block;width: 100%;margin-bottom: 0;padding: 0.3em;box-sizing: border-box;text-align: center;}#sk-container-id-2 label.sk-toggleable__label-arrow:before {content: \"▸\";float: left;margin-right: 0.25em;color: #696969;}#sk-container-id-2 label.sk-toggleable__label-arrow:hover:before {color: black;}#sk-container-id-2 div.sk-estimator:hover label.sk-toggleable__label-arrow:before {color: black;}#sk-container-id-2 div.sk-toggleable__content {max-height: 0;max-width: 0;overflow: hidden;text-align: left;background-color: #f0f8ff;}#sk-container-id-2 div.sk-toggleable__content pre {margin: 0.2em;color: black;border-radius: 0.25em;background-color: #f0f8ff;}#sk-container-id-2 input.sk-toggleable__control:checked~div.sk-toggleable__content {max-height: 200px;max-width: 100%;overflow: auto;}#sk-container-id-2 input.sk-toggleable__control:checked~label.sk-toggleable__label-arrow:before {content: \"▾\";}#sk-container-id-2 div.sk-estimator input.sk-toggleable__control:checked~label.sk-toggleable__label {background-color: #d4ebff;}#sk-container-id-2 div.sk-label input.sk-toggleable__control:checked~label.sk-toggleable__label {background-color: #d4ebff;}#sk-container-id-2 input.sk-hidden--visually {border: 0;clip: rect(1px 1px 1px 1px);clip: rect(1px, 1px, 1px, 1px);height: 1px;margin: -1px;overflow: hidden;padding: 0;position: absolute;width: 1px;}#sk-container-id-2 div.sk-estimator {font-family: monospace;background-color: #f0f8ff;border: 1px dotted black;border-radius: 0.25em;box-sizing: border-box;margin-bottom: 0.5em;}#sk-container-id-2 div.sk-estimator:hover {background-color: #d4ebff;}#sk-container-id-2 div.sk-parallel-item::after {content: \"\";width: 100%;border-bottom: 1px solid gray;flex-grow: 1;}#sk-container-id-2 div.sk-label:hover label.sk-toggleable__label {background-color: #d4ebff;}#sk-container-id-2 div.sk-serial::before {content: \"\";position: absolute;border-left: 1px solid gray;box-sizing: border-box;top: 0;bottom: 0;left: 50%;z-index: 0;}#sk-container-id-2 div.sk-serial {display: flex;flex-direction: column;align-items: center;background-color: white;padding-right: 0.2em;padding-left: 0.2em;position: relative;}#sk-container-id-2 div.sk-item {position: relative;z-index: 1;}#sk-container-id-2 div.sk-parallel {display: flex;align-items: stretch;justify-content: center;background-color: white;position: relative;}#sk-container-id-2 div.sk-item::before, #sk-container-id-2 div.sk-parallel-item::before {content: \"\";position: absolute;border-left: 1px solid gray;box-sizing: border-box;top: 0;bottom: 0;left: 50%;z-index: -1;}#sk-container-id-2 div.sk-parallel-item {display: flex;flex-direction: column;z-index: 1;position: relative;background-color: white;}#sk-container-id-2 div.sk-parallel-item:first-child::after {align-self: flex-end;width: 50%;}#sk-container-id-2 div.sk-parallel-item:last-child::after {align-self: flex-start;width: 50%;}#sk-container-id-2 div.sk-parallel-item:only-child::after {width: 0;}#sk-container-id-2 div.sk-dashed-wrapped {border: 1px dashed gray;margin: 0 0.4em 0.5em 0.4em;box-sizing: border-box;padding-bottom: 0.4em;background-color: white;}#sk-container-id-2 div.sk-label label {font-family: monospace;font-weight: bold;display: inline-block;line-height: 1.2em;}#sk-container-id-2 div.sk-label-container {text-align: center;}#sk-container-id-2 div.sk-container {/* jupyter's `normalize.less` sets `[hidden] { display: none; }` but bootstrap.min.css set `[hidden] { display: none !important; }` so we also need the `!important` here to be able to override the default hidden behavior on the sphinx rendered scikit-learn.org. See: https://github.com/scikit-learn/scikit-learn/issues/21755 */display: inline-block !important;position: relative;}#sk-container-id-2 div.sk-text-repr-fallback {display: none;}</style><div id=\"sk-container-id-2\" class=\"sk-top-container\"><div class=\"sk-text-repr-fallback\"><pre>XGBClassifier(base_score=0.5, booster=&#x27;gbtree&#x27;, callbacks=None,\n",
       "              colsample_bylevel=1, colsample_bynode=1, colsample_bytree=1,\n",
       "              early_stopping_rounds=None, enable_categorical=False,\n",
       "              eval_metric=None, feature_types=None, gamma=0, gpu_id=-1,\n",
       "              grow_policy=&#x27;depthwise&#x27;, importance_type=None,\n",
       "              interaction_constraints=&#x27;&#x27;, learning_rate=0.300000012,\n",
       "              max_bin=256, max_cat_threshold=64, max_cat_to_onehot=4,\n",
       "              max_delta_step=0, max_depth=6, max_leaves=0, min_child_weight=1,\n",
       "              missing=nan, monotone_constraints=&#x27;()&#x27;, n_estimators=100,\n",
       "              n_jobs=0, num_parallel_tree=1, predictor=&#x27;auto&#x27;, random_state=0, ...)</pre><b>In a Jupyter environment, please rerun this cell to show the HTML representation or trust the notebook. <br />On GitHub, the HTML representation is unable to render, please try loading this page with nbviewer.org.</b></div><div class=\"sk-container\" hidden><div class=\"sk-item\"><div class=\"sk-estimator sk-toggleable\"><input class=\"sk-toggleable__control sk-hidden--visually\" id=\"sk-estimator-id-2\" type=\"checkbox\" checked><label for=\"sk-estimator-id-2\" class=\"sk-toggleable__label sk-toggleable__label-arrow\">XGBClassifier</label><div class=\"sk-toggleable__content\"><pre>XGBClassifier(base_score=0.5, booster=&#x27;gbtree&#x27;, callbacks=None,\n",
       "              colsample_bylevel=1, colsample_bynode=1, colsample_bytree=1,\n",
       "              early_stopping_rounds=None, enable_categorical=False,\n",
       "              eval_metric=None, feature_types=None, gamma=0, gpu_id=-1,\n",
       "              grow_policy=&#x27;depthwise&#x27;, importance_type=None,\n",
       "              interaction_constraints=&#x27;&#x27;, learning_rate=0.300000012,\n",
       "              max_bin=256, max_cat_threshold=64, max_cat_to_onehot=4,\n",
       "              max_delta_step=0, max_depth=6, max_leaves=0, min_child_weight=1,\n",
       "              missing=nan, monotone_constraints=&#x27;()&#x27;, n_estimators=100,\n",
       "              n_jobs=0, num_parallel_tree=1, predictor=&#x27;auto&#x27;, random_state=0, ...)</pre></div></div></div></div></div>"
      ],
      "text/plain": [
       "XGBClassifier(base_score=0.5, booster='gbtree', callbacks=None,\n",
       "              colsample_bylevel=1, colsample_bynode=1, colsample_bytree=1,\n",
       "              early_stopping_rounds=None, enable_categorical=False,\n",
       "              eval_metric=None, feature_types=None, gamma=0, gpu_id=-1,\n",
       "              grow_policy='depthwise', importance_type=None,\n",
       "              interaction_constraints='', learning_rate=0.300000012,\n",
       "              max_bin=256, max_cat_threshold=64, max_cat_to_onehot=4,\n",
       "              max_delta_step=0, max_depth=6, max_leaves=0, min_child_weight=1,\n",
       "              missing=nan, monotone_constraints='()', n_estimators=100,\n",
       "              n_jobs=0, num_parallel_tree=1, predictor='auto', random_state=0, ...)"
      ]
     },
     "execution_count": 61,
     "metadata": {},
     "output_type": "execute_result"
    }
   ],
   "source": [
    "xgbest.fit(xtrain,ytrain)"
   ]
  },
  {
   "cell_type": "code",
   "execution_count": 62,
   "metadata": {},
   "outputs": [],
   "source": [
    "ytrp = xgbest.predict(xtrain)"
   ]
  },
  {
   "cell_type": "code",
   "execution_count": 63,
   "metadata": {},
   "outputs": [],
   "source": [
    "ytsp = xgbest.predict(xtest)"
   ]
  },
  {
   "cell_type": "code",
   "execution_count": 64,
   "metadata": {},
   "outputs": [
    {
     "data": {
      "text/plain": [
       "array([[403690,      0],\n",
       "       [     0, 168595]], dtype=int64)"
      ]
     },
     "execution_count": 64,
     "metadata": {},
     "output_type": "execute_result"
    }
   ],
   "source": [
    "from sklearn.metrics import confusion_matrix\n",
    "confusion_matrix(ytrain,ytrp)"
   ]
  },
  {
   "cell_type": "code",
   "execution_count": 65,
   "metadata": {},
   "outputs": [
    {
     "data": {
      "text/plain": [
       "array([[173020,      0],\n",
       "       [     0,  72246]], dtype=int64)"
      ]
     },
     "execution_count": 65,
     "metadata": {},
     "output_type": "execute_result"
    }
   ],
   "source": [
    "confusion_matrix(ytest,ytsp)"
   ]
  },
  {
   "cell_type": "code",
   "execution_count": 66,
   "metadata": {},
   "outputs": [
    {
     "data": {
      "text/plain": [
       "1.0"
      ]
     },
     "execution_count": 66,
     "metadata": {},
     "output_type": "execute_result"
    }
   ],
   "source": [
    "metrics.roc_auc_score(ytrain,ytrp)"
   ]
  },
  {
   "cell_type": "code",
   "execution_count": 67,
   "metadata": {},
   "outputs": [
    {
     "data": {
      "text/plain": [
       "1.0"
      ]
     },
     "execution_count": 67,
     "metadata": {},
     "output_type": "execute_result"
    }
   ],
   "source": [
    "metrics.roc_auc_score(ytest,ytsp)"
   ]
  },
  {
   "cell_type": "code",
   "execution_count": 68,
   "metadata": {},
   "outputs": [],
   "source": [
    "from sklearn.model_selection import cross_val_score\n",
    "X = finaldf[xvars]\n",
    "Y = finaldf[yvar]\n",
    "p =cross_val_score(xgbest,X,Y,cv = 10) "
   ]
  },
  {
   "cell_type": "code",
   "execution_count": 69,
   "metadata": {},
   "outputs": [
    {
     "data": {
      "text/plain": [
       "1.0"
      ]
     },
     "execution_count": 69,
     "metadata": {},
     "output_type": "execute_result"
    }
   ],
   "source": [
    "p.mean()"
   ]
  },
  {
   "cell_type": "code",
   "execution_count": 70,
   "metadata": {},
   "outputs": [
    {
     "name": "stdout",
     "output_type": "stream",
     "text": [
      "              precision    recall  f1-score   support\n",
      "\n",
      "           0       1.00      1.00      1.00    403690\n",
      "           1       1.00      1.00      1.00    168595\n",
      "\n",
      "    accuracy                           1.00    572285\n",
      "   macro avg       1.00      1.00      1.00    572285\n",
      "weighted avg       1.00      1.00      1.00    572285\n",
      "\n"
     ]
    }
   ],
   "source": [
    "print(metrics.classification_report(ytrain, ytrp ))"
   ]
  },
  {
   "cell_type": "code",
   "execution_count": 71,
   "metadata": {},
   "outputs": [
    {
     "name": "stdout",
     "output_type": "stream",
     "text": [
      "              precision    recall  f1-score   support\n",
      "\n",
      "           0       1.00      1.00      1.00    173020\n",
      "           1       1.00      1.00      1.00     72246\n",
      "\n",
      "    accuracy                           1.00    245266\n",
      "   macro avg       1.00      1.00      1.00    245266\n",
      "weighted avg       1.00      1.00      1.00    245266\n",
      "\n"
     ]
    }
   ],
   "source": [
    "print(metrics.classification_report(ytest, ytsp ))"
   ]
  },
  {
   "cell_type": "code",
   "execution_count": null,
   "metadata": {},
   "outputs": [],
   "source": []
  },
  {
   "cell_type": "markdown",
   "metadata": {},
   "source": [
    "# Multinomial classification"
   ]
  },
  {
   "cell_type": "code",
   "execution_count": 72,
   "metadata": {},
   "outputs": [],
   "source": [
    "finaldf[\"attack\"] = attck"
   ]
  },
  {
   "cell_type": "code",
   "execution_count": 73,
   "metadata": {},
   "outputs": [
    {
     "name": "stdout",
     "output_type": "stream",
     "text": [
      "<class 'pandas.core.frame.DataFrame'>\n",
      "Int64Index: 817551 entries, 0 to 7\n",
      "Data columns (total 39 columns):\n",
      " #   Column                       Non-Null Count   Dtype  \n",
      "---  ------                       --------------   -----  \n",
      " 0   duration                     817551 non-null  float64\n",
      " 1   src_bytes                    817551 non-null  float64\n",
      " 2   dst_bytes                    817551 non-null  float64\n",
      " 3   urgent                       817551 non-null  float64\n",
      " 4   hot                          817551 non-null  float64\n",
      " 5   num_failed_logins            817551 non-null  float64\n",
      " 6   logged_in                    817551 non-null  float64\n",
      " 7   num_compromised              817551 non-null  float64\n",
      " 8   root_shell                   817551 non-null  float64\n",
      " 9   su_attempted                 817551 non-null  int32  \n",
      " 10  num_root                     817551 non-null  float64\n",
      " 11  num_file_creations           817551 non-null  float64\n",
      " 12  num_shells                   817551 non-null  float64\n",
      " 13  num_access_files             817551 non-null  float64\n",
      " 14  is_host_login                817551 non-null  float64\n",
      " 15  is_guest_login               817551 non-null  float64\n",
      " 16  count                        817551 non-null  float64\n",
      " 17  srv_count                    817551 non-null  float64\n",
      " 18  serror_rate                  817551 non-null  float64\n",
      " 19  srv_error_rate               817551 non-null  float64\n",
      " 20  rerror_rate                  817551 non-null  float64\n",
      " 21  srv_rerror_rate              817551 non-null  float64\n",
      " 22  same_srv_rate                817551 non-null  float64\n",
      " 23  diff_srv_rate                817551 non-null  float64\n",
      " 24  srv_diff_host_rate           817551 non-null  float64\n",
      " 25  dst_host_count               817551 non-null  float64\n",
      " 26  dst_host_srv_count           817551 non-null  float64\n",
      " 27  dst_host_same_srv_rate       817551 non-null  float64\n",
      " 28  dst_host_diff_srv_rate       817551 non-null  float64\n",
      " 29  dst_host_same_src_port_rate  817551 non-null  float64\n",
      " 30  dst_host_srv_diff_host_rate  817551 non-null  float64\n",
      " 31  dst_host_serror_rate         817551 non-null  float64\n",
      " 32  dst_host_srv_serror_rate     817551 non-null  float64\n",
      " 33  dst_host_rerror_rate         817551 non-null  float64\n",
      " 34  dst_host_srv_rerror_rate     817551 non-null  float64\n",
      " 35  attack12                     817551 non-null  int32  \n",
      " 36  0.01                         817551 non-null  uint8  \n",
      " 37  0.02                         817551 non-null  uint8  \n",
      " 38  attack                       817551 non-null  object \n",
      "dtypes: float64(34), int32(2), object(1), uint8(2)\n",
      "memory usage: 232.3+ MB\n"
     ]
    }
   ],
   "source": [
    "finaldf.info()"
   ]
  },
  {
   "cell_type": "code",
   "execution_count": 74,
   "metadata": {},
   "outputs": [
    {
     "data": {
      "text/plain": [
       "normal              576710\n",
       "neptune             227228\n",
       "satan                 5019\n",
       "smurf                 3007\n",
       "port_sweep            2964\n",
       "nmap                  1554\n",
       "back                   968\n",
       "guess_password          53\n",
       "buffer_over_flow        30\n",
       "root_kit                10\n",
       "ftpwrite                 8\n",
       "Name: attack, dtype: int64"
      ]
     },
     "execution_count": 74,
     "metadata": {},
     "output_type": "execute_result"
    }
   ],
   "source": [
    "attck.value_counts()"
   ]
  },
  {
   "cell_type": "code",
   "execution_count": 75,
   "metadata": {},
   "outputs": [
    {
     "data": {
      "text/plain": [
       "normal              0.705412\n",
       "neptune             0.277937\n",
       "satan               0.006139\n",
       "smurf               0.003678\n",
       "port_sweep          0.003625\n",
       "nmap                0.001901\n",
       "back                0.001184\n",
       "guess_password      0.000065\n",
       "buffer_over_flow    0.000037\n",
       "root_kit            0.000012\n",
       "ftpwrite            0.000010\n",
       "Name: attack, dtype: float64"
      ]
     },
     "execution_count": 75,
     "metadata": {},
     "output_type": "execute_result"
    }
   ],
   "source": [
    "attck.value_counts()/attck.value_counts().sum()"
   ]
  },
  {
   "cell_type": "code",
   "execution_count": 76,
   "metadata": {},
   "outputs": [
    {
     "data": {
      "text/plain": [
       "<matplotlib.axes._subplots.AxesSubplot at 0x20808a35fa0>"
      ]
     },
     "execution_count": 76,
     "metadata": {},
     "output_type": "execute_result"
    },
    {
     "data": {
      "image/png": "[encoded data removed]",
      "text/plain": [
       "<Figure size 432x288 with 1 Axes>"
      ]
     },
     "metadata": {
      "needs_background": "light"
     },
     "output_type": "display_data"
    }
   ],
   "source": [
    "sns.countplot(x=\"attack\",data=finaldf)"
   ]
  },
  {
   "cell_type": "code",
   "execution_count": 77,
   "metadata": {},
   "outputs": [],
   "source": [
    "finaldf[\"attack\"] = finaldf[\"attack\"].replace({\"normal\":0,\"neptune\":1,\"satan\":2,\"smurf\":3,\n",
    "                           \"port_sweep\":4,\"nmap\":5,\"back\":6,\"guess_password\":7\n",
    "                           ,\"buffer_over_flow\":8,\"root_kit\":9,\"ftpwrite\":10})\n",
    "\n"
   ]
  },
  {
   "cell_type": "code",
   "execution_count": 78,
   "metadata": {},
   "outputs": [],
   "source": [
    "finaldf.drop(columns=\"attack12\",inplace=True)"
   ]
  },
  {
   "cell_type": "code",
   "execution_count": 79,
   "metadata": {},
   "outputs": [
    {
     "data": {
      "text/plain": [
       "Index(['count', 'diff_srv_rate', 'dst_bytes', 'dst_host_count',\n",
       "       'dst_host_diff_srv_rate', 'dst_host_rerror_rate',\n",
       "       'dst_host_same_src_port_rate', 'dst_host_same_srv_rate',\n",
       "       'dst_host_serror_rate', 'dst_host_srv_count',\n",
       "       'dst_host_srv_diff_host_rate', 'dst_host_srv_rerror_rate',\n",
       "       'dst_host_srv_serror_rate', 'duration', 'hot', 'num_access_files',\n",
       "       'num_compromised', 'num_failed_logins', 'num_file_creations',\n",
       "       'num_root', 'num_shells', 'rerror_rate', 'same_srv_rate', 'serror_rate',\n",
       "       'src_bytes', 'srv_count', 'srv_diff_host_rate', 'srv_error_rate',\n",
       "       'srv_rerror_rate', 'urgent'],\n",
       "      dtype='object')"
      ]
     },
     "execution_count": 79,
     "metadata": {},
     "output_type": "execute_result"
    }
   ],
   "source": [
    "con_cols = con_cols.difference([\"attack12\"])\n",
    "con_cols"
   ]
  },
  {
   "cell_type": "code",
   "execution_count": 80,
   "metadata": {},
   "outputs": [
    {
     "data": {
      "text/plain": [
       "duration                       float64\n",
       "src_bytes                      float64\n",
       "dst_bytes                      float64\n",
       "urgent                         float64\n",
       "hot                            float64\n",
       "num_failed_logins              float64\n",
       "logged_in                      float64\n",
       "num_compromised                float64\n",
       "root_shell                     float64\n",
       "su_attempted                     int32\n",
       "num_root                       float64\n",
       "num_file_creations             float64\n",
       "num_shells                     float64\n",
       "num_access_files               float64\n",
       "is_host_login                  float64\n",
       "is_guest_login                 float64\n",
       "count                          float64\n",
       "srv_count                      float64\n",
       "serror_rate                    float64\n",
       "srv_error_rate                 float64\n",
       "rerror_rate                    float64\n",
       "srv_rerror_rate                float64\n",
       "same_srv_rate                  float64\n",
       "diff_srv_rate                  float64\n",
       "srv_diff_host_rate             float64\n",
       "dst_host_count                 float64\n",
       "dst_host_srv_count             float64\n",
       "dst_host_same_srv_rate         float64\n",
       "dst_host_diff_srv_rate         float64\n",
       "dst_host_same_src_port_rate    float64\n",
       "dst_host_srv_diff_host_rate    float64\n",
       "dst_host_serror_rate           float64\n",
       "dst_host_srv_serror_rate       float64\n",
       "dst_host_rerror_rate           float64\n",
       "dst_host_srv_rerror_rate       float64\n",
       "0.01                             uint8\n",
       "0.02                             uint8\n",
       "attack                           int64\n",
       "dtype: object"
      ]
     },
     "execution_count": 80,
     "metadata": {},
     "output_type": "execute_result"
    }
   ],
   "source": [
    "finaldf.dtypes"
   ]
  },
  {
   "cell_type": "code",
   "execution_count": 81,
   "metadata": {},
   "outputs": [],
   "source": [
    "col = finaldf[con_cols].std()\n",
    "col=col[(col<0.05)].index"
   ]
  },
  {
   "cell_type": "code",
   "execution_count": 82,
   "metadata": {},
   "outputs": [],
   "source": [
    "col1 = con_cols.difference(col)"
   ]
  },
  {
   "cell_type": "code",
   "execution_count": 83,
   "metadata": {},
   "outputs": [],
   "source": [
    "from sklearn.model_selection import train_test_split\n",
    "\n",
    "\n",
    "train_b_X, test_b_X, train_b_y, test_b_y = train_test_split(finaldf[con_cols], \n",
    "                                                            finaldf[\"attack\"],\n",
    "                                                            test_size = 0.2,\n",
    "                                                            random_state = 123 )"
   ]
  },
  {
   "cell_type": "code",
   "execution_count": 84,
   "metadata": {},
   "outputs": [],
   "source": [
    "from sklearn.ensemble import RandomForestClassifier"
   ]
  },
  {
   "cell_type": "code",
   "execution_count": 85,
   "metadata": {},
   "outputs": [
    {
     "data": {
      "text/html": [
       "<style>#sk-container-id-3 {color: black;background-color: white;}#sk-container-id-3 pre{padding: 0;}#sk-container-id-3 div.sk-toggleable {background-color: white;}#sk-container-id-3 label.sk-toggleable__label {cursor: pointer;display: block;width: 100%;margin-bottom: 0;padding: 0.3em;box-sizing: border-box;text-align: center;}#sk-container-id-3 label.sk-toggleable__label-arrow:before {content: \"▸\";float: left;margin-right: 0.25em;color: #696969;}#sk-container-id-3 label.sk-toggleable__label-arrow:hover:before {color: black;}#sk-container-id-3 div.sk-estimator:hover label.sk-toggleable__label-arrow:before {color: black;}#sk-container-id-3 div.sk-toggleable__content {max-height: 0;max-width: 0;overflow: hidden;text-align: left;background-color: #f0f8ff;}#sk-container-id-3 div.sk-toggleable__content pre {margin: 0.2em;color: black;border-radius: 0.25em;background-color: #f0f8ff;}#sk-container-id-3 input.sk-toggleable__control:checked~div.sk-toggleable__content {max-height: 200px;max-width: 100%;overflow: auto;}#sk-container-id-3 input.sk-toggleable__control:checked~label.sk-toggleable__label-arrow:before {content: \"▾\";}#sk-container-id-3 div.sk-estimator input.sk-toggleable__control:checked~label.sk-toggleable__label {background-color: #d4ebff;}#sk-container-id-3 div.sk-label input.sk-toggleable__control:checked~label.sk-toggleable__label {background-color: #d4ebff;}#sk-container-id-3 input.sk-hidden--visually {border: 0;clip: rect(1px 1px 1px 1px);clip: rect(1px, 1px, 1px, 1px);height: 1px;margin: -1px;overflow: hidden;padding: 0;position: absolute;width: 1px;}#sk-container-id-3 div.sk-estimator {font-family: monospace;background-color: #f0f8ff;border: 1px dotted black;border-radius: 0.25em;box-sizing: border-box;margin-bottom: 0.5em;}#sk-container-id-3 div.sk-estimator:hover {background-color: #d4ebff;}#sk-container-id-3 div.sk-parallel-item::after {content: \"\";width: 100%;border-bottom: 1px solid gray;flex-grow: 1;}#sk-container-id-3 div.sk-label:hover label.sk-toggleable__label {background-color: #d4ebff;}#sk-container-id-3 div.sk-serial::before {content: \"\";position: absolute;border-left: 1px solid gray;box-sizing: border-box;top: 0;bottom: 0;left: 50%;z-index: 0;}#sk-container-id-3 div.sk-serial {display: flex;flex-direction: column;align-items: center;background-color: white;padding-right: 0.2em;padding-left: 0.2em;position: relative;}#sk-container-id-3 div.sk-item {position: relative;z-index: 1;}#sk-container-id-3 div.sk-parallel {display: flex;align-items: stretch;justify-content: center;background-color: white;position: relative;}#sk-container-id-3 div.sk-item::before, #sk-container-id-3 div.sk-parallel-item::before {content: \"\";position: absolute;border-left: 1px solid gray;box-sizing: border-box;top: 0;bottom: 0;left: 50%;z-index: -1;}#sk-container-id-3 div.sk-parallel-item {display: flex;flex-direction: column;z-index: 1;position: relative;background-color: white;}#sk-container-id-3 div.sk-parallel-item:first-child::after {align-self: flex-end;width: 50%;}#sk-container-id-3 div.sk-parallel-item:last-child::after {align-self: flex-start;width: 50%;}#sk-container-id-3 div.sk-parallel-item:only-child::after {width: 0;}#sk-container-id-3 div.sk-dashed-wrapped {border: 1px dashed gray;margin: 0 0.4em 0.5em 0.4em;box-sizing: border-box;padding-bottom: 0.4em;background-color: white;}#sk-container-id-3 div.sk-label label {font-family: monospace;font-weight: bold;display: inline-block;line-height: 1.2em;}#sk-container-id-3 div.sk-label-container {text-align: center;}#sk-container-id-3 div.sk-container {/* jupyter's `normalize.less` sets `[hidden] { display: none; }` but bootstrap.min.css set `[hidden] { display: none !important; }` so we also need the `!important` here to be able to override the default hidden behavior on the sphinx rendered scikit-learn.org. See: https://github.com/scikit-learn/scikit-learn/issues/21755 */display: inline-block !important;position: relative;}#sk-container-id-3 div.sk-text-repr-fallback {display: none;}</style><div id=\"sk-container-id-3\" class=\"sk-top-container\"><div class=\"sk-text-repr-fallback\"><pre>RandomForestClassifier(oob_score=True)</pre><b>In a Jupyter environment, please rerun this cell to show the HTML representation or trust the notebook. <br />On GitHub, the HTML representation is unable to render, please try loading this page with nbviewer.org.</b></div><div class=\"sk-container\" hidden><div class=\"sk-item\"><div class=\"sk-estimator sk-toggleable\"><input class=\"sk-toggleable__control sk-hidden--visually\" id=\"sk-estimator-id-3\" type=\"checkbox\" checked><label for=\"sk-estimator-id-3\" class=\"sk-toggleable__label sk-toggleable__label-arrow\">RandomForestClassifier</label><div class=\"sk-toggleable__content\"><pre>RandomForestClassifier(oob_score=True)</pre></div></div></div></div></div>"
      ],
      "text/plain": [
       "RandomForestClassifier(oob_score=True)"
      ]
     },
     "execution_count": 85,
     "metadata": {},
     "output_type": "execute_result"
    }
   ],
   "source": [
    "radm_clf = RandomForestClassifier(oob_score=True,n_estimators=100 )\n",
    "radm_clf.fit( train_b_X, train_b_y )"
   ]
  },
  {
   "cell_type": "code",
   "execution_count": 86,
   "metadata": {},
   "outputs": [],
   "source": [
    "indices = np.argsort(radm_clf.feature_importances_)[::-1]\n",
    "feature_rank = pd.DataFrame( columns = ['rank', 'feature', 'importance'] )\n",
    "for f in range(train_b_X.shape[1]):\n",
    "    feature_rank.loc[f] = [f+1,\n",
    "                         train_b_X.columns[indices[f]],\n",
    "                         radm_clf.feature_importances_[indices[f]]]"
   ]
  },
  {
   "cell_type": "code",
   "execution_count": 87,
   "metadata": {},
   "outputs": [
    {
     "name": "stdout",
     "output_type": "stream",
     "text": [
      "    rank                      feature    importance\n",
      "0      1                same_srv_rate  1.831951e-01\n",
      "1      2                    src_bytes  1.375315e-01\n",
      "2      3                        count  1.122730e-01\n",
      "3      4       dst_host_same_srv_rate  9.847852e-02\n",
      "4      5                diff_srv_rate  9.731760e-02\n",
      "5      6         dst_host_serror_rate  8.499978e-02\n",
      "6      7           dst_host_srv_count  6.764718e-02\n",
      "7      8     dst_host_srv_serror_rate  5.852634e-02\n",
      "8      9                    dst_bytes  3.495266e-02\n",
      "9     10       dst_host_diff_srv_rate  3.384007e-02\n",
      "10    11                  serror_rate  1.897606e-02\n",
      "11    12               srv_error_rate  1.851387e-02\n",
      "12    13  dst_host_same_src_port_rate  1.029945e-02\n",
      "13    14               dst_host_count  8.752565e-03\n",
      "14    15                    srv_count  6.793141e-03\n",
      "15    16         dst_host_rerror_rate  6.709921e-03\n",
      "16    17     dst_host_srv_rerror_rate  4.840699e-03\n",
      "17    18  dst_host_srv_diff_host_rate  4.111136e-03\n",
      "18    19                  rerror_rate  3.537286e-03\n",
      "19    20              srv_rerror_rate  3.046364e-03\n",
      "20    21           srv_diff_host_rate  2.740676e-03\n",
      "21    22              num_compromised  1.582974e-03\n",
      "22    23                          hot  6.802427e-04\n",
      "23    24                     duration  5.323701e-04\n",
      "24    25            num_failed_logins  7.434363e-05\n",
      "25    26           num_file_creations  1.804628e-05\n",
      "26    27                     num_root  1.623868e-05\n",
      "27    28                       urgent  7.639140e-06\n",
      "28    29             num_access_files  4.616353e-06\n",
      "29    30                   num_shells  6.455717e-07\n"
     ]
    }
   ],
   "source": [
    "print(feature_rank.iloc[0:40])"
   ]
  },
  {
   "cell_type": "code",
   "execution_count": 88,
   "metadata": {},
   "outputs": [
    {
     "name": "stdout",
     "output_type": "stream",
     "text": [
      "['same_srv_rate', 'src_bytes', 'count', 'dst_host_same_srv_rate', 'diff_srv_rate', 'dst_host_serror_rate', 'dst_host_srv_count', 'dst_host_srv_serror_rate', 'dst_bytes', 'dst_host_diff_srv_rate', 'serror_rate', 'srv_error_rate', 'dst_host_same_src_port_rate', 'dst_host_count', 'srv_count', 'dst_host_rerror_rate', 'dst_host_srv_rerror_rate', 'dst_host_srv_diff_host_rate', 'rerror_rate', 'srv_rerror_rate']\n",
      "\n",
      "No. of features: 20\n"
     ]
    }
   ],
   "source": [
    "# Retaining 20 columns according to the importance\n",
    "rf = list(feature_rank.iloc[0:20]['feature'].values)\n",
    "print(rf)\n",
    "print('\\nNo. of features:',len(rf))"
   ]
  },
  {
   "cell_type": "code",
   "execution_count": 89,
   "metadata": {},
   "outputs": [],
   "source": [
    "# Select K Best\n",
    "from sklearn.feature_selection import SelectKBest, f_classif\n",
    "cl = con_cols.difference([\"attack\"])\n",
    "SKB = SelectKBest(f_classif, k=19).fit(finaldf[con_cols], finaldf[\"attack\"])\n",
    "imp_vars_SKB = list(cl[SKB.get_support()])"
   ]
  },
  {
   "cell_type": "code",
   "execution_count": 90,
   "metadata": {},
   "outputs": [
    {
     "data": {
      "text/plain": [
       "Index([            0.01,             0.02,         'attack', 'is_guest_login',\n",
       "        'is_host_login',      'logged_in',     'root_shell',   'su_attempted'],\n",
       "      dtype='object')"
      ]
     },
     "execution_count": 90,
     "metadata": {},
     "output_type": "execute_result"
    }
   ],
   "source": [
    "xc = finaldf.columns.difference(con_cols)\n",
    "xc"
   ]
  },
  {
   "cell_type": "code",
   "execution_count": 91,
   "metadata": {},
   "outputs": [],
   "source": [
    "#Final List\n",
    "fcol = list(set(list(col1)+ rf+imp_vars_SKB+list(xc)))  #union \n",
    "fcol = [str(i) for i in  fcol]"
   ]
  },
  {
   "cell_type": "code",
   "execution_count": 93,
   "metadata": {},
   "outputs": [],
   "source": [
    "from imblearn.over_sampling import SMOTE\n",
    "#esampling the minority class. The strategy can be changed as required.\n",
    "sm = SMOTE(random_state= 123)\n",
    "#Fit the model to generate the data.\n",
    "finaldf.columns = finaldf.columns.astype(str)\n",
    "\n",
    "x,y = sm.fit_resample(finaldf[fcol].values, finaldf[\"attack\"].values)\n",
    "odf = pd.concat([pd.DataFrame(y), pd.DataFrame(x)], axis=1)"
   ]
  },
  {
   "cell_type": "code",
   "execution_count": 94,
   "metadata": {},
   "outputs": [
    {
     "data": {
      "text/plain": [
       "duration                       0\n",
       "src_bytes                      0\n",
       "dst_bytes                      0\n",
       "urgent                         0\n",
       "hot                            0\n",
       "num_failed_logins              0\n",
       "logged_in                      0\n",
       "num_compromised                0\n",
       "root_shell                     0\n",
       "su_attempted                   0\n",
       "num_root                       0\n",
       "num_file_creations             0\n",
       "num_shells                     0\n",
       "num_access_files               0\n",
       "is_host_login                  0\n",
       "is_guest_login                 0\n",
       "count                          0\n",
       "srv_count                      0\n",
       "serror_rate                    0\n",
       "srv_error_rate                 0\n",
       "rerror_rate                    0\n",
       "srv_rerror_rate                0\n",
       "same_srv_rate                  0\n",
       "diff_srv_rate                  0\n",
       "srv_diff_host_rate             0\n",
       "dst_host_count                 0\n",
       "dst_host_srv_count             0\n",
       "dst_host_same_srv_rate         0\n",
       "dst_host_diff_srv_rate         0\n",
       "dst_host_same_src_port_rate    0\n",
       "dst_host_srv_diff_host_rate    0\n",
       "dst_host_serror_rate           0\n",
       "dst_host_srv_serror_rate       0\n",
       "dst_host_rerror_rate           0\n",
       "dst_host_srv_rerror_rate       0\n",
       "0.01                           0\n",
       "0.02                           0\n",
       "attack                         0\n",
       "dtype: int64"
      ]
     },
     "execution_count": 94,
     "metadata": {},
     "output_type": "execute_result"
    }
   ],
   "source": [
    "finaldf.isnull().sum()"
   ]
  },
  {
   "cell_type": "code",
   "execution_count": 95,
   "metadata": {},
   "outputs": [],
   "source": [
    "finaldf.loc[:,[\"0.01\",\"0.02\"]]=finaldf.loc[:,[\"0.01\",\"0.02\"]].astype('int64')"
   ]
  },
  {
   "cell_type": "code",
   "execution_count": 96,
   "metadata": {},
   "outputs": [
    {
     "data": {
      "text/plain": [
       "0     0\n",
       "1     0\n",
       "2     0\n",
       "3     0\n",
       "4     0\n",
       "     ..\n",
       "3    10\n",
       "4    10\n",
       "5    10\n",
       "6    10\n",
       "7    10\n",
       "Name: attack, Length: 817551, dtype: int64"
      ]
     },
     "execution_count": 96,
     "metadata": {},
     "output_type": "execute_result"
    }
   ],
   "source": [
    "finaldf[\"attack\"]"
   ]
  },
  {
   "cell_type": "code",
   "execution_count": 97,
   "metadata": {},
   "outputs": [],
   "source": [
    "from sklearn.model_selection import train_test_split\n",
    "xvars = fcol\n",
    "yvar = \"attack\""
   ]
  },
  {
   "cell_type": "code",
   "execution_count": 98,
   "metadata": {},
   "outputs": [],
   "source": [
    "xtrain,xtest,ytrain,ytest = train_test_split(finaldf[xvars],\n",
    "                                             finaldf[yvar],test_size = 0.3, random_state = 1)"
   ]
  },
  {
   "cell_type": "code",
   "execution_count": 99,
   "metadata": {},
   "outputs": [],
   "source": [
    " from xgboost import XGBClassifier"
   ]
  },
  {
   "cell_type": "code",
   "execution_count": 100,
   "metadata": {},
   "outputs": [],
   "source": [
    "xgbest1 = XGBClassifier()"
   ]
  },
  {
   "cell_type": "code",
   "execution_count": 101,
   "metadata": {},
   "outputs": [
    {
     "data": {
      "text/html": [
       "<style>#sk-container-id-4 {color: black;background-color: white;}#sk-container-id-4 pre{padding: 0;}#sk-container-id-4 div.sk-toggleable {background-color: white;}#sk-container-id-4 label.sk-toggleable__label {cursor: pointer;display: block;width: 100%;margin-bottom: 0;padding: 0.3em;box-sizing: border-box;text-align: center;}#sk-container-id-4 label.sk-toggleable__label-arrow:before {content: \"▸\";float: left;margin-right: 0.25em;color: #696969;}#sk-container-id-4 label.sk-toggleable__label-arrow:hover:before {color: black;}#sk-container-id-4 div.sk-estimator:hover label.sk-toggleable__label-arrow:before {color: black;}#sk-container-id-4 div.sk-toggleable__content {max-height: 0;max-width: 0;overflow: hidden;text-align: left;background-color: #f0f8ff;}#sk-container-id-4 div.sk-toggleable__content pre {margin: 0.2em;color: black;border-radius: 0.25em;background-color: #f0f8ff;}#sk-container-id-4 input.sk-toggleable__control:checked~div.sk-toggleable__content {max-height: 200px;max-width: 100%;overflow: auto;}#sk-container-id-4 input.sk-toggleable__control:checked~label.sk-toggleable__label-arrow:before {content: \"▾\";}#sk-container-id-4 div.sk-estimator input.sk-toggleable__control:checked~label.sk-toggleable__label {background-color: #d4ebff;}#sk-container-id-4 div.sk-label input.sk-toggleable__control:checked~label.sk-toggleable__label {background-color: #d4ebff;}#sk-container-id-4 input.sk-hidden--visually {border: 0;clip: rect(1px 1px 1px 1px);clip: rect(1px, 1px, 1px, 1px);height: 1px;margin: -1px;overflow: hidden;padding: 0;position: absolute;width: 1px;}#sk-container-id-4 div.sk-estimator {font-family: monospace;background-color: #f0f8ff;border: 1px dotted black;border-radius: 0.25em;box-sizing: border-box;margin-bottom: 0.5em;}#sk-container-id-4 div.sk-estimator:hover {background-color: #d4ebff;}#sk-container-id-4 div.sk-parallel-item::after {content: \"\";width: 100%;border-bottom: 1px solid gray;flex-grow: 1;}#sk-container-id-4 div.sk-label:hover label.sk-toggleable__label {background-color: #d4ebff;}#sk-container-id-4 div.sk-serial::before {content: \"\";position: absolute;border-left: 1px solid gray;box-sizing: border-box;top: 0;bottom: 0;left: 50%;z-index: 0;}#sk-container-id-4 div.sk-serial {display: flex;flex-direction: column;align-items: center;background-color: white;padding-right: 0.2em;padding-left: 0.2em;position: relative;}#sk-container-id-4 div.sk-item {position: relative;z-index: 1;}#sk-container-id-4 div.sk-parallel {display: flex;align-items: stretch;justify-content: center;background-color: white;position: relative;}#sk-container-id-4 div.sk-item::before, #sk-container-id-4 div.sk-parallel-item::before {content: \"\";position: absolute;border-left: 1px solid gray;box-sizing: border-box;top: 0;bottom: 0;left: 50%;z-index: -1;}#sk-container-id-4 div.sk-parallel-item {display: flex;flex-direction: column;z-index: 1;position: relative;background-color: white;}#sk-container-id-4 div.sk-parallel-item:first-child::after {align-self: flex-end;width: 50%;}#sk-container-id-4 div.sk-parallel-item:last-child::after {align-self: flex-start;width: 50%;}#sk-container-id-4 div.sk-parallel-item:only-child::after {width: 0;}#sk-container-id-4 div.sk-dashed-wrapped {border: 1px dashed gray;margin: 0 0.4em 0.5em 0.4em;box-sizing: border-box;padding-bottom: 0.4em;background-color: white;}#sk-container-id-4 div.sk-label label {font-family: monospace;font-weight: bold;display: inline-block;line-height: 1.2em;}#sk-container-id-4 div.sk-label-container {text-align: center;}#sk-container-id-4 div.sk-container {/* jupyter's `normalize.less` sets `[hidden] { display: none; }` but bootstrap.min.css set `[hidden] { display: none !important; }` so we also need the `!important` here to be able to override the default hidden behavior on the sphinx rendered scikit-learn.org. See: https://github.com/scikit-learn/scikit-learn/issues/21755 */display: inline-block !important;position: relative;}#sk-container-id-4 div.sk-text-repr-fallback {display: none;}</style><div id=\"sk-container-id-4\" class=\"sk-top-container\"><div class=\"sk-text-repr-fallback\"><pre>XGBClassifier(base_score=0.5, booster=&#x27;gbtree&#x27;, callbacks=None,\n",
       "              colsample_bylevel=1, colsample_bynode=1, colsample_bytree=1,\n",
       "              early_stopping_rounds=None, enable_categorical=False,\n",
       "              eval_metric=None, feature_types=None, gamma=0, gpu_id=-1,\n",
       "              grow_policy=&#x27;depthwise&#x27;, importance_type=None,\n",
       "              interaction_constraints=&#x27;&#x27;, learning_rate=0.300000012,\n",
       "              max_bin=256, max_cat_threshold=64, max_cat_to_onehot=4,\n",
       "              max_delta_step=0, max_depth=6, max_leaves=0, min_child_weight=1,\n",
       "              missing=nan, monotone_constraints=&#x27;()&#x27;, n_estimators=100,\n",
       "              n_jobs=0, num_parallel_tree=1, objective=&#x27;multi:softprob&#x27;,\n",
       "              predictor=&#x27;auto&#x27;, ...)</pre><b>In a Jupyter environment, please rerun this cell to show the HTML representation or trust the notebook. <br />On GitHub, the HTML representation is unable to render, please try loading this page with nbviewer.org.</b></div><div class=\"sk-container\" hidden><div class=\"sk-item\"><div class=\"sk-estimator sk-toggleable\"><input class=\"sk-toggleable__control sk-hidden--visually\" id=\"sk-estimator-id-4\" type=\"checkbox\" checked><label for=\"sk-estimator-id-4\" class=\"sk-toggleable__label sk-toggleable__label-arrow\">XGBClassifier</label><div class=\"sk-toggleable__content\"><pre>XGBClassifier(base_score=0.5, booster=&#x27;gbtree&#x27;, callbacks=None,\n",
       "              colsample_bylevel=1, colsample_bynode=1, colsample_bytree=1,\n",
       "              early_stopping_rounds=None, enable_categorical=False,\n",
       "              eval_metric=None, feature_types=None, gamma=0, gpu_id=-1,\n",
       "              grow_policy=&#x27;depthwise&#x27;, importance_type=None,\n",
       "              interaction_constraints=&#x27;&#x27;, learning_rate=0.300000012,\n",
       "              max_bin=256, max_cat_threshold=64, max_cat_to_onehot=4,\n",
       "              max_delta_step=0, max_depth=6, max_leaves=0, min_child_weight=1,\n",
       "              missing=nan, monotone_constraints=&#x27;()&#x27;, n_estimators=100,\n",
       "              n_jobs=0, num_parallel_tree=1, objective=&#x27;multi:softprob&#x27;,\n",
       "              predictor=&#x27;auto&#x27;, ...)</pre></div></div></div></div></div>"
      ],
      "text/plain": [
       "XGBClassifier(base_score=0.5, booster='gbtree', callbacks=None,\n",
       "              colsample_bylevel=1, colsample_bynode=1, colsample_bytree=1,\n",
       "              early_stopping_rounds=None, enable_categorical=False,\n",
       "              eval_metric=None, feature_types=None, gamma=0, gpu_id=-1,\n",
       "              grow_policy='depthwise', importance_type=None,\n",
       "              interaction_constraints='', learning_rate=0.300000012,\n",
       "              max_bin=256, max_cat_threshold=64, max_cat_to_onehot=4,\n",
       "              max_delta_step=0, max_depth=6, max_leaves=0, min_child_weight=1,\n",
       "              missing=nan, monotone_constraints='()', n_estimators=100,\n",
       "              n_jobs=0, num_parallel_tree=1, objective='multi:softprob',\n",
       "              predictor='auto', ...)"
      ]
     },
     "execution_count": 101,
     "metadata": {},
     "output_type": "execute_result"
    }
   ],
   "source": [
    "xgbest1.fit(xtrain,ytrain)"
   ]
  },
  {
   "cell_type": "code",
   "execution_count": 102,
   "metadata": {},
   "outputs": [],
   "source": [
    "ytrpred = xgbest1.predict(xtrain)"
   ]
  },
  {
   "cell_type": "code",
   "execution_count": 103,
   "metadata": {},
   "outputs": [],
   "source": [
    "ytspred = xgbest1.predict(xtest)"
   ]
  },
  {
   "cell_type": "code",
   "execution_count": 104,
   "metadata": {},
   "outputs": [
    {
     "name": "stdout",
     "output_type": "stream",
     "text": [
      "              precision    recall  f1-score   support\n",
      "\n",
      "           0       1.00      1.00      1.00    403690\n",
      "           1       1.00      1.00      1.00    159048\n",
      "           2       1.00      1.00      1.00      3494\n",
      "           3       1.00      1.00      1.00      2129\n",
      "           4       1.00      1.00      1.00      2099\n",
      "           5       1.00      1.00      1.00      1067\n",
      "           6       1.00      1.00      1.00       684\n",
      "           7       1.00      1.00      1.00        40\n",
      "           8       1.00      1.00      1.00        21\n",
      "           9       1.00      1.00      1.00         7\n",
      "          10       1.00      1.00      1.00         6\n",
      "\n",
      "    accuracy                           1.00    572285\n",
      "   macro avg       1.00      1.00      1.00    572285\n",
      "weighted avg       1.00      1.00      1.00    572285\n",
      "\n"
     ]
    }
   ],
   "source": [
    "print(metrics.classification_report(ytrain, ytrpred ))"
   ]
  },
  {
   "cell_type": "code",
   "execution_count": 105,
   "metadata": {
    "scrolled": true
   },
   "outputs": [
    {
     "name": "stdout",
     "output_type": "stream",
     "text": [
      "              precision    recall  f1-score   support\n",
      "\n",
      "           0       1.00      1.00      1.00    173020\n",
      "           1       1.00      1.00      1.00     68180\n",
      "           2       1.00      1.00      1.00      1525\n",
      "           3       1.00      1.00      1.00       878\n",
      "           4       1.00      1.00      1.00       865\n",
      "           5       1.00      1.00      1.00       487\n",
      "           6       1.00      1.00      1.00       284\n",
      "           7       1.00      1.00      1.00        13\n",
      "           8       1.00      1.00      1.00         9\n",
      "           9       1.00      1.00      1.00         3\n",
      "          10       1.00      1.00      1.00         2\n",
      "\n",
      "    accuracy                           1.00    245266\n",
      "   macro avg       1.00      1.00      1.00    245266\n",
      "weighted avg       1.00      1.00      1.00    245266\n",
      "\n"
     ]
    }
   ],
   "source": [
    "print(metrics.classification_report(ytest, ytspred ))"
   ]
  },
  {
   "cell_type": "code",
   "execution_count": null,
   "metadata": {},
   "outputs": [],
   "source": []
  },
  {
   "cell_type": "code",
   "execution_count": null,
   "metadata": {},
   "outputs": [],
   "source": []
  },
  {
   "cell_type": "code",
   "execution_count": 106,
   "metadata": {},
   "outputs": [],
   "source": [
    "xtrain,xtest,ytrain,ytest = train_test_split(x,\n",
    "                                             y,test_size = 0.3, random_state = 1)"
   ]
  },
  {
   "cell_type": "code",
   "execution_count": 107,
   "metadata": {},
   "outputs": [],
   "source": [
    " from xgboost import XGBClassifier"
   ]
  },
  {
   "cell_type": "code",
   "execution_count": 108,
   "metadata": {},
   "outputs": [],
   "source": [
    "xgbest1 = XGBClassifier()"
   ]
  },
  {
   "cell_type": "code",
   "execution_count": 109,
   "metadata": {},
   "outputs": [
    {
     "data": {
      "text/html": [
       "<style>#sk-container-id-5 {color: black;background-color: white;}#sk-container-id-5 pre{padding: 0;}#sk-container-id-5 div.sk-toggleable {background-color: white;}#sk-container-id-5 label.sk-toggleable__label {cursor: pointer;display: block;width: 100%;margin-bottom: 0;padding: 0.3em;box-sizing: border-box;text-align: center;}#sk-container-id-5 label.sk-toggleable__label-arrow:before {content: \"▸\";float: left;margin-right: 0.25em;color: #696969;}#sk-container-id-5 label.sk-toggleable__label-arrow:hover:before {color: black;}#sk-container-id-5 div.sk-estimator:hover label.sk-toggleable__label-arrow:before {color: black;}#sk-container-id-5 div.sk-toggleable__content {max-height: 0;max-width: 0;overflow: hidden;text-align: left;background-color: #f0f8ff;}#sk-container-id-5 div.sk-toggleable__content pre {margin: 0.2em;color: black;border-radius: 0.25em;background-color: #f0f8ff;}#sk-container-id-5 input.sk-toggleable__control:checked~div.sk-toggleable__content {max-height: 200px;max-width: 100%;overflow: auto;}#sk-container-id-5 input.sk-toggleable__control:checked~label.sk-toggleable__label-arrow:before {content: \"▾\";}#sk-container-id-5 div.sk-estimator input.sk-toggleable__control:checked~label.sk-toggleable__label {background-color: #d4ebff;}#sk-container-id-5 div.sk-label input.sk-toggleable__control:checked~label.sk-toggleable__label {background-color: #d4ebff;}#sk-container-id-5 input.sk-hidden--visually {border: 0;clip: rect(1px 1px 1px 1px);clip: rect(1px, 1px, 1px, 1px);height: 1px;margin: -1px;overflow: hidden;padding: 0;position: absolute;width: 1px;}#sk-container-id-5 div.sk-estimator {font-family: monospace;background-color: #f0f8ff;border: 1px dotted black;border-radius: 0.25em;box-sizing: border-box;margin-bottom: 0.5em;}#sk-container-id-5 div.sk-estimator:hover {background-color: #d4ebff;}#sk-container-id-5 div.sk-parallel-item::after {content: \"\";width: 100%;border-bottom: 1px solid gray;flex-grow: 1;}#sk-container-id-5 div.sk-label:hover label.sk-toggleable__label {background-color: #d4ebff;}#sk-container-id-5 div.sk-serial::before {content: \"\";position: absolute;border-left: 1px solid gray;box-sizing: border-box;top: 0;bottom: 0;left: 50%;z-index: 0;}#sk-container-id-5 div.sk-serial {display: flex;flex-direction: column;align-items: center;background-color: white;padding-right: 0.2em;padding-left: 0.2em;position: relative;}#sk-container-id-5 div.sk-item {position: relative;z-index: 1;}#sk-container-id-5 div.sk-parallel {display: flex;align-items: stretch;justify-content: center;background-color: white;position: relative;}#sk-container-id-5 div.sk-item::before, #sk-container-id-5 div.sk-parallel-item::before {content: \"\";position: absolute;border-left: 1px solid gray;box-sizing: border-box;top: 0;bottom: 0;left: 50%;z-index: -1;}#sk-container-id-5 div.sk-parallel-item {display: flex;flex-direction: column;z-index: 1;position: relative;background-color: white;}#sk-container-id-5 div.sk-parallel-item:first-child::after {align-self: flex-end;width: 50%;}#sk-container-id-5 div.sk-parallel-item:last-child::after {align-self: flex-start;width: 50%;}#sk-container-id-5 div.sk-parallel-item:only-child::after {width: 0;}#sk-container-id-5 div.sk-dashed-wrapped {border: 1px dashed gray;margin: 0 0.4em 0.5em 0.4em;box-sizing: border-box;padding-bottom: 0.4em;background-color: white;}#sk-container-id-5 div.sk-label label {font-family: monospace;font-weight: bold;display: inline-block;line-height: 1.2em;}#sk-container-id-5 div.sk-label-container {text-align: center;}#sk-container-id-5 div.sk-container {/* jupyter's `normalize.less` sets `[hidden] { display: none; }` but bootstrap.min.css set `[hidden] { display: none !important; }` so we also need the `!important` here to be able to override the default hidden behavior on the sphinx rendered scikit-learn.org. See: https://github.com/scikit-learn/scikit-learn/issues/21755 */display: inline-block !important;position: relative;}#sk-container-id-5 div.sk-text-repr-fallback {display: none;}</style><div id=\"sk-container-id-5\" class=\"sk-top-container\"><div class=\"sk-text-repr-fallback\"><pre>XGBClassifier(base_score=0.5, booster=&#x27;gbtree&#x27;, callbacks=None,\n",
       "              colsample_bylevel=1, colsample_bynode=1, colsample_bytree=1,\n",
       "              early_stopping_rounds=None, enable_categorical=False,\n",
       "              eval_metric=None, feature_types=None, gamma=0, gpu_id=-1,\n",
       "              grow_policy=&#x27;depthwise&#x27;, importance_type=None,\n",
       "              interaction_constraints=&#x27;&#x27;, learning_rate=0.300000012,\n",
       "              max_bin=256, max_cat_threshold=64, max_cat_to_onehot=4,\n",
       "              max_delta_step=0, max_depth=6, max_leaves=0, min_child_weight=1,\n",
       "              missing=nan, monotone_constraints=&#x27;()&#x27;, n_estimators=100,\n",
       "              n_jobs=0, num_parallel_tree=1, objective=&#x27;multi:softprob&#x27;,\n",
       "              predictor=&#x27;auto&#x27;, ...)</pre><b>In a Jupyter environment, please rerun this cell to show the HTML representation or trust the notebook. <br />On GitHub, the HTML representation is unable to render, please try loading this page with nbviewer.org.</b></div><div class=\"sk-container\" hidden><div class=\"sk-item\"><div class=\"sk-estimator sk-toggleable\"><input class=\"sk-toggleable__control sk-hidden--visually\" id=\"sk-estimator-id-5\" type=\"checkbox\" checked><label for=\"sk-estimator-id-5\" class=\"sk-toggleable__label sk-toggleable__label-arrow\">XGBClassifier</label><div class=\"sk-toggleable__content\"><pre>XGBClassifier(base_score=0.5, booster=&#x27;gbtree&#x27;, callbacks=None,\n",
       "              colsample_bylevel=1, colsample_bynode=1, colsample_bytree=1,\n",
       "              early_stopping_rounds=None, enable_categorical=False,\n",
       "              eval_metric=None, feature_types=None, gamma=0, gpu_id=-1,\n",
       "              grow_policy=&#x27;depthwise&#x27;, importance_type=None,\n",
       "              interaction_constraints=&#x27;&#x27;, learning_rate=0.300000012,\n",
       "              max_bin=256, max_cat_threshold=64, max_cat_to_onehot=4,\n",
       "              max_delta_step=0, max_depth=6, max_leaves=0, min_child_weight=1,\n",
       "              missing=nan, monotone_constraints=&#x27;()&#x27;, n_estimators=100,\n",
       "              n_jobs=0, num_parallel_tree=1, objective=&#x27;multi:softprob&#x27;,\n",
       "              predictor=&#x27;auto&#x27;, ...)</pre></div></div></div></div></div>"
      ],
      "text/plain": [
       "XGBClassifier(base_score=0.5, booster='gbtree', callbacks=None,\n",
       "              colsample_bylevel=1, colsample_bynode=1, colsample_bytree=1,\n",
       "              early_stopping_rounds=None, enable_categorical=False,\n",
       "              eval_metric=None, feature_types=None, gamma=0, gpu_id=-1,\n",
       "              grow_policy='depthwise', importance_type=None,\n",
       "              interaction_constraints='', learning_rate=0.300000012,\n",
       "              max_bin=256, max_cat_threshold=64, max_cat_to_onehot=4,\n",
       "              max_delta_step=0, max_depth=6, max_leaves=0, min_child_weight=1,\n",
       "              missing=nan, monotone_constraints='()', n_estimators=100,\n",
       "              n_jobs=0, num_parallel_tree=1, objective='multi:softprob',\n",
       "              predictor='auto', ...)"
      ]
     },
     "execution_count": 109,
     "metadata": {},
     "output_type": "execute_result"
    }
   ],
   "source": [
    "xgbest1.fit(xtrain,ytrain)"
   ]
  },
  {
   "cell_type": "code",
   "execution_count": 110,
   "metadata": {},
   "outputs": [],
   "source": [
    "ytrpred = xgbest1.predict(xtrain)"
   ]
  },
  {
   "cell_type": "code",
   "execution_count": 111,
   "metadata": {},
   "outputs": [],
   "source": [
    "ytspred = xgbest1.predict(xtest)"
   ]
  },
  {
   "cell_type": "code",
   "execution_count": 112,
   "metadata": {},
   "outputs": [
    {
     "name": "stdout",
     "output_type": "stream",
     "text": [
      "              precision    recall  f1-score   support\n",
      "\n",
      "           0       1.00      1.00      1.00    403371\n",
      "           1       1.00      1.00      1.00    403376\n",
      "           2       1.00      1.00      1.00    403796\n",
      "           3       1.00      1.00      1.00    403359\n",
      "           4       1.00      1.00      1.00    403315\n",
      "           5       1.00      1.00      1.00    403728\n",
      "           6       1.00      1.00      1.00    403656\n",
      "           7       1.00      1.00      1.00    404278\n",
      "           8       1.00      1.00      1.00    404033\n",
      "           9       1.00      1.00      1.00    403923\n",
      "          10       1.00      1.00      1.00    403832\n",
      "\n",
      "    accuracy                           1.00   4440667\n",
      "   macro avg       1.00      1.00      1.00   4440667\n",
      "weighted avg       1.00      1.00      1.00   4440667\n",
      "\n"
     ]
    }
   ],
   "source": [
    "print(metrics.classification_report(ytrain, ytrpred ))"
   ]
  },
  {
   "cell_type": "code",
   "execution_count": null,
   "metadata": {},
   "outputs": [],
   "source": []
  }
 ],
 "metadata": {
  "kernelspec": {
   "display_name": "Python 3",
   "language": "python",
   "name": "python3"
  },
  "language_info": {
   "codemirror_mode": {
    "name": "ipython",
    "version": 3
   },
   "file_extension": ".py",
   "mimetype": "text/x-python",
   "name": "python",
   "nbconvert_exporter": "python",
   "pygments_lexer": "ipython3",
   "version": "3.8.3"
  }
 },
 "nbformat": 4,
 "nbformat_minor": 4
}
